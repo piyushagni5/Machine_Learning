{
 "cells": [
  {
   "cell_type": "code",
   "execution_count": 1,
   "metadata": {},
   "outputs": [],
   "source": [
    "import numpy as np\n",
    "import cv2"
   ]
  },
  {
   "cell_type": "code",
   "execution_count": 2,
   "metadata": {},
   "outputs": [
    {
     "name": "stdout",
     "output_type": "stream",
     "text": [
      "['EVENT_FLAG_ALTKEY', 'EVENT_FLAG_CTRLKEY', 'EVENT_FLAG_LBUTTON', 'EVENT_FLAG_MBUTTON', 'EVENT_FLAG_RBUTTON', 'EVENT_FLAG_SHIFTKEY', 'EVENT_LBUTTONDBLCLK', 'EVENT_LBUTTONDOWN', 'EVENT_LBUTTONUP', 'EVENT_MBUTTONDBLCLK', 'EVENT_MBUTTONDOWN', 'EVENT_MBUTTONUP', 'EVENT_MOUSEHWHEEL', 'EVENT_MOUSEMOVE', 'EVENT_MOUSEWHEEL', 'EVENT_RBUTTONDBLCLK', 'EVENT_RBUTTONDOWN', 'EVENT_RBUTTONUP']\n"
     ]
    }
   ],
   "source": [
    "events = [i for i in dir(cv2) if 'EVENT' in  i]\n",
    "print(events)"
   ]
  },
  {
   "cell_type": "markdown",
   "metadata": {},
   "source": [
    "### we are trying to create an event by which we can get the (x,y) coordinate where ever we click the mouse at certain position in our image\n"
   ]
  },
  {
   "cell_type": "code",
   "execution_count": 4,
   "metadata": {},
   "outputs": [
    {
     "name": "stdout",
     "output_type": "stream",
     "text": [
      "223 ,  265\n",
      "167 ,  407\n"
     ]
    }
   ],
   "source": [
    "#events = [i for i in dir(cv2) if 'EVENT' in  i]\n",
    "#print(events)\n",
    "\n",
    "\n",
    "def click_event(event, x, y, flags, param):    \n",
    "    if event == cv2.EVENT_LBUTTONDOWN:\n",
    "        print(x,', ' ,y)\n",
    "        font = cv2.FONT_HERSHEY_SIMPLEX\n",
    "        strXY = str(x) + ', '+ str(y)\n",
    "        cv2.putText(img, strXY, (x, y), font, .5, (255, 255, 0), 2)\n",
    "        cv2.imshow('image', img)\n",
    "        \n",
    "    if event == cv2.EVENT_RBUTTONDOWN:\n",
    "        blue = img[y, x, 0]      \n",
    "        green = img[y, x, 1]\n",
    "        red = img[y, x, 2]\n",
    "        font = cv2.FONT_HERSHEY_SIMPLEX\n",
    "        strBGR = str(blue) + ', '+ str(green)+ ', '+ str(red)               # trying to print the BGR channel\n",
    "        cv2.putText(img, strBGR, (x, y), font, .5, (0, 255, 255), 2)\n",
    "        cv2.imshow('image', img)\n",
    "\n",
    "#img = np.zeros((512, 512, 3), np.uint8)\n",
    "img = cv2.imread('C:/Users/piyus/All programming files/Computer_Vision/data/lena.jpg')\n",
    "\n",
    "cv2.imshow('image', img)         # to get the affect make sure that same window name should be used everywhere i.e. \"image\"\n",
    "\n",
    "cv2.setMouseCallback('image', click_event)\n",
    "\n",
    "cv2.waitKey(0)\n",
    "cv2.destroyAllWindows()\n",
    "\n",
    "\n"
   ]
  },
  {
   "cell_type": "code",
   "execution_count": null,
   "metadata": {},
   "outputs": [],
   "source": []
  }
 ],
 "metadata": {
  "kernelspec": {
   "display_name": "Python 3.7 (tensorflow)",
   "language": "python",
   "name": "tensorflow"
  },
  "language_info": {
   "codemirror_mode": {
    "name": "ipython",
    "version": 3
   },
   "file_extension": ".py",
   "mimetype": "text/x-python",
   "name": "python",
   "nbconvert_exporter": "python",
   "pygments_lexer": "ipython3",
   "version": "3.7.3"
  }
 },
 "nbformat": 4,
 "nbformat_minor": 2
}
