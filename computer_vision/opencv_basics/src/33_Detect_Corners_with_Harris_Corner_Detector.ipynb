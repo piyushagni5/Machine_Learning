{
 "cells": [
  {
   "cell_type": "markdown",
   "metadata": {},
   "source": [
    "<h2>Theory </h2>\n",
    "<p>In the last chapter, we saw that corners are regions in the image with large variation in intensity in all the directions. One early attempt to find these corners was done by <b>Chris Harris &amp; Mike Stephens</b> in their paper <b>A Combined Corner and Edge Detector</b> in 1988, so now it is called the Harris Corner Detector. He took this simple idea to a mathematical form. It basically finds the difference in intensity for a displacement of \\((u,v)\\) in all directions. This is expressed as below:</p>\n",
    "<p class=\"formulaDsp\">\n",
    "\\[E(u,v) = \\sum_{x,y} \\underbrace{w(x,y)}_\\text{window function} \\, [\\underbrace{I(x+u,y+v)}_\\text{shifted intensity}-\\underbrace{I(x,y)}_\\text{intensity}]^2\\]\n",
    "</p>\n",
    "<p>The window function is either a rectangular window or a Gaussian window which gives weights to pixels underneath.</p>\n",
    "<p>We have to maximize this function \\(E(u,v)\\) for corner detection. That means we have to maximize the second term. Applying Taylor Expansion to the above equation and using some mathematical steps (please refer to any standard text books you like for full derivation), we get the final equation as:</p>\n",
    "<p class=\"formulaDsp\">\n",
    "\\[E(u,v) \\approx \\begin{bmatrix} u &amp; v \\end{bmatrix} M \\begin{bmatrix} u \\\\ v \\end{bmatrix}\\]\n",
    "</p>\n",
    "<p>where</p>\n",
    "<p class=\"formulaDsp\">\n",
    "\\[M = \\sum_{x,y} w(x,y) \\begin{bmatrix}I_x I_x &amp; I_x I_y \\\\ I_x I_y &amp; I_y I_y \\end{bmatrix}\\]\n",
    "</p>\n",
    "<p>Here, \\(I_x\\) and \\(I_y\\) are image derivatives in x and y directions respectively. (These can be easily found using <b><a class=\"el\" href=\"../../d4/d86/group__imgproc__filter.html#gacea54f142e81b6758cb6f375ce782c8d\" title=\"Calculates the first, second, third, or mixed image derivatives using an extended Sobel operator...\">cv.Sobel()</a></b>).</p>\n",
    "<p>Then comes the main part. After this, they created a score, basically an equation, which determines if a window can contain a corner or not.</p>\n",
    "<p class=\"formulaDsp\">\n",
    "\\[R = det(M) - k(trace(M))^2\\]\n",
    "</p>\n",
    "<p>where</p><ul>\n",
    "<li>\\(det(M) = \\lambda_1 \\lambda_2\\)</li>\n",
    "<li>\\(trace(M) = \\lambda_1 + \\lambda_2\\)</li>\n",
    "<li>\\(\\lambda_1\\) and \\(\\lambda_2\\) are the eigenvalues of M</li>\n",
    "</ul>\n",
    "<p>So the magnitudes of these eigenvalues decide whether a region is a corner, an edge, or flat.</p>\n",
    "<ul>\n",
    "<li>When \\(|R|\\) is small, which happens when \\(\\lambda_1\\) and \\(\\lambda_2\\) are small, the region is flat.</li>\n",
    "<li>When \\(R&lt;0\\), which happens when \\(\\lambda_1 &gt;&gt; \\lambda_2\\) or vice versa, the region is edge.</li>\n",
    "<li>When \\(R\\) is large, which happens when \\(\\lambda_1\\) and \\(\\lambda_2\\) are large and \\(\\lambda_1 \\sim \\lambda_2\\), the region is a corner.</li>\n",
    "</ul>\n",
    "<p>It can be represented in a nice picture as follows:</p>\n",
    "<div class=\"image\">\n",
    "<img src=\"https://docs.opencv.org/master/harris_region.jpg\" alt=\"harris_region.jpg\"/>\n",
    "<div class=\"caption\">\n",
    "image</div></div>\n",
    "<p> So the result of Harris Corner Detection is a grayscale image with these scores. Thresholding for a suitable score gives you the corners in the image. We will do it with a simple image.</p>\n",
    "<h2>Harris Corner Detector in OpenCV </h2>\n",
    "<p>OpenCV has the function <b><a class=\"el\" href=\"../../dd/d1a/group__imgproc__feature.html#gac1fc3598018010880e370e2f709b4345\" title=\"Harris corner detector. \">cv.cornerHarris()</a></b> for this purpose. Its arguments are:</p>\n",
    "<ul>\n",
    "<li><b>img</b> - Input image. It should be grayscale and float32 type.</li>\n",
    "<li><b>blockSize</b> - It is the size of neighbourhood considered for corner detection</li>\n",
    "<li><b>ksize</b> - Aperture parameter of the Sobel derivative used.</li>\n",
    "<li><b>k</b> - Harris detector free parameter in the equation.</li>"
   ]
  },
  {
   "cell_type": "code",
   "execution_count": 3,
   "metadata": {},
   "outputs": [],
   "source": [
    "import numpy as np\n",
    "import cv2 as cv\n",
    "\n",
    "img = cv.imread('C:/Users/piyus/All programming files/Computer_Vision/data/chessboard.png')\n",
    "\n",
    "cv.imshow('img', img)\n",
    "gray = cv.cvtColor(img, cv.COLOR_BGR2GRAY)\n",
    "\n",
    "gray = np.float32(gray)\n",
    "dst = cv.cornerHarris(gray, 2, 3, 0.04)\n",
    "\n",
    "dst = cv.dilate(dst, None)\n",
    "\n",
    "img[dst > 0.01 * dst.max()] = [0, 0, 255]\n",
    "\n",
    "cv.imshow('dst', img)\n",
    "\n",
    "if cv.waitKey(0) & 0xff == 27:\n",
    "    cv.destroyAllWindows()"
   ]
  },
  {
   "cell_type": "code",
   "execution_count": null,
   "metadata": {},
   "outputs": [],
   "source": []
  }
 ],
 "metadata": {
  "kernelspec": {
   "display_name": "Python 3.7 (tensorflow)",
   "language": "python",
   "name": "tensorflow"
  },
  "language_info": {
   "codemirror_mode": {
    "name": "ipython",
    "version": 3
   },
   "file_extension": ".py",
   "mimetype": "text/x-python",
   "name": "python",
   "nbconvert_exporter": "python",
   "pygments_lexer": "ipython3",
   "version": "3.7.3"
  }
 },
 "nbformat": 4,
 "nbformat_minor": 2
}
