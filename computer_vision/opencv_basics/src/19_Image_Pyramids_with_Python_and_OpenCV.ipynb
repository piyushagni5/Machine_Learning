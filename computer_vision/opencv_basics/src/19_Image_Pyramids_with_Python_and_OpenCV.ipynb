{
 "cells": [
  {
   "cell_type": "markdown",
   "metadata": {},
   "source": [
    "* Normally, we used to work with an image of constant size. But on some occasions, we need to work with (the same) images in different resolution.\n",
    "* For example, while searching for something in an image, like face, we are not sure at what size the object will be present in said image. In that case, we will need to create a set of the same image with different resolutions and search for object in all of them. These set of images with different resolutions are called <code>Image Pyramids </code>(because when they are kept in a stack with the highest resolution image at the bottom and the lowest resolution image at top, it looks like a pyramid).\n",
    "\n",
    "There are two kinds of Image Pyramids. <code>1) Gaussian Pyramid and 2) Laplacian Pyramids</code>\n",
    "\n",
    "Higher level (Low resolution) in a Gaussian Pyramid is formed by removing consecutive rows and columns in Lower level (higher resolution) image. Then each pixel in higher level is formed by the contribution from 5 pixels in underlying level with gaussian weights. By doing so, a M×N image becomes M/2×N/2 image. So area reduces to one-fourth of original area. It is called an Octave. The same pattern continues as we go upper in pyramid (ie, resolution decreases). Similarly while expanding, area becomes 4 times in each level. We can find Gaussian pyramids using cv.pyrDown() and cv.pyrUp() functions.\n",
    "\n",
    "Laplacian Pyramids are formed from the Gaussian Pyramids. There is no exclusive function for that. Laplacian pyramid images are like edge images only. Most of its elements are zeros. They are used in image compression. A level in Laplacian Pyramid is formed by the difference between that level in Gaussian Pyramid and expanded version of its upper level in Gaussian Pyramid.\n",
    "\n",
    "<code>Downsample</code>\n",
    "#### cv.pyrDown (src, dst, dstsize = new cv.Size(0, 0), borderType = cv.BORDER_DEFAULT)\n",
    "\n",
    "Parameters\n",
    "src-->\tinput image.\n",
    "\n",
    "dst-->\toutput image; it has the specified size and the same type as src.\n",
    "\n",
    "dstsize-->\tsize of the output image.\n",
    "\n",
    "borderType-->\tpixel extrapolation method(see cv.BorderTypes, cv.BORDER_CONSTANT isn't supported).\n"
   ]
  },
  {
   "cell_type": "code",
   "execution_count": 9,
   "metadata": {},
   "outputs": [],
   "source": [
    "import cv2\n",
    "import numpy as np\n",
    "img = cv2.imread(\"C:/Users/piyus/All programming files/Computer_Vision/data/lena.jpg\")\n",
    "\n",
    "lr1 = cv2.pyrDown(img)\n",
    "lr2 = cv2.pyrDown(lr1)\n",
    "\n",
    "up1 = cv2.pyrUp(lr2)\n",
    "\n",
    "cv2.imshow('origianl image', img)\n",
    "cv2.imshow('pydown 1 image', lr1)\n",
    "cv2.imshow('pydown 2 image', lr2)\n",
    "cv2.imshow('pyup 1 image', up1)\n",
    "\n",
    "cv2.waitKey(0)\n",
    "cv2.destroyAllWindows()"
   ]
  },
  {
   "cell_type": "markdown",
   "metadata": {},
   "source": [
    "#### Note: As you can notice that image up1 and lr1 is not same in terms of edge details... bcz once we downsample our image we will loose some resolutions (lr1) and if we want to comeback again by upsampling then we wont get the same resolution."
   ]
  },
  {
   "cell_type": "code",
   "execution_count": 11,
   "metadata": {},
   "outputs": [],
   "source": [
    "import cv2\n",
    "import numpy as np\n",
    "\n",
    "img = cv2.imread(\"C:/Users/piyus/All programming files/Computer_Vision/data/lena.jpg\")\n",
    "layer = img.copy()\n",
    "gaussian_pyramid_list = [layer]\n",
    "\n",
    "for i in range(6):\n",
    "    layer = cv2.pyrDown(layer)\n",
    "    gaussian_pyramid_list.append(layer)\n",
    "    #cv2.imshow(str(i), layer)\n",
    "\n",
    "layer = gaussian_pyramid_list[5]\n",
    "#cv2.imshow('upper level Gaussian Pyramid', layer)\n",
    "laplacian_pyramid_list = [layer]\n",
    "\n",
    "for i in range(5, 0, -1):\n",
    "    gaussian_extended = cv2.pyrUp(gaussian_pyramid_list[i])\n",
    "    laplacian = cv2.subtract(gaussian_pyramid_list[i-1], gaussian_extended)\n",
    "    cv2.imshow(str(i), laplacian)\n",
    "\n",
    "cv2.imshow(\"Original image\", img)\n",
    "cv2.waitKey(0)\n",
    "cv2.destroyAllWindows()"
   ]
  },
  {
   "cell_type": "markdown",
   "metadata": {},
   "source": [
    "### Note: gaussian and laplacian pyramid help in to blend the images and the reconstruction of the images."
   ]
  },
  {
   "cell_type": "code",
   "execution_count": null,
   "metadata": {},
   "outputs": [],
   "source": []
  }
 ],
 "metadata": {
  "kernelspec": {
   "display_name": "Python 3.7 (tensorflow)",
   "language": "python",
   "name": "tensorflow"
  },
  "language_info": {
   "codemirror_mode": {
    "name": "ipython",
    "version": 3
   },
   "file_extension": ".py",
   "mimetype": "text/x-python",
   "name": "python",
   "nbconvert_exporter": "python",
   "pygments_lexer": "ipython3",
   "version": "3.7.3"
  }
 },
 "nbformat": 4,
 "nbformat_minor": 2
}
