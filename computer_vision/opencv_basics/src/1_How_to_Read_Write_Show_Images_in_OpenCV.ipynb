{
 "cells": [
  {
   "cell_type": "code",
   "execution_count": 36,
   "metadata": {},
   "outputs": [
    {
     "data": {
      "text/plain": [
       "'4.6.0'"
      ]
     },
     "execution_count": 36,
     "metadata": {},
     "output_type": "execute_result"
    }
   ],
   "source": [
    "import utils\n",
    "import cv2\n",
    "import warnings\n",
    "warnings.filterwarnings(\"ignore\")\n",
    "\n",
    "cv2.__version__"
   ]
  },
  {
   "cell_type": "markdown",
   "metadata": {},
   "source": [
    "### Read an image\n",
    "\n",
    "### <font color='red'> cv2.imread() </font>\n",
    "Second argument is a flag which specifies the way image should be read.\n",
    "flag integer value description\n",
    "\n",
    "cv2.IMREAD_COLOR 1 Loads a color image.\n",
    "\n",
    "cv2.IMREAD_GRAYSCALE 0 Loads image in grayscale mode\n",
    "\n",
    "cv2.IMREAD_UNCHANGED -1 Loads image as it is by including alpha channel\n"
   ]
  },
  {
   "cell_type": "code",
   "execution_count": 37,
   "metadata": {},
   "outputs": [
    {
     "name": "stdout",
     "output_type": "stream",
     "text": [
      "[[163 162 161 ... 170 154 130]\n",
      " [162 162 162 ... 173 155 126]\n",
      " [162 162 163 ... 170 155 128]\n",
      " ...\n",
      " [ 43  42  51 ... 103 101  99]\n",
      " [ 41  42  55 ... 103 105 106]\n",
      " [ 42  44  57 ... 102 106 109]]\n"
     ]
    }
   ],
   "source": [
    "path = utils.PATH\n",
    "img = cv2.imread(path + 'lena.jpg', 0)      # \"0\"--> grey image\n",
    "print(img)"
   ]
  },
  {
   "cell_type": "code",
   "execution_count": 38,
   "metadata": {},
   "outputs": [
    {
     "data": {
      "text/plain": [
       "27"
      ]
     },
     "execution_count": 38,
     "metadata": {},
     "output_type": "execute_result"
    }
   ],
   "source": [
    "cv2.imshow('image', img)\n",
    "cv2.waitKey(5000)              # image will show for 5 sec. in new window"
   ]
  },
  {
   "cell_type": "code",
   "execution_count": 39,
   "metadata": {},
   "outputs": [],
   "source": [
    "cv2.destroyAllWindows()        # it will destroy all windows opened \n",
    "\n",
    "# cv2.destroyWindow()  --> this command used to destroy particular window"
   ]
  },
  {
   "cell_type": "markdown",
   "metadata": {},
   "source": [
    "#### Note:-\n",
    "waitKey(0) method is waiting for an input infinitely. When you see a frame of the corresponding image, do not try to close the image using close in top right corner.\n",
    "Instead press some key. waitkey method will take that as an input and it will return back a value. Further you can also check which key was pressed to close the frame.\n",
    "\n",
    "Additionally waitKey(33) will keep the frame active for 33 ms and then close it automatically.\n",
    "destroyWindow() will destroy the current frame if there. destroyAllWindows() will destroy all the frames currently present.\n",
    "This will solve."
   ]
  },
  {
   "cell_type": "code",
   "execution_count": 44,
   "metadata": {},
   "outputs": [
    {
     "data": {
      "text/plain": [
       "-1"
      ]
     },
     "execution_count": 44,
     "metadata": {},
     "output_type": "execute_result"
    }
   ],
   "source": [
    "cv2.imshow('image', img)\n",
    "cv2.waitKey(0)                 # image will show upto infinitely time till you do not try to close the image manually\n",
    "cv2.destroyAllWindows()\n",
    "# cv2.waitKey(1)               #Note: DestroyWindow does not close window on Mac"
   ]
  },
  {
   "cell_type": "markdown",
   "metadata": {},
   "source": [
    "#### Note:- Even if you give the wrong image name or wrong path to im.read func. it wont show any error, it simply print None"
   ]
  },
  {
   "cell_type": "code",
   "execution_count": 29,
   "metadata": {},
   "outputs": [
    {
     "name": "stdout",
     "output_type": "stream",
     "text": [
      "None\n"
     ]
    },
    {
     "name": "stderr",
     "output_type": "stream",
     "text": [
      "[ WARN:0@609.467] global /Users/runner/work/opencv-python/opencv-python/opencv/modules/imgcodecs/src/loadsave.cpp (239) findDecoder imread_('fkddfddf.jpg'): can't open/read file: check file path/integrity\n"
     ]
    }
   ],
   "source": [
    "img1 = cv2.imread('fkddfddf.jpg',0)\n",
    "print(img1)"
   ]
  },
  {
   "cell_type": "markdown",
   "metadata": {},
   "source": [
    "### Writing an image into file"
   ]
  },
  {
   "cell_type": "code",
   "execution_count": 30,
   "metadata": {},
   "outputs": [
    {
     "data": {
      "text/plain": [
       "True"
      ]
     },
     "execution_count": 30,
     "metadata": {},
     "output_type": "execute_result"
    }
   ],
   "source": [
    "cv2.imwrite('lena_copy.png',img)"
   ]
  },
  {
   "cell_type": "code",
   "execution_count": 31,
   "metadata": {},
   "outputs": [],
   "source": [
    "cv2.imshow('image', img)\n",
    "k = cv2.waitKey(0) & 0xFF"
   ]
  },
  {
   "cell_type": "markdown",
   "metadata": {},
   "source": [
    "### Let's see how key button works"
   ]
  },
  {
   "cell_type": "code",
   "execution_count": 34,
   "metadata": {},
   "outputs": [],
   "source": [
    "cv2.imshow('image', img)\n",
    "k = cv2.waitKey(0)                 # image will show upto infinitely time till you not try to close the image manually\n",
    "\n",
    "if k == 27:                      # k==27 stands for escape key, if we press esc key then write operation wont work\n",
    "  cv2.destroyAllWindows()\n",
    "elif k == ord('s'):\n",
    "  cv2.imwrite('temp_file/lena_copy.png', img)\n",
    "  cv2.destroyAllWindows()\n"
   ]
  },
  {
   "cell_type": "code",
   "execution_count": null,
   "metadata": {},
   "outputs": [],
   "source": []
  }
 ],
 "metadata": {
  "kernelspec": {
   "display_name": "Python 3 (ipykernel)",
   "language": "python",
   "name": "python3"
  },
  "language_info": {
   "codemirror_mode": {
    "name": "ipython",
    "version": 3
   },
   "file_extension": ".py",
   "mimetype": "text/x-python",
   "name": "python",
   "nbconvert_exporter": "python",
   "pygments_lexer": "ipython3",
   "version": "3.8.10"
  }
 },
 "nbformat": 4,
 "nbformat_minor": 2
}
