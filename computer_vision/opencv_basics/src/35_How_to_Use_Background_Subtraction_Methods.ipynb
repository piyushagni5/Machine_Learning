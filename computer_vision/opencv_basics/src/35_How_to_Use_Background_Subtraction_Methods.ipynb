{
 "cells": [
  {
   "cell_type": "markdown",
   "metadata": {},
   "source": [
    "<h2>Basics </h2>\n",
    "<p>Background subtraction is a major preprocessing steps in many vision based applications. For example, consider the cases like visitor counter where a static camera takes the number of visitors entering or leaving the room, or a traffic camera extracting information about the vehicles etc. In all these cases, first you need to extract the person or vehicles alone. Technically, you need to extract the moving foreground from static background.</p>\n",
    "<p>If you have an image of background alone, like image of the room without visitors, image of the road without vehicles etc, it is an easy job. Just subtract the new image from the background. You get the foreground objects alone. But in most of the cases, you may not have such an image, so we need to extract the background from whatever images we have. It become more complicated when there is shadow of the vehicles. Since shadow is also moving, simple subtraction will mark that also as foreground. It complicates things.</p>\n",
    "<p>OpenCV.js has implemented one algorithm for this purpose, which is very easy to use.</p>\n",
    "<h2>BackgroundSubtractorMOG2 </h2>\n",
    "<p>It is a Gaussian Mixture-based Background/Foreground Segmentation Algorithm. It is based on two papers by Z.Zivkovic, \"Improved adaptive Gaussian mixture model for background subtraction\" in 2004 and \"Efficient Adaptive Density Estimation per Image Pixel for the Task of Background Subtraction\" in 2006. One important feature of this algorithm is that it selects the appropriate number of gaussian distribution for each pixel. It provides better adaptibility to varying scenes due illumination changes etc.</p>\n",
    "<p>While coding, we use the constructor: <b><a class=\"el\" href=\"../../d7/d7b/classcv_1_1BackgroundSubtractorMOG2.html\" title=\"Gaussian Mixture-based Background/Foreground Segmentation Algorithm. \">cv.BackgroundSubtractorMOG2</a> (history = 500, varThreshold = 16, detectShadows = true)</b> </p><dl class=\"params\"><dt>Parameters</dt><dd>\n",
    "  <table class=\"params\">\n",
    "    <tr><td class=\"paramname\">history</td><td>Length of the history. </td></tr>\n",
    "    <tr><td class=\"paramname\">varThreshold</td><td>Threshold on the squared distance between the pixel and the sample to decide whether a pixel is close to that sample. This parameter does not affect the background update. </td></tr>\n",
    "    <tr><td class=\"paramname\">detectShadows</td><td>If true, the algorithm will detect shadows and mark them. It decreases the speed a bit, so if you do not need this feature, set the parameter to false. </td></tr>\n",
    "  </table>"
   ]
  },
  {
   "cell_type": "code",
   "execution_count": 3,
   "metadata": {},
   "outputs": [],
   "source": [
    "import numpy as np\n",
    "import cv2 as cv\n",
    "cap = cv.VideoCapture('C:/Users/piyus/All programming files/Computer_Vision/data/vtest.avi')\n",
    "#kernel = cv.getStructuringElement(cv.MORPH_ELLIPSE, (3,3))\n",
    "fgbg = cv.bgsegm.createBackgroundSubtractorMOG()\n",
    "#fgbg = cv.bgsegm.BackgroundSubtractorGMG()\n",
    "#fgbg = cv.createBackgroundSubtractorMOG2(detectShadows=True)\n",
    "#fgbg = cv.createBackgroundSubtractorKNN(detectShadows=True)\n",
    "while True:\n",
    "    ret, frame = cap.read()\n",
    "    if frame is None:\n",
    "        break\n",
    "    fgmask = fgbg.apply(frame)\n",
    "    #fgmask = cv.morphologyEx(fgmask, cv.MORPH_OPEN, kernel)\n",
    "\n",
    "    cv.imshow('Frame', frame)\n",
    "    cv.imshow('FG MASK Frame', fgmask)\n",
    "\n",
    "    keyboard = cv.waitKey(30)\n",
    "    if keyboard == 'q' or keyboard == 27:\n",
    "        break\n",
    "cap.release()\n",
    "cv.destroyAllWindows()"
   ]
  },
  {
   "cell_type": "code",
   "execution_count": 7,
   "metadata": {},
   "outputs": [
    {
     "ename": "AttributeError",
     "evalue": "module 'cv2.cv2' has no attribute 'BackgroundSubtractorGMG'",
     "output_type": "error",
     "traceback": [
      "\u001b[1;31m---------------------------------------------------------------------------\u001b[0m",
      "\u001b[1;31mAttributeError\u001b[0m                            Traceback (most recent call last)",
      "\u001b[1;32m<ipython-input-7-33d93b4ce75b>\u001b[0m in \u001b[0;36m<module>\u001b[1;34m\u001b[0m\n\u001b[0;32m      1\u001b[0m \u001b[0mcap\u001b[0m \u001b[1;33m=\u001b[0m \u001b[0mcv\u001b[0m\u001b[1;33m.\u001b[0m\u001b[0mVideoCapture\u001b[0m\u001b[1;33m(\u001b[0m\u001b[1;34m'C:/Users/piyus/All programming files/Computer_Vision/data/vtest.avi'\u001b[0m\u001b[1;33m)\u001b[0m\u001b[1;33m\u001b[0m\u001b[1;33m\u001b[0m\u001b[0m\n\u001b[0;32m      2\u001b[0m \u001b[0mkernel\u001b[0m \u001b[1;33m=\u001b[0m \u001b[0mcv\u001b[0m\u001b[1;33m.\u001b[0m\u001b[0mgetStructuringElement\u001b[0m\u001b[1;33m(\u001b[0m\u001b[0mcv\u001b[0m\u001b[1;33m.\u001b[0m\u001b[0mMORPH_ELLIPSE\u001b[0m\u001b[1;33m,\u001b[0m \u001b[1;33m(\u001b[0m\u001b[1;36m3\u001b[0m\u001b[1;33m,\u001b[0m\u001b[1;36m3\u001b[0m\u001b[1;33m)\u001b[0m\u001b[1;33m)\u001b[0m\u001b[1;33m\u001b[0m\u001b[1;33m\u001b[0m\u001b[0m\n\u001b[1;32m----> 3\u001b[1;33m \u001b[0mfgbg\u001b[0m \u001b[1;33m=\u001b[0m \u001b[0mcv\u001b[0m\u001b[1;33m.\u001b[0m\u001b[0mBackgroundSubtractorGMG\u001b[0m\u001b[1;33m(\u001b[0m\u001b[1;33m)\u001b[0m\u001b[1;33m\u001b[0m\u001b[1;33m\u001b[0m\u001b[0m\n\u001b[0m\u001b[0;32m      4\u001b[0m \u001b[1;33m\u001b[0m\u001b[0m\n\u001b[0;32m      5\u001b[0m \u001b[1;32mwhile\u001b[0m \u001b[1;32mTrue\u001b[0m\u001b[1;33m:\u001b[0m\u001b[1;33m\u001b[0m\u001b[1;33m\u001b[0m\u001b[0m\n",
      "\u001b[1;31mAttributeError\u001b[0m: module 'cv2.cv2' has no attribute 'BackgroundSubtractorGMG'"
     ]
    }
   ],
   "source": [
    "\n",
    "cap = cv.VideoCapture('C:/Users/piyus/All programming files/Computer_Vision/data/vtest.avi')\n",
    "kernel = cv.getStructuringElement(cv.MORPH_ELLIPSE, (3,3))\n",
    "fgbg = cv.bgsegm.BackgroundSubtractorGMG()\n",
    "\n",
    "while True:\n",
    "    ret, frame = cap.read()\n",
    "    if frame is None:\n",
    "        break\n",
    "    fgmask = fgbg.apply(frame)\n",
    "    fgmask = cv.morphologyEx(fgmask, cv.MORPH_OPEN, kernel)\n",
    "\n",
    "    cv.imshow('Frame', frame)\n",
    "    cv.imshow('FG MASK Frame', fgmask)\n",
    "\n",
    "    keyboard = cv.waitKey(30)\n",
    "    if keyboard == 'q' or keyboard == 27:\n",
    "        break\n",
    "cap.release()\n",
    "cv.destroyAllWindows()"
   ]
  },
  {
   "cell_type": "code",
   "execution_count": null,
   "metadata": {},
   "outputs": [],
   "source": []
  }
 ],
 "metadata": {
  "kernelspec": {
   "display_name": "Python 3",
   "language": "python",
   "name": "python3"
  },
  "language_info": {
   "codemirror_mode": {
    "name": "ipython",
    "version": 3
   },
   "file_extension": ".py",
   "mimetype": "text/x-python",
   "name": "python",
   "nbconvert_exporter": "python",
   "pygments_lexer": "ipython3",
   "version": "3.7.3"
  }
 },
 "nbformat": 4,
 "nbformat_minor": 2
}
