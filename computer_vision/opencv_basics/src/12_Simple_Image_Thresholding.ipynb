{
 "cells": [
  {
   "cell_type": "code",
   "execution_count": 2,
   "metadata": {},
   "outputs": [],
   "source": [
    "import cv2 as cv\n",
    "import numpy as np\n",
    "\n",
    "img = cv.imread('C:/Users/piyus/All programming files/Computer_Vision/data/gradient.png',0) \n",
    "_, th1 = cv.threshold(img, 50, 255, cv.THRESH_BINARY)          # gives two outputs--> ret, th1 (thesholded value)\n",
    "\n",
    "# (50,255)--> threshold range value. If pixel intensity of img. is <= 50 --> Intensity becomes 0 & vice versa\n",
    "\n",
    "cv.imshow(\"Image\", img)\n",
    "cv.imshow(\"th1\", th1)\n",
    "\n",
    "cv.waitKey(0)\n",
    "cv.destroyAllWindows()"
   ]
  },
  {
   "cell_type": "markdown",
   "metadata": {},
   "source": [
    "### Note\n",
    "\n",
    "1. cv.threshold(img, 127, 255, cv.THRESH_TRUNC) --> if img_intensity < 127 --> no changes occur and if img_intensity >= 127 --> all pixel intensity = costant (127)\n",
    "\n",
    "2. cv.threshold(img, 127, 255, cv.THRESH_TOZERO) --> if img_intensity <127 --> all pixel inten. = 0 and if Img_inten >= 127 --> pixel remain same"
   ]
  },
  {
   "cell_type": "code",
   "execution_count": null,
   "metadata": {},
   "outputs": [],
   "source": [
    "\n",
    "img = cv.imread(''C:/Users/piyus/All programming files/Computer_Vision/data/gradient.png',0) \n",
    "_, th1 = cv.threshold(img, 50, 255, cv.THRESH_BINARY)          \n",
    "_, th2 = cv.threshold(img, 200, 255, cv.THRESH_BINARY_INV)     \n",
    "_, th3 = cv.threshold(img, 127, 255, cv.THRESH_TRUNC)\n",
    "_, th4 = cv.threshold(img, 127, 255, cv.THRESH_TOZERO)\n",
    "_, th5 = cv.threshold(img, 127, 255, cv.THRESH_TOZERO_INV)\n",
    "\n",
    "\n",
    "cv.imshow(\"Image\", img)\n",
    "cv.imshow(\"th1\", th1)\n",
    "cv.imshow(\"th2\", th2)\n",
    "cv.imshow(\"th3\", th3)\n",
    "cv.imshow(\"th4\", th4)\n",
    "cv.imshow(\"th5\", th5)\n",
    "\n",
    "cv.waitKey(0)\n",
    "cv.destroyAllWindows()"
   ]
  }
 ],
 "metadata": {
  "kernelspec": {
   "display_name": "Python 3",
   "language": "python",
   "name": "python3"
  },
  "language_info": {
   "codemirror_mode": {
    "name": "ipython",
    "version": 3
   },
   "file_extension": ".py",
   "mimetype": "text/x-python",
   "name": "python",
   "nbconvert_exporter": "python",
   "pygments_lexer": "ipython3",
   "version": "3.7.3"
  }
 },
 "nbformat": 4,
 "nbformat_minor": 2
}
