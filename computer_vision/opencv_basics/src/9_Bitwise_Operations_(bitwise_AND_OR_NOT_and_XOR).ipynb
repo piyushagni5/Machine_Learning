{
 "cells": [
  {
   "cell_type": "code",
   "execution_count": 1,
   "metadata": {},
   "outputs": [],
   "source": [
    "import cv2\n",
    "import numpy as np\n"
   ]
  },
  {
   "cell_type": "code",
   "execution_count": 13,
   "metadata": {},
   "outputs": [],
   "source": [
    "\n",
    "img1 = np.zeros((250, 500, 3), np.uint8)\n",
    "img2 = np.zeros((250, 500, 3), np.uint8)\n",
    "img1 = cv2.rectangle(img1,(200, 0), (300, 100), (255, 255, 255), -1)              # a white rectangle has been created\n",
    "\n",
    "img2 = cv2.rectangle(img2,(0, 0), (250, 500), (255, 255, 255), -1)\n",
    "\n",
    "cv2.imshow(\"img1\", img1)\n",
    "cv2.imshow(\"img2\", img2)\n",
    "\n",
    "cv2.waitKey(0)\n",
    "cv2.destroyAllWindows()"
   ]
  },
  {
   "cell_type": "code",
   "execution_count": 14,
   "metadata": {},
   "outputs": [],
   "source": [
    "\n",
    "bitAnd = cv2.bitwise_and(img2, img1)        # 0--> black, 1--> white\n",
    "bitOr = cv2.bitwise_or(img2, img1) \n",
    "bitXor = cv2.bitwise_xor(img1, img2)\n",
    "bitNot1 = cv2.bitwise_not(img1)\n",
    "bitNot2 = cv2.bitwise_not(img2)\n",
    "\n",
    "cv2.imshow(\"img1\", img1)\n",
    "cv2.imshow(\"img2\", img2)\n",
    "cv2.imshow('bitAnd', bitAnd)\n",
    "cv2.imshow('bitOr', bitOr)\n",
    "cv2.imshow('bitXor', bitXor)\n",
    "cv2.imshow('bitNot1', bitNot1)\n",
    "cv2.imshow('bitNot2', bitNot2)\n",
    "\n",
    "cv2.waitKey(0)\n",
    "cv2.destroyAllWindows()"
   ]
  }
 ],
 "metadata": {
  "kernelspec": {
   "display_name": "Python 3.7 (tensorflow)",
   "language": "python",
   "name": "tensorflow"
  },
  "language_info": {
   "codemirror_mode": {
    "name": "ipython",
    "version": 3
   },
   "file_extension": ".py",
   "mimetype": "text/x-python",
   "name": "python",
   "nbconvert_exporter": "python",
   "pygments_lexer": "ipython3",
   "version": "3.7.3"
  }
 },
 "nbformat": 4,
 "nbformat_minor": 2
}
