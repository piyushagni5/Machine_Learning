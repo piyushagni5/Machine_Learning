{
 "cells": [
  {
   "cell_type": "markdown",
   "metadata": {},
   "source": [
    "void cv::goodFeaturesToTrack\t(\tInputArray \timage,\n",
    "OutputArray \tcorners,\n",
    "int \tmaxCorners,\n",
    "double \tqualityLevel,\n",
    "double \tminDistance,\n",
    "InputArray \tmask = noArray(),\n",
    "int \tblockSize = 3,\n",
    "bool \tuseHarrisDetector = false,\n",
    "double \tk = 0.04 \n",
    ")\t\t"
   ]
  },
  {
   "cell_type": "markdown",
   "metadata": {},
   "source": [
    "\n",
    "<dl class=\"params\"><dt>Parameters</dt><dd>\n",
    "  <table class=\"params\">\n",
    "    <tr><td class=\"paramname\">image</td><td>Input 8-bit or floating-point 32-bit, single-channel image. </td></tr>\n",
    "    <tr><td class=\"paramname\">corners</td><td>Output vector of detected corners. </td></tr>\n",
    "    <tr><td class=\"paramname\">maxCorners</td><td>Maximum number of corners to return. If there are more corners than are found, the strongest of them is returned. <code>maxCorners &lt;= 0</code> implies that no limit on the maximum is set and all detected corners are returned. </td></tr>\n",
    "    <tr><td class=\"paramname\">qualityLevel</td><td>Parameter characterizing the minimal accepted quality of image corners. The parameter value is multiplied by the best corner quality measure, which is the minimal eigenvalue (see <a class=\"el\" href=\"../../dd/d1a/group__imgproc__feature.html#ga3dbce297c1feb859ee36707e1003e0a8\" title=\"Calculates the minimal eigenvalue of gradient matrices for corner detection. \">cornerMinEigenVal</a> ) or the Harris function response (see <a class=\"el\" href=\"../../dd/d1a/group__imgproc__feature.html#gac1fc3598018010880e370e2f709b4345\" title=\"Harris corner detector. \">cornerHarris</a> ). The corners with the quality measure less than the product are rejected. For example, if the best corner has the quality measure = 1500, and the qualityLevel=0.01 , then all the corners with the quality measure less than 15 are rejected. </td></tr>\n",
    "    <tr><td class=\"paramname\">minDistance</td><td>Minimum possible Euclidean distance between the returned corners. </td></tr>\n",
    "    <tr><td class=\"paramname\">mask</td><td>Optional region of interest. If the image is not empty (it needs to have the type CV_8UC1 and the same size as image ), it specifies the region in which the corners are detected. </td></tr>\n",
    "    <tr><td class=\"paramname\">blockSize</td><td>Size of an average block for computing a derivative covariation matrix over each pixel neighborhood. See cornerEigenValsAndVecs . </td></tr>\n",
    "    <tr><td class=\"paramname\">useHarrisDetector</td><td>Parameter indicating whether to use a Harris detector (see <a class=\"el\" href=\"../../dd/d1a/group__imgproc__feature.html#gac1fc3598018010880e370e2f709b4345\" title=\"Harris corner detector. \">cornerHarris</a>) or <a class=\"el\" href=\"../../dd/d1a/group__imgproc__feature.html#ga3dbce297c1feb859ee36707e1003e0a8\" title=\"Calculates the minimal eigenvalue of gradient matrices for corner detection. \">cornerMinEigenVal</a>. </td></tr>\n",
    "    <tr><td class=\"paramname\">k</td><td>Free parameter of the Harris detector.</td></tr>\n",
    "  </table>"
   ]
  },
  {
   "cell_type": "code",
   "execution_count": 3,
   "metadata": {},
   "outputs": [],
   "source": [
    "import numpy as np\n",
    "import cv2 as cv\n",
    "\n",
    "img = cv.imread('C:/Users/piyus/All programming files/Computer_Vision/data/pic1.png')\n",
    "img_harris = img.copy()\n",
    "\n",
    "## SHI TOMASI CORNER DETECTION\n",
    "\n",
    "gray = cv.cvtColor(img, cv.COLOR_BGR2GRAY)\n",
    "\n",
    "corners = cv.goodFeaturesToTrack(gray, 100, 0.01, 10)\n",
    "\n",
    "corners = np.int0(corners)\n",
    "\n",
    "for i in corners:\n",
    "    x, y = i.ravel()\n",
    "    cv.circle(img, (x, y), 3, [255, 255, 0], -1)\n",
    "\n",
    "## HARRIS CORNER DETECTION\n",
    "\n",
    "gray_harris = np.float32(gray)\n",
    "dst = cv.cornerHarris(gray_harris, 2, 3, 0.04)\n",
    "\n",
    "dst = cv.dilate(dst, None)\n",
    "\n",
    "img_harris[dst > 0.01 * dst.max()] = [0, 0, 255]\n",
    "\n",
    "cv.imshow('Harris corner detection', img_harris)\n",
    "    \n",
    "cv.imshow('Shi-Tomasi Corner Detector', img)\n",
    "\n",
    "if cv.waitKey(0) & 0xff == 27:\n",
    "    cv.destroyAllWindows()"
   ]
  },
  {
   "cell_type": "code",
   "execution_count": null,
   "metadata": {},
   "outputs": [],
   "source": []
  }
 ],
 "metadata": {
  "kernelspec": {
   "display_name": "Python 3",
   "language": "python",
   "name": "python3"
  },
  "language_info": {
   "codemirror_mode": {
    "name": "ipython",
    "version": 3
   },
   "file_extension": ".py",
   "mimetype": "text/x-python",
   "name": "python",
   "nbconvert_exporter": "python",
   "pygments_lexer": "ipython3",
   "version": "3.7.3"
  }
 },
 "nbformat": 4,
 "nbformat_minor": 2
}
