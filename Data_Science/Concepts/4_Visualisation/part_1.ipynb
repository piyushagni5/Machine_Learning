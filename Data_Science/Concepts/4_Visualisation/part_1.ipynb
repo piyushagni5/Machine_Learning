{
 "cells": [
  {
   "cell_type": "markdown",
   "metadata": {},
   "source": []
  },
  {
   "cell_type": "code",
   "execution_count": 4,
   "metadata": {
    "colab": {
     "base_uri": "https://localhost:8080/",
     "height": 76
    },
    "colab_type": "code",
    "id": "9OuWV3bvdWvZ",
    "outputId": "8a80a17e-0c54-4057-d05b-6c627db7abed"
   },
   "outputs": [],
   "source": [
    "import numpy as np\n",
    "import pandas as pd\n",
    "\n",
    "import matplotlib.pyplot as plt\n",
    "from matplotlib import style\n",
    "plt.style.use(['dark_background'])\n",
    "\n",
    "import seaborn as sns\n",
    "sns.set(color_codes=True)"
   ]
  },
  {
   "cell_type": "code",
   "execution_count": 5,
   "metadata": {
    "colab": {},
    "colab_type": "code",
    "id": "EFpVES4009Vg"
   },
   "outputs": [],
   "source": [
    "style.use('seaborn-ticks')\n",
    "sns.set(color_codes=True)"
   ]
  },
  {
   "cell_type": "markdown",
   "metadata": {
    "colab_type": "text",
    "id": "mG962iBcd268"
   },
   "source": [
    "# Tabulation"
   ]
  },
  {
   "cell_type": "code",
   "execution_count": 6,
   "metadata": {
    "colab": {},
    "colab_type": "code",
    "id": "eQhHXhS0d0nz"
   },
   "outputs": [],
   "source": [
    "url = 'https://api.covid19india.org/states_daily.json'"
   ]
  },
  {
   "cell_type": "code",
   "execution_count": 7,
   "metadata": {
    "colab": {},
    "colab_type": "code",
    "id": "Sx6VJdqDeTxw"
   },
   "outputs": [],
   "source": [
    "import urllib.request"
   ]
  },
  {
   "cell_type": "code",
   "execution_count": 8,
   "metadata": {
    "colab": {},
    "colab_type": "code",
    "id": "9HdSUTQceVh7"
   },
   "outputs": [],
   "source": [
    "urllib.request.urlretrieve(url, 'data.json');"
   ]
  },
  {
   "cell_type": "code",
   "execution_count": 9,
   "metadata": {
    "colab": {},
    "colab_type": "code",
    "id": "3Tt4uFkdeZDS"
   },
   "outputs": [],
   "source": [
    "covid_data = pd.read_json('data.json')"
   ]
  },
  {
   "cell_type": "code",
   "execution_count": 10,
   "metadata": {
    "colab": {
     "base_uri": "https://localhost:8080/",
     "height": 424
    },
    "colab_type": "code",
    "id": "v_lZD22VekuX",
    "outputId": "a9857b7f-cbef-4582-e4dc-b2049808770a"
   },
   "outputs": [
    {
     "data": {
      "text/html": [
       "<div>\n",
       "<style scoped>\n",
       "    .dataframe tbody tr th:only-of-type {\n",
       "        vertical-align: middle;\n",
       "    }\n",
       "\n",
       "    .dataframe tbody tr th {\n",
       "        vertical-align: top;\n",
       "    }\n",
       "\n",
       "    .dataframe thead th {\n",
       "        text-align: right;\n",
       "    }\n",
       "</style>\n",
       "<table border=\"1\" class=\"dataframe\">\n",
       "  <thead>\n",
       "    <tr style=\"text-align: right;\">\n",
       "      <th></th>\n",
       "      <th>states_daily</th>\n",
       "    </tr>\n",
       "  </thead>\n",
       "  <tbody>\n",
       "    <tr>\n",
       "      <th>0</th>\n",
       "      <td>{'an': '0', 'ap': '1', 'ar': '0', 'as': '0', '...</td>\n",
       "    </tr>\n",
       "    <tr>\n",
       "      <th>1</th>\n",
       "      <td>{'an': '0', 'ap': '0', 'ar': '0', 'as': '0', '...</td>\n",
       "    </tr>\n",
       "    <tr>\n",
       "      <th>2</th>\n",
       "      <td>{'an': '0', 'ap': '0', 'ar': '0', 'as': '0', '...</td>\n",
       "    </tr>\n",
       "    <tr>\n",
       "      <th>3</th>\n",
       "      <td>{'an': '0', 'ap': '0', 'ar': '0', 'as': '0', '...</td>\n",
       "    </tr>\n",
       "    <tr>\n",
       "      <th>4</th>\n",
       "      <td>{'an': '0', 'ap': '0', 'ar': '0', 'as': '0', '...</td>\n",
       "    </tr>\n",
       "    <tr>\n",
       "      <th>...</th>\n",
       "      <td>...</td>\n",
       "    </tr>\n",
       "    <tr>\n",
       "      <th>1210</th>\n",
       "      <td>{'an': '33', 'ap': '3359', 'ar': '16', 'as': '...</td>\n",
       "    </tr>\n",
       "    <tr>\n",
       "      <th>1211</th>\n",
       "      <td>{'an': '0', 'ap': '38', 'ar': '0', 'as': '5', ...</td>\n",
       "    </tr>\n",
       "    <tr>\n",
       "      <th>1212</th>\n",
       "      <td>{'an': '37', 'ap': '10759', 'ar': '110', 'as':...</td>\n",
       "    </tr>\n",
       "    <tr>\n",
       "      <th>1213</th>\n",
       "      <td>{'an': '33', 'ap': '3992', 'ar': '9', 'as': '3...</td>\n",
       "    </tr>\n",
       "    <tr>\n",
       "      <th>1214</th>\n",
       "      <td>{'an': '1', 'ap': '31', 'ar': '0', 'as': '10',...</td>\n",
       "    </tr>\n",
       "  </tbody>\n",
       "</table>\n",
       "<p>1215 rows × 1 columns</p>\n",
       "</div>"
      ],
      "text/plain": [
       "                                           states_daily\n",
       "0     {'an': '0', 'ap': '1', 'ar': '0', 'as': '0', '...\n",
       "1     {'an': '0', 'ap': '0', 'ar': '0', 'as': '0', '...\n",
       "2     {'an': '0', 'ap': '0', 'ar': '0', 'as': '0', '...\n",
       "3     {'an': '0', 'ap': '0', 'ar': '0', 'as': '0', '...\n",
       "4     {'an': '0', 'ap': '0', 'ar': '0', 'as': '0', '...\n",
       "...                                                 ...\n",
       "1210  {'an': '33', 'ap': '3359', 'ar': '16', 'as': '...\n",
       "1211  {'an': '0', 'ap': '38', 'ar': '0', 'as': '5', ...\n",
       "1212  {'an': '37', 'ap': '10759', 'ar': '110', 'as':...\n",
       "1213  {'an': '33', 'ap': '3992', 'ar': '9', 'as': '3...\n",
       "1214  {'an': '1', 'ap': '31', 'ar': '0', 'as': '10',...\n",
       "\n",
       "[1215 rows x 1 columns]"
      ]
     },
     "execution_count": 10,
     "metadata": {},
     "output_type": "execute_result"
    }
   ],
   "source": [
    "covid_data"
   ]
  },
  {
   "cell_type": "code",
   "execution_count": 11,
   "metadata": {
    "colab": {},
    "colab_type": "code",
    "id": "824Wc5LRey2o"
   },
   "outputs": [],
   "source": [
    "import json"
   ]
  },
  {
   "cell_type": "code",
   "execution_count": 12,
   "metadata": {
    "colab": {},
    "colab_type": "code",
    "id": "ktdOgxNfel46"
   },
   "outputs": [],
   "source": [
    "with open('data.json') as f:\n",
    "    data = json.load(f)"
   ]
  },
  {
   "cell_type": "code",
   "execution_count": 13,
   "metadata": {
    "colab": {},
    "colab_type": "code",
    "id": "RE14ybehe1FD"
   },
   "outputs": [],
   "source": [
    "data = data['states_daily']"
   ]
  },
  {
   "cell_type": "code",
   "execution_count": 14,
   "metadata": {
    "colab": {},
    "colab_type": "code",
    "id": "-ht_HRoee9Cp"
   },
   "outputs": [],
   "source": [
    "covid_data = pd.json_normalize(data)"
   ]
  },
  {
   "cell_type": "code",
   "execution_count": 15,
   "metadata": {
    "colab": {
     "base_uri": "https://localhost:8080/",
     "height": 617
    },
    "colab_type": "code",
    "id": "khMhzZE4fCD_",
    "outputId": "29d22398-88c6-43f1-ffda-3ff504afc9f0"
   },
   "outputs": [
    {
     "data": {
      "text/html": [
       "<div>\n",
       "<style scoped>\n",
       "    .dataframe tbody tr th:only-of-type {\n",
       "        vertical-align: middle;\n",
       "    }\n",
       "\n",
       "    .dataframe tbody tr th {\n",
       "        vertical-align: top;\n",
       "    }\n",
       "\n",
       "    .dataframe thead th {\n",
       "        text-align: right;\n",
       "    }\n",
       "</style>\n",
       "<table border=\"1\" class=\"dataframe\">\n",
       "  <thead>\n",
       "    <tr style=\"text-align: right;\">\n",
       "      <th></th>\n",
       "      <th>an</th>\n",
       "      <th>ap</th>\n",
       "      <th>ar</th>\n",
       "      <th>as</th>\n",
       "      <th>br</th>\n",
       "      <th>ch</th>\n",
       "      <th>ct</th>\n",
       "      <th>date</th>\n",
       "      <th>dateymd</th>\n",
       "      <th>dd</th>\n",
       "      <th>...</th>\n",
       "      <th>sk</th>\n",
       "      <th>status</th>\n",
       "      <th>tg</th>\n",
       "      <th>tn</th>\n",
       "      <th>tr</th>\n",
       "      <th>tt</th>\n",
       "      <th>un</th>\n",
       "      <th>up</th>\n",
       "      <th>ut</th>\n",
       "      <th>wb</th>\n",
       "    </tr>\n",
       "  </thead>\n",
       "  <tbody>\n",
       "    <tr>\n",
       "      <th>0</th>\n",
       "      <td>0</td>\n",
       "      <td>1</td>\n",
       "      <td>0</td>\n",
       "      <td>0</td>\n",
       "      <td>0</td>\n",
       "      <td>0</td>\n",
       "      <td>0</td>\n",
       "      <td>14-Mar-20</td>\n",
       "      <td>2020-03-14</td>\n",
       "      <td>0</td>\n",
       "      <td>...</td>\n",
       "      <td>0</td>\n",
       "      <td>Confirmed</td>\n",
       "      <td>1</td>\n",
       "      <td>1</td>\n",
       "      <td>0</td>\n",
       "      <td>81</td>\n",
       "      <td>0</td>\n",
       "      <td>12</td>\n",
       "      <td>0</td>\n",
       "      <td>0</td>\n",
       "    </tr>\n",
       "    <tr>\n",
       "      <th>1</th>\n",
       "      <td>0</td>\n",
       "      <td>0</td>\n",
       "      <td>0</td>\n",
       "      <td>0</td>\n",
       "      <td>0</td>\n",
       "      <td>0</td>\n",
       "      <td>0</td>\n",
       "      <td>14-Mar-20</td>\n",
       "      <td>2020-03-14</td>\n",
       "      <td>0</td>\n",
       "      <td>...</td>\n",
       "      <td>0</td>\n",
       "      <td>Recovered</td>\n",
       "      <td>0</td>\n",
       "      <td>0</td>\n",
       "      <td>0</td>\n",
       "      <td>9</td>\n",
       "      <td>0</td>\n",
       "      <td>4</td>\n",
       "      <td>0</td>\n",
       "      <td>0</td>\n",
       "    </tr>\n",
       "    <tr>\n",
       "      <th>2</th>\n",
       "      <td>0</td>\n",
       "      <td>0</td>\n",
       "      <td>0</td>\n",
       "      <td>0</td>\n",
       "      <td>0</td>\n",
       "      <td>0</td>\n",
       "      <td>0</td>\n",
       "      <td>14-Mar-20</td>\n",
       "      <td>2020-03-14</td>\n",
       "      <td>0</td>\n",
       "      <td>...</td>\n",
       "      <td>0</td>\n",
       "      <td>Deceased</td>\n",
       "      <td>0</td>\n",
       "      <td>0</td>\n",
       "      <td>0</td>\n",
       "      <td>2</td>\n",
       "      <td>0</td>\n",
       "      <td>0</td>\n",
       "      <td>0</td>\n",
       "      <td>0</td>\n",
       "    </tr>\n",
       "    <tr>\n",
       "      <th>3</th>\n",
       "      <td>0</td>\n",
       "      <td>0</td>\n",
       "      <td>0</td>\n",
       "      <td>0</td>\n",
       "      <td>0</td>\n",
       "      <td>0</td>\n",
       "      <td>0</td>\n",
       "      <td>15-Mar-20</td>\n",
       "      <td>2020-03-15</td>\n",
       "      <td>0</td>\n",
       "      <td>...</td>\n",
       "      <td>0</td>\n",
       "      <td>Confirmed</td>\n",
       "      <td>2</td>\n",
       "      <td>0</td>\n",
       "      <td>0</td>\n",
       "      <td>27</td>\n",
       "      <td>0</td>\n",
       "      <td>1</td>\n",
       "      <td>0</td>\n",
       "      <td>0</td>\n",
       "    </tr>\n",
       "    <tr>\n",
       "      <th>4</th>\n",
       "      <td>0</td>\n",
       "      <td>0</td>\n",
       "      <td>0</td>\n",
       "      <td>0</td>\n",
       "      <td>0</td>\n",
       "      <td>0</td>\n",
       "      <td>0</td>\n",
       "      <td>15-Mar-20</td>\n",
       "      <td>2020-03-15</td>\n",
       "      <td>0</td>\n",
       "      <td>...</td>\n",
       "      <td>0</td>\n",
       "      <td>Recovered</td>\n",
       "      <td>1</td>\n",
       "      <td>0</td>\n",
       "      <td>0</td>\n",
       "      <td>4</td>\n",
       "      <td>0</td>\n",
       "      <td>0</td>\n",
       "      <td>0</td>\n",
       "      <td>0</td>\n",
       "    </tr>\n",
       "    <tr>\n",
       "      <th>...</th>\n",
       "      <td>...</td>\n",
       "      <td>...</td>\n",
       "      <td>...</td>\n",
       "      <td>...</td>\n",
       "      <td>...</td>\n",
       "      <td>...</td>\n",
       "      <td>...</td>\n",
       "      <td>...</td>\n",
       "      <td>...</td>\n",
       "      <td>...</td>\n",
       "      <td>...</td>\n",
       "      <td>...</td>\n",
       "      <td>...</td>\n",
       "      <td>...</td>\n",
       "      <td>...</td>\n",
       "      <td>...</td>\n",
       "      <td>...</td>\n",
       "      <td>...</td>\n",
       "      <td>...</td>\n",
       "      <td>...</td>\n",
       "      <td>...</td>\n",
       "    </tr>\n",
       "    <tr>\n",
       "      <th>1210</th>\n",
       "      <td>33</td>\n",
       "      <td>3359</td>\n",
       "      <td>16</td>\n",
       "      <td>297</td>\n",
       "      <td>4774</td>\n",
       "      <td>454</td>\n",
       "      <td>17263</td>\n",
       "      <td>21-Apr-21</td>\n",
       "      <td>2021-04-21</td>\n",
       "      <td>0</td>\n",
       "      <td>...</td>\n",
       "      <td>2</td>\n",
       "      <td>Recovered</td>\n",
       "      <td>2887</td>\n",
       "      <td>7071</td>\n",
       "      <td>0</td>\n",
       "      <td>179427</td>\n",
       "      <td>0</td>\n",
       "      <td>14198</td>\n",
       "      <td>894</td>\n",
       "      <td>5616</td>\n",
       "    </tr>\n",
       "    <tr>\n",
       "      <th>1211</th>\n",
       "      <td>0</td>\n",
       "      <td>38</td>\n",
       "      <td>0</td>\n",
       "      <td>5</td>\n",
       "      <td>56</td>\n",
       "      <td>2</td>\n",
       "      <td>193</td>\n",
       "      <td>21-Apr-21</td>\n",
       "      <td>2021-04-21</td>\n",
       "      <td>0</td>\n",
       "      <td>...</td>\n",
       "      <td>0</td>\n",
       "      <td>Deceased</td>\n",
       "      <td>20</td>\n",
       "      <td>53</td>\n",
       "      <td>0</td>\n",
       "      <td>2101</td>\n",
       "      <td>0</td>\n",
       "      <td>187</td>\n",
       "      <td>34</td>\n",
       "      <td>58</td>\n",
       "    </tr>\n",
       "    <tr>\n",
       "      <th>1212</th>\n",
       "      <td>37</td>\n",
       "      <td>10759</td>\n",
       "      <td>110</td>\n",
       "      <td>1931</td>\n",
       "      <td>11489</td>\n",
       "      <td>634</td>\n",
       "      <td>16750</td>\n",
       "      <td>22-Apr-21</td>\n",
       "      <td>2021-04-22</td>\n",
       "      <td>0</td>\n",
       "      <td>...</td>\n",
       "      <td>124</td>\n",
       "      <td>Confirmed</td>\n",
       "      <td>5567</td>\n",
       "      <td>12652</td>\n",
       "      <td>168</td>\n",
       "      <td>332518</td>\n",
       "      <td>0</td>\n",
       "      <td>34254</td>\n",
       "      <td>3998</td>\n",
       "      <td>11948</td>\n",
       "    </tr>\n",
       "    <tr>\n",
       "      <th>1213</th>\n",
       "      <td>33</td>\n",
       "      <td>3992</td>\n",
       "      <td>9</td>\n",
       "      <td>398</td>\n",
       "      <td>5308</td>\n",
       "      <td>482</td>\n",
       "      <td>17739</td>\n",
       "      <td>22-Apr-21</td>\n",
       "      <td>2021-04-22</td>\n",
       "      <td>0</td>\n",
       "      <td>...</td>\n",
       "      <td>18</td>\n",
       "      <td>Recovered</td>\n",
       "      <td>2251</td>\n",
       "      <td>7526</td>\n",
       "      <td>74</td>\n",
       "      <td>192311</td>\n",
       "      <td>0</td>\n",
       "      <td>16514</td>\n",
       "      <td>1744</td>\n",
       "      <td>6590</td>\n",
       "    </tr>\n",
       "    <tr>\n",
       "      <th>1214</th>\n",
       "      <td>1</td>\n",
       "      <td>31</td>\n",
       "      <td>0</td>\n",
       "      <td>10</td>\n",
       "      <td>59</td>\n",
       "      <td>4</td>\n",
       "      <td>207</td>\n",
       "      <td>22-Apr-21</td>\n",
       "      <td>2021-04-22</td>\n",
       "      <td>0</td>\n",
       "      <td>...</td>\n",
       "      <td>1</td>\n",
       "      <td>Deceased</td>\n",
       "      <td>23</td>\n",
       "      <td>59</td>\n",
       "      <td>0</td>\n",
       "      <td>2257</td>\n",
       "      <td>0</td>\n",
       "      <td>195</td>\n",
       "      <td>19</td>\n",
       "      <td>56</td>\n",
       "    </tr>\n",
       "  </tbody>\n",
       "</table>\n",
       "<p>1215 rows × 42 columns</p>\n",
       "</div>"
      ],
      "text/plain": [
       "      an     ap   ar    as     br   ch     ct       date     dateymd dd  ...  \\\n",
       "0      0      1    0     0      0    0      0  14-Mar-20  2020-03-14  0  ...   \n",
       "1      0      0    0     0      0    0      0  14-Mar-20  2020-03-14  0  ...   \n",
       "2      0      0    0     0      0    0      0  14-Mar-20  2020-03-14  0  ...   \n",
       "3      0      0    0     0      0    0      0  15-Mar-20  2020-03-15  0  ...   \n",
       "4      0      0    0     0      0    0      0  15-Mar-20  2020-03-15  0  ...   \n",
       "...   ..    ...  ...   ...    ...  ...    ...        ...         ... ..  ...   \n",
       "1210  33   3359   16   297   4774  454  17263  21-Apr-21  2021-04-21  0  ...   \n",
       "1211   0     38    0     5     56    2    193  21-Apr-21  2021-04-21  0  ...   \n",
       "1212  37  10759  110  1931  11489  634  16750  22-Apr-21  2021-04-22  0  ...   \n",
       "1213  33   3992    9   398   5308  482  17739  22-Apr-21  2021-04-22  0  ...   \n",
       "1214   1     31    0    10     59    4    207  22-Apr-21  2021-04-22  0  ...   \n",
       "\n",
       "       sk     status    tg     tn   tr      tt un     up    ut     wb  \n",
       "0       0  Confirmed     1      1    0      81  0     12     0      0  \n",
       "1       0  Recovered     0      0    0       9  0      4     0      0  \n",
       "2       0   Deceased     0      0    0       2  0      0     0      0  \n",
       "3       0  Confirmed     2      0    0      27  0      1     0      0  \n",
       "4       0  Recovered     1      0    0       4  0      0     0      0  \n",
       "...   ...        ...   ...    ...  ...     ... ..    ...   ...    ...  \n",
       "1210    2  Recovered  2887   7071    0  179427  0  14198   894   5616  \n",
       "1211    0   Deceased    20     53    0    2101  0    187    34     58  \n",
       "1212  124  Confirmed  5567  12652  168  332518  0  34254  3998  11948  \n",
       "1213   18  Recovered  2251   7526   74  192311  0  16514  1744   6590  \n",
       "1214    1   Deceased    23     59    0    2257  0    195    19     56  \n",
       "\n",
       "[1215 rows x 42 columns]"
      ]
     },
     "execution_count": 15,
     "metadata": {},
     "output_type": "execute_result"
    }
   ],
   "source": [
    "covid_data"
   ]
  },
  {
   "cell_type": "code",
   "execution_count": 16,
   "metadata": {
    "colab": {},
    "colab_type": "code",
    "id": "2LHdYMxffDbK"
   },
   "outputs": [],
   "source": [
    "df = covid_data"
   ]
  },
  {
   "cell_type": "code",
   "execution_count": 17,
   "metadata": {
    "colab": {},
    "colab_type": "code",
    "id": "OwIMRnlgh-Zy"
   },
   "outputs": [],
   "source": [
    "df.date = pd.to_datetime(df.date)"
   ]
  },
  {
   "cell_type": "code",
   "execution_count": 18,
   "metadata": {
    "colab": {},
    "colab_type": "code",
    "id": "ItprWBfxiBAd"
   },
   "outputs": [],
   "source": [
    "df = df[df.status == 'Confirmed']"
   ]
  },
  {
   "cell_type": "code",
   "execution_count": 19,
   "metadata": {
    "colab": {
     "base_uri": "https://localhost:8080/",
     "height": 133
    },
    "colab_type": "code",
    "id": "txEEQOiXiHMH",
    "outputId": "a3d4134a-e0d2-49c6-8fed-64ddc19705c9"
   },
   "outputs": [
    {
     "name": "stderr",
     "output_type": "stream",
     "text": [
      "/opt/anaconda3/lib/python3.8/site-packages/pandas/core/frame.py:3990: SettingWithCopyWarning: \n",
      "A value is trying to be set on a copy of a slice from a DataFrame\n",
      "\n",
      "See the caveats in the documentation: https://pandas.pydata.org/pandas-docs/stable/user_guide/indexing.html#returning-a-view-versus-a-copy\n",
      "  return super().drop(\n"
     ]
    }
   ],
   "source": [
    "df.drop('status', axis=1, inplace=True)"
   ]
  },
  {
   "cell_type": "code",
   "execution_count": 20,
   "metadata": {
    "colab": {},
    "colab_type": "code",
    "id": "jk5HVurDiK3Y"
   },
   "outputs": [],
   "source": [
    "df.set_index('date', inplace=True)"
   ]
  },
  {
   "cell_type": "code",
   "execution_count": 21,
   "metadata": {
    "colab": {
     "base_uri": "https://localhost:8080/",
     "height": 475
    },
    "colab_type": "code",
    "id": "YnUfQ-B1iQNw",
    "outputId": "e3df0cd6-9d48-4b22-879a-db5702173397"
   },
   "outputs": [
    {
     "data": {
      "text/html": [
       "<div>\n",
       "<style scoped>\n",
       "    .dataframe tbody tr th:only-of-type {\n",
       "        vertical-align: middle;\n",
       "    }\n",
       "\n",
       "    .dataframe tbody tr th {\n",
       "        vertical-align: top;\n",
       "    }\n",
       "\n",
       "    .dataframe thead th {\n",
       "        text-align: right;\n",
       "    }\n",
       "</style>\n",
       "<table border=\"1\" class=\"dataframe\">\n",
       "  <thead>\n",
       "    <tr style=\"text-align: right;\">\n",
       "      <th></th>\n",
       "      <th>an</th>\n",
       "      <th>ap</th>\n",
       "      <th>ar</th>\n",
       "      <th>as</th>\n",
       "      <th>br</th>\n",
       "      <th>ch</th>\n",
       "      <th>ct</th>\n",
       "      <th>dateymd</th>\n",
       "      <th>dd</th>\n",
       "      <th>dl</th>\n",
       "      <th>...</th>\n",
       "      <th>rj</th>\n",
       "      <th>sk</th>\n",
       "      <th>tg</th>\n",
       "      <th>tn</th>\n",
       "      <th>tr</th>\n",
       "      <th>tt</th>\n",
       "      <th>un</th>\n",
       "      <th>up</th>\n",
       "      <th>ut</th>\n",
       "      <th>wb</th>\n",
       "    </tr>\n",
       "    <tr>\n",
       "      <th>date</th>\n",
       "      <th></th>\n",
       "      <th></th>\n",
       "      <th></th>\n",
       "      <th></th>\n",
       "      <th></th>\n",
       "      <th></th>\n",
       "      <th></th>\n",
       "      <th></th>\n",
       "      <th></th>\n",
       "      <th></th>\n",
       "      <th></th>\n",
       "      <th></th>\n",
       "      <th></th>\n",
       "      <th></th>\n",
       "      <th></th>\n",
       "      <th></th>\n",
       "      <th></th>\n",
       "      <th></th>\n",
       "      <th></th>\n",
       "      <th></th>\n",
       "      <th></th>\n",
       "    </tr>\n",
       "  </thead>\n",
       "  <tbody>\n",
       "    <tr>\n",
       "      <th>2020-03-14</th>\n",
       "      <td>0</td>\n",
       "      <td>1</td>\n",
       "      <td>0</td>\n",
       "      <td>0</td>\n",
       "      <td>0</td>\n",
       "      <td>0</td>\n",
       "      <td>0</td>\n",
       "      <td>2020-03-14</td>\n",
       "      <td>0</td>\n",
       "      <td>7</td>\n",
       "      <td>...</td>\n",
       "      <td>3</td>\n",
       "      <td>0</td>\n",
       "      <td>1</td>\n",
       "      <td>1</td>\n",
       "      <td>0</td>\n",
       "      <td>81</td>\n",
       "      <td>0</td>\n",
       "      <td>12</td>\n",
       "      <td>0</td>\n",
       "      <td>0</td>\n",
       "    </tr>\n",
       "    <tr>\n",
       "      <th>2020-03-15</th>\n",
       "      <td>0</td>\n",
       "      <td>0</td>\n",
       "      <td>0</td>\n",
       "      <td>0</td>\n",
       "      <td>0</td>\n",
       "      <td>0</td>\n",
       "      <td>0</td>\n",
       "      <td>2020-03-15</td>\n",
       "      <td>0</td>\n",
       "      <td>0</td>\n",
       "      <td>...</td>\n",
       "      <td>1</td>\n",
       "      <td>0</td>\n",
       "      <td>2</td>\n",
       "      <td>0</td>\n",
       "      <td>0</td>\n",
       "      <td>27</td>\n",
       "      <td>0</td>\n",
       "      <td>1</td>\n",
       "      <td>0</td>\n",
       "      <td>0</td>\n",
       "    </tr>\n",
       "    <tr>\n",
       "      <th>2020-03-16</th>\n",
       "      <td>0</td>\n",
       "      <td>0</td>\n",
       "      <td>0</td>\n",
       "      <td>0</td>\n",
       "      <td>0</td>\n",
       "      <td>0</td>\n",
       "      <td>0</td>\n",
       "      <td>2020-03-16</td>\n",
       "      <td>0</td>\n",
       "      <td>0</td>\n",
       "      <td>...</td>\n",
       "      <td>0</td>\n",
       "      <td>0</td>\n",
       "      <td>1</td>\n",
       "      <td>0</td>\n",
       "      <td>0</td>\n",
       "      <td>15</td>\n",
       "      <td>0</td>\n",
       "      <td>0</td>\n",
       "      <td>1</td>\n",
       "      <td>0</td>\n",
       "    </tr>\n",
       "    <tr>\n",
       "      <th>2020-03-17</th>\n",
       "      <td>0</td>\n",
       "      <td>0</td>\n",
       "      <td>0</td>\n",
       "      <td>0</td>\n",
       "      <td>0</td>\n",
       "      <td>0</td>\n",
       "      <td>0</td>\n",
       "      <td>2020-03-17</td>\n",
       "      <td>0</td>\n",
       "      <td>1</td>\n",
       "      <td>...</td>\n",
       "      <td>0</td>\n",
       "      <td>0</td>\n",
       "      <td>1</td>\n",
       "      <td>0</td>\n",
       "      <td>0</td>\n",
       "      <td>11</td>\n",
       "      <td>0</td>\n",
       "      <td>2</td>\n",
       "      <td>0</td>\n",
       "      <td>1</td>\n",
       "    </tr>\n",
       "    <tr>\n",
       "      <th>2020-03-18</th>\n",
       "      <td>0</td>\n",
       "      <td>0</td>\n",
       "      <td>0</td>\n",
       "      <td>0</td>\n",
       "      <td>0</td>\n",
       "      <td>0</td>\n",
       "      <td>0</td>\n",
       "      <td>2020-03-18</td>\n",
       "      <td>0</td>\n",
       "      <td>2</td>\n",
       "      <td>...</td>\n",
       "      <td>3</td>\n",
       "      <td>0</td>\n",
       "      <td>8</td>\n",
       "      <td>1</td>\n",
       "      <td>0</td>\n",
       "      <td>37</td>\n",
       "      <td>0</td>\n",
       "      <td>2</td>\n",
       "      <td>1</td>\n",
       "      <td>0</td>\n",
       "    </tr>\n",
       "    <tr>\n",
       "      <th>...</th>\n",
       "      <td>...</td>\n",
       "      <td>...</td>\n",
       "      <td>...</td>\n",
       "      <td>...</td>\n",
       "      <td>...</td>\n",
       "      <td>...</td>\n",
       "      <td>...</td>\n",
       "      <td>...</td>\n",
       "      <td>...</td>\n",
       "      <td>...</td>\n",
       "      <td>...</td>\n",
       "      <td>...</td>\n",
       "      <td>...</td>\n",
       "      <td>...</td>\n",
       "      <td>...</td>\n",
       "      <td>...</td>\n",
       "      <td>...</td>\n",
       "      <td>...</td>\n",
       "      <td>...</td>\n",
       "      <td>...</td>\n",
       "      <td>...</td>\n",
       "    </tr>\n",
       "    <tr>\n",
       "      <th>2021-04-18</th>\n",
       "      <td>59</td>\n",
       "      <td>6582</td>\n",
       "      <td>20</td>\n",
       "      <td>639</td>\n",
       "      <td>8690</td>\n",
       "      <td>625</td>\n",
       "      <td>12345</td>\n",
       "      <td>2021-04-18</td>\n",
       "      <td>0</td>\n",
       "      <td>25462</td>\n",
       "      <td>...</td>\n",
       "      <td>10262</td>\n",
       "      <td>105</td>\n",
       "      <td>5093</td>\n",
       "      <td>10723</td>\n",
       "      <td>69</td>\n",
       "      <td>275063</td>\n",
       "      <td>0</td>\n",
       "      <td>30566</td>\n",
       "      <td>2630</td>\n",
       "      <td>8419</td>\n",
       "    </tr>\n",
       "    <tr>\n",
       "      <th>2021-04-19</th>\n",
       "      <td>31</td>\n",
       "      <td>5963</td>\n",
       "      <td>65</td>\n",
       "      <td>1367</td>\n",
       "      <td>7487</td>\n",
       "      <td>612</td>\n",
       "      <td>13834</td>\n",
       "      <td>2021-04-19</td>\n",
       "      <td>0</td>\n",
       "      <td>23686</td>\n",
       "      <td>...</td>\n",
       "      <td>11967</td>\n",
       "      <td>9</td>\n",
       "      <td>4009</td>\n",
       "      <td>10941</td>\n",
       "      <td>32</td>\n",
       "      <td>257003</td>\n",
       "      <td>0</td>\n",
       "      <td>28211</td>\n",
       "      <td>2160</td>\n",
       "      <td>8426</td>\n",
       "    </tr>\n",
       "    <tr>\n",
       "      <th>2021-04-20</th>\n",
       "      <td>45</td>\n",
       "      <td>8987</td>\n",
       "      <td>61</td>\n",
       "      <td>1651</td>\n",
       "      <td>10455</td>\n",
       "      <td>602</td>\n",
       "      <td>15625</td>\n",
       "      <td>2021-04-20</td>\n",
       "      <td>0</td>\n",
       "      <td>28395</td>\n",
       "      <td>...</td>\n",
       "      <td>12201</td>\n",
       "      <td>91</td>\n",
       "      <td>5926</td>\n",
       "      <td>10986</td>\n",
       "      <td>60</td>\n",
       "      <td>294365</td>\n",
       "      <td>0</td>\n",
       "      <td>29574</td>\n",
       "      <td>3012</td>\n",
       "      <td>9819</td>\n",
       "    </tr>\n",
       "    <tr>\n",
       "      <th>2021-04-21</th>\n",
       "      <td>24</td>\n",
       "      <td>9716</td>\n",
       "      <td>73</td>\n",
       "      <td>1665</td>\n",
       "      <td>12222</td>\n",
       "      <td>622</td>\n",
       "      <td>14519</td>\n",
       "      <td>2021-04-21</td>\n",
       "      <td>0</td>\n",
       "      <td>24638</td>\n",
       "      <td>...</td>\n",
       "      <td>14622</td>\n",
       "      <td>50</td>\n",
       "      <td>6542</td>\n",
       "      <td>11681</td>\n",
       "      <td>0</td>\n",
       "      <td>315735</td>\n",
       "      <td>0</td>\n",
       "      <td>33106</td>\n",
       "      <td>4807</td>\n",
       "      <td>10784</td>\n",
       "    </tr>\n",
       "    <tr>\n",
       "      <th>2021-04-22</th>\n",
       "      <td>37</td>\n",
       "      <td>10759</td>\n",
       "      <td>110</td>\n",
       "      <td>1931</td>\n",
       "      <td>11489</td>\n",
       "      <td>634</td>\n",
       "      <td>16750</td>\n",
       "      <td>2021-04-22</td>\n",
       "      <td>0</td>\n",
       "      <td>26169</td>\n",
       "      <td>...</td>\n",
       "      <td>14468</td>\n",
       "      <td>124</td>\n",
       "      <td>5567</td>\n",
       "      <td>12652</td>\n",
       "      <td>168</td>\n",
       "      <td>332518</td>\n",
       "      <td>0</td>\n",
       "      <td>34254</td>\n",
       "      <td>3998</td>\n",
       "      <td>11948</td>\n",
       "    </tr>\n",
       "  </tbody>\n",
       "</table>\n",
       "<p>405 rows × 40 columns</p>\n",
       "</div>"
      ],
      "text/plain": [
       "            an     ap   ar    as     br   ch     ct     dateymd dd     dl  \\\n",
       "date                                                                        \n",
       "2020-03-14   0      1    0     0      0    0      0  2020-03-14  0      7   \n",
       "2020-03-15   0      0    0     0      0    0      0  2020-03-15  0      0   \n",
       "2020-03-16   0      0    0     0      0    0      0  2020-03-16  0      0   \n",
       "2020-03-17   0      0    0     0      0    0      0  2020-03-17  0      1   \n",
       "2020-03-18   0      0    0     0      0    0      0  2020-03-18  0      2   \n",
       "...         ..    ...  ...   ...    ...  ...    ...         ... ..    ...   \n",
       "2021-04-18  59   6582   20   639   8690  625  12345  2021-04-18  0  25462   \n",
       "2021-04-19  31   5963   65  1367   7487  612  13834  2021-04-19  0  23686   \n",
       "2021-04-20  45   8987   61  1651  10455  602  15625  2021-04-20  0  28395   \n",
       "2021-04-21  24   9716   73  1665  12222  622  14519  2021-04-21  0  24638   \n",
       "2021-04-22  37  10759  110  1931  11489  634  16750  2021-04-22  0  26169   \n",
       "\n",
       "            ...     rj   sk    tg     tn   tr      tt un     up    ut     wb  \n",
       "date        ...                                                               \n",
       "2020-03-14  ...      3    0     1      1    0      81  0     12     0      0  \n",
       "2020-03-15  ...      1    0     2      0    0      27  0      1     0      0  \n",
       "2020-03-16  ...      0    0     1      0    0      15  0      0     1      0  \n",
       "2020-03-17  ...      0    0     1      0    0      11  0      2     0      1  \n",
       "2020-03-18  ...      3    0     8      1    0      37  0      2     1      0  \n",
       "...         ...    ...  ...   ...    ...  ...     ... ..    ...   ...    ...  \n",
       "2021-04-18  ...  10262  105  5093  10723   69  275063  0  30566  2630   8419  \n",
       "2021-04-19  ...  11967    9  4009  10941   32  257003  0  28211  2160   8426  \n",
       "2021-04-20  ...  12201   91  5926  10986   60  294365  0  29574  3012   9819  \n",
       "2021-04-21  ...  14622   50  6542  11681    0  315735  0  33106  4807  10784  \n",
       "2021-04-22  ...  14468  124  5567  12652  168  332518  0  34254  3998  11948  \n",
       "\n",
       "[405 rows x 40 columns]"
      ]
     },
     "execution_count": 21,
     "metadata": {},
     "output_type": "execute_result"
    }
   ],
   "source": [
    "df"
   ]
  },
  {
   "cell_type": "code",
   "execution_count": 22,
   "metadata": {
    "colab": {
     "base_uri": "https://localhost:8080/",
     "height": 903
    },
    "colab_type": "code",
    "id": "0K83zM_PiRD5",
    "outputId": "2741ffe1-9f5e-499b-9d9a-a59fda6ff8ce"
   },
   "outputs": [
    {
     "name": "stdout",
     "output_type": "stream",
     "text": [
      "<class 'pandas.core.frame.DataFrame'>\n",
      "DatetimeIndex: 405 entries, 2020-03-14 to 2021-04-22\n",
      "Data columns (total 40 columns):\n",
      " #   Column   Non-Null Count  Dtype \n",
      "---  ------   --------------  ----- \n",
      " 0   an       405 non-null    object\n",
      " 1   ap       405 non-null    object\n",
      " 2   ar       405 non-null    object\n",
      " 3   as       405 non-null    object\n",
      " 4   br       405 non-null    object\n",
      " 5   ch       405 non-null    object\n",
      " 6   ct       405 non-null    object\n",
      " 7   dateymd  405 non-null    object\n",
      " 8   dd       405 non-null    object\n",
      " 9   dl       405 non-null    object\n",
      " 10  dn       405 non-null    object\n",
      " 11  ga       405 non-null    object\n",
      " 12  gj       405 non-null    object\n",
      " 13  hp       405 non-null    object\n",
      " 14  hr       405 non-null    object\n",
      " 15  jh       405 non-null    object\n",
      " 16  jk       405 non-null    object\n",
      " 17  ka       405 non-null    object\n",
      " 18  kl       405 non-null    object\n",
      " 19  la       405 non-null    object\n",
      " 20  ld       405 non-null    object\n",
      " 21  mh       405 non-null    object\n",
      " 22  ml       405 non-null    object\n",
      " 23  mn       405 non-null    object\n",
      " 24  mp       405 non-null    object\n",
      " 25  mz       405 non-null    object\n",
      " 26  nl       405 non-null    object\n",
      " 27  or       405 non-null    object\n",
      " 28  pb       405 non-null    object\n",
      " 29  py       405 non-null    object\n",
      " 30  rj       405 non-null    object\n",
      " 31  sk       405 non-null    object\n",
      " 32  tg       405 non-null    object\n",
      " 33  tn       405 non-null    object\n",
      " 34  tr       405 non-null    object\n",
      " 35  tt       405 non-null    object\n",
      " 36  un       405 non-null    object\n",
      " 37  up       405 non-null    object\n",
      " 38  ut       405 non-null    object\n",
      " 39  wb       405 non-null    object\n",
      "dtypes: object(40)\n",
      "memory usage: 129.7+ KB\n"
     ]
    }
   ],
   "source": [
    "df.info()"
   ]
  },
  {
   "cell_type": "code",
   "execution_count": 26,
   "metadata": {
    "colab": {
     "base_uri": "https://localhost:8080/",
     "height": 267
    },
    "colab_type": "code",
    "id": "CylJqK1oiWEj",
    "outputId": "cdc3b789-2b9b-443b-c7a2-9f6c2a711094"
   },
   "outputs": [
    {
     "data": {
      "text/plain": [
       "date\n",
       "2020-03-14        1\n",
       "2020-03-15        0\n",
       "2020-03-16        0\n",
       "2020-03-17        0\n",
       "2020-03-18        1\n",
       "              ...  \n",
       "2021-04-18    10723\n",
       "2021-04-19    10941\n",
       "2021-04-20    10986\n",
       "2021-04-21    11681\n",
       "2021-04-22    12652\n",
       "Name: tn, Length: 405, dtype: object"
      ]
     },
     "execution_count": 26,
     "metadata": {},
     "output_type": "execute_result"
    }
   ],
   "source": [
    "df.tn"
   ]
  },
  {
   "cell_type": "code",
   "execution_count": 27,
   "metadata": {
    "colab": {
     "base_uri": "https://localhost:8080/",
     "height": 267
    },
    "colab_type": "code",
    "id": "HwJQu0g1iawG",
    "outputId": "66e7b4fb-d4e8-4fa2-f22f-8bd983a59b20"
   },
   "outputs": [
    {
     "data": {
      "text/plain": [
       "date\n",
       "2020-03-14        1\n",
       "2020-03-15        0\n",
       "2020-03-16        0\n",
       "2020-03-17        0\n",
       "2020-03-18        1\n",
       "              ...  \n",
       "2021-04-18    10723\n",
       "2021-04-19    10941\n",
       "2021-04-20    10986\n",
       "2021-04-21    11681\n",
       "2021-04-22    12652\n",
       "Name: tn, Length: 405, dtype: int64"
      ]
     },
     "execution_count": 27,
     "metadata": {},
     "output_type": "execute_result"
    }
   ],
   "source": [
    "pd.to_numeric(df.tn)"
   ]
  },
  {
   "cell_type": "code",
   "execution_count": 25,
   "metadata": {
    "colab": {},
    "colab_type": "code",
    "id": "Jn9ZCgkiie6x"
   },
   "outputs": [
    {
     "ename": "ValueError",
     "evalue": "Unable to parse string \"2020-03-14\" at position 0",
     "output_type": "error",
     "traceback": [
      "\u001b[0;31m---------------------------------------------------------------------------\u001b[0m",
      "\u001b[0;31mValueError\u001b[0m                                Traceback (most recent call last)",
      "\u001b[0;32mpandas/_libs/lib.pyx\u001b[0m in \u001b[0;36mpandas._libs.lib.maybe_convert_numeric\u001b[0;34m()\u001b[0m\n",
      "\u001b[0;31mValueError\u001b[0m: Unable to parse string \"2020-03-14\"",
      "\nDuring handling of the above exception, another exception occurred:\n",
      "\u001b[0;31mValueError\u001b[0m                                Traceback (most recent call last)",
      "\u001b[0;32m<ipython-input-25-d22ec30a4799>\u001b[0m in \u001b[0;36m<module>\u001b[0;34m\u001b[0m\n\u001b[0;32m----> 1\u001b[0;31m \u001b[0mdf\u001b[0m \u001b[0;34m=\u001b[0m \u001b[0mdf\u001b[0m\u001b[0;34m.\u001b[0m\u001b[0mapply\u001b[0m\u001b[0;34m(\u001b[0m\u001b[0mpd\u001b[0m\u001b[0;34m.\u001b[0m\u001b[0mto_numeric\u001b[0m\u001b[0;34m)\u001b[0m\u001b[0;34m\u001b[0m\u001b[0;34m\u001b[0m\u001b[0m\n\u001b[0m",
      "\u001b[0;32m/opt/anaconda3/lib/python3.8/site-packages/pandas/core/frame.py\u001b[0m in \u001b[0;36mapply\u001b[0;34m(self, func, axis, raw, result_type, args, **kwds)\u001b[0m\n\u001b[1;32m   6876\u001b[0m             \u001b[0mkwds\u001b[0m\u001b[0;34m=\u001b[0m\u001b[0mkwds\u001b[0m\u001b[0;34m,\u001b[0m\u001b[0;34m\u001b[0m\u001b[0;34m\u001b[0m\u001b[0m\n\u001b[1;32m   6877\u001b[0m         )\n\u001b[0;32m-> 6878\u001b[0;31m         \u001b[0;32mreturn\u001b[0m \u001b[0mop\u001b[0m\u001b[0;34m.\u001b[0m\u001b[0mget_result\u001b[0m\u001b[0;34m(\u001b[0m\u001b[0;34m)\u001b[0m\u001b[0;34m\u001b[0m\u001b[0;34m\u001b[0m\u001b[0m\n\u001b[0m\u001b[1;32m   6879\u001b[0m \u001b[0;34m\u001b[0m\u001b[0m\n\u001b[1;32m   6880\u001b[0m     \u001b[0;32mdef\u001b[0m \u001b[0mapplymap\u001b[0m\u001b[0;34m(\u001b[0m\u001b[0mself\u001b[0m\u001b[0;34m,\u001b[0m \u001b[0mfunc\u001b[0m\u001b[0;34m)\u001b[0m \u001b[0;34m->\u001b[0m \u001b[0;34m\"DataFrame\"\u001b[0m\u001b[0;34m:\u001b[0m\u001b[0;34m\u001b[0m\u001b[0;34m\u001b[0m\u001b[0m\n",
      "\u001b[0;32m/opt/anaconda3/lib/python3.8/site-packages/pandas/core/apply.py\u001b[0m in \u001b[0;36mget_result\u001b[0;34m(self)\u001b[0m\n\u001b[1;32m    184\u001b[0m             \u001b[0;32mreturn\u001b[0m \u001b[0mself\u001b[0m\u001b[0;34m.\u001b[0m\u001b[0mapply_raw\u001b[0m\u001b[0;34m(\u001b[0m\u001b[0;34m)\u001b[0m\u001b[0;34m\u001b[0m\u001b[0;34m\u001b[0m\u001b[0m\n\u001b[1;32m    185\u001b[0m \u001b[0;34m\u001b[0m\u001b[0m\n\u001b[0;32m--> 186\u001b[0;31m         \u001b[0;32mreturn\u001b[0m \u001b[0mself\u001b[0m\u001b[0;34m.\u001b[0m\u001b[0mapply_standard\u001b[0m\u001b[0;34m(\u001b[0m\u001b[0;34m)\u001b[0m\u001b[0;34m\u001b[0m\u001b[0;34m\u001b[0m\u001b[0m\n\u001b[0m\u001b[1;32m    187\u001b[0m \u001b[0;34m\u001b[0m\u001b[0m\n\u001b[1;32m    188\u001b[0m     \u001b[0;32mdef\u001b[0m \u001b[0mapply_empty_result\u001b[0m\u001b[0;34m(\u001b[0m\u001b[0mself\u001b[0m\u001b[0;34m)\u001b[0m\u001b[0;34m:\u001b[0m\u001b[0;34m\u001b[0m\u001b[0;34m\u001b[0m\u001b[0m\n",
      "\u001b[0;32m/opt/anaconda3/lib/python3.8/site-packages/pandas/core/apply.py\u001b[0m in \u001b[0;36mapply_standard\u001b[0;34m(self)\u001b[0m\n\u001b[1;32m    311\u001b[0m \u001b[0;34m\u001b[0m\u001b[0m\n\u001b[1;32m    312\u001b[0m         \u001b[0;31m# compute the result using the series generator\u001b[0m\u001b[0;34m\u001b[0m\u001b[0;34m\u001b[0m\u001b[0;34m\u001b[0m\u001b[0m\n\u001b[0;32m--> 313\u001b[0;31m         \u001b[0mresults\u001b[0m\u001b[0;34m,\u001b[0m \u001b[0mres_index\u001b[0m \u001b[0;34m=\u001b[0m \u001b[0mself\u001b[0m\u001b[0;34m.\u001b[0m\u001b[0mapply_series_generator\u001b[0m\u001b[0;34m(\u001b[0m\u001b[0;34m)\u001b[0m\u001b[0;34m\u001b[0m\u001b[0;34m\u001b[0m\u001b[0m\n\u001b[0m\u001b[1;32m    314\u001b[0m \u001b[0;34m\u001b[0m\u001b[0m\n\u001b[1;32m    315\u001b[0m         \u001b[0;31m# wrap results\u001b[0m\u001b[0;34m\u001b[0m\u001b[0;34m\u001b[0m\u001b[0;34m\u001b[0m\u001b[0m\n",
      "\u001b[0;32m/opt/anaconda3/lib/python3.8/site-packages/pandas/core/apply.py\u001b[0m in \u001b[0;36mapply_series_generator\u001b[0;34m(self)\u001b[0m\n\u001b[1;32m    339\u001b[0m         \u001b[0;32melse\u001b[0m\u001b[0;34m:\u001b[0m\u001b[0;34m\u001b[0m\u001b[0;34m\u001b[0m\u001b[0m\n\u001b[1;32m    340\u001b[0m             \u001b[0;32mfor\u001b[0m \u001b[0mi\u001b[0m\u001b[0;34m,\u001b[0m \u001b[0mv\u001b[0m \u001b[0;32min\u001b[0m \u001b[0menumerate\u001b[0m\u001b[0;34m(\u001b[0m\u001b[0mseries_gen\u001b[0m\u001b[0;34m)\u001b[0m\u001b[0;34m:\u001b[0m\u001b[0;34m\u001b[0m\u001b[0;34m\u001b[0m\u001b[0m\n\u001b[0;32m--> 341\u001b[0;31m                 \u001b[0mresults\u001b[0m\u001b[0;34m[\u001b[0m\u001b[0mi\u001b[0m\u001b[0;34m]\u001b[0m \u001b[0;34m=\u001b[0m \u001b[0mself\u001b[0m\u001b[0;34m.\u001b[0m\u001b[0mf\u001b[0m\u001b[0;34m(\u001b[0m\u001b[0mv\u001b[0m\u001b[0;34m)\u001b[0m\u001b[0;34m\u001b[0m\u001b[0;34m\u001b[0m\u001b[0m\n\u001b[0m\u001b[1;32m    342\u001b[0m                 \u001b[0mkeys\u001b[0m\u001b[0;34m.\u001b[0m\u001b[0mappend\u001b[0m\u001b[0;34m(\u001b[0m\u001b[0mv\u001b[0m\u001b[0;34m.\u001b[0m\u001b[0mname\u001b[0m\u001b[0;34m)\u001b[0m\u001b[0;34m\u001b[0m\u001b[0;34m\u001b[0m\u001b[0m\n\u001b[1;32m    343\u001b[0m \u001b[0;34m\u001b[0m\u001b[0m\n",
      "\u001b[0;32m/opt/anaconda3/lib/python3.8/site-packages/pandas/core/tools/numeric.py\u001b[0m in \u001b[0;36mto_numeric\u001b[0;34m(arg, errors, downcast)\u001b[0m\n\u001b[1;32m    147\u001b[0m         \u001b[0mcoerce_numeric\u001b[0m \u001b[0;34m=\u001b[0m \u001b[0merrors\u001b[0m \u001b[0;32mnot\u001b[0m \u001b[0;32min\u001b[0m \u001b[0;34m(\u001b[0m\u001b[0;34m\"ignore\"\u001b[0m\u001b[0;34m,\u001b[0m \u001b[0;34m\"raise\"\u001b[0m\u001b[0;34m)\u001b[0m\u001b[0;34m\u001b[0m\u001b[0;34m\u001b[0m\u001b[0m\n\u001b[1;32m    148\u001b[0m         \u001b[0;32mtry\u001b[0m\u001b[0;34m:\u001b[0m\u001b[0;34m\u001b[0m\u001b[0;34m\u001b[0m\u001b[0m\n\u001b[0;32m--> 149\u001b[0;31m             values = lib.maybe_convert_numeric(\n\u001b[0m\u001b[1;32m    150\u001b[0m                 \u001b[0mvalues\u001b[0m\u001b[0;34m,\u001b[0m \u001b[0mset\u001b[0m\u001b[0;34m(\u001b[0m\u001b[0;34m)\u001b[0m\u001b[0;34m,\u001b[0m \u001b[0mcoerce_numeric\u001b[0m\u001b[0;34m=\u001b[0m\u001b[0mcoerce_numeric\u001b[0m\u001b[0;34m\u001b[0m\u001b[0;34m\u001b[0m\u001b[0m\n\u001b[1;32m    151\u001b[0m             )\n",
      "\u001b[0;32mpandas/_libs/lib.pyx\u001b[0m in \u001b[0;36mpandas._libs.lib.maybe_convert_numeric\u001b[0;34m()\u001b[0m\n",
      "\u001b[0;31mValueError\u001b[0m: Unable to parse string \"2020-03-14\" at position 0"
     ]
    }
   ],
   "source": [
    "df = df.apply(pd.to_numeric)"
   ]
  },
  {
   "cell_type": "code",
   "execution_count": 28,
   "metadata": {
    "colab": {
     "base_uri": "https://localhost:8080/",
     "height": 903
    },
    "colab_type": "code",
    "id": "7ejq8nCBipXf",
    "outputId": "32df6589-9865-4191-ff94-b1266ca0e6a2"
   },
   "outputs": [
    {
     "name": "stdout",
     "output_type": "stream",
     "text": [
      "<class 'pandas.core.frame.DataFrame'>\n",
      "DatetimeIndex: 405 entries, 2020-03-14 to 2021-04-22\n",
      "Data columns (total 40 columns):\n",
      " #   Column   Non-Null Count  Dtype \n",
      "---  ------   --------------  ----- \n",
      " 0   an       405 non-null    object\n",
      " 1   ap       405 non-null    object\n",
      " 2   ar       405 non-null    object\n",
      " 3   as       405 non-null    object\n",
      " 4   br       405 non-null    object\n",
      " 5   ch       405 non-null    object\n",
      " 6   ct       405 non-null    object\n",
      " 7   dateymd  405 non-null    object\n",
      " 8   dd       405 non-null    object\n",
      " 9   dl       405 non-null    object\n",
      " 10  dn       405 non-null    object\n",
      " 11  ga       405 non-null    object\n",
      " 12  gj       405 non-null    object\n",
      " 13  hp       405 non-null    object\n",
      " 14  hr       405 non-null    object\n",
      " 15  jh       405 non-null    object\n",
      " 16  jk       405 non-null    object\n",
      " 17  ka       405 non-null    object\n",
      " 18  kl       405 non-null    object\n",
      " 19  la       405 non-null    object\n",
      " 20  ld       405 non-null    object\n",
      " 21  mh       405 non-null    object\n",
      " 22  ml       405 non-null    object\n",
      " 23  mn       405 non-null    object\n",
      " 24  mp       405 non-null    object\n",
      " 25  mz       405 non-null    object\n",
      " 26  nl       405 non-null    object\n",
      " 27  or       405 non-null    object\n",
      " 28  pb       405 non-null    object\n",
      " 29  py       405 non-null    object\n",
      " 30  rj       405 non-null    object\n",
      " 31  sk       405 non-null    object\n",
      " 32  tg       405 non-null    object\n",
      " 33  tn       405 non-null    object\n",
      " 34  tr       405 non-null    object\n",
      " 35  tt       405 non-null    object\n",
      " 36  un       405 non-null    object\n",
      " 37  up       405 non-null    object\n",
      " 38  ut       405 non-null    object\n",
      " 39  wb       405 non-null    object\n",
      "dtypes: object(40)\n",
      "memory usage: 129.7+ KB\n"
     ]
    }
   ],
   "source": [
    "df.info()"
   ]
  },
  {
   "cell_type": "code",
   "execution_count": null,
   "metadata": {
    "colab": {
     "base_uri": "https://localhost:8080/",
     "height": 320
    },
    "colab_type": "code",
    "id": "JvYWjkwEiqf8",
    "outputId": "797d35b4-9ee4-4e58-821a-1f001bc37f07"
   },
   "outputs": [],
   "source": [
    "df.tail(7)"
   ]
  },
  {
   "cell_type": "markdown",
   "metadata": {
    "colab_type": "text",
    "id": "4TJTvue5k-y2"
   },
   "source": [
    "## Styling tabulation"
   ]
  },
  {
   "cell_type": "code",
   "execution_count": 29,
   "metadata": {
    "colab": {},
    "colab_type": "code",
    "id": "BbYfGT5CkkdM"
   },
   "outputs": [],
   "source": [
    "df = df.tail(7)"
   ]
  },
  {
   "cell_type": "code",
   "execution_count": 30,
   "metadata": {
    "colab": {
     "base_uri": "https://localhost:8080/",
     "height": 353
    },
    "colab_type": "code",
    "id": "6t_eplf7lFAS",
    "outputId": "9eb7d165-6ca7-4c3d-fb90-b0851d002a7b"
   },
   "outputs": [
    {
     "data": {
      "text/html": [
       "<style  type=\"text/css\" >\n",
       "</style><table id=\"T_351f08e0_a41d_11eb_b537_acde48001122\" ><thead>    <tr>        <th class=\"blank level0\" ></th>        <th class=\"col_heading level0 col0\" >an</th>        <th class=\"col_heading level0 col1\" >ap</th>        <th class=\"col_heading level0 col2\" >ar</th>        <th class=\"col_heading level0 col3\" >as</th>        <th class=\"col_heading level0 col4\" >br</th>        <th class=\"col_heading level0 col5\" >ch</th>        <th class=\"col_heading level0 col6\" >ct</th>        <th class=\"col_heading level0 col7\" >dateymd</th>        <th class=\"col_heading level0 col8\" >dd</th>        <th class=\"col_heading level0 col9\" >dl</th>        <th class=\"col_heading level0 col10\" >dn</th>        <th class=\"col_heading level0 col11\" >ga</th>        <th class=\"col_heading level0 col12\" >gj</th>        <th class=\"col_heading level0 col13\" >hp</th>        <th class=\"col_heading level0 col14\" >hr</th>        <th class=\"col_heading level0 col15\" >jh</th>        <th class=\"col_heading level0 col16\" >jk</th>        <th class=\"col_heading level0 col17\" >ka</th>        <th class=\"col_heading level0 col18\" >kl</th>        <th class=\"col_heading level0 col19\" >la</th>        <th class=\"col_heading level0 col20\" >ld</th>        <th class=\"col_heading level0 col21\" >mh</th>        <th class=\"col_heading level0 col22\" >ml</th>        <th class=\"col_heading level0 col23\" >mn</th>        <th class=\"col_heading level0 col24\" >mp</th>        <th class=\"col_heading level0 col25\" >mz</th>        <th class=\"col_heading level0 col26\" >nl</th>        <th class=\"col_heading level0 col27\" >or</th>        <th class=\"col_heading level0 col28\" >pb</th>        <th class=\"col_heading level0 col29\" >py</th>        <th class=\"col_heading level0 col30\" >rj</th>        <th class=\"col_heading level0 col31\" >sk</th>        <th class=\"col_heading level0 col32\" >tg</th>        <th class=\"col_heading level0 col33\" >tn</th>        <th class=\"col_heading level0 col34\" >tr</th>        <th class=\"col_heading level0 col35\" >tt</th>        <th class=\"col_heading level0 col36\" >un</th>        <th class=\"col_heading level0 col37\" >up</th>        <th class=\"col_heading level0 col38\" >ut</th>        <th class=\"col_heading level0 col39\" >wb</th>    </tr>    <tr>        <th class=\"index_name level0\" >date</th>        <th class=\"blank\" ></th>        <th class=\"blank\" ></th>        <th class=\"blank\" ></th>        <th class=\"blank\" ></th>        <th class=\"blank\" ></th>        <th class=\"blank\" ></th>        <th class=\"blank\" ></th>        <th class=\"blank\" ></th>        <th class=\"blank\" ></th>        <th class=\"blank\" ></th>        <th class=\"blank\" ></th>        <th class=\"blank\" ></th>        <th class=\"blank\" ></th>        <th class=\"blank\" ></th>        <th class=\"blank\" ></th>        <th class=\"blank\" ></th>        <th class=\"blank\" ></th>        <th class=\"blank\" ></th>        <th class=\"blank\" ></th>        <th class=\"blank\" ></th>        <th class=\"blank\" ></th>        <th class=\"blank\" ></th>        <th class=\"blank\" ></th>        <th class=\"blank\" ></th>        <th class=\"blank\" ></th>        <th class=\"blank\" ></th>        <th class=\"blank\" ></th>        <th class=\"blank\" ></th>        <th class=\"blank\" ></th>        <th class=\"blank\" ></th>        <th class=\"blank\" ></th>        <th class=\"blank\" ></th>        <th class=\"blank\" ></th>        <th class=\"blank\" ></th>        <th class=\"blank\" ></th>        <th class=\"blank\" ></th>        <th class=\"blank\" ></th>        <th class=\"blank\" ></th>        <th class=\"blank\" ></th>        <th class=\"blank\" ></th>    </tr></thead><tbody>\n",
       "                <tr>\n",
       "                        <th id=\"T_351f08e0_a41d_11eb_b537_acde48001122level0_row0\" class=\"row_heading level0 row0\" >2021-04-16 00:00:00</th>\n",
       "                        <td id=\"T_351f08e0_a41d_11eb_b537_acde48001122row0_col0\" class=\"data row0 col0\" >27</td>\n",
       "                        <td id=\"T_351f08e0_a41d_11eb_b537_acde48001122row0_col1\" class=\"data row0 col1\" >6096</td>\n",
       "                        <td id=\"T_351f08e0_a41d_11eb_b537_acde48001122row0_col2\" class=\"data row0 col2\" >28</td>\n",
       "                        <td id=\"T_351f08e0_a41d_11eb_b537_acde48001122row0_col3\" class=\"data row0 col3\" >573</td>\n",
       "                        <td id=\"T_351f08e0_a41d_11eb_b537_acde48001122row0_col4\" class=\"data row0 col4\" >6253</td>\n",
       "                        <td id=\"T_351f08e0_a41d_11eb_b537_acde48001122row0_col5\" class=\"data row0 col5\" >481</td>\n",
       "                        <td id=\"T_351f08e0_a41d_11eb_b537_acde48001122row0_col6\" class=\"data row0 col6\" >14912</td>\n",
       "                        <td id=\"T_351f08e0_a41d_11eb_b537_acde48001122row0_col7\" class=\"data row0 col7\" >2021-04-16</td>\n",
       "                        <td id=\"T_351f08e0_a41d_11eb_b537_acde48001122row0_col8\" class=\"data row0 col8\" >0</td>\n",
       "                        <td id=\"T_351f08e0_a41d_11eb_b537_acde48001122row0_col9\" class=\"data row0 col9\" >19486</td>\n",
       "                        <td id=\"T_351f08e0_a41d_11eb_b537_acde48001122row0_col10\" class=\"data row0 col10\" >138</td>\n",
       "                        <td id=\"T_351f08e0_a41d_11eb_b537_acde48001122row0_col11\" class=\"data row0 col11\" >927</td>\n",
       "                        <td id=\"T_351f08e0_a41d_11eb_b537_acde48001122row0_col12\" class=\"data row0 col12\" >8920</td>\n",
       "                        <td id=\"T_351f08e0_a41d_11eb_b537_acde48001122row0_col13\" class=\"data row0 col13\" >842</td>\n",
       "                        <td id=\"T_351f08e0_a41d_11eb_b537_acde48001122row0_col14\" class=\"data row0 col14\" >6277</td>\n",
       "                        <td id=\"T_351f08e0_a41d_11eb_b537_acde48001122row0_col15\" class=\"data row0 col15\" >3843</td>\n",
       "                        <td id=\"T_351f08e0_a41d_11eb_b537_acde48001122row0_col16\" class=\"data row0 col16\" >1144</td>\n",
       "                        <td id=\"T_351f08e0_a41d_11eb_b537_acde48001122row0_col17\" class=\"data row0 col17\" >14859</td>\n",
       "                        <td id=\"T_351f08e0_a41d_11eb_b537_acde48001122row0_col18\" class=\"data row0 col18\" >10031</td>\n",
       "                        <td id=\"T_351f08e0_a41d_11eb_b537_acde48001122row0_col19\" class=\"data row0 col19\" >245</td>\n",
       "                        <td id=\"T_351f08e0_a41d_11eb_b537_acde48001122row0_col20\" class=\"data row0 col20\" >44</td>\n",
       "                        <td id=\"T_351f08e0_a41d_11eb_b537_acde48001122row0_col21\" class=\"data row0 col21\" >63729</td>\n",
       "                        <td id=\"T_351f08e0_a41d_11eb_b537_acde48001122row0_col22\" class=\"data row0 col22\" >121</td>\n",
       "                        <td id=\"T_351f08e0_a41d_11eb_b537_acde48001122row0_col23\" class=\"data row0 col23\" >31</td>\n",
       "                        <td id=\"T_351f08e0_a41d_11eb_b537_acde48001122row0_col24\" class=\"data row0 col24\" >11045</td>\n",
       "                        <td id=\"T_351f08e0_a41d_11eb_b537_acde48001122row0_col25\" class=\"data row0 col25\" >25</td>\n",
       "                        <td id=\"T_351f08e0_a41d_11eb_b537_acde48001122row0_col26\" class=\"data row0 col26\" >22</td>\n",
       "                        <td id=\"T_351f08e0_a41d_11eb_b537_acde48001122row0_col27\" class=\"data row0 col27\" >3108</td>\n",
       "                        <td id=\"T_351f08e0_a41d_11eb_b537_acde48001122row0_col28\" class=\"data row0 col28\" >3891</td>\n",
       "                        <td id=\"T_351f08e0_a41d_11eb_b537_acde48001122row0_col29\" class=\"data row0 col29\" >531</td>\n",
       "                        <td id=\"T_351f08e0_a41d_11eb_b537_acde48001122row0_col30\" class=\"data row0 col30\" >7359</td>\n",
       "                        <td id=\"T_351f08e0_a41d_11eb_b537_acde48001122row0_col31\" class=\"data row0 col31\" >22</td>\n",
       "                        <td id=\"T_351f08e0_a41d_11eb_b537_acde48001122row0_col32\" class=\"data row0 col32\" >3840</td>\n",
       "                        <td id=\"T_351f08e0_a41d_11eb_b537_acde48001122row0_col33\" class=\"data row0 col33\" >8449</td>\n",
       "                        <td id=\"T_351f08e0_a41d_11eb_b537_acde48001122row0_col34\" class=\"data row0 col34\" >31</td>\n",
       "                        <td id=\"T_351f08e0_a41d_11eb_b537_acde48001122row0_col35\" class=\"data row0 col35\" >234002</td>\n",
       "                        <td id=\"T_351f08e0_a41d_11eb_b537_acde48001122row0_col36\" class=\"data row0 col36\" >0</td>\n",
       "                        <td id=\"T_351f08e0_a41d_11eb_b537_acde48001122row0_col37\" class=\"data row0 col37\" >27360</td>\n",
       "                        <td id=\"T_351f08e0_a41d_11eb_b537_acde48001122row0_col38\" class=\"data row0 col38\" >2402</td>\n",
       "                        <td id=\"T_351f08e0_a41d_11eb_b537_acde48001122row0_col39\" class=\"data row0 col39\" >6910</td>\n",
       "            </tr>\n",
       "            <tr>\n",
       "                        <th id=\"T_351f08e0_a41d_11eb_b537_acde48001122level0_row1\" class=\"row_heading level0 row1\" >2021-04-17 00:00:00</th>\n",
       "                        <td id=\"T_351f08e0_a41d_11eb_b537_acde48001122row1_col0\" class=\"data row1 col0\" >42</td>\n",
       "                        <td id=\"T_351f08e0_a41d_11eb_b537_acde48001122row1_col1\" class=\"data row1 col1\" >7224</td>\n",
       "                        <td id=\"T_351f08e0_a41d_11eb_b537_acde48001122row1_col2\" class=\"data row1 col2\" >19</td>\n",
       "                        <td id=\"T_351f08e0_a41d_11eb_b537_acde48001122row1_col3\" class=\"data row1 col3\" >876</td>\n",
       "                        <td id=\"T_351f08e0_a41d_11eb_b537_acde48001122row1_col4\" class=\"data row1 col4\" >7870</td>\n",
       "                        <td id=\"T_351f08e0_a41d_11eb_b537_acde48001122row1_col5\" class=\"data row1 col5\" >431</td>\n",
       "                        <td id=\"T_351f08e0_a41d_11eb_b537_acde48001122row1_col6\" class=\"data row1 col6\" >16083</td>\n",
       "                        <td id=\"T_351f08e0_a41d_11eb_b537_acde48001122row1_col7\" class=\"data row1 col7\" >2021-04-17</td>\n",
       "                        <td id=\"T_351f08e0_a41d_11eb_b537_acde48001122row1_col8\" class=\"data row1 col8\" >0</td>\n",
       "                        <td id=\"T_351f08e0_a41d_11eb_b537_acde48001122row1_col9\" class=\"data row1 col9\" >24375</td>\n",
       "                        <td id=\"T_351f08e0_a41d_11eb_b537_acde48001122row1_col10\" class=\"data row1 col10\" >108</td>\n",
       "                        <td id=\"T_351f08e0_a41d_11eb_b537_acde48001122row1_col11\" class=\"data row1 col11\" >762</td>\n",
       "                        <td id=\"T_351f08e0_a41d_11eb_b537_acde48001122row1_col12\" class=\"data row1 col12\" >9541</td>\n",
       "                        <td id=\"T_351f08e0_a41d_11eb_b537_acde48001122row1_col13\" class=\"data row1 col13\" >1392</td>\n",
       "                        <td id=\"T_351f08e0_a41d_11eb_b537_acde48001122row1_col14\" class=\"data row1 col14\" >7717</td>\n",
       "                        <td id=\"T_351f08e0_a41d_11eb_b537_acde48001122row1_col15\" class=\"data row1 col15\" >3838</td>\n",
       "                        <td id=\"T_351f08e0_a41d_11eb_b537_acde48001122row1_col16\" class=\"data row1 col16\" >1145</td>\n",
       "                        <td id=\"T_351f08e0_a41d_11eb_b537_acde48001122row1_col17\" class=\"data row1 col17\" >17489</td>\n",
       "                        <td id=\"T_351f08e0_a41d_11eb_b537_acde48001122row1_col18\" class=\"data row1 col18\" >13835</td>\n",
       "                        <td id=\"T_351f08e0_a41d_11eb_b537_acde48001122row1_col19\" class=\"data row1 col19\" >362</td>\n",
       "                        <td id=\"T_351f08e0_a41d_11eb_b537_acde48001122row1_col20\" class=\"data row1 col20\" >106</td>\n",
       "                        <td id=\"T_351f08e0_a41d_11eb_b537_acde48001122row1_col21\" class=\"data row1 col21\" >67123</td>\n",
       "                        <td id=\"T_351f08e0_a41d_11eb_b537_acde48001122row1_col22\" class=\"data row1 col22\" >95</td>\n",
       "                        <td id=\"T_351f08e0_a41d_11eb_b537_acde48001122row1_col23\" class=\"data row1 col23\" >39</td>\n",
       "                        <td id=\"T_351f08e0_a41d_11eb_b537_acde48001122row1_col24\" class=\"data row1 col24\" >11269</td>\n",
       "                        <td id=\"T_351f08e0_a41d_11eb_b537_acde48001122row1_col25\" class=\"data row1 col25\" >62</td>\n",
       "                        <td id=\"T_351f08e0_a41d_11eb_b537_acde48001122row1_col26\" class=\"data row1 col26\" >32</td>\n",
       "                        <td id=\"T_351f08e0_a41d_11eb_b537_acde48001122row1_col27\" class=\"data row1 col27\" >3144</td>\n",
       "                        <td id=\"T_351f08e0_a41d_11eb_b537_acde48001122row1_col28\" class=\"data row1 col28\" >4431</td>\n",
       "                        <td id=\"T_351f08e0_a41d_11eb_b537_acde48001122row1_col29\" class=\"data row1 col29\" >715</td>\n",
       "                        <td id=\"T_351f08e0_a41d_11eb_b537_acde48001122row1_col30\" class=\"data row1 col30\" >9046</td>\n",
       "                        <td id=\"T_351f08e0_a41d_11eb_b537_acde48001122row1_col31\" class=\"data row1 col31\" >72</td>\n",
       "                        <td id=\"T_351f08e0_a41d_11eb_b537_acde48001122row1_col32\" class=\"data row1 col32\" >4446</td>\n",
       "                        <td id=\"T_351f08e0_a41d_11eb_b537_acde48001122row1_col33\" class=\"data row1 col33\" >9344</td>\n",
       "                        <td id=\"T_351f08e0_a41d_11eb_b537_acde48001122row1_col34\" class=\"data row1 col34\" >58</td>\n",
       "                        <td id=\"T_351f08e0_a41d_11eb_b537_acde48001122row1_col35\" class=\"data row1 col35\" >260895</td>\n",
       "                        <td id=\"T_351f08e0_a41d_11eb_b537_acde48001122row1_col36\" class=\"data row1 col36\" >0</td>\n",
       "                        <td id=\"T_351f08e0_a41d_11eb_b537_acde48001122row1_col37\" class=\"data row1 col37\" >27334</td>\n",
       "                        <td id=\"T_351f08e0_a41d_11eb_b537_acde48001122row1_col38\" class=\"data row1 col38\" >2757</td>\n",
       "                        <td id=\"T_351f08e0_a41d_11eb_b537_acde48001122row1_col39\" class=\"data row1 col39\" >7713</td>\n",
       "            </tr>\n",
       "            <tr>\n",
       "                        <th id=\"T_351f08e0_a41d_11eb_b537_acde48001122level0_row2\" class=\"row_heading level0 row2\" >2021-04-18 00:00:00</th>\n",
       "                        <td id=\"T_351f08e0_a41d_11eb_b537_acde48001122row2_col0\" class=\"data row2 col0\" >59</td>\n",
       "                        <td id=\"T_351f08e0_a41d_11eb_b537_acde48001122row2_col1\" class=\"data row2 col1\" >6582</td>\n",
       "                        <td id=\"T_351f08e0_a41d_11eb_b537_acde48001122row2_col2\" class=\"data row2 col2\" >20</td>\n",
       "                        <td id=\"T_351f08e0_a41d_11eb_b537_acde48001122row2_col3\" class=\"data row2 col3\" >639</td>\n",
       "                        <td id=\"T_351f08e0_a41d_11eb_b537_acde48001122row2_col4\" class=\"data row2 col4\" >8690</td>\n",
       "                        <td id=\"T_351f08e0_a41d_11eb_b537_acde48001122row2_col5\" class=\"data row2 col5\" >625</td>\n",
       "                        <td id=\"T_351f08e0_a41d_11eb_b537_acde48001122row2_col6\" class=\"data row2 col6\" >12345</td>\n",
       "                        <td id=\"T_351f08e0_a41d_11eb_b537_acde48001122row2_col7\" class=\"data row2 col7\" >2021-04-18</td>\n",
       "                        <td id=\"T_351f08e0_a41d_11eb_b537_acde48001122row2_col8\" class=\"data row2 col8\" >0</td>\n",
       "                        <td id=\"T_351f08e0_a41d_11eb_b537_acde48001122row2_col9\" class=\"data row2 col9\" >25462</td>\n",
       "                        <td id=\"T_351f08e0_a41d_11eb_b537_acde48001122row2_col10\" class=\"data row2 col10\" >184</td>\n",
       "                        <td id=\"T_351f08e0_a41d_11eb_b537_acde48001122row2_col11\" class=\"data row2 col11\" >951</td>\n",
       "                        <td id=\"T_351f08e0_a41d_11eb_b537_acde48001122row2_col12\" class=\"data row2 col12\" >10340</td>\n",
       "                        <td id=\"T_351f08e0_a41d_11eb_b537_acde48001122row2_col13\" class=\"data row2 col13\" >788</td>\n",
       "                        <td id=\"T_351f08e0_a41d_11eb_b537_acde48001122row2_col14\" class=\"data row2 col14\" >7177</td>\n",
       "                        <td id=\"T_351f08e0_a41d_11eb_b537_acde48001122row2_col15\" class=\"data row2 col15\" >3992</td>\n",
       "                        <td id=\"T_351f08e0_a41d_11eb_b537_acde48001122row2_col16\" class=\"data row2 col16\" >1526</td>\n",
       "                        <td id=\"T_351f08e0_a41d_11eb_b537_acde48001122row2_col17\" class=\"data row2 col17\" >19067</td>\n",
       "                        <td id=\"T_351f08e0_a41d_11eb_b537_acde48001122row2_col18\" class=\"data row2 col18\" >18257</td>\n",
       "                        <td id=\"T_351f08e0_a41d_11eb_b537_acde48001122row2_col19\" class=\"data row2 col19\" >60</td>\n",
       "                        <td id=\"T_351f08e0_a41d_11eb_b537_acde48001122row2_col20\" class=\"data row2 col20\" >114</td>\n",
       "                        <td id=\"T_351f08e0_a41d_11eb_b537_acde48001122row2_col21\" class=\"data row2 col21\" >68631</td>\n",
       "                        <td id=\"T_351f08e0_a41d_11eb_b537_acde48001122row2_col22\" class=\"data row2 col22\" >71</td>\n",
       "                        <td id=\"T_351f08e0_a41d_11eb_b537_acde48001122row2_col23\" class=\"data row2 col23\" >72</td>\n",
       "                        <td id=\"T_351f08e0_a41d_11eb_b537_acde48001122row2_col24\" class=\"data row2 col24\" >12248</td>\n",
       "                        <td id=\"T_351f08e0_a41d_11eb_b537_acde48001122row2_col25\" class=\"data row2 col25\" >50</td>\n",
       "                        <td id=\"T_351f08e0_a41d_11eb_b537_acde48001122row2_col26\" class=\"data row2 col26\" >19</td>\n",
       "                        <td id=\"T_351f08e0_a41d_11eb_b537_acde48001122row2_col27\" class=\"data row2 col27\" >3664</td>\n",
       "                        <td id=\"T_351f08e0_a41d_11eb_b537_acde48001122row2_col28\" class=\"data row2 col28\" >4900</td>\n",
       "                        <td id=\"T_351f08e0_a41d_11eb_b537_acde48001122row2_col29\" class=\"data row2 col29\" >663</td>\n",
       "                        <td id=\"T_351f08e0_a41d_11eb_b537_acde48001122row2_col30\" class=\"data row2 col30\" >10262</td>\n",
       "                        <td id=\"T_351f08e0_a41d_11eb_b537_acde48001122row2_col31\" class=\"data row2 col31\" >105</td>\n",
       "                        <td id=\"T_351f08e0_a41d_11eb_b537_acde48001122row2_col32\" class=\"data row2 col32\" >5093</td>\n",
       "                        <td id=\"T_351f08e0_a41d_11eb_b537_acde48001122row2_col33\" class=\"data row2 col33\" >10723</td>\n",
       "                        <td id=\"T_351f08e0_a41d_11eb_b537_acde48001122row2_col34\" class=\"data row2 col34\" >69</td>\n",
       "                        <td id=\"T_351f08e0_a41d_11eb_b537_acde48001122row2_col35\" class=\"data row2 col35\" >275063</td>\n",
       "                        <td id=\"T_351f08e0_a41d_11eb_b537_acde48001122row2_col36\" class=\"data row2 col36\" >0</td>\n",
       "                        <td id=\"T_351f08e0_a41d_11eb_b537_acde48001122row2_col37\" class=\"data row2 col37\" >30566</td>\n",
       "                        <td id=\"T_351f08e0_a41d_11eb_b537_acde48001122row2_col38\" class=\"data row2 col38\" >2630</td>\n",
       "                        <td id=\"T_351f08e0_a41d_11eb_b537_acde48001122row2_col39\" class=\"data row2 col39\" >8419</td>\n",
       "            </tr>\n",
       "            <tr>\n",
       "                        <th id=\"T_351f08e0_a41d_11eb_b537_acde48001122level0_row3\" class=\"row_heading level0 row3\" >2021-04-19 00:00:00</th>\n",
       "                        <td id=\"T_351f08e0_a41d_11eb_b537_acde48001122row3_col0\" class=\"data row3 col0\" >31</td>\n",
       "                        <td id=\"T_351f08e0_a41d_11eb_b537_acde48001122row3_col1\" class=\"data row3 col1\" >5963</td>\n",
       "                        <td id=\"T_351f08e0_a41d_11eb_b537_acde48001122row3_col2\" class=\"data row3 col2\" >65</td>\n",
       "                        <td id=\"T_351f08e0_a41d_11eb_b537_acde48001122row3_col3\" class=\"data row3 col3\" >1367</td>\n",
       "                        <td id=\"T_351f08e0_a41d_11eb_b537_acde48001122row3_col4\" class=\"data row3 col4\" >7487</td>\n",
       "                        <td id=\"T_351f08e0_a41d_11eb_b537_acde48001122row3_col5\" class=\"data row3 col5\" >612</td>\n",
       "                        <td id=\"T_351f08e0_a41d_11eb_b537_acde48001122row3_col6\" class=\"data row3 col6\" >13834</td>\n",
       "                        <td id=\"T_351f08e0_a41d_11eb_b537_acde48001122row3_col7\" class=\"data row3 col7\" >2021-04-19</td>\n",
       "                        <td id=\"T_351f08e0_a41d_11eb_b537_acde48001122row3_col8\" class=\"data row3 col8\" >0</td>\n",
       "                        <td id=\"T_351f08e0_a41d_11eb_b537_acde48001122row3_col9\" class=\"data row3 col9\" >23686</td>\n",
       "                        <td id=\"T_351f08e0_a41d_11eb_b537_acde48001122row3_col10\" class=\"data row3 col10\" >121</td>\n",
       "                        <td id=\"T_351f08e0_a41d_11eb_b537_acde48001122row3_col11\" class=\"data row3 col11\" >940</td>\n",
       "                        <td id=\"T_351f08e0_a41d_11eb_b537_acde48001122row3_col12\" class=\"data row3 col12\" >11403</td>\n",
       "                        <td id=\"T_351f08e0_a41d_11eb_b537_acde48001122row3_col13\" class=\"data row3 col13\" >1695</td>\n",
       "                        <td id=\"T_351f08e0_a41d_11eb_b537_acde48001122row3_col14\" class=\"data row3 col14\" >6842</td>\n",
       "                        <td id=\"T_351f08e0_a41d_11eb_b537_acde48001122row3_col15\" class=\"data row3 col15\" >4290</td>\n",
       "                        <td id=\"T_351f08e0_a41d_11eb_b537_acde48001122row3_col16\" class=\"data row3 col16\" >1516</td>\n",
       "                        <td id=\"T_351f08e0_a41d_11eb_b537_acde48001122row3_col17\" class=\"data row3 col17\" >15785</td>\n",
       "                        <td id=\"T_351f08e0_a41d_11eb_b537_acde48001122row3_col18\" class=\"data row3 col18\" >13644</td>\n",
       "                        <td id=\"T_351f08e0_a41d_11eb_b537_acde48001122row3_col19\" class=\"data row3 col19\" >175</td>\n",
       "                        <td id=\"T_351f08e0_a41d_11eb_b537_acde48001122row3_col20\" class=\"data row3 col20\" >117</td>\n",
       "                        <td id=\"T_351f08e0_a41d_11eb_b537_acde48001122row3_col21\" class=\"data row3 col21\" >58924</td>\n",
       "                        <td id=\"T_351f08e0_a41d_11eb_b537_acde48001122row3_col22\" class=\"data row3 col22\" >110</td>\n",
       "                        <td id=\"T_351f08e0_a41d_11eb_b537_acde48001122row3_col23\" class=\"data row3 col23\" >54</td>\n",
       "                        <td id=\"T_351f08e0_a41d_11eb_b537_acde48001122row3_col24\" class=\"data row3 col24\" >12897</td>\n",
       "                        <td id=\"T_351f08e0_a41d_11eb_b537_acde48001122row3_col25\" class=\"data row3 col25\" >45</td>\n",
       "                        <td id=\"T_351f08e0_a41d_11eb_b537_acde48001122row3_col26\" class=\"data row3 col26\" >13</td>\n",
       "                        <td id=\"T_351f08e0_a41d_11eb_b537_acde48001122row3_col27\" class=\"data row3 col27\" >4445</td>\n",
       "                        <td id=\"T_351f08e0_a41d_11eb_b537_acde48001122row3_col28\" class=\"data row3 col28\" >4622</td>\n",
       "                        <td id=\"T_351f08e0_a41d_11eb_b537_acde48001122row3_col29\" class=\"data row3 col29\" >565</td>\n",
       "                        <td id=\"T_351f08e0_a41d_11eb_b537_acde48001122row3_col30\" class=\"data row3 col30\" >11967</td>\n",
       "                        <td id=\"T_351f08e0_a41d_11eb_b537_acde48001122row3_col31\" class=\"data row3 col31\" >9</td>\n",
       "                        <td id=\"T_351f08e0_a41d_11eb_b537_acde48001122row3_col32\" class=\"data row3 col32\" >4009</td>\n",
       "                        <td id=\"T_351f08e0_a41d_11eb_b537_acde48001122row3_col33\" class=\"data row3 col33\" >10941</td>\n",
       "                        <td id=\"T_351f08e0_a41d_11eb_b537_acde48001122row3_col34\" class=\"data row3 col34\" >32</td>\n",
       "                        <td id=\"T_351f08e0_a41d_11eb_b537_acde48001122row3_col35\" class=\"data row3 col35\" >257003</td>\n",
       "                        <td id=\"T_351f08e0_a41d_11eb_b537_acde48001122row3_col36\" class=\"data row3 col36\" >0</td>\n",
       "                        <td id=\"T_351f08e0_a41d_11eb_b537_acde48001122row3_col37\" class=\"data row3 col37\" >28211</td>\n",
       "                        <td id=\"T_351f08e0_a41d_11eb_b537_acde48001122row3_col38\" class=\"data row3 col38\" >2160</td>\n",
       "                        <td id=\"T_351f08e0_a41d_11eb_b537_acde48001122row3_col39\" class=\"data row3 col39\" >8426</td>\n",
       "            </tr>\n",
       "            <tr>\n",
       "                        <th id=\"T_351f08e0_a41d_11eb_b537_acde48001122level0_row4\" class=\"row_heading level0 row4\" >2021-04-20 00:00:00</th>\n",
       "                        <td id=\"T_351f08e0_a41d_11eb_b537_acde48001122row4_col0\" class=\"data row4 col0\" >45</td>\n",
       "                        <td id=\"T_351f08e0_a41d_11eb_b537_acde48001122row4_col1\" class=\"data row4 col1\" >8987</td>\n",
       "                        <td id=\"T_351f08e0_a41d_11eb_b537_acde48001122row4_col2\" class=\"data row4 col2\" >61</td>\n",
       "                        <td id=\"T_351f08e0_a41d_11eb_b537_acde48001122row4_col3\" class=\"data row4 col3\" >1651</td>\n",
       "                        <td id=\"T_351f08e0_a41d_11eb_b537_acde48001122row4_col4\" class=\"data row4 col4\" >10455</td>\n",
       "                        <td id=\"T_351f08e0_a41d_11eb_b537_acde48001122row4_col5\" class=\"data row4 col5\" >602</td>\n",
       "                        <td id=\"T_351f08e0_a41d_11eb_b537_acde48001122row4_col6\" class=\"data row4 col6\" >15625</td>\n",
       "                        <td id=\"T_351f08e0_a41d_11eb_b537_acde48001122row4_col7\" class=\"data row4 col7\" >2021-04-20</td>\n",
       "                        <td id=\"T_351f08e0_a41d_11eb_b537_acde48001122row4_col8\" class=\"data row4 col8\" >0</td>\n",
       "                        <td id=\"T_351f08e0_a41d_11eb_b537_acde48001122row4_col9\" class=\"data row4 col9\" >28395</td>\n",
       "                        <td id=\"T_351f08e0_a41d_11eb_b537_acde48001122row4_col10\" class=\"data row4 col10\" >291</td>\n",
       "                        <td id=\"T_351f08e0_a41d_11eb_b537_acde48001122row4_col11\" class=\"data row4 col11\" >1160</td>\n",
       "                        <td id=\"T_351f08e0_a41d_11eb_b537_acde48001122row4_col12\" class=\"data row4 col12\" >12206</td>\n",
       "                        <td id=\"T_351f08e0_a41d_11eb_b537_acde48001122row4_col13\" class=\"data row4 col13\" >1340</td>\n",
       "                        <td id=\"T_351f08e0_a41d_11eb_b537_acde48001122row4_col14\" class=\"data row4 col14\" >7811</td>\n",
       "                        <td id=\"T_351f08e0_a41d_11eb_b537_acde48001122row4_col15\" class=\"data row4 col15\" >5080</td>\n",
       "                        <td id=\"T_351f08e0_a41d_11eb_b537_acde48001122row4_col16\" class=\"data row4 col16\" >2030</td>\n",
       "                        <td id=\"T_351f08e0_a41d_11eb_b537_acde48001122row4_col17\" class=\"data row4 col17\" >21794</td>\n",
       "                        <td id=\"T_351f08e0_a41d_11eb_b537_acde48001122row4_col18\" class=\"data row4 col18\" >19577</td>\n",
       "                        <td id=\"T_351f08e0_a41d_11eb_b537_acde48001122row4_col19\" class=\"data row4 col19\" >250</td>\n",
       "                        <td id=\"T_351f08e0_a41d_11eb_b537_acde48001122row4_col20\" class=\"data row4 col20\" >53</td>\n",
       "                        <td id=\"T_351f08e0_a41d_11eb_b537_acde48001122row4_col21\" class=\"data row4 col21\" >62097</td>\n",
       "                        <td id=\"T_351f08e0_a41d_11eb_b537_acde48001122row4_col22\" class=\"data row4 col22\" >137</td>\n",
       "                        <td id=\"T_351f08e0_a41d_11eb_b537_acde48001122row4_col23\" class=\"data row4 col23\" >94</td>\n",
       "                        <td id=\"T_351f08e0_a41d_11eb_b537_acde48001122row4_col24\" class=\"data row4 col24\" >12727</td>\n",
       "                        <td id=\"T_351f08e0_a41d_11eb_b537_acde48001122row4_col25\" class=\"data row4 col25\" >91</td>\n",
       "                        <td id=\"T_351f08e0_a41d_11eb_b537_acde48001122row4_col26\" class=\"data row4 col26\" >82</td>\n",
       "                        <td id=\"T_351f08e0_a41d_11eb_b537_acde48001122row4_col27\" class=\"data row4 col27\" >4761</td>\n",
       "                        <td id=\"T_351f08e0_a41d_11eb_b537_acde48001122row4_col28\" class=\"data row4 col28\" >4656</td>\n",
       "                        <td id=\"T_351f08e0_a41d_11eb_b537_acde48001122row4_col29\" class=\"data row4 col29\" >638</td>\n",
       "                        <td id=\"T_351f08e0_a41d_11eb_b537_acde48001122row4_col30\" class=\"data row4 col30\" >12201</td>\n",
       "                        <td id=\"T_351f08e0_a41d_11eb_b537_acde48001122row4_col31\" class=\"data row4 col31\" >91</td>\n",
       "                        <td id=\"T_351f08e0_a41d_11eb_b537_acde48001122row4_col32\" class=\"data row4 col32\" >5926</td>\n",
       "                        <td id=\"T_351f08e0_a41d_11eb_b537_acde48001122row4_col33\" class=\"data row4 col33\" >10986</td>\n",
       "                        <td id=\"T_351f08e0_a41d_11eb_b537_acde48001122row4_col34\" class=\"data row4 col34\" >60</td>\n",
       "                        <td id=\"T_351f08e0_a41d_11eb_b537_acde48001122row4_col35\" class=\"data row4 col35\" >294365</td>\n",
       "                        <td id=\"T_351f08e0_a41d_11eb_b537_acde48001122row4_col36\" class=\"data row4 col36\" >0</td>\n",
       "                        <td id=\"T_351f08e0_a41d_11eb_b537_acde48001122row4_col37\" class=\"data row4 col37\" >29574</td>\n",
       "                        <td id=\"T_351f08e0_a41d_11eb_b537_acde48001122row4_col38\" class=\"data row4 col38\" >3012</td>\n",
       "                        <td id=\"T_351f08e0_a41d_11eb_b537_acde48001122row4_col39\" class=\"data row4 col39\" >9819</td>\n",
       "            </tr>\n",
       "            <tr>\n",
       "                        <th id=\"T_351f08e0_a41d_11eb_b537_acde48001122level0_row5\" class=\"row_heading level0 row5\" >2021-04-21 00:00:00</th>\n",
       "                        <td id=\"T_351f08e0_a41d_11eb_b537_acde48001122row5_col0\" class=\"data row5 col0\" >24</td>\n",
       "                        <td id=\"T_351f08e0_a41d_11eb_b537_acde48001122row5_col1\" class=\"data row5 col1\" >9716</td>\n",
       "                        <td id=\"T_351f08e0_a41d_11eb_b537_acde48001122row5_col2\" class=\"data row5 col2\" >73</td>\n",
       "                        <td id=\"T_351f08e0_a41d_11eb_b537_acde48001122row5_col3\" class=\"data row5 col3\" >1665</td>\n",
       "                        <td id=\"T_351f08e0_a41d_11eb_b537_acde48001122row5_col4\" class=\"data row5 col4\" >12222</td>\n",
       "                        <td id=\"T_351f08e0_a41d_11eb_b537_acde48001122row5_col5\" class=\"data row5 col5\" >622</td>\n",
       "                        <td id=\"T_351f08e0_a41d_11eb_b537_acde48001122row5_col6\" class=\"data row5 col6\" >14519</td>\n",
       "                        <td id=\"T_351f08e0_a41d_11eb_b537_acde48001122row5_col7\" class=\"data row5 col7\" >2021-04-21</td>\n",
       "                        <td id=\"T_351f08e0_a41d_11eb_b537_acde48001122row5_col8\" class=\"data row5 col8\" >0</td>\n",
       "                        <td id=\"T_351f08e0_a41d_11eb_b537_acde48001122row5_col9\" class=\"data row5 col9\" >24638</td>\n",
       "                        <td id=\"T_351f08e0_a41d_11eb_b537_acde48001122row5_col10\" class=\"data row5 col10\" >234</td>\n",
       "                        <td id=\"T_351f08e0_a41d_11eb_b537_acde48001122row5_col11\" class=\"data row5 col11\" >1502</td>\n",
       "                        <td id=\"T_351f08e0_a41d_11eb_b537_acde48001122row5_col12\" class=\"data row5 col12\" >12553</td>\n",
       "                        <td id=\"T_351f08e0_a41d_11eb_b537_acde48001122row5_col13\" class=\"data row5 col13\" >1692</td>\n",
       "                        <td id=\"T_351f08e0_a41d_11eb_b537_acde48001122row5_col14\" class=\"data row5 col14\" >9623</td>\n",
       "                        <td id=\"T_351f08e0_a41d_11eb_b537_acde48001122row5_col15\" class=\"data row5 col15\" >5041</td>\n",
       "                        <td id=\"T_351f08e0_a41d_11eb_b537_acde48001122row5_col16\" class=\"data row5 col16\" >2204</td>\n",
       "                        <td id=\"T_351f08e0_a41d_11eb_b537_acde48001122row5_col17\" class=\"data row5 col17\" >23558</td>\n",
       "                        <td id=\"T_351f08e0_a41d_11eb_b537_acde48001122row5_col18\" class=\"data row5 col18\" >22414</td>\n",
       "                        <td id=\"T_351f08e0_a41d_11eb_b537_acde48001122row5_col19\" class=\"data row5 col19\" >183</td>\n",
       "                        <td id=\"T_351f08e0_a41d_11eb_b537_acde48001122row5_col20\" class=\"data row5 col20\" >191</td>\n",
       "                        <td id=\"T_351f08e0_a41d_11eb_b537_acde48001122row5_col21\" class=\"data row5 col21\" >67468</td>\n",
       "                        <td id=\"T_351f08e0_a41d_11eb_b537_acde48001122row5_col22\" class=\"data row5 col22\" >192</td>\n",
       "                        <td id=\"T_351f08e0_a41d_11eb_b537_acde48001122row5_col23\" class=\"data row5 col23\" >92</td>\n",
       "                        <td id=\"T_351f08e0_a41d_11eb_b537_acde48001122row5_col24\" class=\"data row5 col24\" >13107</td>\n",
       "                        <td id=\"T_351f08e0_a41d_11eb_b537_acde48001122row5_col25\" class=\"data row5 col25\" >90</td>\n",
       "                        <td id=\"T_351f08e0_a41d_11eb_b537_acde48001122row5_col26\" class=\"data row5 col26\" >97</td>\n",
       "                        <td id=\"T_351f08e0_a41d_11eb_b537_acde48001122row5_col27\" class=\"data row5 col27\" >4851</td>\n",
       "                        <td id=\"T_351f08e0_a41d_11eb_b537_acde48001122row5_col28\" class=\"data row5 col28\" >4953</td>\n",
       "                        <td id=\"T_351f08e0_a41d_11eb_b537_acde48001122row5_col29\" class=\"data row5 col29\" >619</td>\n",
       "                        <td id=\"T_351f08e0_a41d_11eb_b537_acde48001122row5_col30\" class=\"data row5 col30\" >14622</td>\n",
       "                        <td id=\"T_351f08e0_a41d_11eb_b537_acde48001122row5_col31\" class=\"data row5 col31\" >50</td>\n",
       "                        <td id=\"T_351f08e0_a41d_11eb_b537_acde48001122row5_col32\" class=\"data row5 col32\" >6542</td>\n",
       "                        <td id=\"T_351f08e0_a41d_11eb_b537_acde48001122row5_col33\" class=\"data row5 col33\" >11681</td>\n",
       "                        <td id=\"T_351f08e0_a41d_11eb_b537_acde48001122row5_col34\" class=\"data row5 col34\" >0</td>\n",
       "                        <td id=\"T_351f08e0_a41d_11eb_b537_acde48001122row5_col35\" class=\"data row5 col35\" >315735</td>\n",
       "                        <td id=\"T_351f08e0_a41d_11eb_b537_acde48001122row5_col36\" class=\"data row5 col36\" >0</td>\n",
       "                        <td id=\"T_351f08e0_a41d_11eb_b537_acde48001122row5_col37\" class=\"data row5 col37\" >33106</td>\n",
       "                        <td id=\"T_351f08e0_a41d_11eb_b537_acde48001122row5_col38\" class=\"data row5 col38\" >4807</td>\n",
       "                        <td id=\"T_351f08e0_a41d_11eb_b537_acde48001122row5_col39\" class=\"data row5 col39\" >10784</td>\n",
       "            </tr>\n",
       "            <tr>\n",
       "                        <th id=\"T_351f08e0_a41d_11eb_b537_acde48001122level0_row6\" class=\"row_heading level0 row6\" >2021-04-22 00:00:00</th>\n",
       "                        <td id=\"T_351f08e0_a41d_11eb_b537_acde48001122row6_col0\" class=\"data row6 col0\" >37</td>\n",
       "                        <td id=\"T_351f08e0_a41d_11eb_b537_acde48001122row6_col1\" class=\"data row6 col1\" >10759</td>\n",
       "                        <td id=\"T_351f08e0_a41d_11eb_b537_acde48001122row6_col2\" class=\"data row6 col2\" >110</td>\n",
       "                        <td id=\"T_351f08e0_a41d_11eb_b537_acde48001122row6_col3\" class=\"data row6 col3\" >1931</td>\n",
       "                        <td id=\"T_351f08e0_a41d_11eb_b537_acde48001122row6_col4\" class=\"data row6 col4\" >11489</td>\n",
       "                        <td id=\"T_351f08e0_a41d_11eb_b537_acde48001122row6_col5\" class=\"data row6 col5\" >634</td>\n",
       "                        <td id=\"T_351f08e0_a41d_11eb_b537_acde48001122row6_col6\" class=\"data row6 col6\" >16750</td>\n",
       "                        <td id=\"T_351f08e0_a41d_11eb_b537_acde48001122row6_col7\" class=\"data row6 col7\" >2021-04-22</td>\n",
       "                        <td id=\"T_351f08e0_a41d_11eb_b537_acde48001122row6_col8\" class=\"data row6 col8\" >0</td>\n",
       "                        <td id=\"T_351f08e0_a41d_11eb_b537_acde48001122row6_col9\" class=\"data row6 col9\" >26169</td>\n",
       "                        <td id=\"T_351f08e0_a41d_11eb_b537_acde48001122row6_col10\" class=\"data row6 col10\" >346</td>\n",
       "                        <td id=\"T_351f08e0_a41d_11eb_b537_acde48001122row6_col11\" class=\"data row6 col11\" >1410</td>\n",
       "                        <td id=\"T_351f08e0_a41d_11eb_b537_acde48001122row6_col12\" class=\"data row6 col12\" >13105</td>\n",
       "                        <td id=\"T_351f08e0_a41d_11eb_b537_acde48001122row6_col13\" class=\"data row6 col13\" >1774</td>\n",
       "                        <td id=\"T_351f08e0_a41d_11eb_b537_acde48001122row6_col14\" class=\"data row6 col14\" >9742</td>\n",
       "                        <td id=\"T_351f08e0_a41d_11eb_b537_acde48001122row6_col15\" class=\"data row6 col15\" >7595</td>\n",
       "                        <td id=\"T_351f08e0_a41d_11eb_b537_acde48001122row6_col16\" class=\"data row6 col16\" >1965</td>\n",
       "                        <td id=\"T_351f08e0_a41d_11eb_b537_acde48001122row6_col17\" class=\"data row6 col17\" >25795</td>\n",
       "                        <td id=\"T_351f08e0_a41d_11eb_b537_acde48001122row6_col18\" class=\"data row6 col18\" >26995</td>\n",
       "                        <td id=\"T_351f08e0_a41d_11eb_b537_acde48001122row6_col19\" class=\"data row6 col19\" >198</td>\n",
       "                        <td id=\"T_351f08e0_a41d_11eb_b537_acde48001122row6_col20\" class=\"data row6 col20\" >145</td>\n",
       "                        <td id=\"T_351f08e0_a41d_11eb_b537_acde48001122row6_col21\" class=\"data row6 col21\" >67013</td>\n",
       "                        <td id=\"T_351f08e0_a41d_11eb_b537_acde48001122row6_col22\" class=\"data row6 col22\" >180</td>\n",
       "                        <td id=\"T_351f08e0_a41d_11eb_b537_acde48001122row6_col23\" class=\"data row6 col23\" >86</td>\n",
       "                        <td id=\"T_351f08e0_a41d_11eb_b537_acde48001122row6_col24\" class=\"data row6 col24\" >12384</td>\n",
       "                        <td id=\"T_351f08e0_a41d_11eb_b537_acde48001122row6_col25\" class=\"data row6 col25\" >73</td>\n",
       "                        <td id=\"T_351f08e0_a41d_11eb_b537_acde48001122row6_col26\" class=\"data row6 col26\" >53</td>\n",
       "                        <td id=\"T_351f08e0_a41d_11eb_b537_acde48001122row6_col27\" class=\"data row6 col27\" >6164</td>\n",
       "                        <td id=\"T_351f08e0_a41d_11eb_b537_acde48001122row6_col28\" class=\"data row6 col28\" >5450</td>\n",
       "                        <td id=\"T_351f08e0_a41d_11eb_b537_acde48001122row6_col29\" class=\"data row6 col29\" >987</td>\n",
       "                        <td id=\"T_351f08e0_a41d_11eb_b537_acde48001122row6_col30\" class=\"data row6 col30\" >14468</td>\n",
       "                        <td id=\"T_351f08e0_a41d_11eb_b537_acde48001122row6_col31\" class=\"data row6 col31\" >124</td>\n",
       "                        <td id=\"T_351f08e0_a41d_11eb_b537_acde48001122row6_col32\" class=\"data row6 col32\" >5567</td>\n",
       "                        <td id=\"T_351f08e0_a41d_11eb_b537_acde48001122row6_col33\" class=\"data row6 col33\" >12652</td>\n",
       "                        <td id=\"T_351f08e0_a41d_11eb_b537_acde48001122row6_col34\" class=\"data row6 col34\" >168</td>\n",
       "                        <td id=\"T_351f08e0_a41d_11eb_b537_acde48001122row6_col35\" class=\"data row6 col35\" >332518</td>\n",
       "                        <td id=\"T_351f08e0_a41d_11eb_b537_acde48001122row6_col36\" class=\"data row6 col36\" >0</td>\n",
       "                        <td id=\"T_351f08e0_a41d_11eb_b537_acde48001122row6_col37\" class=\"data row6 col37\" >34254</td>\n",
       "                        <td id=\"T_351f08e0_a41d_11eb_b537_acde48001122row6_col38\" class=\"data row6 col38\" >3998</td>\n",
       "                        <td id=\"T_351f08e0_a41d_11eb_b537_acde48001122row6_col39\" class=\"data row6 col39\" >11948</td>\n",
       "            </tr>\n",
       "    </tbody></table>"
      ],
      "text/plain": [
       "<pandas.io.formats.style.Styler at 0x7fe16d1cbf40>"
      ]
     },
     "execution_count": 30,
     "metadata": {},
     "output_type": "execute_result"
    }
   ],
   "source": [
    "df.style"
   ]
  },
  {
   "cell_type": "code",
   "execution_count": 31,
   "metadata": {
    "colab": {},
    "colab_type": "code",
    "id": "4r1SFjAulHEr"
   },
   "outputs": [],
   "source": [
    "def colour_red_negative(x):\n",
    "    color = 'red' if x < 0 else 'white'\n",
    "    return 'color: ' + color"
   ]
  },
  {
   "cell_type": "code",
   "execution_count": 32,
   "metadata": {
    "colab": {
     "base_uri": "https://localhost:8080/",
     "height": 353
    },
    "colab_type": "code",
    "id": "MSPddcnSlbV-",
    "outputId": "fd47bf41-a68e-4e14-9839-6a6cbb366a12"
   },
   "outputs": [
    {
     "ename": "TypeError",
     "evalue": "'<' not supported between instances of 'str' and 'int'",
     "output_type": "error",
     "traceback": [
      "\u001b[0;31m---------------------------------------------------------------------------\u001b[0m",
      "\u001b[0;31mTypeError\u001b[0m                                 Traceback (most recent call last)",
      "\u001b[0;32m/opt/anaconda3/lib/python3.8/site-packages/IPython/core/formatters.py\u001b[0m in \u001b[0;36m__call__\u001b[0;34m(self, obj)\u001b[0m\n\u001b[1;32m    343\u001b[0m             \u001b[0mmethod\u001b[0m \u001b[0;34m=\u001b[0m \u001b[0mget_real_method\u001b[0m\u001b[0;34m(\u001b[0m\u001b[0mobj\u001b[0m\u001b[0;34m,\u001b[0m \u001b[0mself\u001b[0m\u001b[0;34m.\u001b[0m\u001b[0mprint_method\u001b[0m\u001b[0;34m)\u001b[0m\u001b[0;34m\u001b[0m\u001b[0;34m\u001b[0m\u001b[0m\n\u001b[1;32m    344\u001b[0m             \u001b[0;32mif\u001b[0m \u001b[0mmethod\u001b[0m \u001b[0;32mis\u001b[0m \u001b[0;32mnot\u001b[0m \u001b[0;32mNone\u001b[0m\u001b[0;34m:\u001b[0m\u001b[0;34m\u001b[0m\u001b[0;34m\u001b[0m\u001b[0m\n\u001b[0;32m--> 345\u001b[0;31m                 \u001b[0;32mreturn\u001b[0m \u001b[0mmethod\u001b[0m\u001b[0;34m(\u001b[0m\u001b[0;34m)\u001b[0m\u001b[0;34m\u001b[0m\u001b[0;34m\u001b[0m\u001b[0m\n\u001b[0m\u001b[1;32m    346\u001b[0m             \u001b[0;32mreturn\u001b[0m \u001b[0;32mNone\u001b[0m\u001b[0;34m\u001b[0m\u001b[0;34m\u001b[0m\u001b[0m\n\u001b[1;32m    347\u001b[0m         \u001b[0;32melse\u001b[0m\u001b[0;34m:\u001b[0m\u001b[0;34m\u001b[0m\u001b[0;34m\u001b[0m\u001b[0m\n",
      "\u001b[0;32m/opt/anaconda3/lib/python3.8/site-packages/pandas/io/formats/style.py\u001b[0m in \u001b[0;36m_repr_html_\u001b[0;34m(self)\u001b[0m\n\u001b[1;32m    180\u001b[0m         \u001b[0mHooks\u001b[0m \u001b[0minto\u001b[0m \u001b[0mJupyter\u001b[0m \u001b[0mnotebook\u001b[0m \u001b[0mrich\u001b[0m \u001b[0mdisplay\u001b[0m \u001b[0msystem\u001b[0m\u001b[0;34m.\u001b[0m\u001b[0;34m\u001b[0m\u001b[0;34m\u001b[0m\u001b[0m\n\u001b[1;32m    181\u001b[0m         \"\"\"\n\u001b[0;32m--> 182\u001b[0;31m         \u001b[0;32mreturn\u001b[0m \u001b[0mself\u001b[0m\u001b[0;34m.\u001b[0m\u001b[0mrender\u001b[0m\u001b[0;34m(\u001b[0m\u001b[0;34m)\u001b[0m\u001b[0;34m\u001b[0m\u001b[0;34m\u001b[0m\u001b[0m\n\u001b[0m\u001b[1;32m    183\u001b[0m \u001b[0;34m\u001b[0m\u001b[0m\n\u001b[1;32m    184\u001b[0m     @Appender(\n",
      "\u001b[0;32m/opt/anaconda3/lib/python3.8/site-packages/pandas/io/formats/style.py\u001b[0m in \u001b[0;36mrender\u001b[0;34m(self, **kwargs)\u001b[0m\n\u001b[1;32m    535\u001b[0m         \u001b[0;34m*\u001b[0m \u001b[0mtable_attributes\u001b[0m\u001b[0;34m\u001b[0m\u001b[0;34m\u001b[0m\u001b[0m\n\u001b[1;32m    536\u001b[0m         \"\"\"\n\u001b[0;32m--> 537\u001b[0;31m         \u001b[0mself\u001b[0m\u001b[0;34m.\u001b[0m\u001b[0m_compute\u001b[0m\u001b[0;34m(\u001b[0m\u001b[0;34m)\u001b[0m\u001b[0;34m\u001b[0m\u001b[0;34m\u001b[0m\u001b[0m\n\u001b[0m\u001b[1;32m    538\u001b[0m         \u001b[0;31m# TODO: namespace all the pandas keys\u001b[0m\u001b[0;34m\u001b[0m\u001b[0;34m\u001b[0m\u001b[0;34m\u001b[0m\u001b[0m\n\u001b[1;32m    539\u001b[0m         \u001b[0md\u001b[0m \u001b[0;34m=\u001b[0m \u001b[0mself\u001b[0m\u001b[0;34m.\u001b[0m\u001b[0m_translate\u001b[0m\u001b[0;34m(\u001b[0m\u001b[0;34m)\u001b[0m\u001b[0;34m\u001b[0m\u001b[0;34m\u001b[0m\u001b[0m\n",
      "\u001b[0;32m/opt/anaconda3/lib/python3.8/site-packages/pandas/io/formats/style.py\u001b[0m in \u001b[0;36m_compute\u001b[0;34m(self)\u001b[0m\n\u001b[1;32m    610\u001b[0m         \u001b[0mr\u001b[0m \u001b[0;34m=\u001b[0m \u001b[0mself\u001b[0m\u001b[0;34m\u001b[0m\u001b[0;34m\u001b[0m\u001b[0m\n\u001b[1;32m    611\u001b[0m         \u001b[0;32mfor\u001b[0m \u001b[0mfunc\u001b[0m\u001b[0;34m,\u001b[0m \u001b[0margs\u001b[0m\u001b[0;34m,\u001b[0m \u001b[0mkwargs\u001b[0m \u001b[0;32min\u001b[0m \u001b[0mself\u001b[0m\u001b[0;34m.\u001b[0m\u001b[0m_todo\u001b[0m\u001b[0;34m:\u001b[0m\u001b[0;34m\u001b[0m\u001b[0;34m\u001b[0m\u001b[0m\n\u001b[0;32m--> 612\u001b[0;31m             \u001b[0mr\u001b[0m \u001b[0;34m=\u001b[0m \u001b[0mfunc\u001b[0m\u001b[0;34m(\u001b[0m\u001b[0mself\u001b[0m\u001b[0;34m)\u001b[0m\u001b[0;34m(\u001b[0m\u001b[0;34m*\u001b[0m\u001b[0margs\u001b[0m\u001b[0;34m,\u001b[0m \u001b[0;34m**\u001b[0m\u001b[0mkwargs\u001b[0m\u001b[0;34m)\u001b[0m\u001b[0;34m\u001b[0m\u001b[0;34m\u001b[0m\u001b[0m\n\u001b[0m\u001b[1;32m    613\u001b[0m         \u001b[0;32mreturn\u001b[0m \u001b[0mr\u001b[0m\u001b[0;34m\u001b[0m\u001b[0;34m\u001b[0m\u001b[0m\n\u001b[1;32m    614\u001b[0m \u001b[0;34m\u001b[0m\u001b[0m\n",
      "\u001b[0;32m/opt/anaconda3/lib/python3.8/site-packages/pandas/io/formats/style.py\u001b[0m in \u001b[0;36m_applymap\u001b[0;34m(self, func, subset, **kwargs)\u001b[0m\n\u001b[1;32m    702\u001b[0m             \u001b[0msubset\u001b[0m \u001b[0;34m=\u001b[0m \u001b[0mpd\u001b[0m\u001b[0;34m.\u001b[0m\u001b[0mIndexSlice\u001b[0m\u001b[0;34m[\u001b[0m\u001b[0;34m:\u001b[0m\u001b[0;34m]\u001b[0m\u001b[0;34m\u001b[0m\u001b[0;34m\u001b[0m\u001b[0m\n\u001b[1;32m    703\u001b[0m         \u001b[0msubset\u001b[0m \u001b[0;34m=\u001b[0m \u001b[0m_non_reducing_slice\u001b[0m\u001b[0;34m(\u001b[0m\u001b[0msubset\u001b[0m\u001b[0;34m)\u001b[0m\u001b[0;34m\u001b[0m\u001b[0;34m\u001b[0m\u001b[0m\n\u001b[0;32m--> 704\u001b[0;31m         \u001b[0mresult\u001b[0m \u001b[0;34m=\u001b[0m \u001b[0mself\u001b[0m\u001b[0;34m.\u001b[0m\u001b[0mdata\u001b[0m\u001b[0;34m.\u001b[0m\u001b[0mloc\u001b[0m\u001b[0;34m[\u001b[0m\u001b[0msubset\u001b[0m\u001b[0;34m]\u001b[0m\u001b[0;34m.\u001b[0m\u001b[0mapplymap\u001b[0m\u001b[0;34m(\u001b[0m\u001b[0mfunc\u001b[0m\u001b[0;34m)\u001b[0m\u001b[0;34m\u001b[0m\u001b[0;34m\u001b[0m\u001b[0m\n\u001b[0m\u001b[1;32m    705\u001b[0m         \u001b[0mself\u001b[0m\u001b[0;34m.\u001b[0m\u001b[0m_update_ctx\u001b[0m\u001b[0;34m(\u001b[0m\u001b[0mresult\u001b[0m\u001b[0;34m)\u001b[0m\u001b[0;34m\u001b[0m\u001b[0;34m\u001b[0m\u001b[0m\n\u001b[1;32m    706\u001b[0m         \u001b[0;32mreturn\u001b[0m \u001b[0mself\u001b[0m\u001b[0;34m\u001b[0m\u001b[0;34m\u001b[0m\u001b[0m\n",
      "\u001b[0;32m/opt/anaconda3/lib/python3.8/site-packages/pandas/core/frame.py\u001b[0m in \u001b[0;36mapplymap\u001b[0;34m(self, func)\u001b[0m\n\u001b[1;32m   6942\u001b[0m             \u001b[0;32mreturn\u001b[0m \u001b[0mlib\u001b[0m\u001b[0;34m.\u001b[0m\u001b[0mmap_infer\u001b[0m\u001b[0;34m(\u001b[0m\u001b[0mx\u001b[0m\u001b[0;34m.\u001b[0m\u001b[0mastype\u001b[0m\u001b[0;34m(\u001b[0m\u001b[0mobject\u001b[0m\u001b[0;34m)\u001b[0m\u001b[0;34m.\u001b[0m\u001b[0mvalues\u001b[0m\u001b[0;34m,\u001b[0m \u001b[0mfunc\u001b[0m\u001b[0;34m)\u001b[0m\u001b[0;34m\u001b[0m\u001b[0;34m\u001b[0m\u001b[0m\n\u001b[1;32m   6943\u001b[0m \u001b[0;34m\u001b[0m\u001b[0m\n\u001b[0;32m-> 6944\u001b[0;31m         \u001b[0;32mreturn\u001b[0m \u001b[0mself\u001b[0m\u001b[0;34m.\u001b[0m\u001b[0mapply\u001b[0m\u001b[0;34m(\u001b[0m\u001b[0minfer\u001b[0m\u001b[0;34m)\u001b[0m\u001b[0;34m\u001b[0m\u001b[0;34m\u001b[0m\u001b[0m\n\u001b[0m\u001b[1;32m   6945\u001b[0m \u001b[0;34m\u001b[0m\u001b[0m\n\u001b[1;32m   6946\u001b[0m     \u001b[0;31m# ----------------------------------------------------------------------\u001b[0m\u001b[0;34m\u001b[0m\u001b[0;34m\u001b[0m\u001b[0;34m\u001b[0m\u001b[0m\n",
      "\u001b[0;32m/opt/anaconda3/lib/python3.8/site-packages/pandas/core/frame.py\u001b[0m in \u001b[0;36mapply\u001b[0;34m(self, func, axis, raw, result_type, args, **kwds)\u001b[0m\n\u001b[1;32m   6876\u001b[0m             \u001b[0mkwds\u001b[0m\u001b[0;34m=\u001b[0m\u001b[0mkwds\u001b[0m\u001b[0;34m,\u001b[0m\u001b[0;34m\u001b[0m\u001b[0;34m\u001b[0m\u001b[0m\n\u001b[1;32m   6877\u001b[0m         )\n\u001b[0;32m-> 6878\u001b[0;31m         \u001b[0;32mreturn\u001b[0m \u001b[0mop\u001b[0m\u001b[0;34m.\u001b[0m\u001b[0mget_result\u001b[0m\u001b[0;34m(\u001b[0m\u001b[0;34m)\u001b[0m\u001b[0;34m\u001b[0m\u001b[0;34m\u001b[0m\u001b[0m\n\u001b[0m\u001b[1;32m   6879\u001b[0m \u001b[0;34m\u001b[0m\u001b[0m\n\u001b[1;32m   6880\u001b[0m     \u001b[0;32mdef\u001b[0m \u001b[0mapplymap\u001b[0m\u001b[0;34m(\u001b[0m\u001b[0mself\u001b[0m\u001b[0;34m,\u001b[0m \u001b[0mfunc\u001b[0m\u001b[0;34m)\u001b[0m \u001b[0;34m->\u001b[0m \u001b[0;34m\"DataFrame\"\u001b[0m\u001b[0;34m:\u001b[0m\u001b[0;34m\u001b[0m\u001b[0;34m\u001b[0m\u001b[0m\n",
      "\u001b[0;32m/opt/anaconda3/lib/python3.8/site-packages/pandas/core/apply.py\u001b[0m in \u001b[0;36mget_result\u001b[0;34m(self)\u001b[0m\n\u001b[1;32m    184\u001b[0m             \u001b[0;32mreturn\u001b[0m \u001b[0mself\u001b[0m\u001b[0;34m.\u001b[0m\u001b[0mapply_raw\u001b[0m\u001b[0;34m(\u001b[0m\u001b[0;34m)\u001b[0m\u001b[0;34m\u001b[0m\u001b[0;34m\u001b[0m\u001b[0m\n\u001b[1;32m    185\u001b[0m \u001b[0;34m\u001b[0m\u001b[0m\n\u001b[0;32m--> 186\u001b[0;31m         \u001b[0;32mreturn\u001b[0m \u001b[0mself\u001b[0m\u001b[0;34m.\u001b[0m\u001b[0mapply_standard\u001b[0m\u001b[0;34m(\u001b[0m\u001b[0;34m)\u001b[0m\u001b[0;34m\u001b[0m\u001b[0;34m\u001b[0m\u001b[0m\n\u001b[0m\u001b[1;32m    187\u001b[0m \u001b[0;34m\u001b[0m\u001b[0m\n\u001b[1;32m    188\u001b[0m     \u001b[0;32mdef\u001b[0m \u001b[0mapply_empty_result\u001b[0m\u001b[0;34m(\u001b[0m\u001b[0mself\u001b[0m\u001b[0;34m)\u001b[0m\u001b[0;34m:\u001b[0m\u001b[0;34m\u001b[0m\u001b[0;34m\u001b[0m\u001b[0m\n",
      "\u001b[0;32m/opt/anaconda3/lib/python3.8/site-packages/pandas/core/apply.py\u001b[0m in \u001b[0;36mapply_standard\u001b[0;34m(self)\u001b[0m\n\u001b[1;32m    293\u001b[0m \u001b[0;34m\u001b[0m\u001b[0m\n\u001b[1;32m    294\u001b[0m             \u001b[0;32mtry\u001b[0m\u001b[0;34m:\u001b[0m\u001b[0;34m\u001b[0m\u001b[0;34m\u001b[0m\u001b[0m\n\u001b[0;32m--> 295\u001b[0;31m                 result = libreduction.compute_reduction(\n\u001b[0m\u001b[1;32m    296\u001b[0m                     \u001b[0mvalues\u001b[0m\u001b[0;34m,\u001b[0m \u001b[0mself\u001b[0m\u001b[0;34m.\u001b[0m\u001b[0mf\u001b[0m\u001b[0;34m,\u001b[0m \u001b[0maxis\u001b[0m\u001b[0;34m=\u001b[0m\u001b[0mself\u001b[0m\u001b[0;34m.\u001b[0m\u001b[0maxis\u001b[0m\u001b[0;34m,\u001b[0m \u001b[0mdummy\u001b[0m\u001b[0;34m=\u001b[0m\u001b[0mdummy\u001b[0m\u001b[0;34m,\u001b[0m \u001b[0mlabels\u001b[0m\u001b[0;34m=\u001b[0m\u001b[0mlabels\u001b[0m\u001b[0;34m\u001b[0m\u001b[0;34m\u001b[0m\u001b[0m\n\u001b[1;32m    297\u001b[0m                 )\n",
      "\u001b[0;32mpandas/_libs/reduction.pyx\u001b[0m in \u001b[0;36mpandas._libs.reduction.compute_reduction\u001b[0;34m()\u001b[0m\n",
      "\u001b[0;32mpandas/_libs/reduction.pyx\u001b[0m in \u001b[0;36mpandas._libs.reduction.Reducer.get_result\u001b[0;34m()\u001b[0m\n",
      "\u001b[0;32m/opt/anaconda3/lib/python3.8/site-packages/pandas/core/frame.py\u001b[0m in \u001b[0;36minfer\u001b[0;34m(x)\u001b[0m\n\u001b[1;32m   6940\u001b[0m             \u001b[0;32mif\u001b[0m \u001b[0mx\u001b[0m\u001b[0;34m.\u001b[0m\u001b[0mempty\u001b[0m\u001b[0;34m:\u001b[0m\u001b[0;34m\u001b[0m\u001b[0;34m\u001b[0m\u001b[0m\n\u001b[1;32m   6941\u001b[0m                 \u001b[0;32mreturn\u001b[0m \u001b[0mlib\u001b[0m\u001b[0;34m.\u001b[0m\u001b[0mmap_infer\u001b[0m\u001b[0;34m(\u001b[0m\u001b[0mx\u001b[0m\u001b[0;34m,\u001b[0m \u001b[0mfunc\u001b[0m\u001b[0;34m)\u001b[0m\u001b[0;34m\u001b[0m\u001b[0;34m\u001b[0m\u001b[0m\n\u001b[0;32m-> 6942\u001b[0;31m             \u001b[0;32mreturn\u001b[0m \u001b[0mlib\u001b[0m\u001b[0;34m.\u001b[0m\u001b[0mmap_infer\u001b[0m\u001b[0;34m(\u001b[0m\u001b[0mx\u001b[0m\u001b[0;34m.\u001b[0m\u001b[0mastype\u001b[0m\u001b[0;34m(\u001b[0m\u001b[0mobject\u001b[0m\u001b[0;34m)\u001b[0m\u001b[0;34m.\u001b[0m\u001b[0mvalues\u001b[0m\u001b[0;34m,\u001b[0m \u001b[0mfunc\u001b[0m\u001b[0;34m)\u001b[0m\u001b[0;34m\u001b[0m\u001b[0;34m\u001b[0m\u001b[0m\n\u001b[0m\u001b[1;32m   6943\u001b[0m \u001b[0;34m\u001b[0m\u001b[0m\n\u001b[1;32m   6944\u001b[0m         \u001b[0;32mreturn\u001b[0m \u001b[0mself\u001b[0m\u001b[0;34m.\u001b[0m\u001b[0mapply\u001b[0m\u001b[0;34m(\u001b[0m\u001b[0minfer\u001b[0m\u001b[0;34m)\u001b[0m\u001b[0;34m\u001b[0m\u001b[0;34m\u001b[0m\u001b[0m\n",
      "\u001b[0;32mpandas/_libs/lib.pyx\u001b[0m in \u001b[0;36mpandas._libs.lib.map_infer\u001b[0;34m()\u001b[0m\n",
      "\u001b[0;32m<ipython-input-31-e8ade9906966>\u001b[0m in \u001b[0;36mcolour_red_negative\u001b[0;34m(x)\u001b[0m\n\u001b[1;32m      1\u001b[0m \u001b[0;32mdef\u001b[0m \u001b[0mcolour_red_negative\u001b[0m\u001b[0;34m(\u001b[0m\u001b[0mx\u001b[0m\u001b[0;34m)\u001b[0m\u001b[0;34m:\u001b[0m\u001b[0;34m\u001b[0m\u001b[0;34m\u001b[0m\u001b[0m\n\u001b[0;32m----> 2\u001b[0;31m     \u001b[0mcolor\u001b[0m \u001b[0;34m=\u001b[0m \u001b[0;34m'red'\u001b[0m \u001b[0;32mif\u001b[0m \u001b[0mx\u001b[0m \u001b[0;34m<\u001b[0m \u001b[0;36m0\u001b[0m \u001b[0;32melse\u001b[0m \u001b[0;34m'white'\u001b[0m\u001b[0;34m\u001b[0m\u001b[0;34m\u001b[0m\u001b[0m\n\u001b[0m\u001b[1;32m      3\u001b[0m     \u001b[0;32mreturn\u001b[0m \u001b[0;34m'color: '\u001b[0m \u001b[0;34m+\u001b[0m \u001b[0mcolor\u001b[0m\u001b[0;34m\u001b[0m\u001b[0;34m\u001b[0m\u001b[0m\n",
      "\u001b[0;31mTypeError\u001b[0m: '<' not supported between instances of 'str' and 'int'"
     ]
    },
    {
     "data": {
      "text/plain": [
       "<pandas.io.formats.style.Styler at 0x7fe16d4b3bb0>"
      ]
     },
     "execution_count": 32,
     "metadata": {},
     "output_type": "execute_result"
    }
   ],
   "source": [
    "df.style.applymap(colour_red_negative)"
   ]
  },
  {
   "cell_type": "code",
   "execution_count": 33,
   "metadata": {
    "colab": {},
    "colab_type": "code",
    "id": "K2LYe5q9ljRe"
   },
   "outputs": [
    {
     "name": "stderr",
     "output_type": "stream",
     "text": [
      "/opt/anaconda3/lib/python3.8/site-packages/pandas/core/frame.py:3990: SettingWithCopyWarning: \n",
      "A value is trying to be set on a copy of a slice from a DataFrame\n",
      "\n",
      "See the caveats in the documentation: https://pandas.pydata.org/pandas-docs/stable/user_guide/indexing.html#returning-a-view-versus-a-copy\n",
      "  return super().drop(\n"
     ]
    }
   ],
   "source": [
    "df.drop('un', axis=1, inplace=True)"
   ]
  },
  {
   "cell_type": "code",
   "execution_count": 34,
   "metadata": {
    "colab": {
     "base_uri": "https://localhost:8080/",
     "height": 353
    },
    "colab_type": "code",
    "id": "AZ77c1f7lr4l",
    "outputId": "d1bf47ad-bb5d-4d4a-db0e-47819f1c8623"
   },
   "outputs": [
    {
     "ename": "TypeError",
     "evalue": "'<' not supported between instances of 'str' and 'int'",
     "output_type": "error",
     "traceback": [
      "\u001b[0;31m---------------------------------------------------------------------------\u001b[0m",
      "\u001b[0;31mTypeError\u001b[0m                                 Traceback (most recent call last)",
      "\u001b[0;32m/opt/anaconda3/lib/python3.8/site-packages/IPython/core/formatters.py\u001b[0m in \u001b[0;36m__call__\u001b[0;34m(self, obj)\u001b[0m\n\u001b[1;32m    343\u001b[0m             \u001b[0mmethod\u001b[0m \u001b[0;34m=\u001b[0m \u001b[0mget_real_method\u001b[0m\u001b[0;34m(\u001b[0m\u001b[0mobj\u001b[0m\u001b[0;34m,\u001b[0m \u001b[0mself\u001b[0m\u001b[0;34m.\u001b[0m\u001b[0mprint_method\u001b[0m\u001b[0;34m)\u001b[0m\u001b[0;34m\u001b[0m\u001b[0;34m\u001b[0m\u001b[0m\n\u001b[1;32m    344\u001b[0m             \u001b[0;32mif\u001b[0m \u001b[0mmethod\u001b[0m \u001b[0;32mis\u001b[0m \u001b[0;32mnot\u001b[0m \u001b[0;32mNone\u001b[0m\u001b[0;34m:\u001b[0m\u001b[0;34m\u001b[0m\u001b[0;34m\u001b[0m\u001b[0m\n\u001b[0;32m--> 345\u001b[0;31m                 \u001b[0;32mreturn\u001b[0m \u001b[0mmethod\u001b[0m\u001b[0;34m(\u001b[0m\u001b[0;34m)\u001b[0m\u001b[0;34m\u001b[0m\u001b[0;34m\u001b[0m\u001b[0m\n\u001b[0m\u001b[1;32m    346\u001b[0m             \u001b[0;32mreturn\u001b[0m \u001b[0;32mNone\u001b[0m\u001b[0;34m\u001b[0m\u001b[0;34m\u001b[0m\u001b[0m\n\u001b[1;32m    347\u001b[0m         \u001b[0;32melse\u001b[0m\u001b[0;34m:\u001b[0m\u001b[0;34m\u001b[0m\u001b[0;34m\u001b[0m\u001b[0m\n",
      "\u001b[0;32m/opt/anaconda3/lib/python3.8/site-packages/pandas/io/formats/style.py\u001b[0m in \u001b[0;36m_repr_html_\u001b[0;34m(self)\u001b[0m\n\u001b[1;32m    180\u001b[0m         \u001b[0mHooks\u001b[0m \u001b[0minto\u001b[0m \u001b[0mJupyter\u001b[0m \u001b[0mnotebook\u001b[0m \u001b[0mrich\u001b[0m \u001b[0mdisplay\u001b[0m \u001b[0msystem\u001b[0m\u001b[0;34m.\u001b[0m\u001b[0;34m\u001b[0m\u001b[0;34m\u001b[0m\u001b[0m\n\u001b[1;32m    181\u001b[0m         \"\"\"\n\u001b[0;32m--> 182\u001b[0;31m         \u001b[0;32mreturn\u001b[0m \u001b[0mself\u001b[0m\u001b[0;34m.\u001b[0m\u001b[0mrender\u001b[0m\u001b[0;34m(\u001b[0m\u001b[0;34m)\u001b[0m\u001b[0;34m\u001b[0m\u001b[0;34m\u001b[0m\u001b[0m\n\u001b[0m\u001b[1;32m    183\u001b[0m \u001b[0;34m\u001b[0m\u001b[0m\n\u001b[1;32m    184\u001b[0m     @Appender(\n",
      "\u001b[0;32m/opt/anaconda3/lib/python3.8/site-packages/pandas/io/formats/style.py\u001b[0m in \u001b[0;36mrender\u001b[0;34m(self, **kwargs)\u001b[0m\n\u001b[1;32m    535\u001b[0m         \u001b[0;34m*\u001b[0m \u001b[0mtable_attributes\u001b[0m\u001b[0;34m\u001b[0m\u001b[0;34m\u001b[0m\u001b[0m\n\u001b[1;32m    536\u001b[0m         \"\"\"\n\u001b[0;32m--> 537\u001b[0;31m         \u001b[0mself\u001b[0m\u001b[0;34m.\u001b[0m\u001b[0m_compute\u001b[0m\u001b[0;34m(\u001b[0m\u001b[0;34m)\u001b[0m\u001b[0;34m\u001b[0m\u001b[0;34m\u001b[0m\u001b[0m\n\u001b[0m\u001b[1;32m    538\u001b[0m         \u001b[0;31m# TODO: namespace all the pandas keys\u001b[0m\u001b[0;34m\u001b[0m\u001b[0;34m\u001b[0m\u001b[0;34m\u001b[0m\u001b[0m\n\u001b[1;32m    539\u001b[0m         \u001b[0md\u001b[0m \u001b[0;34m=\u001b[0m \u001b[0mself\u001b[0m\u001b[0;34m.\u001b[0m\u001b[0m_translate\u001b[0m\u001b[0;34m(\u001b[0m\u001b[0;34m)\u001b[0m\u001b[0;34m\u001b[0m\u001b[0;34m\u001b[0m\u001b[0m\n",
      "\u001b[0;32m/opt/anaconda3/lib/python3.8/site-packages/pandas/io/formats/style.py\u001b[0m in \u001b[0;36m_compute\u001b[0;34m(self)\u001b[0m\n\u001b[1;32m    610\u001b[0m         \u001b[0mr\u001b[0m \u001b[0;34m=\u001b[0m \u001b[0mself\u001b[0m\u001b[0;34m\u001b[0m\u001b[0;34m\u001b[0m\u001b[0m\n\u001b[1;32m    611\u001b[0m         \u001b[0;32mfor\u001b[0m \u001b[0mfunc\u001b[0m\u001b[0;34m,\u001b[0m \u001b[0margs\u001b[0m\u001b[0;34m,\u001b[0m \u001b[0mkwargs\u001b[0m \u001b[0;32min\u001b[0m \u001b[0mself\u001b[0m\u001b[0;34m.\u001b[0m\u001b[0m_todo\u001b[0m\u001b[0;34m:\u001b[0m\u001b[0;34m\u001b[0m\u001b[0;34m\u001b[0m\u001b[0m\n\u001b[0;32m--> 612\u001b[0;31m             \u001b[0mr\u001b[0m \u001b[0;34m=\u001b[0m \u001b[0mfunc\u001b[0m\u001b[0;34m(\u001b[0m\u001b[0mself\u001b[0m\u001b[0;34m)\u001b[0m\u001b[0;34m(\u001b[0m\u001b[0;34m*\u001b[0m\u001b[0margs\u001b[0m\u001b[0;34m,\u001b[0m \u001b[0;34m**\u001b[0m\u001b[0mkwargs\u001b[0m\u001b[0;34m)\u001b[0m\u001b[0;34m\u001b[0m\u001b[0;34m\u001b[0m\u001b[0m\n\u001b[0m\u001b[1;32m    613\u001b[0m         \u001b[0;32mreturn\u001b[0m \u001b[0mr\u001b[0m\u001b[0;34m\u001b[0m\u001b[0;34m\u001b[0m\u001b[0m\n\u001b[1;32m    614\u001b[0m \u001b[0;34m\u001b[0m\u001b[0m\n",
      "\u001b[0;32m/opt/anaconda3/lib/python3.8/site-packages/pandas/io/formats/style.py\u001b[0m in \u001b[0;36m_applymap\u001b[0;34m(self, func, subset, **kwargs)\u001b[0m\n\u001b[1;32m    702\u001b[0m             \u001b[0msubset\u001b[0m \u001b[0;34m=\u001b[0m \u001b[0mpd\u001b[0m\u001b[0;34m.\u001b[0m\u001b[0mIndexSlice\u001b[0m\u001b[0;34m[\u001b[0m\u001b[0;34m:\u001b[0m\u001b[0;34m]\u001b[0m\u001b[0;34m\u001b[0m\u001b[0;34m\u001b[0m\u001b[0m\n\u001b[1;32m    703\u001b[0m         \u001b[0msubset\u001b[0m \u001b[0;34m=\u001b[0m \u001b[0m_non_reducing_slice\u001b[0m\u001b[0;34m(\u001b[0m\u001b[0msubset\u001b[0m\u001b[0;34m)\u001b[0m\u001b[0;34m\u001b[0m\u001b[0;34m\u001b[0m\u001b[0m\n\u001b[0;32m--> 704\u001b[0;31m         \u001b[0mresult\u001b[0m \u001b[0;34m=\u001b[0m \u001b[0mself\u001b[0m\u001b[0;34m.\u001b[0m\u001b[0mdata\u001b[0m\u001b[0;34m.\u001b[0m\u001b[0mloc\u001b[0m\u001b[0;34m[\u001b[0m\u001b[0msubset\u001b[0m\u001b[0;34m]\u001b[0m\u001b[0;34m.\u001b[0m\u001b[0mapplymap\u001b[0m\u001b[0;34m(\u001b[0m\u001b[0mfunc\u001b[0m\u001b[0;34m)\u001b[0m\u001b[0;34m\u001b[0m\u001b[0;34m\u001b[0m\u001b[0m\n\u001b[0m\u001b[1;32m    705\u001b[0m         \u001b[0mself\u001b[0m\u001b[0;34m.\u001b[0m\u001b[0m_update_ctx\u001b[0m\u001b[0;34m(\u001b[0m\u001b[0mresult\u001b[0m\u001b[0;34m)\u001b[0m\u001b[0;34m\u001b[0m\u001b[0;34m\u001b[0m\u001b[0m\n\u001b[1;32m    706\u001b[0m         \u001b[0;32mreturn\u001b[0m \u001b[0mself\u001b[0m\u001b[0;34m\u001b[0m\u001b[0;34m\u001b[0m\u001b[0m\n",
      "\u001b[0;32m/opt/anaconda3/lib/python3.8/site-packages/pandas/core/frame.py\u001b[0m in \u001b[0;36mapplymap\u001b[0;34m(self, func)\u001b[0m\n\u001b[1;32m   6942\u001b[0m             \u001b[0;32mreturn\u001b[0m \u001b[0mlib\u001b[0m\u001b[0;34m.\u001b[0m\u001b[0mmap_infer\u001b[0m\u001b[0;34m(\u001b[0m\u001b[0mx\u001b[0m\u001b[0;34m.\u001b[0m\u001b[0mastype\u001b[0m\u001b[0;34m(\u001b[0m\u001b[0mobject\u001b[0m\u001b[0;34m)\u001b[0m\u001b[0;34m.\u001b[0m\u001b[0mvalues\u001b[0m\u001b[0;34m,\u001b[0m \u001b[0mfunc\u001b[0m\u001b[0;34m)\u001b[0m\u001b[0;34m\u001b[0m\u001b[0;34m\u001b[0m\u001b[0m\n\u001b[1;32m   6943\u001b[0m \u001b[0;34m\u001b[0m\u001b[0m\n\u001b[0;32m-> 6944\u001b[0;31m         \u001b[0;32mreturn\u001b[0m \u001b[0mself\u001b[0m\u001b[0;34m.\u001b[0m\u001b[0mapply\u001b[0m\u001b[0;34m(\u001b[0m\u001b[0minfer\u001b[0m\u001b[0;34m)\u001b[0m\u001b[0;34m\u001b[0m\u001b[0;34m\u001b[0m\u001b[0m\n\u001b[0m\u001b[1;32m   6945\u001b[0m \u001b[0;34m\u001b[0m\u001b[0m\n\u001b[1;32m   6946\u001b[0m     \u001b[0;31m# ----------------------------------------------------------------------\u001b[0m\u001b[0;34m\u001b[0m\u001b[0;34m\u001b[0m\u001b[0;34m\u001b[0m\u001b[0m\n",
      "\u001b[0;32m/opt/anaconda3/lib/python3.8/site-packages/pandas/core/frame.py\u001b[0m in \u001b[0;36mapply\u001b[0;34m(self, func, axis, raw, result_type, args, **kwds)\u001b[0m\n\u001b[1;32m   6876\u001b[0m             \u001b[0mkwds\u001b[0m\u001b[0;34m=\u001b[0m\u001b[0mkwds\u001b[0m\u001b[0;34m,\u001b[0m\u001b[0;34m\u001b[0m\u001b[0;34m\u001b[0m\u001b[0m\n\u001b[1;32m   6877\u001b[0m         )\n\u001b[0;32m-> 6878\u001b[0;31m         \u001b[0;32mreturn\u001b[0m \u001b[0mop\u001b[0m\u001b[0;34m.\u001b[0m\u001b[0mget_result\u001b[0m\u001b[0;34m(\u001b[0m\u001b[0;34m)\u001b[0m\u001b[0;34m\u001b[0m\u001b[0;34m\u001b[0m\u001b[0m\n\u001b[0m\u001b[1;32m   6879\u001b[0m \u001b[0;34m\u001b[0m\u001b[0m\n\u001b[1;32m   6880\u001b[0m     \u001b[0;32mdef\u001b[0m \u001b[0mapplymap\u001b[0m\u001b[0;34m(\u001b[0m\u001b[0mself\u001b[0m\u001b[0;34m,\u001b[0m \u001b[0mfunc\u001b[0m\u001b[0;34m)\u001b[0m \u001b[0;34m->\u001b[0m \u001b[0;34m\"DataFrame\"\u001b[0m\u001b[0;34m:\u001b[0m\u001b[0;34m\u001b[0m\u001b[0;34m\u001b[0m\u001b[0m\n",
      "\u001b[0;32m/opt/anaconda3/lib/python3.8/site-packages/pandas/core/apply.py\u001b[0m in \u001b[0;36mget_result\u001b[0;34m(self)\u001b[0m\n\u001b[1;32m    184\u001b[0m             \u001b[0;32mreturn\u001b[0m \u001b[0mself\u001b[0m\u001b[0;34m.\u001b[0m\u001b[0mapply_raw\u001b[0m\u001b[0;34m(\u001b[0m\u001b[0;34m)\u001b[0m\u001b[0;34m\u001b[0m\u001b[0;34m\u001b[0m\u001b[0m\n\u001b[1;32m    185\u001b[0m \u001b[0;34m\u001b[0m\u001b[0m\n\u001b[0;32m--> 186\u001b[0;31m         \u001b[0;32mreturn\u001b[0m \u001b[0mself\u001b[0m\u001b[0;34m.\u001b[0m\u001b[0mapply_standard\u001b[0m\u001b[0;34m(\u001b[0m\u001b[0;34m)\u001b[0m\u001b[0;34m\u001b[0m\u001b[0;34m\u001b[0m\u001b[0m\n\u001b[0m\u001b[1;32m    187\u001b[0m \u001b[0;34m\u001b[0m\u001b[0m\n\u001b[1;32m    188\u001b[0m     \u001b[0;32mdef\u001b[0m \u001b[0mapply_empty_result\u001b[0m\u001b[0;34m(\u001b[0m\u001b[0mself\u001b[0m\u001b[0;34m)\u001b[0m\u001b[0;34m:\u001b[0m\u001b[0;34m\u001b[0m\u001b[0;34m\u001b[0m\u001b[0m\n",
      "\u001b[0;32m/opt/anaconda3/lib/python3.8/site-packages/pandas/core/apply.py\u001b[0m in \u001b[0;36mapply_standard\u001b[0;34m(self)\u001b[0m\n\u001b[1;32m    293\u001b[0m \u001b[0;34m\u001b[0m\u001b[0m\n\u001b[1;32m    294\u001b[0m             \u001b[0;32mtry\u001b[0m\u001b[0;34m:\u001b[0m\u001b[0;34m\u001b[0m\u001b[0;34m\u001b[0m\u001b[0m\n\u001b[0;32m--> 295\u001b[0;31m                 result = libreduction.compute_reduction(\n\u001b[0m\u001b[1;32m    296\u001b[0m                     \u001b[0mvalues\u001b[0m\u001b[0;34m,\u001b[0m \u001b[0mself\u001b[0m\u001b[0;34m.\u001b[0m\u001b[0mf\u001b[0m\u001b[0;34m,\u001b[0m \u001b[0maxis\u001b[0m\u001b[0;34m=\u001b[0m\u001b[0mself\u001b[0m\u001b[0;34m.\u001b[0m\u001b[0maxis\u001b[0m\u001b[0;34m,\u001b[0m \u001b[0mdummy\u001b[0m\u001b[0;34m=\u001b[0m\u001b[0mdummy\u001b[0m\u001b[0;34m,\u001b[0m \u001b[0mlabels\u001b[0m\u001b[0;34m=\u001b[0m\u001b[0mlabels\u001b[0m\u001b[0;34m\u001b[0m\u001b[0;34m\u001b[0m\u001b[0m\n\u001b[1;32m    297\u001b[0m                 )\n",
      "\u001b[0;32mpandas/_libs/reduction.pyx\u001b[0m in \u001b[0;36mpandas._libs.reduction.compute_reduction\u001b[0;34m()\u001b[0m\n",
      "\u001b[0;32mpandas/_libs/reduction.pyx\u001b[0m in \u001b[0;36mpandas._libs.reduction.Reducer.get_result\u001b[0;34m()\u001b[0m\n",
      "\u001b[0;32m/opt/anaconda3/lib/python3.8/site-packages/pandas/core/frame.py\u001b[0m in \u001b[0;36minfer\u001b[0;34m(x)\u001b[0m\n\u001b[1;32m   6940\u001b[0m             \u001b[0;32mif\u001b[0m \u001b[0mx\u001b[0m\u001b[0;34m.\u001b[0m\u001b[0mempty\u001b[0m\u001b[0;34m:\u001b[0m\u001b[0;34m\u001b[0m\u001b[0;34m\u001b[0m\u001b[0m\n\u001b[1;32m   6941\u001b[0m                 \u001b[0;32mreturn\u001b[0m \u001b[0mlib\u001b[0m\u001b[0;34m.\u001b[0m\u001b[0mmap_infer\u001b[0m\u001b[0;34m(\u001b[0m\u001b[0mx\u001b[0m\u001b[0;34m,\u001b[0m \u001b[0mfunc\u001b[0m\u001b[0;34m)\u001b[0m\u001b[0;34m\u001b[0m\u001b[0;34m\u001b[0m\u001b[0m\n\u001b[0;32m-> 6942\u001b[0;31m             \u001b[0;32mreturn\u001b[0m \u001b[0mlib\u001b[0m\u001b[0;34m.\u001b[0m\u001b[0mmap_infer\u001b[0m\u001b[0;34m(\u001b[0m\u001b[0mx\u001b[0m\u001b[0;34m.\u001b[0m\u001b[0mastype\u001b[0m\u001b[0;34m(\u001b[0m\u001b[0mobject\u001b[0m\u001b[0;34m)\u001b[0m\u001b[0;34m.\u001b[0m\u001b[0mvalues\u001b[0m\u001b[0;34m,\u001b[0m \u001b[0mfunc\u001b[0m\u001b[0;34m)\u001b[0m\u001b[0;34m\u001b[0m\u001b[0;34m\u001b[0m\u001b[0m\n\u001b[0m\u001b[1;32m   6943\u001b[0m \u001b[0;34m\u001b[0m\u001b[0m\n\u001b[1;32m   6944\u001b[0m         \u001b[0;32mreturn\u001b[0m \u001b[0mself\u001b[0m\u001b[0;34m.\u001b[0m\u001b[0mapply\u001b[0m\u001b[0;34m(\u001b[0m\u001b[0minfer\u001b[0m\u001b[0;34m)\u001b[0m\u001b[0;34m\u001b[0m\u001b[0;34m\u001b[0m\u001b[0m\n",
      "\u001b[0;32mpandas/_libs/lib.pyx\u001b[0m in \u001b[0;36mpandas._libs.lib.map_infer\u001b[0;34m()\u001b[0m\n",
      "\u001b[0;32m<ipython-input-31-e8ade9906966>\u001b[0m in \u001b[0;36mcolour_red_negative\u001b[0;34m(x)\u001b[0m\n\u001b[1;32m      1\u001b[0m \u001b[0;32mdef\u001b[0m \u001b[0mcolour_red_negative\u001b[0m\u001b[0;34m(\u001b[0m\u001b[0mx\u001b[0m\u001b[0;34m)\u001b[0m\u001b[0;34m:\u001b[0m\u001b[0;34m\u001b[0m\u001b[0;34m\u001b[0m\u001b[0m\n\u001b[0;32m----> 2\u001b[0;31m     \u001b[0mcolor\u001b[0m \u001b[0;34m=\u001b[0m \u001b[0;34m'red'\u001b[0m \u001b[0;32mif\u001b[0m \u001b[0mx\u001b[0m \u001b[0;34m<\u001b[0m \u001b[0;36m0\u001b[0m \u001b[0;32melse\u001b[0m \u001b[0;34m'white'\u001b[0m\u001b[0;34m\u001b[0m\u001b[0;34m\u001b[0m\u001b[0m\n\u001b[0m\u001b[1;32m      3\u001b[0m     \u001b[0;32mreturn\u001b[0m \u001b[0;34m'color: '\u001b[0m \u001b[0;34m+\u001b[0m \u001b[0mcolor\u001b[0m\u001b[0;34m\u001b[0m\u001b[0;34m\u001b[0m\u001b[0m\n",
      "\u001b[0;31mTypeError\u001b[0m: '<' not supported between instances of 'str' and 'int'"
     ]
    },
    {
     "data": {
      "text/plain": [
       "<pandas.io.formats.style.Styler at 0x7fe16d4c5850>"
      ]
     },
     "execution_count": 34,
     "metadata": {},
     "output_type": "execute_result"
    }
   ],
   "source": [
    "df.style.applymap(colour_red_negative)"
   ]
  },
  {
   "cell_type": "code",
   "execution_count": 35,
   "metadata": {
    "colab": {
     "base_uri": "https://localhost:8080/",
     "height": 353
    },
    "colab_type": "code",
    "id": "WdCKtOAMl6jS",
    "outputId": "cd209af2-82aa-4ea1-9dcd-977c6dada2dc"
   },
   "outputs": [
    {
     "data": {
      "text/html": [
       "<style  type=\"text/css\" >\n",
       "</style><table id=\"T_352edb80_a41d_11eb_b537_acde48001122\" ><thead>    <tr>        <th class=\"blank level0\" ></th>        <th class=\"col_heading level0 col0\" >an</th>        <th class=\"col_heading level0 col1\" >ap</th>        <th class=\"col_heading level0 col2\" >ar</th>        <th class=\"col_heading level0 col3\" >as</th>        <th class=\"col_heading level0 col4\" >br</th>        <th class=\"col_heading level0 col5\" >ch</th>        <th class=\"col_heading level0 col6\" >ct</th>        <th class=\"col_heading level0 col7\" >dateymd</th>        <th class=\"col_heading level0 col8\" >dd</th>        <th class=\"col_heading level0 col9\" >dl</th>        <th class=\"col_heading level0 col10\" >dn</th>        <th class=\"col_heading level0 col11\" >ga</th>        <th class=\"col_heading level0 col12\" >gj</th>        <th class=\"col_heading level0 col13\" >hp</th>        <th class=\"col_heading level0 col14\" >hr</th>        <th class=\"col_heading level0 col15\" >jh</th>        <th class=\"col_heading level0 col16\" >jk</th>        <th class=\"col_heading level0 col17\" >ka</th>        <th class=\"col_heading level0 col18\" >kl</th>        <th class=\"col_heading level0 col19\" >la</th>        <th class=\"col_heading level0 col20\" >ld</th>        <th class=\"col_heading level0 col21\" >mh</th>        <th class=\"col_heading level0 col22\" >ml</th>        <th class=\"col_heading level0 col23\" >mn</th>        <th class=\"col_heading level0 col24\" >mp</th>        <th class=\"col_heading level0 col25\" >mz</th>        <th class=\"col_heading level0 col26\" >nl</th>        <th class=\"col_heading level0 col27\" >or</th>        <th class=\"col_heading level0 col28\" >pb</th>        <th class=\"col_heading level0 col29\" >py</th>        <th class=\"col_heading level0 col30\" >rj</th>        <th class=\"col_heading level0 col31\" >sk</th>        <th class=\"col_heading level0 col32\" >tg</th>        <th class=\"col_heading level0 col33\" >tn</th>        <th class=\"col_heading level0 col34\" >tr</th>        <th class=\"col_heading level0 col35\" >tt</th>        <th class=\"col_heading level0 col36\" >up</th>        <th class=\"col_heading level0 col37\" >ut</th>        <th class=\"col_heading level0 col38\" >wb</th>    </tr>    <tr>        <th class=\"index_name level0\" >date</th>        <th class=\"blank\" ></th>        <th class=\"blank\" ></th>        <th class=\"blank\" ></th>        <th class=\"blank\" ></th>        <th class=\"blank\" ></th>        <th class=\"blank\" ></th>        <th class=\"blank\" ></th>        <th class=\"blank\" ></th>        <th class=\"blank\" ></th>        <th class=\"blank\" ></th>        <th class=\"blank\" ></th>        <th class=\"blank\" ></th>        <th class=\"blank\" ></th>        <th class=\"blank\" ></th>        <th class=\"blank\" ></th>        <th class=\"blank\" ></th>        <th class=\"blank\" ></th>        <th class=\"blank\" ></th>        <th class=\"blank\" ></th>        <th class=\"blank\" ></th>        <th class=\"blank\" ></th>        <th class=\"blank\" ></th>        <th class=\"blank\" ></th>        <th class=\"blank\" ></th>        <th class=\"blank\" ></th>        <th class=\"blank\" ></th>        <th class=\"blank\" ></th>        <th class=\"blank\" ></th>        <th class=\"blank\" ></th>        <th class=\"blank\" ></th>        <th class=\"blank\" ></th>        <th class=\"blank\" ></th>        <th class=\"blank\" ></th>        <th class=\"blank\" ></th>        <th class=\"blank\" ></th>        <th class=\"blank\" ></th>        <th class=\"blank\" ></th>        <th class=\"blank\" ></th>        <th class=\"blank\" ></th>    </tr></thead><tbody>\n",
       "                <tr>\n",
       "                        <th id=\"T_352edb80_a41d_11eb_b537_acde48001122level0_row0\" class=\"row_heading level0 row0\" >2021-04-16 00:00:00</th>\n",
       "                        <td id=\"T_352edb80_a41d_11eb_b537_acde48001122row0_col0\" class=\"data row0 col0\" >27</td>\n",
       "                        <td id=\"T_352edb80_a41d_11eb_b537_acde48001122row0_col1\" class=\"data row0 col1\" >6096</td>\n",
       "                        <td id=\"T_352edb80_a41d_11eb_b537_acde48001122row0_col2\" class=\"data row0 col2\" >28</td>\n",
       "                        <td id=\"T_352edb80_a41d_11eb_b537_acde48001122row0_col3\" class=\"data row0 col3\" >573</td>\n",
       "                        <td id=\"T_352edb80_a41d_11eb_b537_acde48001122row0_col4\" class=\"data row0 col4\" >6253</td>\n",
       "                        <td id=\"T_352edb80_a41d_11eb_b537_acde48001122row0_col5\" class=\"data row0 col5\" >481</td>\n",
       "                        <td id=\"T_352edb80_a41d_11eb_b537_acde48001122row0_col6\" class=\"data row0 col6\" >14912</td>\n",
       "                        <td id=\"T_352edb80_a41d_11eb_b537_acde48001122row0_col7\" class=\"data row0 col7\" >2021-04-16</td>\n",
       "                        <td id=\"T_352edb80_a41d_11eb_b537_acde48001122row0_col8\" class=\"data row0 col8\" >0</td>\n",
       "                        <td id=\"T_352edb80_a41d_11eb_b537_acde48001122row0_col9\" class=\"data row0 col9\" >19486</td>\n",
       "                        <td id=\"T_352edb80_a41d_11eb_b537_acde48001122row0_col10\" class=\"data row0 col10\" >138</td>\n",
       "                        <td id=\"T_352edb80_a41d_11eb_b537_acde48001122row0_col11\" class=\"data row0 col11\" >927</td>\n",
       "                        <td id=\"T_352edb80_a41d_11eb_b537_acde48001122row0_col12\" class=\"data row0 col12\" >8920</td>\n",
       "                        <td id=\"T_352edb80_a41d_11eb_b537_acde48001122row0_col13\" class=\"data row0 col13\" >842</td>\n",
       "                        <td id=\"T_352edb80_a41d_11eb_b537_acde48001122row0_col14\" class=\"data row0 col14\" >6277</td>\n",
       "                        <td id=\"T_352edb80_a41d_11eb_b537_acde48001122row0_col15\" class=\"data row0 col15\" >3843</td>\n",
       "                        <td id=\"T_352edb80_a41d_11eb_b537_acde48001122row0_col16\" class=\"data row0 col16\" >1144</td>\n",
       "                        <td id=\"T_352edb80_a41d_11eb_b537_acde48001122row0_col17\" class=\"data row0 col17\" >14859</td>\n",
       "                        <td id=\"T_352edb80_a41d_11eb_b537_acde48001122row0_col18\" class=\"data row0 col18\" >10031</td>\n",
       "                        <td id=\"T_352edb80_a41d_11eb_b537_acde48001122row0_col19\" class=\"data row0 col19\" >245</td>\n",
       "                        <td id=\"T_352edb80_a41d_11eb_b537_acde48001122row0_col20\" class=\"data row0 col20\" >44</td>\n",
       "                        <td id=\"T_352edb80_a41d_11eb_b537_acde48001122row0_col21\" class=\"data row0 col21\" >63729</td>\n",
       "                        <td id=\"T_352edb80_a41d_11eb_b537_acde48001122row0_col22\" class=\"data row0 col22\" >121</td>\n",
       "                        <td id=\"T_352edb80_a41d_11eb_b537_acde48001122row0_col23\" class=\"data row0 col23\" >31</td>\n",
       "                        <td id=\"T_352edb80_a41d_11eb_b537_acde48001122row0_col24\" class=\"data row0 col24\" >11045</td>\n",
       "                        <td id=\"T_352edb80_a41d_11eb_b537_acde48001122row0_col25\" class=\"data row0 col25\" >25</td>\n",
       "                        <td id=\"T_352edb80_a41d_11eb_b537_acde48001122row0_col26\" class=\"data row0 col26\" >22</td>\n",
       "                        <td id=\"T_352edb80_a41d_11eb_b537_acde48001122row0_col27\" class=\"data row0 col27\" >3108</td>\n",
       "                        <td id=\"T_352edb80_a41d_11eb_b537_acde48001122row0_col28\" class=\"data row0 col28\" >3891</td>\n",
       "                        <td id=\"T_352edb80_a41d_11eb_b537_acde48001122row0_col29\" class=\"data row0 col29\" >531</td>\n",
       "                        <td id=\"T_352edb80_a41d_11eb_b537_acde48001122row0_col30\" class=\"data row0 col30\" >7359</td>\n",
       "                        <td id=\"T_352edb80_a41d_11eb_b537_acde48001122row0_col31\" class=\"data row0 col31\" >22</td>\n",
       "                        <td id=\"T_352edb80_a41d_11eb_b537_acde48001122row0_col32\" class=\"data row0 col32\" >3840</td>\n",
       "                        <td id=\"T_352edb80_a41d_11eb_b537_acde48001122row0_col33\" class=\"data row0 col33\" >8449</td>\n",
       "                        <td id=\"T_352edb80_a41d_11eb_b537_acde48001122row0_col34\" class=\"data row0 col34\" >31</td>\n",
       "                        <td id=\"T_352edb80_a41d_11eb_b537_acde48001122row0_col35\" class=\"data row0 col35\" >234002</td>\n",
       "                        <td id=\"T_352edb80_a41d_11eb_b537_acde48001122row0_col36\" class=\"data row0 col36\" >27360</td>\n",
       "                        <td id=\"T_352edb80_a41d_11eb_b537_acde48001122row0_col37\" class=\"data row0 col37\" >2402</td>\n",
       "                        <td id=\"T_352edb80_a41d_11eb_b537_acde48001122row0_col38\" class=\"data row0 col38\" >6910</td>\n",
       "            </tr>\n",
       "            <tr>\n",
       "                        <th id=\"T_352edb80_a41d_11eb_b537_acde48001122level0_row1\" class=\"row_heading level0 row1\" >2021-04-17 00:00:00</th>\n",
       "                        <td id=\"T_352edb80_a41d_11eb_b537_acde48001122row1_col0\" class=\"data row1 col0\" >42</td>\n",
       "                        <td id=\"T_352edb80_a41d_11eb_b537_acde48001122row1_col1\" class=\"data row1 col1\" >7224</td>\n",
       "                        <td id=\"T_352edb80_a41d_11eb_b537_acde48001122row1_col2\" class=\"data row1 col2\" >19</td>\n",
       "                        <td id=\"T_352edb80_a41d_11eb_b537_acde48001122row1_col3\" class=\"data row1 col3\" >876</td>\n",
       "                        <td id=\"T_352edb80_a41d_11eb_b537_acde48001122row1_col4\" class=\"data row1 col4\" >7870</td>\n",
       "                        <td id=\"T_352edb80_a41d_11eb_b537_acde48001122row1_col5\" class=\"data row1 col5\" >431</td>\n",
       "                        <td id=\"T_352edb80_a41d_11eb_b537_acde48001122row1_col6\" class=\"data row1 col6\" >16083</td>\n",
       "                        <td id=\"T_352edb80_a41d_11eb_b537_acde48001122row1_col7\" class=\"data row1 col7\" >2021-04-17</td>\n",
       "                        <td id=\"T_352edb80_a41d_11eb_b537_acde48001122row1_col8\" class=\"data row1 col8\" >0</td>\n",
       "                        <td id=\"T_352edb80_a41d_11eb_b537_acde48001122row1_col9\" class=\"data row1 col9\" >24375</td>\n",
       "                        <td id=\"T_352edb80_a41d_11eb_b537_acde48001122row1_col10\" class=\"data row1 col10\" >108</td>\n",
       "                        <td id=\"T_352edb80_a41d_11eb_b537_acde48001122row1_col11\" class=\"data row1 col11\" >762</td>\n",
       "                        <td id=\"T_352edb80_a41d_11eb_b537_acde48001122row1_col12\" class=\"data row1 col12\" >9541</td>\n",
       "                        <td id=\"T_352edb80_a41d_11eb_b537_acde48001122row1_col13\" class=\"data row1 col13\" >1392</td>\n",
       "                        <td id=\"T_352edb80_a41d_11eb_b537_acde48001122row1_col14\" class=\"data row1 col14\" >7717</td>\n",
       "                        <td id=\"T_352edb80_a41d_11eb_b537_acde48001122row1_col15\" class=\"data row1 col15\" >3838</td>\n",
       "                        <td id=\"T_352edb80_a41d_11eb_b537_acde48001122row1_col16\" class=\"data row1 col16\" >1145</td>\n",
       "                        <td id=\"T_352edb80_a41d_11eb_b537_acde48001122row1_col17\" class=\"data row1 col17\" >17489</td>\n",
       "                        <td id=\"T_352edb80_a41d_11eb_b537_acde48001122row1_col18\" class=\"data row1 col18\" >13835</td>\n",
       "                        <td id=\"T_352edb80_a41d_11eb_b537_acde48001122row1_col19\" class=\"data row1 col19\" >362</td>\n",
       "                        <td id=\"T_352edb80_a41d_11eb_b537_acde48001122row1_col20\" class=\"data row1 col20\" >106</td>\n",
       "                        <td id=\"T_352edb80_a41d_11eb_b537_acde48001122row1_col21\" class=\"data row1 col21\" >67123</td>\n",
       "                        <td id=\"T_352edb80_a41d_11eb_b537_acde48001122row1_col22\" class=\"data row1 col22\" >95</td>\n",
       "                        <td id=\"T_352edb80_a41d_11eb_b537_acde48001122row1_col23\" class=\"data row1 col23\" >39</td>\n",
       "                        <td id=\"T_352edb80_a41d_11eb_b537_acde48001122row1_col24\" class=\"data row1 col24\" >11269</td>\n",
       "                        <td id=\"T_352edb80_a41d_11eb_b537_acde48001122row1_col25\" class=\"data row1 col25\" >62</td>\n",
       "                        <td id=\"T_352edb80_a41d_11eb_b537_acde48001122row1_col26\" class=\"data row1 col26\" >32</td>\n",
       "                        <td id=\"T_352edb80_a41d_11eb_b537_acde48001122row1_col27\" class=\"data row1 col27\" >3144</td>\n",
       "                        <td id=\"T_352edb80_a41d_11eb_b537_acde48001122row1_col28\" class=\"data row1 col28\" >4431</td>\n",
       "                        <td id=\"T_352edb80_a41d_11eb_b537_acde48001122row1_col29\" class=\"data row1 col29\" >715</td>\n",
       "                        <td id=\"T_352edb80_a41d_11eb_b537_acde48001122row1_col30\" class=\"data row1 col30\" >9046</td>\n",
       "                        <td id=\"T_352edb80_a41d_11eb_b537_acde48001122row1_col31\" class=\"data row1 col31\" >72</td>\n",
       "                        <td id=\"T_352edb80_a41d_11eb_b537_acde48001122row1_col32\" class=\"data row1 col32\" >4446</td>\n",
       "                        <td id=\"T_352edb80_a41d_11eb_b537_acde48001122row1_col33\" class=\"data row1 col33\" >9344</td>\n",
       "                        <td id=\"T_352edb80_a41d_11eb_b537_acde48001122row1_col34\" class=\"data row1 col34\" >58</td>\n",
       "                        <td id=\"T_352edb80_a41d_11eb_b537_acde48001122row1_col35\" class=\"data row1 col35\" >260895</td>\n",
       "                        <td id=\"T_352edb80_a41d_11eb_b537_acde48001122row1_col36\" class=\"data row1 col36\" >27334</td>\n",
       "                        <td id=\"T_352edb80_a41d_11eb_b537_acde48001122row1_col37\" class=\"data row1 col37\" >2757</td>\n",
       "                        <td id=\"T_352edb80_a41d_11eb_b537_acde48001122row1_col38\" class=\"data row1 col38\" >7713</td>\n",
       "            </tr>\n",
       "            <tr>\n",
       "                        <th id=\"T_352edb80_a41d_11eb_b537_acde48001122level0_row2\" class=\"row_heading level0 row2\" >2021-04-18 00:00:00</th>\n",
       "                        <td id=\"T_352edb80_a41d_11eb_b537_acde48001122row2_col0\" class=\"data row2 col0\" >59</td>\n",
       "                        <td id=\"T_352edb80_a41d_11eb_b537_acde48001122row2_col1\" class=\"data row2 col1\" >6582</td>\n",
       "                        <td id=\"T_352edb80_a41d_11eb_b537_acde48001122row2_col2\" class=\"data row2 col2\" >20</td>\n",
       "                        <td id=\"T_352edb80_a41d_11eb_b537_acde48001122row2_col3\" class=\"data row2 col3\" >639</td>\n",
       "                        <td id=\"T_352edb80_a41d_11eb_b537_acde48001122row2_col4\" class=\"data row2 col4\" >8690</td>\n",
       "                        <td id=\"T_352edb80_a41d_11eb_b537_acde48001122row2_col5\" class=\"data row2 col5\" >625</td>\n",
       "                        <td id=\"T_352edb80_a41d_11eb_b537_acde48001122row2_col6\" class=\"data row2 col6\" >12345</td>\n",
       "                        <td id=\"T_352edb80_a41d_11eb_b537_acde48001122row2_col7\" class=\"data row2 col7\" >2021-04-18</td>\n",
       "                        <td id=\"T_352edb80_a41d_11eb_b537_acde48001122row2_col8\" class=\"data row2 col8\" >0</td>\n",
       "                        <td id=\"T_352edb80_a41d_11eb_b537_acde48001122row2_col9\" class=\"data row2 col9\" >25462</td>\n",
       "                        <td id=\"T_352edb80_a41d_11eb_b537_acde48001122row2_col10\" class=\"data row2 col10\" >184</td>\n",
       "                        <td id=\"T_352edb80_a41d_11eb_b537_acde48001122row2_col11\" class=\"data row2 col11\" >951</td>\n",
       "                        <td id=\"T_352edb80_a41d_11eb_b537_acde48001122row2_col12\" class=\"data row2 col12\" >10340</td>\n",
       "                        <td id=\"T_352edb80_a41d_11eb_b537_acde48001122row2_col13\" class=\"data row2 col13\" >788</td>\n",
       "                        <td id=\"T_352edb80_a41d_11eb_b537_acde48001122row2_col14\" class=\"data row2 col14\" >7177</td>\n",
       "                        <td id=\"T_352edb80_a41d_11eb_b537_acde48001122row2_col15\" class=\"data row2 col15\" >3992</td>\n",
       "                        <td id=\"T_352edb80_a41d_11eb_b537_acde48001122row2_col16\" class=\"data row2 col16\" >1526</td>\n",
       "                        <td id=\"T_352edb80_a41d_11eb_b537_acde48001122row2_col17\" class=\"data row2 col17\" >19067</td>\n",
       "                        <td id=\"T_352edb80_a41d_11eb_b537_acde48001122row2_col18\" class=\"data row2 col18\" >18257</td>\n",
       "                        <td id=\"T_352edb80_a41d_11eb_b537_acde48001122row2_col19\" class=\"data row2 col19\" >60</td>\n",
       "                        <td id=\"T_352edb80_a41d_11eb_b537_acde48001122row2_col20\" class=\"data row2 col20\" >114</td>\n",
       "                        <td id=\"T_352edb80_a41d_11eb_b537_acde48001122row2_col21\" class=\"data row2 col21\" >68631</td>\n",
       "                        <td id=\"T_352edb80_a41d_11eb_b537_acde48001122row2_col22\" class=\"data row2 col22\" >71</td>\n",
       "                        <td id=\"T_352edb80_a41d_11eb_b537_acde48001122row2_col23\" class=\"data row2 col23\" >72</td>\n",
       "                        <td id=\"T_352edb80_a41d_11eb_b537_acde48001122row2_col24\" class=\"data row2 col24\" >12248</td>\n",
       "                        <td id=\"T_352edb80_a41d_11eb_b537_acde48001122row2_col25\" class=\"data row2 col25\" >50</td>\n",
       "                        <td id=\"T_352edb80_a41d_11eb_b537_acde48001122row2_col26\" class=\"data row2 col26\" >19</td>\n",
       "                        <td id=\"T_352edb80_a41d_11eb_b537_acde48001122row2_col27\" class=\"data row2 col27\" >3664</td>\n",
       "                        <td id=\"T_352edb80_a41d_11eb_b537_acde48001122row2_col28\" class=\"data row2 col28\" >4900</td>\n",
       "                        <td id=\"T_352edb80_a41d_11eb_b537_acde48001122row2_col29\" class=\"data row2 col29\" >663</td>\n",
       "                        <td id=\"T_352edb80_a41d_11eb_b537_acde48001122row2_col30\" class=\"data row2 col30\" >10262</td>\n",
       "                        <td id=\"T_352edb80_a41d_11eb_b537_acde48001122row2_col31\" class=\"data row2 col31\" >105</td>\n",
       "                        <td id=\"T_352edb80_a41d_11eb_b537_acde48001122row2_col32\" class=\"data row2 col32\" >5093</td>\n",
       "                        <td id=\"T_352edb80_a41d_11eb_b537_acde48001122row2_col33\" class=\"data row2 col33\" >10723</td>\n",
       "                        <td id=\"T_352edb80_a41d_11eb_b537_acde48001122row2_col34\" class=\"data row2 col34\" >69</td>\n",
       "                        <td id=\"T_352edb80_a41d_11eb_b537_acde48001122row2_col35\" class=\"data row2 col35\" >275063</td>\n",
       "                        <td id=\"T_352edb80_a41d_11eb_b537_acde48001122row2_col36\" class=\"data row2 col36\" >30566</td>\n",
       "                        <td id=\"T_352edb80_a41d_11eb_b537_acde48001122row2_col37\" class=\"data row2 col37\" >2630</td>\n",
       "                        <td id=\"T_352edb80_a41d_11eb_b537_acde48001122row2_col38\" class=\"data row2 col38\" >8419</td>\n",
       "            </tr>\n",
       "            <tr>\n",
       "                        <th id=\"T_352edb80_a41d_11eb_b537_acde48001122level0_row3\" class=\"row_heading level0 row3\" >2021-04-19 00:00:00</th>\n",
       "                        <td id=\"T_352edb80_a41d_11eb_b537_acde48001122row3_col0\" class=\"data row3 col0\" >31</td>\n",
       "                        <td id=\"T_352edb80_a41d_11eb_b537_acde48001122row3_col1\" class=\"data row3 col1\" >5963</td>\n",
       "                        <td id=\"T_352edb80_a41d_11eb_b537_acde48001122row3_col2\" class=\"data row3 col2\" >65</td>\n",
       "                        <td id=\"T_352edb80_a41d_11eb_b537_acde48001122row3_col3\" class=\"data row3 col3\" >1367</td>\n",
       "                        <td id=\"T_352edb80_a41d_11eb_b537_acde48001122row3_col4\" class=\"data row3 col4\" >7487</td>\n",
       "                        <td id=\"T_352edb80_a41d_11eb_b537_acde48001122row3_col5\" class=\"data row3 col5\" >612</td>\n",
       "                        <td id=\"T_352edb80_a41d_11eb_b537_acde48001122row3_col6\" class=\"data row3 col6\" >13834</td>\n",
       "                        <td id=\"T_352edb80_a41d_11eb_b537_acde48001122row3_col7\" class=\"data row3 col7\" >2021-04-19</td>\n",
       "                        <td id=\"T_352edb80_a41d_11eb_b537_acde48001122row3_col8\" class=\"data row3 col8\" >0</td>\n",
       "                        <td id=\"T_352edb80_a41d_11eb_b537_acde48001122row3_col9\" class=\"data row3 col9\" >23686</td>\n",
       "                        <td id=\"T_352edb80_a41d_11eb_b537_acde48001122row3_col10\" class=\"data row3 col10\" >121</td>\n",
       "                        <td id=\"T_352edb80_a41d_11eb_b537_acde48001122row3_col11\" class=\"data row3 col11\" >940</td>\n",
       "                        <td id=\"T_352edb80_a41d_11eb_b537_acde48001122row3_col12\" class=\"data row3 col12\" >11403</td>\n",
       "                        <td id=\"T_352edb80_a41d_11eb_b537_acde48001122row3_col13\" class=\"data row3 col13\" >1695</td>\n",
       "                        <td id=\"T_352edb80_a41d_11eb_b537_acde48001122row3_col14\" class=\"data row3 col14\" >6842</td>\n",
       "                        <td id=\"T_352edb80_a41d_11eb_b537_acde48001122row3_col15\" class=\"data row3 col15\" >4290</td>\n",
       "                        <td id=\"T_352edb80_a41d_11eb_b537_acde48001122row3_col16\" class=\"data row3 col16\" >1516</td>\n",
       "                        <td id=\"T_352edb80_a41d_11eb_b537_acde48001122row3_col17\" class=\"data row3 col17\" >15785</td>\n",
       "                        <td id=\"T_352edb80_a41d_11eb_b537_acde48001122row3_col18\" class=\"data row3 col18\" >13644</td>\n",
       "                        <td id=\"T_352edb80_a41d_11eb_b537_acde48001122row3_col19\" class=\"data row3 col19\" >175</td>\n",
       "                        <td id=\"T_352edb80_a41d_11eb_b537_acde48001122row3_col20\" class=\"data row3 col20\" >117</td>\n",
       "                        <td id=\"T_352edb80_a41d_11eb_b537_acde48001122row3_col21\" class=\"data row3 col21\" >58924</td>\n",
       "                        <td id=\"T_352edb80_a41d_11eb_b537_acde48001122row3_col22\" class=\"data row3 col22\" >110</td>\n",
       "                        <td id=\"T_352edb80_a41d_11eb_b537_acde48001122row3_col23\" class=\"data row3 col23\" >54</td>\n",
       "                        <td id=\"T_352edb80_a41d_11eb_b537_acde48001122row3_col24\" class=\"data row3 col24\" >12897</td>\n",
       "                        <td id=\"T_352edb80_a41d_11eb_b537_acde48001122row3_col25\" class=\"data row3 col25\" >45</td>\n",
       "                        <td id=\"T_352edb80_a41d_11eb_b537_acde48001122row3_col26\" class=\"data row3 col26\" >13</td>\n",
       "                        <td id=\"T_352edb80_a41d_11eb_b537_acde48001122row3_col27\" class=\"data row3 col27\" >4445</td>\n",
       "                        <td id=\"T_352edb80_a41d_11eb_b537_acde48001122row3_col28\" class=\"data row3 col28\" >4622</td>\n",
       "                        <td id=\"T_352edb80_a41d_11eb_b537_acde48001122row3_col29\" class=\"data row3 col29\" >565</td>\n",
       "                        <td id=\"T_352edb80_a41d_11eb_b537_acde48001122row3_col30\" class=\"data row3 col30\" >11967</td>\n",
       "                        <td id=\"T_352edb80_a41d_11eb_b537_acde48001122row3_col31\" class=\"data row3 col31\" >9</td>\n",
       "                        <td id=\"T_352edb80_a41d_11eb_b537_acde48001122row3_col32\" class=\"data row3 col32\" >4009</td>\n",
       "                        <td id=\"T_352edb80_a41d_11eb_b537_acde48001122row3_col33\" class=\"data row3 col33\" >10941</td>\n",
       "                        <td id=\"T_352edb80_a41d_11eb_b537_acde48001122row3_col34\" class=\"data row3 col34\" >32</td>\n",
       "                        <td id=\"T_352edb80_a41d_11eb_b537_acde48001122row3_col35\" class=\"data row3 col35\" >257003</td>\n",
       "                        <td id=\"T_352edb80_a41d_11eb_b537_acde48001122row3_col36\" class=\"data row3 col36\" >28211</td>\n",
       "                        <td id=\"T_352edb80_a41d_11eb_b537_acde48001122row3_col37\" class=\"data row3 col37\" >2160</td>\n",
       "                        <td id=\"T_352edb80_a41d_11eb_b537_acde48001122row3_col38\" class=\"data row3 col38\" >8426</td>\n",
       "            </tr>\n",
       "            <tr>\n",
       "                        <th id=\"T_352edb80_a41d_11eb_b537_acde48001122level0_row4\" class=\"row_heading level0 row4\" >2021-04-20 00:00:00</th>\n",
       "                        <td id=\"T_352edb80_a41d_11eb_b537_acde48001122row4_col0\" class=\"data row4 col0\" >45</td>\n",
       "                        <td id=\"T_352edb80_a41d_11eb_b537_acde48001122row4_col1\" class=\"data row4 col1\" >8987</td>\n",
       "                        <td id=\"T_352edb80_a41d_11eb_b537_acde48001122row4_col2\" class=\"data row4 col2\" >61</td>\n",
       "                        <td id=\"T_352edb80_a41d_11eb_b537_acde48001122row4_col3\" class=\"data row4 col3\" >1651</td>\n",
       "                        <td id=\"T_352edb80_a41d_11eb_b537_acde48001122row4_col4\" class=\"data row4 col4\" >10455</td>\n",
       "                        <td id=\"T_352edb80_a41d_11eb_b537_acde48001122row4_col5\" class=\"data row4 col5\" >602</td>\n",
       "                        <td id=\"T_352edb80_a41d_11eb_b537_acde48001122row4_col6\" class=\"data row4 col6\" >15625</td>\n",
       "                        <td id=\"T_352edb80_a41d_11eb_b537_acde48001122row4_col7\" class=\"data row4 col7\" >2021-04-20</td>\n",
       "                        <td id=\"T_352edb80_a41d_11eb_b537_acde48001122row4_col8\" class=\"data row4 col8\" >0</td>\n",
       "                        <td id=\"T_352edb80_a41d_11eb_b537_acde48001122row4_col9\" class=\"data row4 col9\" >28395</td>\n",
       "                        <td id=\"T_352edb80_a41d_11eb_b537_acde48001122row4_col10\" class=\"data row4 col10\" >291</td>\n",
       "                        <td id=\"T_352edb80_a41d_11eb_b537_acde48001122row4_col11\" class=\"data row4 col11\" >1160</td>\n",
       "                        <td id=\"T_352edb80_a41d_11eb_b537_acde48001122row4_col12\" class=\"data row4 col12\" >12206</td>\n",
       "                        <td id=\"T_352edb80_a41d_11eb_b537_acde48001122row4_col13\" class=\"data row4 col13\" >1340</td>\n",
       "                        <td id=\"T_352edb80_a41d_11eb_b537_acde48001122row4_col14\" class=\"data row4 col14\" >7811</td>\n",
       "                        <td id=\"T_352edb80_a41d_11eb_b537_acde48001122row4_col15\" class=\"data row4 col15\" >5080</td>\n",
       "                        <td id=\"T_352edb80_a41d_11eb_b537_acde48001122row4_col16\" class=\"data row4 col16\" >2030</td>\n",
       "                        <td id=\"T_352edb80_a41d_11eb_b537_acde48001122row4_col17\" class=\"data row4 col17\" >21794</td>\n",
       "                        <td id=\"T_352edb80_a41d_11eb_b537_acde48001122row4_col18\" class=\"data row4 col18\" >19577</td>\n",
       "                        <td id=\"T_352edb80_a41d_11eb_b537_acde48001122row4_col19\" class=\"data row4 col19\" >250</td>\n",
       "                        <td id=\"T_352edb80_a41d_11eb_b537_acde48001122row4_col20\" class=\"data row4 col20\" >53</td>\n",
       "                        <td id=\"T_352edb80_a41d_11eb_b537_acde48001122row4_col21\" class=\"data row4 col21\" >62097</td>\n",
       "                        <td id=\"T_352edb80_a41d_11eb_b537_acde48001122row4_col22\" class=\"data row4 col22\" >137</td>\n",
       "                        <td id=\"T_352edb80_a41d_11eb_b537_acde48001122row4_col23\" class=\"data row4 col23\" >94</td>\n",
       "                        <td id=\"T_352edb80_a41d_11eb_b537_acde48001122row4_col24\" class=\"data row4 col24\" >12727</td>\n",
       "                        <td id=\"T_352edb80_a41d_11eb_b537_acde48001122row4_col25\" class=\"data row4 col25\" >91</td>\n",
       "                        <td id=\"T_352edb80_a41d_11eb_b537_acde48001122row4_col26\" class=\"data row4 col26\" >82</td>\n",
       "                        <td id=\"T_352edb80_a41d_11eb_b537_acde48001122row4_col27\" class=\"data row4 col27\" >4761</td>\n",
       "                        <td id=\"T_352edb80_a41d_11eb_b537_acde48001122row4_col28\" class=\"data row4 col28\" >4656</td>\n",
       "                        <td id=\"T_352edb80_a41d_11eb_b537_acde48001122row4_col29\" class=\"data row4 col29\" >638</td>\n",
       "                        <td id=\"T_352edb80_a41d_11eb_b537_acde48001122row4_col30\" class=\"data row4 col30\" >12201</td>\n",
       "                        <td id=\"T_352edb80_a41d_11eb_b537_acde48001122row4_col31\" class=\"data row4 col31\" >91</td>\n",
       "                        <td id=\"T_352edb80_a41d_11eb_b537_acde48001122row4_col32\" class=\"data row4 col32\" >5926</td>\n",
       "                        <td id=\"T_352edb80_a41d_11eb_b537_acde48001122row4_col33\" class=\"data row4 col33\" >10986</td>\n",
       "                        <td id=\"T_352edb80_a41d_11eb_b537_acde48001122row4_col34\" class=\"data row4 col34\" >60</td>\n",
       "                        <td id=\"T_352edb80_a41d_11eb_b537_acde48001122row4_col35\" class=\"data row4 col35\" >294365</td>\n",
       "                        <td id=\"T_352edb80_a41d_11eb_b537_acde48001122row4_col36\" class=\"data row4 col36\" >29574</td>\n",
       "                        <td id=\"T_352edb80_a41d_11eb_b537_acde48001122row4_col37\" class=\"data row4 col37\" >3012</td>\n",
       "                        <td id=\"T_352edb80_a41d_11eb_b537_acde48001122row4_col38\" class=\"data row4 col38\" >9819</td>\n",
       "            </tr>\n",
       "            <tr>\n",
       "                        <th id=\"T_352edb80_a41d_11eb_b537_acde48001122level0_row5\" class=\"row_heading level0 row5\" >2021-04-21 00:00:00</th>\n",
       "                        <td id=\"T_352edb80_a41d_11eb_b537_acde48001122row5_col0\" class=\"data row5 col0\" >24</td>\n",
       "                        <td id=\"T_352edb80_a41d_11eb_b537_acde48001122row5_col1\" class=\"data row5 col1\" >9716</td>\n",
       "                        <td id=\"T_352edb80_a41d_11eb_b537_acde48001122row5_col2\" class=\"data row5 col2\" >73</td>\n",
       "                        <td id=\"T_352edb80_a41d_11eb_b537_acde48001122row5_col3\" class=\"data row5 col3\" >1665</td>\n",
       "                        <td id=\"T_352edb80_a41d_11eb_b537_acde48001122row5_col4\" class=\"data row5 col4\" >12222</td>\n",
       "                        <td id=\"T_352edb80_a41d_11eb_b537_acde48001122row5_col5\" class=\"data row5 col5\" >622</td>\n",
       "                        <td id=\"T_352edb80_a41d_11eb_b537_acde48001122row5_col6\" class=\"data row5 col6\" >14519</td>\n",
       "                        <td id=\"T_352edb80_a41d_11eb_b537_acde48001122row5_col7\" class=\"data row5 col7\" >2021-04-21</td>\n",
       "                        <td id=\"T_352edb80_a41d_11eb_b537_acde48001122row5_col8\" class=\"data row5 col8\" >0</td>\n",
       "                        <td id=\"T_352edb80_a41d_11eb_b537_acde48001122row5_col9\" class=\"data row5 col9\" >24638</td>\n",
       "                        <td id=\"T_352edb80_a41d_11eb_b537_acde48001122row5_col10\" class=\"data row5 col10\" >234</td>\n",
       "                        <td id=\"T_352edb80_a41d_11eb_b537_acde48001122row5_col11\" class=\"data row5 col11\" >1502</td>\n",
       "                        <td id=\"T_352edb80_a41d_11eb_b537_acde48001122row5_col12\" class=\"data row5 col12\" >12553</td>\n",
       "                        <td id=\"T_352edb80_a41d_11eb_b537_acde48001122row5_col13\" class=\"data row5 col13\" >1692</td>\n",
       "                        <td id=\"T_352edb80_a41d_11eb_b537_acde48001122row5_col14\" class=\"data row5 col14\" >9623</td>\n",
       "                        <td id=\"T_352edb80_a41d_11eb_b537_acde48001122row5_col15\" class=\"data row5 col15\" >5041</td>\n",
       "                        <td id=\"T_352edb80_a41d_11eb_b537_acde48001122row5_col16\" class=\"data row5 col16\" >2204</td>\n",
       "                        <td id=\"T_352edb80_a41d_11eb_b537_acde48001122row5_col17\" class=\"data row5 col17\" >23558</td>\n",
       "                        <td id=\"T_352edb80_a41d_11eb_b537_acde48001122row5_col18\" class=\"data row5 col18\" >22414</td>\n",
       "                        <td id=\"T_352edb80_a41d_11eb_b537_acde48001122row5_col19\" class=\"data row5 col19\" >183</td>\n",
       "                        <td id=\"T_352edb80_a41d_11eb_b537_acde48001122row5_col20\" class=\"data row5 col20\" >191</td>\n",
       "                        <td id=\"T_352edb80_a41d_11eb_b537_acde48001122row5_col21\" class=\"data row5 col21\" >67468</td>\n",
       "                        <td id=\"T_352edb80_a41d_11eb_b537_acde48001122row5_col22\" class=\"data row5 col22\" >192</td>\n",
       "                        <td id=\"T_352edb80_a41d_11eb_b537_acde48001122row5_col23\" class=\"data row5 col23\" >92</td>\n",
       "                        <td id=\"T_352edb80_a41d_11eb_b537_acde48001122row5_col24\" class=\"data row5 col24\" >13107</td>\n",
       "                        <td id=\"T_352edb80_a41d_11eb_b537_acde48001122row5_col25\" class=\"data row5 col25\" >90</td>\n",
       "                        <td id=\"T_352edb80_a41d_11eb_b537_acde48001122row5_col26\" class=\"data row5 col26\" >97</td>\n",
       "                        <td id=\"T_352edb80_a41d_11eb_b537_acde48001122row5_col27\" class=\"data row5 col27\" >4851</td>\n",
       "                        <td id=\"T_352edb80_a41d_11eb_b537_acde48001122row5_col28\" class=\"data row5 col28\" >4953</td>\n",
       "                        <td id=\"T_352edb80_a41d_11eb_b537_acde48001122row5_col29\" class=\"data row5 col29\" >619</td>\n",
       "                        <td id=\"T_352edb80_a41d_11eb_b537_acde48001122row5_col30\" class=\"data row5 col30\" >14622</td>\n",
       "                        <td id=\"T_352edb80_a41d_11eb_b537_acde48001122row5_col31\" class=\"data row5 col31\" >50</td>\n",
       "                        <td id=\"T_352edb80_a41d_11eb_b537_acde48001122row5_col32\" class=\"data row5 col32\" >6542</td>\n",
       "                        <td id=\"T_352edb80_a41d_11eb_b537_acde48001122row5_col33\" class=\"data row5 col33\" >11681</td>\n",
       "                        <td id=\"T_352edb80_a41d_11eb_b537_acde48001122row5_col34\" class=\"data row5 col34\" >0</td>\n",
       "                        <td id=\"T_352edb80_a41d_11eb_b537_acde48001122row5_col35\" class=\"data row5 col35\" >315735</td>\n",
       "                        <td id=\"T_352edb80_a41d_11eb_b537_acde48001122row5_col36\" class=\"data row5 col36\" >33106</td>\n",
       "                        <td id=\"T_352edb80_a41d_11eb_b537_acde48001122row5_col37\" class=\"data row5 col37\" >4807</td>\n",
       "                        <td id=\"T_352edb80_a41d_11eb_b537_acde48001122row5_col38\" class=\"data row5 col38\" >10784</td>\n",
       "            </tr>\n",
       "            <tr>\n",
       "                        <th id=\"T_352edb80_a41d_11eb_b537_acde48001122level0_row6\" class=\"row_heading level0 row6\" >2021-04-22 00:00:00</th>\n",
       "                        <td id=\"T_352edb80_a41d_11eb_b537_acde48001122row6_col0\" class=\"data row6 col0\" >37</td>\n",
       "                        <td id=\"T_352edb80_a41d_11eb_b537_acde48001122row6_col1\" class=\"data row6 col1\" >10759</td>\n",
       "                        <td id=\"T_352edb80_a41d_11eb_b537_acde48001122row6_col2\" class=\"data row6 col2\" >110</td>\n",
       "                        <td id=\"T_352edb80_a41d_11eb_b537_acde48001122row6_col3\" class=\"data row6 col3\" >1931</td>\n",
       "                        <td id=\"T_352edb80_a41d_11eb_b537_acde48001122row6_col4\" class=\"data row6 col4\" >11489</td>\n",
       "                        <td id=\"T_352edb80_a41d_11eb_b537_acde48001122row6_col5\" class=\"data row6 col5\" >634</td>\n",
       "                        <td id=\"T_352edb80_a41d_11eb_b537_acde48001122row6_col6\" class=\"data row6 col6\" >16750</td>\n",
       "                        <td id=\"T_352edb80_a41d_11eb_b537_acde48001122row6_col7\" class=\"data row6 col7\" >2021-04-22</td>\n",
       "                        <td id=\"T_352edb80_a41d_11eb_b537_acde48001122row6_col8\" class=\"data row6 col8\" >0</td>\n",
       "                        <td id=\"T_352edb80_a41d_11eb_b537_acde48001122row6_col9\" class=\"data row6 col9\" >26169</td>\n",
       "                        <td id=\"T_352edb80_a41d_11eb_b537_acde48001122row6_col10\" class=\"data row6 col10\" >346</td>\n",
       "                        <td id=\"T_352edb80_a41d_11eb_b537_acde48001122row6_col11\" class=\"data row6 col11\" >1410</td>\n",
       "                        <td id=\"T_352edb80_a41d_11eb_b537_acde48001122row6_col12\" class=\"data row6 col12\" >13105</td>\n",
       "                        <td id=\"T_352edb80_a41d_11eb_b537_acde48001122row6_col13\" class=\"data row6 col13\" >1774</td>\n",
       "                        <td id=\"T_352edb80_a41d_11eb_b537_acde48001122row6_col14\" class=\"data row6 col14\" >9742</td>\n",
       "                        <td id=\"T_352edb80_a41d_11eb_b537_acde48001122row6_col15\" class=\"data row6 col15\" >7595</td>\n",
       "                        <td id=\"T_352edb80_a41d_11eb_b537_acde48001122row6_col16\" class=\"data row6 col16\" >1965</td>\n",
       "                        <td id=\"T_352edb80_a41d_11eb_b537_acde48001122row6_col17\" class=\"data row6 col17\" >25795</td>\n",
       "                        <td id=\"T_352edb80_a41d_11eb_b537_acde48001122row6_col18\" class=\"data row6 col18\" >26995</td>\n",
       "                        <td id=\"T_352edb80_a41d_11eb_b537_acde48001122row6_col19\" class=\"data row6 col19\" >198</td>\n",
       "                        <td id=\"T_352edb80_a41d_11eb_b537_acde48001122row6_col20\" class=\"data row6 col20\" >145</td>\n",
       "                        <td id=\"T_352edb80_a41d_11eb_b537_acde48001122row6_col21\" class=\"data row6 col21\" >67013</td>\n",
       "                        <td id=\"T_352edb80_a41d_11eb_b537_acde48001122row6_col22\" class=\"data row6 col22\" >180</td>\n",
       "                        <td id=\"T_352edb80_a41d_11eb_b537_acde48001122row6_col23\" class=\"data row6 col23\" >86</td>\n",
       "                        <td id=\"T_352edb80_a41d_11eb_b537_acde48001122row6_col24\" class=\"data row6 col24\" >12384</td>\n",
       "                        <td id=\"T_352edb80_a41d_11eb_b537_acde48001122row6_col25\" class=\"data row6 col25\" >73</td>\n",
       "                        <td id=\"T_352edb80_a41d_11eb_b537_acde48001122row6_col26\" class=\"data row6 col26\" >53</td>\n",
       "                        <td id=\"T_352edb80_a41d_11eb_b537_acde48001122row6_col27\" class=\"data row6 col27\" >6164</td>\n",
       "                        <td id=\"T_352edb80_a41d_11eb_b537_acde48001122row6_col28\" class=\"data row6 col28\" >5450</td>\n",
       "                        <td id=\"T_352edb80_a41d_11eb_b537_acde48001122row6_col29\" class=\"data row6 col29\" >987</td>\n",
       "                        <td id=\"T_352edb80_a41d_11eb_b537_acde48001122row6_col30\" class=\"data row6 col30\" >14468</td>\n",
       "                        <td id=\"T_352edb80_a41d_11eb_b537_acde48001122row6_col31\" class=\"data row6 col31\" >124</td>\n",
       "                        <td id=\"T_352edb80_a41d_11eb_b537_acde48001122row6_col32\" class=\"data row6 col32\" >5567</td>\n",
       "                        <td id=\"T_352edb80_a41d_11eb_b537_acde48001122row6_col33\" class=\"data row6 col33\" >12652</td>\n",
       "                        <td id=\"T_352edb80_a41d_11eb_b537_acde48001122row6_col34\" class=\"data row6 col34\" >168</td>\n",
       "                        <td id=\"T_352edb80_a41d_11eb_b537_acde48001122row6_col35\" class=\"data row6 col35\" >332518</td>\n",
       "                        <td id=\"T_352edb80_a41d_11eb_b537_acde48001122row6_col36\" class=\"data row6 col36\" >34254</td>\n",
       "                        <td id=\"T_352edb80_a41d_11eb_b537_acde48001122row6_col37\" class=\"data row6 col37\" >3998</td>\n",
       "                        <td id=\"T_352edb80_a41d_11eb_b537_acde48001122row6_col38\" class=\"data row6 col38\" >11948</td>\n",
       "            </tr>\n",
       "    </tbody></table>"
      ],
      "text/plain": [
       "<pandas.io.formats.style.Styler at 0x7fe16d4c56d0>"
      ]
     },
     "execution_count": 35,
     "metadata": {},
     "output_type": "execute_result"
    }
   ],
   "source": [
    "df.style.highlight_max(color='red')"
   ]
  },
  {
   "cell_type": "code",
   "execution_count": 36,
   "metadata": {
    "colab": {},
    "colab_type": "code",
    "id": "T5Qmy3dKmAVr"
   },
   "outputs": [],
   "source": [
    "df.drop(['dd', 'ld'], axis=1,inplace=True)"
   ]
  },
  {
   "cell_type": "code",
   "execution_count": 37,
   "metadata": {
    "colab": {
     "base_uri": "https://localhost:8080/",
     "height": 353
    },
    "colab_type": "code",
    "id": "IEpxxwq_mWXV",
    "outputId": "3b17067d-f234-4fd6-c73c-bb377664deae"
   },
   "outputs": [
    {
     "data": {
      "text/html": [
       "<style  type=\"text/css\" >\n",
       "</style><table id=\"T_3532a922_a41d_11eb_b537_acde48001122\" ><thead>    <tr>        <th class=\"blank level0\" ></th>        <th class=\"col_heading level0 col0\" >an</th>        <th class=\"col_heading level0 col1\" >ap</th>        <th class=\"col_heading level0 col2\" >ar</th>        <th class=\"col_heading level0 col3\" >as</th>        <th class=\"col_heading level0 col4\" >br</th>        <th class=\"col_heading level0 col5\" >ch</th>        <th class=\"col_heading level0 col6\" >ct</th>        <th class=\"col_heading level0 col7\" >dateymd</th>        <th class=\"col_heading level0 col8\" >dl</th>        <th class=\"col_heading level0 col9\" >dn</th>        <th class=\"col_heading level0 col10\" >ga</th>        <th class=\"col_heading level0 col11\" >gj</th>        <th class=\"col_heading level0 col12\" >hp</th>        <th class=\"col_heading level0 col13\" >hr</th>        <th class=\"col_heading level0 col14\" >jh</th>        <th class=\"col_heading level0 col15\" >jk</th>        <th class=\"col_heading level0 col16\" >ka</th>        <th class=\"col_heading level0 col17\" >kl</th>        <th class=\"col_heading level0 col18\" >la</th>        <th class=\"col_heading level0 col19\" >mh</th>        <th class=\"col_heading level0 col20\" >ml</th>        <th class=\"col_heading level0 col21\" >mn</th>        <th class=\"col_heading level0 col22\" >mp</th>        <th class=\"col_heading level0 col23\" >mz</th>        <th class=\"col_heading level0 col24\" >nl</th>        <th class=\"col_heading level0 col25\" >or</th>        <th class=\"col_heading level0 col26\" >pb</th>        <th class=\"col_heading level0 col27\" >py</th>        <th class=\"col_heading level0 col28\" >rj</th>        <th class=\"col_heading level0 col29\" >sk</th>        <th class=\"col_heading level0 col30\" >tg</th>        <th class=\"col_heading level0 col31\" >tn</th>        <th class=\"col_heading level0 col32\" >tr</th>        <th class=\"col_heading level0 col33\" >tt</th>        <th class=\"col_heading level0 col34\" >up</th>        <th class=\"col_heading level0 col35\" >ut</th>        <th class=\"col_heading level0 col36\" >wb</th>    </tr>    <tr>        <th class=\"index_name level0\" >date</th>        <th class=\"blank\" ></th>        <th class=\"blank\" ></th>        <th class=\"blank\" ></th>        <th class=\"blank\" ></th>        <th class=\"blank\" ></th>        <th class=\"blank\" ></th>        <th class=\"blank\" ></th>        <th class=\"blank\" ></th>        <th class=\"blank\" ></th>        <th class=\"blank\" ></th>        <th class=\"blank\" ></th>        <th class=\"blank\" ></th>        <th class=\"blank\" ></th>        <th class=\"blank\" ></th>        <th class=\"blank\" ></th>        <th class=\"blank\" ></th>        <th class=\"blank\" ></th>        <th class=\"blank\" ></th>        <th class=\"blank\" ></th>        <th class=\"blank\" ></th>        <th class=\"blank\" ></th>        <th class=\"blank\" ></th>        <th class=\"blank\" ></th>        <th class=\"blank\" ></th>        <th class=\"blank\" ></th>        <th class=\"blank\" ></th>        <th class=\"blank\" ></th>        <th class=\"blank\" ></th>        <th class=\"blank\" ></th>        <th class=\"blank\" ></th>        <th class=\"blank\" ></th>        <th class=\"blank\" ></th>        <th class=\"blank\" ></th>        <th class=\"blank\" ></th>        <th class=\"blank\" ></th>        <th class=\"blank\" ></th>        <th class=\"blank\" ></th>    </tr></thead><tbody>\n",
       "                <tr>\n",
       "                        <th id=\"T_3532a922_a41d_11eb_b537_acde48001122level0_row0\" class=\"row_heading level0 row0\" >2021-04-16 00:00:00</th>\n",
       "                        <td id=\"T_3532a922_a41d_11eb_b537_acde48001122row0_col0\" class=\"data row0 col0\" >27</td>\n",
       "                        <td id=\"T_3532a922_a41d_11eb_b537_acde48001122row0_col1\" class=\"data row0 col1\" >6096</td>\n",
       "                        <td id=\"T_3532a922_a41d_11eb_b537_acde48001122row0_col2\" class=\"data row0 col2\" >28</td>\n",
       "                        <td id=\"T_3532a922_a41d_11eb_b537_acde48001122row0_col3\" class=\"data row0 col3\" >573</td>\n",
       "                        <td id=\"T_3532a922_a41d_11eb_b537_acde48001122row0_col4\" class=\"data row0 col4\" >6253</td>\n",
       "                        <td id=\"T_3532a922_a41d_11eb_b537_acde48001122row0_col5\" class=\"data row0 col5\" >481</td>\n",
       "                        <td id=\"T_3532a922_a41d_11eb_b537_acde48001122row0_col6\" class=\"data row0 col6\" >14912</td>\n",
       "                        <td id=\"T_3532a922_a41d_11eb_b537_acde48001122row0_col7\" class=\"data row0 col7\" >2021-04-16</td>\n",
       "                        <td id=\"T_3532a922_a41d_11eb_b537_acde48001122row0_col8\" class=\"data row0 col8\" >19486</td>\n",
       "                        <td id=\"T_3532a922_a41d_11eb_b537_acde48001122row0_col9\" class=\"data row0 col9\" >138</td>\n",
       "                        <td id=\"T_3532a922_a41d_11eb_b537_acde48001122row0_col10\" class=\"data row0 col10\" >927</td>\n",
       "                        <td id=\"T_3532a922_a41d_11eb_b537_acde48001122row0_col11\" class=\"data row0 col11\" >8920</td>\n",
       "                        <td id=\"T_3532a922_a41d_11eb_b537_acde48001122row0_col12\" class=\"data row0 col12\" >842</td>\n",
       "                        <td id=\"T_3532a922_a41d_11eb_b537_acde48001122row0_col13\" class=\"data row0 col13\" >6277</td>\n",
       "                        <td id=\"T_3532a922_a41d_11eb_b537_acde48001122row0_col14\" class=\"data row0 col14\" >3843</td>\n",
       "                        <td id=\"T_3532a922_a41d_11eb_b537_acde48001122row0_col15\" class=\"data row0 col15\" >1144</td>\n",
       "                        <td id=\"T_3532a922_a41d_11eb_b537_acde48001122row0_col16\" class=\"data row0 col16\" >14859</td>\n",
       "                        <td id=\"T_3532a922_a41d_11eb_b537_acde48001122row0_col17\" class=\"data row0 col17\" >10031</td>\n",
       "                        <td id=\"T_3532a922_a41d_11eb_b537_acde48001122row0_col18\" class=\"data row0 col18\" >245</td>\n",
       "                        <td id=\"T_3532a922_a41d_11eb_b537_acde48001122row0_col19\" class=\"data row0 col19\" >63729</td>\n",
       "                        <td id=\"T_3532a922_a41d_11eb_b537_acde48001122row0_col20\" class=\"data row0 col20\" >121</td>\n",
       "                        <td id=\"T_3532a922_a41d_11eb_b537_acde48001122row0_col21\" class=\"data row0 col21\" >31</td>\n",
       "                        <td id=\"T_3532a922_a41d_11eb_b537_acde48001122row0_col22\" class=\"data row0 col22\" >11045</td>\n",
       "                        <td id=\"T_3532a922_a41d_11eb_b537_acde48001122row0_col23\" class=\"data row0 col23\" >25</td>\n",
       "                        <td id=\"T_3532a922_a41d_11eb_b537_acde48001122row0_col24\" class=\"data row0 col24\" >22</td>\n",
       "                        <td id=\"T_3532a922_a41d_11eb_b537_acde48001122row0_col25\" class=\"data row0 col25\" >3108</td>\n",
       "                        <td id=\"T_3532a922_a41d_11eb_b537_acde48001122row0_col26\" class=\"data row0 col26\" >3891</td>\n",
       "                        <td id=\"T_3532a922_a41d_11eb_b537_acde48001122row0_col27\" class=\"data row0 col27\" >531</td>\n",
       "                        <td id=\"T_3532a922_a41d_11eb_b537_acde48001122row0_col28\" class=\"data row0 col28\" >7359</td>\n",
       "                        <td id=\"T_3532a922_a41d_11eb_b537_acde48001122row0_col29\" class=\"data row0 col29\" >22</td>\n",
       "                        <td id=\"T_3532a922_a41d_11eb_b537_acde48001122row0_col30\" class=\"data row0 col30\" >3840</td>\n",
       "                        <td id=\"T_3532a922_a41d_11eb_b537_acde48001122row0_col31\" class=\"data row0 col31\" >8449</td>\n",
       "                        <td id=\"T_3532a922_a41d_11eb_b537_acde48001122row0_col32\" class=\"data row0 col32\" >31</td>\n",
       "                        <td id=\"T_3532a922_a41d_11eb_b537_acde48001122row0_col33\" class=\"data row0 col33\" >234002</td>\n",
       "                        <td id=\"T_3532a922_a41d_11eb_b537_acde48001122row0_col34\" class=\"data row0 col34\" >27360</td>\n",
       "                        <td id=\"T_3532a922_a41d_11eb_b537_acde48001122row0_col35\" class=\"data row0 col35\" >2402</td>\n",
       "                        <td id=\"T_3532a922_a41d_11eb_b537_acde48001122row0_col36\" class=\"data row0 col36\" >6910</td>\n",
       "            </tr>\n",
       "            <tr>\n",
       "                        <th id=\"T_3532a922_a41d_11eb_b537_acde48001122level0_row1\" class=\"row_heading level0 row1\" >2021-04-17 00:00:00</th>\n",
       "                        <td id=\"T_3532a922_a41d_11eb_b537_acde48001122row1_col0\" class=\"data row1 col0\" >42</td>\n",
       "                        <td id=\"T_3532a922_a41d_11eb_b537_acde48001122row1_col1\" class=\"data row1 col1\" >7224</td>\n",
       "                        <td id=\"T_3532a922_a41d_11eb_b537_acde48001122row1_col2\" class=\"data row1 col2\" >19</td>\n",
       "                        <td id=\"T_3532a922_a41d_11eb_b537_acde48001122row1_col3\" class=\"data row1 col3\" >876</td>\n",
       "                        <td id=\"T_3532a922_a41d_11eb_b537_acde48001122row1_col4\" class=\"data row1 col4\" >7870</td>\n",
       "                        <td id=\"T_3532a922_a41d_11eb_b537_acde48001122row1_col5\" class=\"data row1 col5\" >431</td>\n",
       "                        <td id=\"T_3532a922_a41d_11eb_b537_acde48001122row1_col6\" class=\"data row1 col6\" >16083</td>\n",
       "                        <td id=\"T_3532a922_a41d_11eb_b537_acde48001122row1_col7\" class=\"data row1 col7\" >2021-04-17</td>\n",
       "                        <td id=\"T_3532a922_a41d_11eb_b537_acde48001122row1_col8\" class=\"data row1 col8\" >24375</td>\n",
       "                        <td id=\"T_3532a922_a41d_11eb_b537_acde48001122row1_col9\" class=\"data row1 col9\" >108</td>\n",
       "                        <td id=\"T_3532a922_a41d_11eb_b537_acde48001122row1_col10\" class=\"data row1 col10\" >762</td>\n",
       "                        <td id=\"T_3532a922_a41d_11eb_b537_acde48001122row1_col11\" class=\"data row1 col11\" >9541</td>\n",
       "                        <td id=\"T_3532a922_a41d_11eb_b537_acde48001122row1_col12\" class=\"data row1 col12\" >1392</td>\n",
       "                        <td id=\"T_3532a922_a41d_11eb_b537_acde48001122row1_col13\" class=\"data row1 col13\" >7717</td>\n",
       "                        <td id=\"T_3532a922_a41d_11eb_b537_acde48001122row1_col14\" class=\"data row1 col14\" >3838</td>\n",
       "                        <td id=\"T_3532a922_a41d_11eb_b537_acde48001122row1_col15\" class=\"data row1 col15\" >1145</td>\n",
       "                        <td id=\"T_3532a922_a41d_11eb_b537_acde48001122row1_col16\" class=\"data row1 col16\" >17489</td>\n",
       "                        <td id=\"T_3532a922_a41d_11eb_b537_acde48001122row1_col17\" class=\"data row1 col17\" >13835</td>\n",
       "                        <td id=\"T_3532a922_a41d_11eb_b537_acde48001122row1_col18\" class=\"data row1 col18\" >362</td>\n",
       "                        <td id=\"T_3532a922_a41d_11eb_b537_acde48001122row1_col19\" class=\"data row1 col19\" >67123</td>\n",
       "                        <td id=\"T_3532a922_a41d_11eb_b537_acde48001122row1_col20\" class=\"data row1 col20\" >95</td>\n",
       "                        <td id=\"T_3532a922_a41d_11eb_b537_acde48001122row1_col21\" class=\"data row1 col21\" >39</td>\n",
       "                        <td id=\"T_3532a922_a41d_11eb_b537_acde48001122row1_col22\" class=\"data row1 col22\" >11269</td>\n",
       "                        <td id=\"T_3532a922_a41d_11eb_b537_acde48001122row1_col23\" class=\"data row1 col23\" >62</td>\n",
       "                        <td id=\"T_3532a922_a41d_11eb_b537_acde48001122row1_col24\" class=\"data row1 col24\" >32</td>\n",
       "                        <td id=\"T_3532a922_a41d_11eb_b537_acde48001122row1_col25\" class=\"data row1 col25\" >3144</td>\n",
       "                        <td id=\"T_3532a922_a41d_11eb_b537_acde48001122row1_col26\" class=\"data row1 col26\" >4431</td>\n",
       "                        <td id=\"T_3532a922_a41d_11eb_b537_acde48001122row1_col27\" class=\"data row1 col27\" >715</td>\n",
       "                        <td id=\"T_3532a922_a41d_11eb_b537_acde48001122row1_col28\" class=\"data row1 col28\" >9046</td>\n",
       "                        <td id=\"T_3532a922_a41d_11eb_b537_acde48001122row1_col29\" class=\"data row1 col29\" >72</td>\n",
       "                        <td id=\"T_3532a922_a41d_11eb_b537_acde48001122row1_col30\" class=\"data row1 col30\" >4446</td>\n",
       "                        <td id=\"T_3532a922_a41d_11eb_b537_acde48001122row1_col31\" class=\"data row1 col31\" >9344</td>\n",
       "                        <td id=\"T_3532a922_a41d_11eb_b537_acde48001122row1_col32\" class=\"data row1 col32\" >58</td>\n",
       "                        <td id=\"T_3532a922_a41d_11eb_b537_acde48001122row1_col33\" class=\"data row1 col33\" >260895</td>\n",
       "                        <td id=\"T_3532a922_a41d_11eb_b537_acde48001122row1_col34\" class=\"data row1 col34\" >27334</td>\n",
       "                        <td id=\"T_3532a922_a41d_11eb_b537_acde48001122row1_col35\" class=\"data row1 col35\" >2757</td>\n",
       "                        <td id=\"T_3532a922_a41d_11eb_b537_acde48001122row1_col36\" class=\"data row1 col36\" >7713</td>\n",
       "            </tr>\n",
       "            <tr>\n",
       "                        <th id=\"T_3532a922_a41d_11eb_b537_acde48001122level0_row2\" class=\"row_heading level0 row2\" >2021-04-18 00:00:00</th>\n",
       "                        <td id=\"T_3532a922_a41d_11eb_b537_acde48001122row2_col0\" class=\"data row2 col0\" >59</td>\n",
       "                        <td id=\"T_3532a922_a41d_11eb_b537_acde48001122row2_col1\" class=\"data row2 col1\" >6582</td>\n",
       "                        <td id=\"T_3532a922_a41d_11eb_b537_acde48001122row2_col2\" class=\"data row2 col2\" >20</td>\n",
       "                        <td id=\"T_3532a922_a41d_11eb_b537_acde48001122row2_col3\" class=\"data row2 col3\" >639</td>\n",
       "                        <td id=\"T_3532a922_a41d_11eb_b537_acde48001122row2_col4\" class=\"data row2 col4\" >8690</td>\n",
       "                        <td id=\"T_3532a922_a41d_11eb_b537_acde48001122row2_col5\" class=\"data row2 col5\" >625</td>\n",
       "                        <td id=\"T_3532a922_a41d_11eb_b537_acde48001122row2_col6\" class=\"data row2 col6\" >12345</td>\n",
       "                        <td id=\"T_3532a922_a41d_11eb_b537_acde48001122row2_col7\" class=\"data row2 col7\" >2021-04-18</td>\n",
       "                        <td id=\"T_3532a922_a41d_11eb_b537_acde48001122row2_col8\" class=\"data row2 col8\" >25462</td>\n",
       "                        <td id=\"T_3532a922_a41d_11eb_b537_acde48001122row2_col9\" class=\"data row2 col9\" >184</td>\n",
       "                        <td id=\"T_3532a922_a41d_11eb_b537_acde48001122row2_col10\" class=\"data row2 col10\" >951</td>\n",
       "                        <td id=\"T_3532a922_a41d_11eb_b537_acde48001122row2_col11\" class=\"data row2 col11\" >10340</td>\n",
       "                        <td id=\"T_3532a922_a41d_11eb_b537_acde48001122row2_col12\" class=\"data row2 col12\" >788</td>\n",
       "                        <td id=\"T_3532a922_a41d_11eb_b537_acde48001122row2_col13\" class=\"data row2 col13\" >7177</td>\n",
       "                        <td id=\"T_3532a922_a41d_11eb_b537_acde48001122row2_col14\" class=\"data row2 col14\" >3992</td>\n",
       "                        <td id=\"T_3532a922_a41d_11eb_b537_acde48001122row2_col15\" class=\"data row2 col15\" >1526</td>\n",
       "                        <td id=\"T_3532a922_a41d_11eb_b537_acde48001122row2_col16\" class=\"data row2 col16\" >19067</td>\n",
       "                        <td id=\"T_3532a922_a41d_11eb_b537_acde48001122row2_col17\" class=\"data row2 col17\" >18257</td>\n",
       "                        <td id=\"T_3532a922_a41d_11eb_b537_acde48001122row2_col18\" class=\"data row2 col18\" >60</td>\n",
       "                        <td id=\"T_3532a922_a41d_11eb_b537_acde48001122row2_col19\" class=\"data row2 col19\" >68631</td>\n",
       "                        <td id=\"T_3532a922_a41d_11eb_b537_acde48001122row2_col20\" class=\"data row2 col20\" >71</td>\n",
       "                        <td id=\"T_3532a922_a41d_11eb_b537_acde48001122row2_col21\" class=\"data row2 col21\" >72</td>\n",
       "                        <td id=\"T_3532a922_a41d_11eb_b537_acde48001122row2_col22\" class=\"data row2 col22\" >12248</td>\n",
       "                        <td id=\"T_3532a922_a41d_11eb_b537_acde48001122row2_col23\" class=\"data row2 col23\" >50</td>\n",
       "                        <td id=\"T_3532a922_a41d_11eb_b537_acde48001122row2_col24\" class=\"data row2 col24\" >19</td>\n",
       "                        <td id=\"T_3532a922_a41d_11eb_b537_acde48001122row2_col25\" class=\"data row2 col25\" >3664</td>\n",
       "                        <td id=\"T_3532a922_a41d_11eb_b537_acde48001122row2_col26\" class=\"data row2 col26\" >4900</td>\n",
       "                        <td id=\"T_3532a922_a41d_11eb_b537_acde48001122row2_col27\" class=\"data row2 col27\" >663</td>\n",
       "                        <td id=\"T_3532a922_a41d_11eb_b537_acde48001122row2_col28\" class=\"data row2 col28\" >10262</td>\n",
       "                        <td id=\"T_3532a922_a41d_11eb_b537_acde48001122row2_col29\" class=\"data row2 col29\" >105</td>\n",
       "                        <td id=\"T_3532a922_a41d_11eb_b537_acde48001122row2_col30\" class=\"data row2 col30\" >5093</td>\n",
       "                        <td id=\"T_3532a922_a41d_11eb_b537_acde48001122row2_col31\" class=\"data row2 col31\" >10723</td>\n",
       "                        <td id=\"T_3532a922_a41d_11eb_b537_acde48001122row2_col32\" class=\"data row2 col32\" >69</td>\n",
       "                        <td id=\"T_3532a922_a41d_11eb_b537_acde48001122row2_col33\" class=\"data row2 col33\" >275063</td>\n",
       "                        <td id=\"T_3532a922_a41d_11eb_b537_acde48001122row2_col34\" class=\"data row2 col34\" >30566</td>\n",
       "                        <td id=\"T_3532a922_a41d_11eb_b537_acde48001122row2_col35\" class=\"data row2 col35\" >2630</td>\n",
       "                        <td id=\"T_3532a922_a41d_11eb_b537_acde48001122row2_col36\" class=\"data row2 col36\" >8419</td>\n",
       "            </tr>\n",
       "            <tr>\n",
       "                        <th id=\"T_3532a922_a41d_11eb_b537_acde48001122level0_row3\" class=\"row_heading level0 row3\" >2021-04-19 00:00:00</th>\n",
       "                        <td id=\"T_3532a922_a41d_11eb_b537_acde48001122row3_col0\" class=\"data row3 col0\" >31</td>\n",
       "                        <td id=\"T_3532a922_a41d_11eb_b537_acde48001122row3_col1\" class=\"data row3 col1\" >5963</td>\n",
       "                        <td id=\"T_3532a922_a41d_11eb_b537_acde48001122row3_col2\" class=\"data row3 col2\" >65</td>\n",
       "                        <td id=\"T_3532a922_a41d_11eb_b537_acde48001122row3_col3\" class=\"data row3 col3\" >1367</td>\n",
       "                        <td id=\"T_3532a922_a41d_11eb_b537_acde48001122row3_col4\" class=\"data row3 col4\" >7487</td>\n",
       "                        <td id=\"T_3532a922_a41d_11eb_b537_acde48001122row3_col5\" class=\"data row3 col5\" >612</td>\n",
       "                        <td id=\"T_3532a922_a41d_11eb_b537_acde48001122row3_col6\" class=\"data row3 col6\" >13834</td>\n",
       "                        <td id=\"T_3532a922_a41d_11eb_b537_acde48001122row3_col7\" class=\"data row3 col7\" >2021-04-19</td>\n",
       "                        <td id=\"T_3532a922_a41d_11eb_b537_acde48001122row3_col8\" class=\"data row3 col8\" >23686</td>\n",
       "                        <td id=\"T_3532a922_a41d_11eb_b537_acde48001122row3_col9\" class=\"data row3 col9\" >121</td>\n",
       "                        <td id=\"T_3532a922_a41d_11eb_b537_acde48001122row3_col10\" class=\"data row3 col10\" >940</td>\n",
       "                        <td id=\"T_3532a922_a41d_11eb_b537_acde48001122row3_col11\" class=\"data row3 col11\" >11403</td>\n",
       "                        <td id=\"T_3532a922_a41d_11eb_b537_acde48001122row3_col12\" class=\"data row3 col12\" >1695</td>\n",
       "                        <td id=\"T_3532a922_a41d_11eb_b537_acde48001122row3_col13\" class=\"data row3 col13\" >6842</td>\n",
       "                        <td id=\"T_3532a922_a41d_11eb_b537_acde48001122row3_col14\" class=\"data row3 col14\" >4290</td>\n",
       "                        <td id=\"T_3532a922_a41d_11eb_b537_acde48001122row3_col15\" class=\"data row3 col15\" >1516</td>\n",
       "                        <td id=\"T_3532a922_a41d_11eb_b537_acde48001122row3_col16\" class=\"data row3 col16\" >15785</td>\n",
       "                        <td id=\"T_3532a922_a41d_11eb_b537_acde48001122row3_col17\" class=\"data row3 col17\" >13644</td>\n",
       "                        <td id=\"T_3532a922_a41d_11eb_b537_acde48001122row3_col18\" class=\"data row3 col18\" >175</td>\n",
       "                        <td id=\"T_3532a922_a41d_11eb_b537_acde48001122row3_col19\" class=\"data row3 col19\" >58924</td>\n",
       "                        <td id=\"T_3532a922_a41d_11eb_b537_acde48001122row3_col20\" class=\"data row3 col20\" >110</td>\n",
       "                        <td id=\"T_3532a922_a41d_11eb_b537_acde48001122row3_col21\" class=\"data row3 col21\" >54</td>\n",
       "                        <td id=\"T_3532a922_a41d_11eb_b537_acde48001122row3_col22\" class=\"data row3 col22\" >12897</td>\n",
       "                        <td id=\"T_3532a922_a41d_11eb_b537_acde48001122row3_col23\" class=\"data row3 col23\" >45</td>\n",
       "                        <td id=\"T_3532a922_a41d_11eb_b537_acde48001122row3_col24\" class=\"data row3 col24\" >13</td>\n",
       "                        <td id=\"T_3532a922_a41d_11eb_b537_acde48001122row3_col25\" class=\"data row3 col25\" >4445</td>\n",
       "                        <td id=\"T_3532a922_a41d_11eb_b537_acde48001122row3_col26\" class=\"data row3 col26\" >4622</td>\n",
       "                        <td id=\"T_3532a922_a41d_11eb_b537_acde48001122row3_col27\" class=\"data row3 col27\" >565</td>\n",
       "                        <td id=\"T_3532a922_a41d_11eb_b537_acde48001122row3_col28\" class=\"data row3 col28\" >11967</td>\n",
       "                        <td id=\"T_3532a922_a41d_11eb_b537_acde48001122row3_col29\" class=\"data row3 col29\" >9</td>\n",
       "                        <td id=\"T_3532a922_a41d_11eb_b537_acde48001122row3_col30\" class=\"data row3 col30\" >4009</td>\n",
       "                        <td id=\"T_3532a922_a41d_11eb_b537_acde48001122row3_col31\" class=\"data row3 col31\" >10941</td>\n",
       "                        <td id=\"T_3532a922_a41d_11eb_b537_acde48001122row3_col32\" class=\"data row3 col32\" >32</td>\n",
       "                        <td id=\"T_3532a922_a41d_11eb_b537_acde48001122row3_col33\" class=\"data row3 col33\" >257003</td>\n",
       "                        <td id=\"T_3532a922_a41d_11eb_b537_acde48001122row3_col34\" class=\"data row3 col34\" >28211</td>\n",
       "                        <td id=\"T_3532a922_a41d_11eb_b537_acde48001122row3_col35\" class=\"data row3 col35\" >2160</td>\n",
       "                        <td id=\"T_3532a922_a41d_11eb_b537_acde48001122row3_col36\" class=\"data row3 col36\" >8426</td>\n",
       "            </tr>\n",
       "            <tr>\n",
       "                        <th id=\"T_3532a922_a41d_11eb_b537_acde48001122level0_row4\" class=\"row_heading level0 row4\" >2021-04-20 00:00:00</th>\n",
       "                        <td id=\"T_3532a922_a41d_11eb_b537_acde48001122row4_col0\" class=\"data row4 col0\" >45</td>\n",
       "                        <td id=\"T_3532a922_a41d_11eb_b537_acde48001122row4_col1\" class=\"data row4 col1\" >8987</td>\n",
       "                        <td id=\"T_3532a922_a41d_11eb_b537_acde48001122row4_col2\" class=\"data row4 col2\" >61</td>\n",
       "                        <td id=\"T_3532a922_a41d_11eb_b537_acde48001122row4_col3\" class=\"data row4 col3\" >1651</td>\n",
       "                        <td id=\"T_3532a922_a41d_11eb_b537_acde48001122row4_col4\" class=\"data row4 col4\" >10455</td>\n",
       "                        <td id=\"T_3532a922_a41d_11eb_b537_acde48001122row4_col5\" class=\"data row4 col5\" >602</td>\n",
       "                        <td id=\"T_3532a922_a41d_11eb_b537_acde48001122row4_col6\" class=\"data row4 col6\" >15625</td>\n",
       "                        <td id=\"T_3532a922_a41d_11eb_b537_acde48001122row4_col7\" class=\"data row4 col7\" >2021-04-20</td>\n",
       "                        <td id=\"T_3532a922_a41d_11eb_b537_acde48001122row4_col8\" class=\"data row4 col8\" >28395</td>\n",
       "                        <td id=\"T_3532a922_a41d_11eb_b537_acde48001122row4_col9\" class=\"data row4 col9\" >291</td>\n",
       "                        <td id=\"T_3532a922_a41d_11eb_b537_acde48001122row4_col10\" class=\"data row4 col10\" >1160</td>\n",
       "                        <td id=\"T_3532a922_a41d_11eb_b537_acde48001122row4_col11\" class=\"data row4 col11\" >12206</td>\n",
       "                        <td id=\"T_3532a922_a41d_11eb_b537_acde48001122row4_col12\" class=\"data row4 col12\" >1340</td>\n",
       "                        <td id=\"T_3532a922_a41d_11eb_b537_acde48001122row4_col13\" class=\"data row4 col13\" >7811</td>\n",
       "                        <td id=\"T_3532a922_a41d_11eb_b537_acde48001122row4_col14\" class=\"data row4 col14\" >5080</td>\n",
       "                        <td id=\"T_3532a922_a41d_11eb_b537_acde48001122row4_col15\" class=\"data row4 col15\" >2030</td>\n",
       "                        <td id=\"T_3532a922_a41d_11eb_b537_acde48001122row4_col16\" class=\"data row4 col16\" >21794</td>\n",
       "                        <td id=\"T_3532a922_a41d_11eb_b537_acde48001122row4_col17\" class=\"data row4 col17\" >19577</td>\n",
       "                        <td id=\"T_3532a922_a41d_11eb_b537_acde48001122row4_col18\" class=\"data row4 col18\" >250</td>\n",
       "                        <td id=\"T_3532a922_a41d_11eb_b537_acde48001122row4_col19\" class=\"data row4 col19\" >62097</td>\n",
       "                        <td id=\"T_3532a922_a41d_11eb_b537_acde48001122row4_col20\" class=\"data row4 col20\" >137</td>\n",
       "                        <td id=\"T_3532a922_a41d_11eb_b537_acde48001122row4_col21\" class=\"data row4 col21\" >94</td>\n",
       "                        <td id=\"T_3532a922_a41d_11eb_b537_acde48001122row4_col22\" class=\"data row4 col22\" >12727</td>\n",
       "                        <td id=\"T_3532a922_a41d_11eb_b537_acde48001122row4_col23\" class=\"data row4 col23\" >91</td>\n",
       "                        <td id=\"T_3532a922_a41d_11eb_b537_acde48001122row4_col24\" class=\"data row4 col24\" >82</td>\n",
       "                        <td id=\"T_3532a922_a41d_11eb_b537_acde48001122row4_col25\" class=\"data row4 col25\" >4761</td>\n",
       "                        <td id=\"T_3532a922_a41d_11eb_b537_acde48001122row4_col26\" class=\"data row4 col26\" >4656</td>\n",
       "                        <td id=\"T_3532a922_a41d_11eb_b537_acde48001122row4_col27\" class=\"data row4 col27\" >638</td>\n",
       "                        <td id=\"T_3532a922_a41d_11eb_b537_acde48001122row4_col28\" class=\"data row4 col28\" >12201</td>\n",
       "                        <td id=\"T_3532a922_a41d_11eb_b537_acde48001122row4_col29\" class=\"data row4 col29\" >91</td>\n",
       "                        <td id=\"T_3532a922_a41d_11eb_b537_acde48001122row4_col30\" class=\"data row4 col30\" >5926</td>\n",
       "                        <td id=\"T_3532a922_a41d_11eb_b537_acde48001122row4_col31\" class=\"data row4 col31\" >10986</td>\n",
       "                        <td id=\"T_3532a922_a41d_11eb_b537_acde48001122row4_col32\" class=\"data row4 col32\" >60</td>\n",
       "                        <td id=\"T_3532a922_a41d_11eb_b537_acde48001122row4_col33\" class=\"data row4 col33\" >294365</td>\n",
       "                        <td id=\"T_3532a922_a41d_11eb_b537_acde48001122row4_col34\" class=\"data row4 col34\" >29574</td>\n",
       "                        <td id=\"T_3532a922_a41d_11eb_b537_acde48001122row4_col35\" class=\"data row4 col35\" >3012</td>\n",
       "                        <td id=\"T_3532a922_a41d_11eb_b537_acde48001122row4_col36\" class=\"data row4 col36\" >9819</td>\n",
       "            </tr>\n",
       "            <tr>\n",
       "                        <th id=\"T_3532a922_a41d_11eb_b537_acde48001122level0_row5\" class=\"row_heading level0 row5\" >2021-04-21 00:00:00</th>\n",
       "                        <td id=\"T_3532a922_a41d_11eb_b537_acde48001122row5_col0\" class=\"data row5 col0\" >24</td>\n",
       "                        <td id=\"T_3532a922_a41d_11eb_b537_acde48001122row5_col1\" class=\"data row5 col1\" >9716</td>\n",
       "                        <td id=\"T_3532a922_a41d_11eb_b537_acde48001122row5_col2\" class=\"data row5 col2\" >73</td>\n",
       "                        <td id=\"T_3532a922_a41d_11eb_b537_acde48001122row5_col3\" class=\"data row5 col3\" >1665</td>\n",
       "                        <td id=\"T_3532a922_a41d_11eb_b537_acde48001122row5_col4\" class=\"data row5 col4\" >12222</td>\n",
       "                        <td id=\"T_3532a922_a41d_11eb_b537_acde48001122row5_col5\" class=\"data row5 col5\" >622</td>\n",
       "                        <td id=\"T_3532a922_a41d_11eb_b537_acde48001122row5_col6\" class=\"data row5 col6\" >14519</td>\n",
       "                        <td id=\"T_3532a922_a41d_11eb_b537_acde48001122row5_col7\" class=\"data row5 col7\" >2021-04-21</td>\n",
       "                        <td id=\"T_3532a922_a41d_11eb_b537_acde48001122row5_col8\" class=\"data row5 col8\" >24638</td>\n",
       "                        <td id=\"T_3532a922_a41d_11eb_b537_acde48001122row5_col9\" class=\"data row5 col9\" >234</td>\n",
       "                        <td id=\"T_3532a922_a41d_11eb_b537_acde48001122row5_col10\" class=\"data row5 col10\" >1502</td>\n",
       "                        <td id=\"T_3532a922_a41d_11eb_b537_acde48001122row5_col11\" class=\"data row5 col11\" >12553</td>\n",
       "                        <td id=\"T_3532a922_a41d_11eb_b537_acde48001122row5_col12\" class=\"data row5 col12\" >1692</td>\n",
       "                        <td id=\"T_3532a922_a41d_11eb_b537_acde48001122row5_col13\" class=\"data row5 col13\" >9623</td>\n",
       "                        <td id=\"T_3532a922_a41d_11eb_b537_acde48001122row5_col14\" class=\"data row5 col14\" >5041</td>\n",
       "                        <td id=\"T_3532a922_a41d_11eb_b537_acde48001122row5_col15\" class=\"data row5 col15\" >2204</td>\n",
       "                        <td id=\"T_3532a922_a41d_11eb_b537_acde48001122row5_col16\" class=\"data row5 col16\" >23558</td>\n",
       "                        <td id=\"T_3532a922_a41d_11eb_b537_acde48001122row5_col17\" class=\"data row5 col17\" >22414</td>\n",
       "                        <td id=\"T_3532a922_a41d_11eb_b537_acde48001122row5_col18\" class=\"data row5 col18\" >183</td>\n",
       "                        <td id=\"T_3532a922_a41d_11eb_b537_acde48001122row5_col19\" class=\"data row5 col19\" >67468</td>\n",
       "                        <td id=\"T_3532a922_a41d_11eb_b537_acde48001122row5_col20\" class=\"data row5 col20\" >192</td>\n",
       "                        <td id=\"T_3532a922_a41d_11eb_b537_acde48001122row5_col21\" class=\"data row5 col21\" >92</td>\n",
       "                        <td id=\"T_3532a922_a41d_11eb_b537_acde48001122row5_col22\" class=\"data row5 col22\" >13107</td>\n",
       "                        <td id=\"T_3532a922_a41d_11eb_b537_acde48001122row5_col23\" class=\"data row5 col23\" >90</td>\n",
       "                        <td id=\"T_3532a922_a41d_11eb_b537_acde48001122row5_col24\" class=\"data row5 col24\" >97</td>\n",
       "                        <td id=\"T_3532a922_a41d_11eb_b537_acde48001122row5_col25\" class=\"data row5 col25\" >4851</td>\n",
       "                        <td id=\"T_3532a922_a41d_11eb_b537_acde48001122row5_col26\" class=\"data row5 col26\" >4953</td>\n",
       "                        <td id=\"T_3532a922_a41d_11eb_b537_acde48001122row5_col27\" class=\"data row5 col27\" >619</td>\n",
       "                        <td id=\"T_3532a922_a41d_11eb_b537_acde48001122row5_col28\" class=\"data row5 col28\" >14622</td>\n",
       "                        <td id=\"T_3532a922_a41d_11eb_b537_acde48001122row5_col29\" class=\"data row5 col29\" >50</td>\n",
       "                        <td id=\"T_3532a922_a41d_11eb_b537_acde48001122row5_col30\" class=\"data row5 col30\" >6542</td>\n",
       "                        <td id=\"T_3532a922_a41d_11eb_b537_acde48001122row5_col31\" class=\"data row5 col31\" >11681</td>\n",
       "                        <td id=\"T_3532a922_a41d_11eb_b537_acde48001122row5_col32\" class=\"data row5 col32\" >0</td>\n",
       "                        <td id=\"T_3532a922_a41d_11eb_b537_acde48001122row5_col33\" class=\"data row5 col33\" >315735</td>\n",
       "                        <td id=\"T_3532a922_a41d_11eb_b537_acde48001122row5_col34\" class=\"data row5 col34\" >33106</td>\n",
       "                        <td id=\"T_3532a922_a41d_11eb_b537_acde48001122row5_col35\" class=\"data row5 col35\" >4807</td>\n",
       "                        <td id=\"T_3532a922_a41d_11eb_b537_acde48001122row5_col36\" class=\"data row5 col36\" >10784</td>\n",
       "            </tr>\n",
       "            <tr>\n",
       "                        <th id=\"T_3532a922_a41d_11eb_b537_acde48001122level0_row6\" class=\"row_heading level0 row6\" >2021-04-22 00:00:00</th>\n",
       "                        <td id=\"T_3532a922_a41d_11eb_b537_acde48001122row6_col0\" class=\"data row6 col0\" >37</td>\n",
       "                        <td id=\"T_3532a922_a41d_11eb_b537_acde48001122row6_col1\" class=\"data row6 col1\" >10759</td>\n",
       "                        <td id=\"T_3532a922_a41d_11eb_b537_acde48001122row6_col2\" class=\"data row6 col2\" >110</td>\n",
       "                        <td id=\"T_3532a922_a41d_11eb_b537_acde48001122row6_col3\" class=\"data row6 col3\" >1931</td>\n",
       "                        <td id=\"T_3532a922_a41d_11eb_b537_acde48001122row6_col4\" class=\"data row6 col4\" >11489</td>\n",
       "                        <td id=\"T_3532a922_a41d_11eb_b537_acde48001122row6_col5\" class=\"data row6 col5\" >634</td>\n",
       "                        <td id=\"T_3532a922_a41d_11eb_b537_acde48001122row6_col6\" class=\"data row6 col6\" >16750</td>\n",
       "                        <td id=\"T_3532a922_a41d_11eb_b537_acde48001122row6_col7\" class=\"data row6 col7\" >2021-04-22</td>\n",
       "                        <td id=\"T_3532a922_a41d_11eb_b537_acde48001122row6_col8\" class=\"data row6 col8\" >26169</td>\n",
       "                        <td id=\"T_3532a922_a41d_11eb_b537_acde48001122row6_col9\" class=\"data row6 col9\" >346</td>\n",
       "                        <td id=\"T_3532a922_a41d_11eb_b537_acde48001122row6_col10\" class=\"data row6 col10\" >1410</td>\n",
       "                        <td id=\"T_3532a922_a41d_11eb_b537_acde48001122row6_col11\" class=\"data row6 col11\" >13105</td>\n",
       "                        <td id=\"T_3532a922_a41d_11eb_b537_acde48001122row6_col12\" class=\"data row6 col12\" >1774</td>\n",
       "                        <td id=\"T_3532a922_a41d_11eb_b537_acde48001122row6_col13\" class=\"data row6 col13\" >9742</td>\n",
       "                        <td id=\"T_3532a922_a41d_11eb_b537_acde48001122row6_col14\" class=\"data row6 col14\" >7595</td>\n",
       "                        <td id=\"T_3532a922_a41d_11eb_b537_acde48001122row6_col15\" class=\"data row6 col15\" >1965</td>\n",
       "                        <td id=\"T_3532a922_a41d_11eb_b537_acde48001122row6_col16\" class=\"data row6 col16\" >25795</td>\n",
       "                        <td id=\"T_3532a922_a41d_11eb_b537_acde48001122row6_col17\" class=\"data row6 col17\" >26995</td>\n",
       "                        <td id=\"T_3532a922_a41d_11eb_b537_acde48001122row6_col18\" class=\"data row6 col18\" >198</td>\n",
       "                        <td id=\"T_3532a922_a41d_11eb_b537_acde48001122row6_col19\" class=\"data row6 col19\" >67013</td>\n",
       "                        <td id=\"T_3532a922_a41d_11eb_b537_acde48001122row6_col20\" class=\"data row6 col20\" >180</td>\n",
       "                        <td id=\"T_3532a922_a41d_11eb_b537_acde48001122row6_col21\" class=\"data row6 col21\" >86</td>\n",
       "                        <td id=\"T_3532a922_a41d_11eb_b537_acde48001122row6_col22\" class=\"data row6 col22\" >12384</td>\n",
       "                        <td id=\"T_3532a922_a41d_11eb_b537_acde48001122row6_col23\" class=\"data row6 col23\" >73</td>\n",
       "                        <td id=\"T_3532a922_a41d_11eb_b537_acde48001122row6_col24\" class=\"data row6 col24\" >53</td>\n",
       "                        <td id=\"T_3532a922_a41d_11eb_b537_acde48001122row6_col25\" class=\"data row6 col25\" >6164</td>\n",
       "                        <td id=\"T_3532a922_a41d_11eb_b537_acde48001122row6_col26\" class=\"data row6 col26\" >5450</td>\n",
       "                        <td id=\"T_3532a922_a41d_11eb_b537_acde48001122row6_col27\" class=\"data row6 col27\" >987</td>\n",
       "                        <td id=\"T_3532a922_a41d_11eb_b537_acde48001122row6_col28\" class=\"data row6 col28\" >14468</td>\n",
       "                        <td id=\"T_3532a922_a41d_11eb_b537_acde48001122row6_col29\" class=\"data row6 col29\" >124</td>\n",
       "                        <td id=\"T_3532a922_a41d_11eb_b537_acde48001122row6_col30\" class=\"data row6 col30\" >5567</td>\n",
       "                        <td id=\"T_3532a922_a41d_11eb_b537_acde48001122row6_col31\" class=\"data row6 col31\" >12652</td>\n",
       "                        <td id=\"T_3532a922_a41d_11eb_b537_acde48001122row6_col32\" class=\"data row6 col32\" >168</td>\n",
       "                        <td id=\"T_3532a922_a41d_11eb_b537_acde48001122row6_col33\" class=\"data row6 col33\" >332518</td>\n",
       "                        <td id=\"T_3532a922_a41d_11eb_b537_acde48001122row6_col34\" class=\"data row6 col34\" >34254</td>\n",
       "                        <td id=\"T_3532a922_a41d_11eb_b537_acde48001122row6_col35\" class=\"data row6 col35\" >3998</td>\n",
       "                        <td id=\"T_3532a922_a41d_11eb_b537_acde48001122row6_col36\" class=\"data row6 col36\" >11948</td>\n",
       "            </tr>\n",
       "    </tbody></table>"
      ],
      "text/plain": [
       "<pandas.io.formats.style.Styler at 0x7fe16d4de7f0>"
      ]
     },
     "execution_count": 37,
     "metadata": {},
     "output_type": "execute_result"
    }
   ],
   "source": [
    "df.style.highlight_max(color='red').highlight_min(color='green')"
   ]
  },
  {
   "cell_type": "code",
   "execution_count": 38,
   "metadata": {
    "colab": {},
    "colab_type": "code",
    "id": "mj0yKDDjmbRz"
   },
   "outputs": [],
   "source": [
    "df.drop('tt', axis=1, inplace=True)"
   ]
  },
  {
   "cell_type": "code",
   "execution_count": 39,
   "metadata": {
    "colab": {},
    "colab_type": "code",
    "id": "LQVELmcsmvYP"
   },
   "outputs": [],
   "source": [
    "def bold_max_value(x):\n",
    "    is_max = (x == x.max())\n",
    "    return ['font-weight: bold' if y else '' for y in is_max]"
   ]
  },
  {
   "cell_type": "code",
   "execution_count": 40,
   "metadata": {
    "colab": {
     "base_uri": "https://localhost:8080/",
     "height": 353
    },
    "colab_type": "code",
    "id": "G1162PYinZ8x",
    "outputId": "c1046b7d-c85a-487c-becc-32dbc4a68d84"
   },
   "outputs": [
    {
     "data": {
      "text/html": [
       "<style  type=\"text/css\" >\n",
       "    #T_354313b6_a41d_11eb_b537_acde48001122row0_col12 {\n",
       "            font-weight:  bold;\n",
       "        }    #T_354313b6_a41d_11eb_b537_acde48001122row1_col3 {\n",
       "            font-weight:  bold;\n",
       "        }    #T_354313b6_a41d_11eb_b537_acde48001122row1_col11 {\n",
       "            font-weight:  bold;\n",
       "        }    #T_354313b6_a41d_11eb_b537_acde48001122row1_col20 {\n",
       "            font-weight:  bold;\n",
       "        }    #T_354313b6_a41d_11eb_b537_acde48001122row1_col28 {\n",
       "            font-weight:  bold;\n",
       "        }    #T_354313b6_a41d_11eb_b537_acde48001122row1_col31 {\n",
       "            font-weight:  bold;\n",
       "        }    #T_354313b6_a41d_11eb_b537_acde48001122row2_col0 {\n",
       "            font-weight:  bold;\n",
       "        }    #T_354313b6_a41d_11eb_b537_acde48001122row2_col4 {\n",
       "            font-weight:  bold;\n",
       "        }    #T_354313b6_a41d_11eb_b537_acde48001122row2_col10 {\n",
       "            font-weight:  bold;\n",
       "        }    #T_354313b6_a41d_11eb_b537_acde48001122row2_col18 {\n",
       "            font-weight:  bold;\n",
       "        }    #T_354313b6_a41d_11eb_b537_acde48001122row2_col19 {\n",
       "            font-weight:  bold;\n",
       "        }    #T_354313b6_a41d_11eb_b537_acde48001122row2_col32 {\n",
       "            font-weight:  bold;\n",
       "        }    #T_354313b6_a41d_11eb_b537_acde48001122row4_col8 {\n",
       "            font-weight:  bold;\n",
       "        }    #T_354313b6_a41d_11eb_b537_acde48001122row4_col21 {\n",
       "            font-weight:  bold;\n",
       "        }    #T_354313b6_a41d_11eb_b537_acde48001122row4_col23 {\n",
       "            font-weight:  bold;\n",
       "        }    #T_354313b6_a41d_11eb_b537_acde48001122row4_col29 {\n",
       "            font-weight:  bold;\n",
       "        }    #T_354313b6_a41d_11eb_b537_acde48001122row4_col35 {\n",
       "            font-weight:  bold;\n",
       "        }    #T_354313b6_a41d_11eb_b537_acde48001122row5_col1 {\n",
       "            font-weight:  bold;\n",
       "        }    #T_354313b6_a41d_11eb_b537_acde48001122row5_col2 {\n",
       "            font-weight:  bold;\n",
       "        }    #T_354313b6_a41d_11eb_b537_acde48001122row5_col15 {\n",
       "            font-weight:  bold;\n",
       "        }    #T_354313b6_a41d_11eb_b537_acde48001122row5_col22 {\n",
       "            font-weight:  bold;\n",
       "        }    #T_354313b6_a41d_11eb_b537_acde48001122row5_col24 {\n",
       "            font-weight:  bold;\n",
       "        }    #T_354313b6_a41d_11eb_b537_acde48001122row5_col30 {\n",
       "            font-weight:  bold;\n",
       "        }    #T_354313b6_a41d_11eb_b537_acde48001122row5_col34 {\n",
       "            font-weight:  bold;\n",
       "        }    #T_354313b6_a41d_11eb_b537_acde48001122row6_col5 {\n",
       "            font-weight:  bold;\n",
       "        }    #T_354313b6_a41d_11eb_b537_acde48001122row6_col6 {\n",
       "            font-weight:  bold;\n",
       "        }    #T_354313b6_a41d_11eb_b537_acde48001122row6_col7 {\n",
       "            font-weight:  bold;\n",
       "        }    #T_354313b6_a41d_11eb_b537_acde48001122row6_col9 {\n",
       "            font-weight:  bold;\n",
       "        }    #T_354313b6_a41d_11eb_b537_acde48001122row6_col13 {\n",
       "            font-weight:  bold;\n",
       "        }    #T_354313b6_a41d_11eb_b537_acde48001122row6_col14 {\n",
       "            font-weight:  bold;\n",
       "        }    #T_354313b6_a41d_11eb_b537_acde48001122row6_col16 {\n",
       "            font-weight:  bold;\n",
       "        }    #T_354313b6_a41d_11eb_b537_acde48001122row6_col17 {\n",
       "            font-weight:  bold;\n",
       "        }    #T_354313b6_a41d_11eb_b537_acde48001122row6_col25 {\n",
       "            font-weight:  bold;\n",
       "        }    #T_354313b6_a41d_11eb_b537_acde48001122row6_col26 {\n",
       "            font-weight:  bold;\n",
       "        }    #T_354313b6_a41d_11eb_b537_acde48001122row6_col27 {\n",
       "            font-weight:  bold;\n",
       "        }    #T_354313b6_a41d_11eb_b537_acde48001122row6_col33 {\n",
       "            font-weight:  bold;\n",
       "        }</style><table id=\"T_354313b6_a41d_11eb_b537_acde48001122\" ><thead>    <tr>        <th class=\"blank level0\" ></th>        <th class=\"col_heading level0 col0\" >an</th>        <th class=\"col_heading level0 col1\" >ap</th>        <th class=\"col_heading level0 col2\" >ar</th>        <th class=\"col_heading level0 col3\" >as</th>        <th class=\"col_heading level0 col4\" >br</th>        <th class=\"col_heading level0 col5\" >ch</th>        <th class=\"col_heading level0 col6\" >ct</th>        <th class=\"col_heading level0 col7\" >dateymd</th>        <th class=\"col_heading level0 col8\" >dl</th>        <th class=\"col_heading level0 col9\" >dn</th>        <th class=\"col_heading level0 col10\" >ga</th>        <th class=\"col_heading level0 col11\" >gj</th>        <th class=\"col_heading level0 col12\" >hp</th>        <th class=\"col_heading level0 col13\" >hr</th>        <th class=\"col_heading level0 col14\" >jh</th>        <th class=\"col_heading level0 col15\" >jk</th>        <th class=\"col_heading level0 col16\" >ka</th>        <th class=\"col_heading level0 col17\" >kl</th>        <th class=\"col_heading level0 col18\" >la</th>        <th class=\"col_heading level0 col19\" >mh</th>        <th class=\"col_heading level0 col20\" >ml</th>        <th class=\"col_heading level0 col21\" >mn</th>        <th class=\"col_heading level0 col22\" >mp</th>        <th class=\"col_heading level0 col23\" >mz</th>        <th class=\"col_heading level0 col24\" >nl</th>        <th class=\"col_heading level0 col25\" >or</th>        <th class=\"col_heading level0 col26\" >pb</th>        <th class=\"col_heading level0 col27\" >py</th>        <th class=\"col_heading level0 col28\" >rj</th>        <th class=\"col_heading level0 col29\" >sk</th>        <th class=\"col_heading level0 col30\" >tg</th>        <th class=\"col_heading level0 col31\" >tn</th>        <th class=\"col_heading level0 col32\" >tr</th>        <th class=\"col_heading level0 col33\" >up</th>        <th class=\"col_heading level0 col34\" >ut</th>        <th class=\"col_heading level0 col35\" >wb</th>    </tr>    <tr>        <th class=\"index_name level0\" >date</th>        <th class=\"blank\" ></th>        <th class=\"blank\" ></th>        <th class=\"blank\" ></th>        <th class=\"blank\" ></th>        <th class=\"blank\" ></th>        <th class=\"blank\" ></th>        <th class=\"blank\" ></th>        <th class=\"blank\" ></th>        <th class=\"blank\" ></th>        <th class=\"blank\" ></th>        <th class=\"blank\" ></th>        <th class=\"blank\" ></th>        <th class=\"blank\" ></th>        <th class=\"blank\" ></th>        <th class=\"blank\" ></th>        <th class=\"blank\" ></th>        <th class=\"blank\" ></th>        <th class=\"blank\" ></th>        <th class=\"blank\" ></th>        <th class=\"blank\" ></th>        <th class=\"blank\" ></th>        <th class=\"blank\" ></th>        <th class=\"blank\" ></th>        <th class=\"blank\" ></th>        <th class=\"blank\" ></th>        <th class=\"blank\" ></th>        <th class=\"blank\" ></th>        <th class=\"blank\" ></th>        <th class=\"blank\" ></th>        <th class=\"blank\" ></th>        <th class=\"blank\" ></th>        <th class=\"blank\" ></th>        <th class=\"blank\" ></th>        <th class=\"blank\" ></th>        <th class=\"blank\" ></th>        <th class=\"blank\" ></th>    </tr></thead><tbody>\n",
       "                <tr>\n",
       "                        <th id=\"T_354313b6_a41d_11eb_b537_acde48001122level0_row0\" class=\"row_heading level0 row0\" >2021-04-16 00:00:00</th>\n",
       "                        <td id=\"T_354313b6_a41d_11eb_b537_acde48001122row0_col0\" class=\"data row0 col0\" >27</td>\n",
       "                        <td id=\"T_354313b6_a41d_11eb_b537_acde48001122row0_col1\" class=\"data row0 col1\" >6096</td>\n",
       "                        <td id=\"T_354313b6_a41d_11eb_b537_acde48001122row0_col2\" class=\"data row0 col2\" >28</td>\n",
       "                        <td id=\"T_354313b6_a41d_11eb_b537_acde48001122row0_col3\" class=\"data row0 col3\" >573</td>\n",
       "                        <td id=\"T_354313b6_a41d_11eb_b537_acde48001122row0_col4\" class=\"data row0 col4\" >6253</td>\n",
       "                        <td id=\"T_354313b6_a41d_11eb_b537_acde48001122row0_col5\" class=\"data row0 col5\" >481</td>\n",
       "                        <td id=\"T_354313b6_a41d_11eb_b537_acde48001122row0_col6\" class=\"data row0 col6\" >14912</td>\n",
       "                        <td id=\"T_354313b6_a41d_11eb_b537_acde48001122row0_col7\" class=\"data row0 col7\" >2021-04-16</td>\n",
       "                        <td id=\"T_354313b6_a41d_11eb_b537_acde48001122row0_col8\" class=\"data row0 col8\" >19486</td>\n",
       "                        <td id=\"T_354313b6_a41d_11eb_b537_acde48001122row0_col9\" class=\"data row0 col9\" >138</td>\n",
       "                        <td id=\"T_354313b6_a41d_11eb_b537_acde48001122row0_col10\" class=\"data row0 col10\" >927</td>\n",
       "                        <td id=\"T_354313b6_a41d_11eb_b537_acde48001122row0_col11\" class=\"data row0 col11\" >8920</td>\n",
       "                        <td id=\"T_354313b6_a41d_11eb_b537_acde48001122row0_col12\" class=\"data row0 col12\" >842</td>\n",
       "                        <td id=\"T_354313b6_a41d_11eb_b537_acde48001122row0_col13\" class=\"data row0 col13\" >6277</td>\n",
       "                        <td id=\"T_354313b6_a41d_11eb_b537_acde48001122row0_col14\" class=\"data row0 col14\" >3843</td>\n",
       "                        <td id=\"T_354313b6_a41d_11eb_b537_acde48001122row0_col15\" class=\"data row0 col15\" >1144</td>\n",
       "                        <td id=\"T_354313b6_a41d_11eb_b537_acde48001122row0_col16\" class=\"data row0 col16\" >14859</td>\n",
       "                        <td id=\"T_354313b6_a41d_11eb_b537_acde48001122row0_col17\" class=\"data row0 col17\" >10031</td>\n",
       "                        <td id=\"T_354313b6_a41d_11eb_b537_acde48001122row0_col18\" class=\"data row0 col18\" >245</td>\n",
       "                        <td id=\"T_354313b6_a41d_11eb_b537_acde48001122row0_col19\" class=\"data row0 col19\" >63729</td>\n",
       "                        <td id=\"T_354313b6_a41d_11eb_b537_acde48001122row0_col20\" class=\"data row0 col20\" >121</td>\n",
       "                        <td id=\"T_354313b6_a41d_11eb_b537_acde48001122row0_col21\" class=\"data row0 col21\" >31</td>\n",
       "                        <td id=\"T_354313b6_a41d_11eb_b537_acde48001122row0_col22\" class=\"data row0 col22\" >11045</td>\n",
       "                        <td id=\"T_354313b6_a41d_11eb_b537_acde48001122row0_col23\" class=\"data row0 col23\" >25</td>\n",
       "                        <td id=\"T_354313b6_a41d_11eb_b537_acde48001122row0_col24\" class=\"data row0 col24\" >22</td>\n",
       "                        <td id=\"T_354313b6_a41d_11eb_b537_acde48001122row0_col25\" class=\"data row0 col25\" >3108</td>\n",
       "                        <td id=\"T_354313b6_a41d_11eb_b537_acde48001122row0_col26\" class=\"data row0 col26\" >3891</td>\n",
       "                        <td id=\"T_354313b6_a41d_11eb_b537_acde48001122row0_col27\" class=\"data row0 col27\" >531</td>\n",
       "                        <td id=\"T_354313b6_a41d_11eb_b537_acde48001122row0_col28\" class=\"data row0 col28\" >7359</td>\n",
       "                        <td id=\"T_354313b6_a41d_11eb_b537_acde48001122row0_col29\" class=\"data row0 col29\" >22</td>\n",
       "                        <td id=\"T_354313b6_a41d_11eb_b537_acde48001122row0_col30\" class=\"data row0 col30\" >3840</td>\n",
       "                        <td id=\"T_354313b6_a41d_11eb_b537_acde48001122row0_col31\" class=\"data row0 col31\" >8449</td>\n",
       "                        <td id=\"T_354313b6_a41d_11eb_b537_acde48001122row0_col32\" class=\"data row0 col32\" >31</td>\n",
       "                        <td id=\"T_354313b6_a41d_11eb_b537_acde48001122row0_col33\" class=\"data row0 col33\" >27360</td>\n",
       "                        <td id=\"T_354313b6_a41d_11eb_b537_acde48001122row0_col34\" class=\"data row0 col34\" >2402</td>\n",
       "                        <td id=\"T_354313b6_a41d_11eb_b537_acde48001122row0_col35\" class=\"data row0 col35\" >6910</td>\n",
       "            </tr>\n",
       "            <tr>\n",
       "                        <th id=\"T_354313b6_a41d_11eb_b537_acde48001122level0_row1\" class=\"row_heading level0 row1\" >2021-04-17 00:00:00</th>\n",
       "                        <td id=\"T_354313b6_a41d_11eb_b537_acde48001122row1_col0\" class=\"data row1 col0\" >42</td>\n",
       "                        <td id=\"T_354313b6_a41d_11eb_b537_acde48001122row1_col1\" class=\"data row1 col1\" >7224</td>\n",
       "                        <td id=\"T_354313b6_a41d_11eb_b537_acde48001122row1_col2\" class=\"data row1 col2\" >19</td>\n",
       "                        <td id=\"T_354313b6_a41d_11eb_b537_acde48001122row1_col3\" class=\"data row1 col3\" >876</td>\n",
       "                        <td id=\"T_354313b6_a41d_11eb_b537_acde48001122row1_col4\" class=\"data row1 col4\" >7870</td>\n",
       "                        <td id=\"T_354313b6_a41d_11eb_b537_acde48001122row1_col5\" class=\"data row1 col5\" >431</td>\n",
       "                        <td id=\"T_354313b6_a41d_11eb_b537_acde48001122row1_col6\" class=\"data row1 col6\" >16083</td>\n",
       "                        <td id=\"T_354313b6_a41d_11eb_b537_acde48001122row1_col7\" class=\"data row1 col7\" >2021-04-17</td>\n",
       "                        <td id=\"T_354313b6_a41d_11eb_b537_acde48001122row1_col8\" class=\"data row1 col8\" >24375</td>\n",
       "                        <td id=\"T_354313b6_a41d_11eb_b537_acde48001122row1_col9\" class=\"data row1 col9\" >108</td>\n",
       "                        <td id=\"T_354313b6_a41d_11eb_b537_acde48001122row1_col10\" class=\"data row1 col10\" >762</td>\n",
       "                        <td id=\"T_354313b6_a41d_11eb_b537_acde48001122row1_col11\" class=\"data row1 col11\" >9541</td>\n",
       "                        <td id=\"T_354313b6_a41d_11eb_b537_acde48001122row1_col12\" class=\"data row1 col12\" >1392</td>\n",
       "                        <td id=\"T_354313b6_a41d_11eb_b537_acde48001122row1_col13\" class=\"data row1 col13\" >7717</td>\n",
       "                        <td id=\"T_354313b6_a41d_11eb_b537_acde48001122row1_col14\" class=\"data row1 col14\" >3838</td>\n",
       "                        <td id=\"T_354313b6_a41d_11eb_b537_acde48001122row1_col15\" class=\"data row1 col15\" >1145</td>\n",
       "                        <td id=\"T_354313b6_a41d_11eb_b537_acde48001122row1_col16\" class=\"data row1 col16\" >17489</td>\n",
       "                        <td id=\"T_354313b6_a41d_11eb_b537_acde48001122row1_col17\" class=\"data row1 col17\" >13835</td>\n",
       "                        <td id=\"T_354313b6_a41d_11eb_b537_acde48001122row1_col18\" class=\"data row1 col18\" >362</td>\n",
       "                        <td id=\"T_354313b6_a41d_11eb_b537_acde48001122row1_col19\" class=\"data row1 col19\" >67123</td>\n",
       "                        <td id=\"T_354313b6_a41d_11eb_b537_acde48001122row1_col20\" class=\"data row1 col20\" >95</td>\n",
       "                        <td id=\"T_354313b6_a41d_11eb_b537_acde48001122row1_col21\" class=\"data row1 col21\" >39</td>\n",
       "                        <td id=\"T_354313b6_a41d_11eb_b537_acde48001122row1_col22\" class=\"data row1 col22\" >11269</td>\n",
       "                        <td id=\"T_354313b6_a41d_11eb_b537_acde48001122row1_col23\" class=\"data row1 col23\" >62</td>\n",
       "                        <td id=\"T_354313b6_a41d_11eb_b537_acde48001122row1_col24\" class=\"data row1 col24\" >32</td>\n",
       "                        <td id=\"T_354313b6_a41d_11eb_b537_acde48001122row1_col25\" class=\"data row1 col25\" >3144</td>\n",
       "                        <td id=\"T_354313b6_a41d_11eb_b537_acde48001122row1_col26\" class=\"data row1 col26\" >4431</td>\n",
       "                        <td id=\"T_354313b6_a41d_11eb_b537_acde48001122row1_col27\" class=\"data row1 col27\" >715</td>\n",
       "                        <td id=\"T_354313b6_a41d_11eb_b537_acde48001122row1_col28\" class=\"data row1 col28\" >9046</td>\n",
       "                        <td id=\"T_354313b6_a41d_11eb_b537_acde48001122row1_col29\" class=\"data row1 col29\" >72</td>\n",
       "                        <td id=\"T_354313b6_a41d_11eb_b537_acde48001122row1_col30\" class=\"data row1 col30\" >4446</td>\n",
       "                        <td id=\"T_354313b6_a41d_11eb_b537_acde48001122row1_col31\" class=\"data row1 col31\" >9344</td>\n",
       "                        <td id=\"T_354313b6_a41d_11eb_b537_acde48001122row1_col32\" class=\"data row1 col32\" >58</td>\n",
       "                        <td id=\"T_354313b6_a41d_11eb_b537_acde48001122row1_col33\" class=\"data row1 col33\" >27334</td>\n",
       "                        <td id=\"T_354313b6_a41d_11eb_b537_acde48001122row1_col34\" class=\"data row1 col34\" >2757</td>\n",
       "                        <td id=\"T_354313b6_a41d_11eb_b537_acde48001122row1_col35\" class=\"data row1 col35\" >7713</td>\n",
       "            </tr>\n",
       "            <tr>\n",
       "                        <th id=\"T_354313b6_a41d_11eb_b537_acde48001122level0_row2\" class=\"row_heading level0 row2\" >2021-04-18 00:00:00</th>\n",
       "                        <td id=\"T_354313b6_a41d_11eb_b537_acde48001122row2_col0\" class=\"data row2 col0\" >59</td>\n",
       "                        <td id=\"T_354313b6_a41d_11eb_b537_acde48001122row2_col1\" class=\"data row2 col1\" >6582</td>\n",
       "                        <td id=\"T_354313b6_a41d_11eb_b537_acde48001122row2_col2\" class=\"data row2 col2\" >20</td>\n",
       "                        <td id=\"T_354313b6_a41d_11eb_b537_acde48001122row2_col3\" class=\"data row2 col3\" >639</td>\n",
       "                        <td id=\"T_354313b6_a41d_11eb_b537_acde48001122row2_col4\" class=\"data row2 col4\" >8690</td>\n",
       "                        <td id=\"T_354313b6_a41d_11eb_b537_acde48001122row2_col5\" class=\"data row2 col5\" >625</td>\n",
       "                        <td id=\"T_354313b6_a41d_11eb_b537_acde48001122row2_col6\" class=\"data row2 col6\" >12345</td>\n",
       "                        <td id=\"T_354313b6_a41d_11eb_b537_acde48001122row2_col7\" class=\"data row2 col7\" >2021-04-18</td>\n",
       "                        <td id=\"T_354313b6_a41d_11eb_b537_acde48001122row2_col8\" class=\"data row2 col8\" >25462</td>\n",
       "                        <td id=\"T_354313b6_a41d_11eb_b537_acde48001122row2_col9\" class=\"data row2 col9\" >184</td>\n",
       "                        <td id=\"T_354313b6_a41d_11eb_b537_acde48001122row2_col10\" class=\"data row2 col10\" >951</td>\n",
       "                        <td id=\"T_354313b6_a41d_11eb_b537_acde48001122row2_col11\" class=\"data row2 col11\" >10340</td>\n",
       "                        <td id=\"T_354313b6_a41d_11eb_b537_acde48001122row2_col12\" class=\"data row2 col12\" >788</td>\n",
       "                        <td id=\"T_354313b6_a41d_11eb_b537_acde48001122row2_col13\" class=\"data row2 col13\" >7177</td>\n",
       "                        <td id=\"T_354313b6_a41d_11eb_b537_acde48001122row2_col14\" class=\"data row2 col14\" >3992</td>\n",
       "                        <td id=\"T_354313b6_a41d_11eb_b537_acde48001122row2_col15\" class=\"data row2 col15\" >1526</td>\n",
       "                        <td id=\"T_354313b6_a41d_11eb_b537_acde48001122row2_col16\" class=\"data row2 col16\" >19067</td>\n",
       "                        <td id=\"T_354313b6_a41d_11eb_b537_acde48001122row2_col17\" class=\"data row2 col17\" >18257</td>\n",
       "                        <td id=\"T_354313b6_a41d_11eb_b537_acde48001122row2_col18\" class=\"data row2 col18\" >60</td>\n",
       "                        <td id=\"T_354313b6_a41d_11eb_b537_acde48001122row2_col19\" class=\"data row2 col19\" >68631</td>\n",
       "                        <td id=\"T_354313b6_a41d_11eb_b537_acde48001122row2_col20\" class=\"data row2 col20\" >71</td>\n",
       "                        <td id=\"T_354313b6_a41d_11eb_b537_acde48001122row2_col21\" class=\"data row2 col21\" >72</td>\n",
       "                        <td id=\"T_354313b6_a41d_11eb_b537_acde48001122row2_col22\" class=\"data row2 col22\" >12248</td>\n",
       "                        <td id=\"T_354313b6_a41d_11eb_b537_acde48001122row2_col23\" class=\"data row2 col23\" >50</td>\n",
       "                        <td id=\"T_354313b6_a41d_11eb_b537_acde48001122row2_col24\" class=\"data row2 col24\" >19</td>\n",
       "                        <td id=\"T_354313b6_a41d_11eb_b537_acde48001122row2_col25\" class=\"data row2 col25\" >3664</td>\n",
       "                        <td id=\"T_354313b6_a41d_11eb_b537_acde48001122row2_col26\" class=\"data row2 col26\" >4900</td>\n",
       "                        <td id=\"T_354313b6_a41d_11eb_b537_acde48001122row2_col27\" class=\"data row2 col27\" >663</td>\n",
       "                        <td id=\"T_354313b6_a41d_11eb_b537_acde48001122row2_col28\" class=\"data row2 col28\" >10262</td>\n",
       "                        <td id=\"T_354313b6_a41d_11eb_b537_acde48001122row2_col29\" class=\"data row2 col29\" >105</td>\n",
       "                        <td id=\"T_354313b6_a41d_11eb_b537_acde48001122row2_col30\" class=\"data row2 col30\" >5093</td>\n",
       "                        <td id=\"T_354313b6_a41d_11eb_b537_acde48001122row2_col31\" class=\"data row2 col31\" >10723</td>\n",
       "                        <td id=\"T_354313b6_a41d_11eb_b537_acde48001122row2_col32\" class=\"data row2 col32\" >69</td>\n",
       "                        <td id=\"T_354313b6_a41d_11eb_b537_acde48001122row2_col33\" class=\"data row2 col33\" >30566</td>\n",
       "                        <td id=\"T_354313b6_a41d_11eb_b537_acde48001122row2_col34\" class=\"data row2 col34\" >2630</td>\n",
       "                        <td id=\"T_354313b6_a41d_11eb_b537_acde48001122row2_col35\" class=\"data row2 col35\" >8419</td>\n",
       "            </tr>\n",
       "            <tr>\n",
       "                        <th id=\"T_354313b6_a41d_11eb_b537_acde48001122level0_row3\" class=\"row_heading level0 row3\" >2021-04-19 00:00:00</th>\n",
       "                        <td id=\"T_354313b6_a41d_11eb_b537_acde48001122row3_col0\" class=\"data row3 col0\" >31</td>\n",
       "                        <td id=\"T_354313b6_a41d_11eb_b537_acde48001122row3_col1\" class=\"data row3 col1\" >5963</td>\n",
       "                        <td id=\"T_354313b6_a41d_11eb_b537_acde48001122row3_col2\" class=\"data row3 col2\" >65</td>\n",
       "                        <td id=\"T_354313b6_a41d_11eb_b537_acde48001122row3_col3\" class=\"data row3 col3\" >1367</td>\n",
       "                        <td id=\"T_354313b6_a41d_11eb_b537_acde48001122row3_col4\" class=\"data row3 col4\" >7487</td>\n",
       "                        <td id=\"T_354313b6_a41d_11eb_b537_acde48001122row3_col5\" class=\"data row3 col5\" >612</td>\n",
       "                        <td id=\"T_354313b6_a41d_11eb_b537_acde48001122row3_col6\" class=\"data row3 col6\" >13834</td>\n",
       "                        <td id=\"T_354313b6_a41d_11eb_b537_acde48001122row3_col7\" class=\"data row3 col7\" >2021-04-19</td>\n",
       "                        <td id=\"T_354313b6_a41d_11eb_b537_acde48001122row3_col8\" class=\"data row3 col8\" >23686</td>\n",
       "                        <td id=\"T_354313b6_a41d_11eb_b537_acde48001122row3_col9\" class=\"data row3 col9\" >121</td>\n",
       "                        <td id=\"T_354313b6_a41d_11eb_b537_acde48001122row3_col10\" class=\"data row3 col10\" >940</td>\n",
       "                        <td id=\"T_354313b6_a41d_11eb_b537_acde48001122row3_col11\" class=\"data row3 col11\" >11403</td>\n",
       "                        <td id=\"T_354313b6_a41d_11eb_b537_acde48001122row3_col12\" class=\"data row3 col12\" >1695</td>\n",
       "                        <td id=\"T_354313b6_a41d_11eb_b537_acde48001122row3_col13\" class=\"data row3 col13\" >6842</td>\n",
       "                        <td id=\"T_354313b6_a41d_11eb_b537_acde48001122row3_col14\" class=\"data row3 col14\" >4290</td>\n",
       "                        <td id=\"T_354313b6_a41d_11eb_b537_acde48001122row3_col15\" class=\"data row3 col15\" >1516</td>\n",
       "                        <td id=\"T_354313b6_a41d_11eb_b537_acde48001122row3_col16\" class=\"data row3 col16\" >15785</td>\n",
       "                        <td id=\"T_354313b6_a41d_11eb_b537_acde48001122row3_col17\" class=\"data row3 col17\" >13644</td>\n",
       "                        <td id=\"T_354313b6_a41d_11eb_b537_acde48001122row3_col18\" class=\"data row3 col18\" >175</td>\n",
       "                        <td id=\"T_354313b6_a41d_11eb_b537_acde48001122row3_col19\" class=\"data row3 col19\" >58924</td>\n",
       "                        <td id=\"T_354313b6_a41d_11eb_b537_acde48001122row3_col20\" class=\"data row3 col20\" >110</td>\n",
       "                        <td id=\"T_354313b6_a41d_11eb_b537_acde48001122row3_col21\" class=\"data row3 col21\" >54</td>\n",
       "                        <td id=\"T_354313b6_a41d_11eb_b537_acde48001122row3_col22\" class=\"data row3 col22\" >12897</td>\n",
       "                        <td id=\"T_354313b6_a41d_11eb_b537_acde48001122row3_col23\" class=\"data row3 col23\" >45</td>\n",
       "                        <td id=\"T_354313b6_a41d_11eb_b537_acde48001122row3_col24\" class=\"data row3 col24\" >13</td>\n",
       "                        <td id=\"T_354313b6_a41d_11eb_b537_acde48001122row3_col25\" class=\"data row3 col25\" >4445</td>\n",
       "                        <td id=\"T_354313b6_a41d_11eb_b537_acde48001122row3_col26\" class=\"data row3 col26\" >4622</td>\n",
       "                        <td id=\"T_354313b6_a41d_11eb_b537_acde48001122row3_col27\" class=\"data row3 col27\" >565</td>\n",
       "                        <td id=\"T_354313b6_a41d_11eb_b537_acde48001122row3_col28\" class=\"data row3 col28\" >11967</td>\n",
       "                        <td id=\"T_354313b6_a41d_11eb_b537_acde48001122row3_col29\" class=\"data row3 col29\" >9</td>\n",
       "                        <td id=\"T_354313b6_a41d_11eb_b537_acde48001122row3_col30\" class=\"data row3 col30\" >4009</td>\n",
       "                        <td id=\"T_354313b6_a41d_11eb_b537_acde48001122row3_col31\" class=\"data row3 col31\" >10941</td>\n",
       "                        <td id=\"T_354313b6_a41d_11eb_b537_acde48001122row3_col32\" class=\"data row3 col32\" >32</td>\n",
       "                        <td id=\"T_354313b6_a41d_11eb_b537_acde48001122row3_col33\" class=\"data row3 col33\" >28211</td>\n",
       "                        <td id=\"T_354313b6_a41d_11eb_b537_acde48001122row3_col34\" class=\"data row3 col34\" >2160</td>\n",
       "                        <td id=\"T_354313b6_a41d_11eb_b537_acde48001122row3_col35\" class=\"data row3 col35\" >8426</td>\n",
       "            </tr>\n",
       "            <tr>\n",
       "                        <th id=\"T_354313b6_a41d_11eb_b537_acde48001122level0_row4\" class=\"row_heading level0 row4\" >2021-04-20 00:00:00</th>\n",
       "                        <td id=\"T_354313b6_a41d_11eb_b537_acde48001122row4_col0\" class=\"data row4 col0\" >45</td>\n",
       "                        <td id=\"T_354313b6_a41d_11eb_b537_acde48001122row4_col1\" class=\"data row4 col1\" >8987</td>\n",
       "                        <td id=\"T_354313b6_a41d_11eb_b537_acde48001122row4_col2\" class=\"data row4 col2\" >61</td>\n",
       "                        <td id=\"T_354313b6_a41d_11eb_b537_acde48001122row4_col3\" class=\"data row4 col3\" >1651</td>\n",
       "                        <td id=\"T_354313b6_a41d_11eb_b537_acde48001122row4_col4\" class=\"data row4 col4\" >10455</td>\n",
       "                        <td id=\"T_354313b6_a41d_11eb_b537_acde48001122row4_col5\" class=\"data row4 col5\" >602</td>\n",
       "                        <td id=\"T_354313b6_a41d_11eb_b537_acde48001122row4_col6\" class=\"data row4 col6\" >15625</td>\n",
       "                        <td id=\"T_354313b6_a41d_11eb_b537_acde48001122row4_col7\" class=\"data row4 col7\" >2021-04-20</td>\n",
       "                        <td id=\"T_354313b6_a41d_11eb_b537_acde48001122row4_col8\" class=\"data row4 col8\" >28395</td>\n",
       "                        <td id=\"T_354313b6_a41d_11eb_b537_acde48001122row4_col9\" class=\"data row4 col9\" >291</td>\n",
       "                        <td id=\"T_354313b6_a41d_11eb_b537_acde48001122row4_col10\" class=\"data row4 col10\" >1160</td>\n",
       "                        <td id=\"T_354313b6_a41d_11eb_b537_acde48001122row4_col11\" class=\"data row4 col11\" >12206</td>\n",
       "                        <td id=\"T_354313b6_a41d_11eb_b537_acde48001122row4_col12\" class=\"data row4 col12\" >1340</td>\n",
       "                        <td id=\"T_354313b6_a41d_11eb_b537_acde48001122row4_col13\" class=\"data row4 col13\" >7811</td>\n",
       "                        <td id=\"T_354313b6_a41d_11eb_b537_acde48001122row4_col14\" class=\"data row4 col14\" >5080</td>\n",
       "                        <td id=\"T_354313b6_a41d_11eb_b537_acde48001122row4_col15\" class=\"data row4 col15\" >2030</td>\n",
       "                        <td id=\"T_354313b6_a41d_11eb_b537_acde48001122row4_col16\" class=\"data row4 col16\" >21794</td>\n",
       "                        <td id=\"T_354313b6_a41d_11eb_b537_acde48001122row4_col17\" class=\"data row4 col17\" >19577</td>\n",
       "                        <td id=\"T_354313b6_a41d_11eb_b537_acde48001122row4_col18\" class=\"data row4 col18\" >250</td>\n",
       "                        <td id=\"T_354313b6_a41d_11eb_b537_acde48001122row4_col19\" class=\"data row4 col19\" >62097</td>\n",
       "                        <td id=\"T_354313b6_a41d_11eb_b537_acde48001122row4_col20\" class=\"data row4 col20\" >137</td>\n",
       "                        <td id=\"T_354313b6_a41d_11eb_b537_acde48001122row4_col21\" class=\"data row4 col21\" >94</td>\n",
       "                        <td id=\"T_354313b6_a41d_11eb_b537_acde48001122row4_col22\" class=\"data row4 col22\" >12727</td>\n",
       "                        <td id=\"T_354313b6_a41d_11eb_b537_acde48001122row4_col23\" class=\"data row4 col23\" >91</td>\n",
       "                        <td id=\"T_354313b6_a41d_11eb_b537_acde48001122row4_col24\" class=\"data row4 col24\" >82</td>\n",
       "                        <td id=\"T_354313b6_a41d_11eb_b537_acde48001122row4_col25\" class=\"data row4 col25\" >4761</td>\n",
       "                        <td id=\"T_354313b6_a41d_11eb_b537_acde48001122row4_col26\" class=\"data row4 col26\" >4656</td>\n",
       "                        <td id=\"T_354313b6_a41d_11eb_b537_acde48001122row4_col27\" class=\"data row4 col27\" >638</td>\n",
       "                        <td id=\"T_354313b6_a41d_11eb_b537_acde48001122row4_col28\" class=\"data row4 col28\" >12201</td>\n",
       "                        <td id=\"T_354313b6_a41d_11eb_b537_acde48001122row4_col29\" class=\"data row4 col29\" >91</td>\n",
       "                        <td id=\"T_354313b6_a41d_11eb_b537_acde48001122row4_col30\" class=\"data row4 col30\" >5926</td>\n",
       "                        <td id=\"T_354313b6_a41d_11eb_b537_acde48001122row4_col31\" class=\"data row4 col31\" >10986</td>\n",
       "                        <td id=\"T_354313b6_a41d_11eb_b537_acde48001122row4_col32\" class=\"data row4 col32\" >60</td>\n",
       "                        <td id=\"T_354313b6_a41d_11eb_b537_acde48001122row4_col33\" class=\"data row4 col33\" >29574</td>\n",
       "                        <td id=\"T_354313b6_a41d_11eb_b537_acde48001122row4_col34\" class=\"data row4 col34\" >3012</td>\n",
       "                        <td id=\"T_354313b6_a41d_11eb_b537_acde48001122row4_col35\" class=\"data row4 col35\" >9819</td>\n",
       "            </tr>\n",
       "            <tr>\n",
       "                        <th id=\"T_354313b6_a41d_11eb_b537_acde48001122level0_row5\" class=\"row_heading level0 row5\" >2021-04-21 00:00:00</th>\n",
       "                        <td id=\"T_354313b6_a41d_11eb_b537_acde48001122row5_col0\" class=\"data row5 col0\" >24</td>\n",
       "                        <td id=\"T_354313b6_a41d_11eb_b537_acde48001122row5_col1\" class=\"data row5 col1\" >9716</td>\n",
       "                        <td id=\"T_354313b6_a41d_11eb_b537_acde48001122row5_col2\" class=\"data row5 col2\" >73</td>\n",
       "                        <td id=\"T_354313b6_a41d_11eb_b537_acde48001122row5_col3\" class=\"data row5 col3\" >1665</td>\n",
       "                        <td id=\"T_354313b6_a41d_11eb_b537_acde48001122row5_col4\" class=\"data row5 col4\" >12222</td>\n",
       "                        <td id=\"T_354313b6_a41d_11eb_b537_acde48001122row5_col5\" class=\"data row5 col5\" >622</td>\n",
       "                        <td id=\"T_354313b6_a41d_11eb_b537_acde48001122row5_col6\" class=\"data row5 col6\" >14519</td>\n",
       "                        <td id=\"T_354313b6_a41d_11eb_b537_acde48001122row5_col7\" class=\"data row5 col7\" >2021-04-21</td>\n",
       "                        <td id=\"T_354313b6_a41d_11eb_b537_acde48001122row5_col8\" class=\"data row5 col8\" >24638</td>\n",
       "                        <td id=\"T_354313b6_a41d_11eb_b537_acde48001122row5_col9\" class=\"data row5 col9\" >234</td>\n",
       "                        <td id=\"T_354313b6_a41d_11eb_b537_acde48001122row5_col10\" class=\"data row5 col10\" >1502</td>\n",
       "                        <td id=\"T_354313b6_a41d_11eb_b537_acde48001122row5_col11\" class=\"data row5 col11\" >12553</td>\n",
       "                        <td id=\"T_354313b6_a41d_11eb_b537_acde48001122row5_col12\" class=\"data row5 col12\" >1692</td>\n",
       "                        <td id=\"T_354313b6_a41d_11eb_b537_acde48001122row5_col13\" class=\"data row5 col13\" >9623</td>\n",
       "                        <td id=\"T_354313b6_a41d_11eb_b537_acde48001122row5_col14\" class=\"data row5 col14\" >5041</td>\n",
       "                        <td id=\"T_354313b6_a41d_11eb_b537_acde48001122row5_col15\" class=\"data row5 col15\" >2204</td>\n",
       "                        <td id=\"T_354313b6_a41d_11eb_b537_acde48001122row5_col16\" class=\"data row5 col16\" >23558</td>\n",
       "                        <td id=\"T_354313b6_a41d_11eb_b537_acde48001122row5_col17\" class=\"data row5 col17\" >22414</td>\n",
       "                        <td id=\"T_354313b6_a41d_11eb_b537_acde48001122row5_col18\" class=\"data row5 col18\" >183</td>\n",
       "                        <td id=\"T_354313b6_a41d_11eb_b537_acde48001122row5_col19\" class=\"data row5 col19\" >67468</td>\n",
       "                        <td id=\"T_354313b6_a41d_11eb_b537_acde48001122row5_col20\" class=\"data row5 col20\" >192</td>\n",
       "                        <td id=\"T_354313b6_a41d_11eb_b537_acde48001122row5_col21\" class=\"data row5 col21\" >92</td>\n",
       "                        <td id=\"T_354313b6_a41d_11eb_b537_acde48001122row5_col22\" class=\"data row5 col22\" >13107</td>\n",
       "                        <td id=\"T_354313b6_a41d_11eb_b537_acde48001122row5_col23\" class=\"data row5 col23\" >90</td>\n",
       "                        <td id=\"T_354313b6_a41d_11eb_b537_acde48001122row5_col24\" class=\"data row5 col24\" >97</td>\n",
       "                        <td id=\"T_354313b6_a41d_11eb_b537_acde48001122row5_col25\" class=\"data row5 col25\" >4851</td>\n",
       "                        <td id=\"T_354313b6_a41d_11eb_b537_acde48001122row5_col26\" class=\"data row5 col26\" >4953</td>\n",
       "                        <td id=\"T_354313b6_a41d_11eb_b537_acde48001122row5_col27\" class=\"data row5 col27\" >619</td>\n",
       "                        <td id=\"T_354313b6_a41d_11eb_b537_acde48001122row5_col28\" class=\"data row5 col28\" >14622</td>\n",
       "                        <td id=\"T_354313b6_a41d_11eb_b537_acde48001122row5_col29\" class=\"data row5 col29\" >50</td>\n",
       "                        <td id=\"T_354313b6_a41d_11eb_b537_acde48001122row5_col30\" class=\"data row5 col30\" >6542</td>\n",
       "                        <td id=\"T_354313b6_a41d_11eb_b537_acde48001122row5_col31\" class=\"data row5 col31\" >11681</td>\n",
       "                        <td id=\"T_354313b6_a41d_11eb_b537_acde48001122row5_col32\" class=\"data row5 col32\" >0</td>\n",
       "                        <td id=\"T_354313b6_a41d_11eb_b537_acde48001122row5_col33\" class=\"data row5 col33\" >33106</td>\n",
       "                        <td id=\"T_354313b6_a41d_11eb_b537_acde48001122row5_col34\" class=\"data row5 col34\" >4807</td>\n",
       "                        <td id=\"T_354313b6_a41d_11eb_b537_acde48001122row5_col35\" class=\"data row5 col35\" >10784</td>\n",
       "            </tr>\n",
       "            <tr>\n",
       "                        <th id=\"T_354313b6_a41d_11eb_b537_acde48001122level0_row6\" class=\"row_heading level0 row6\" >2021-04-22 00:00:00</th>\n",
       "                        <td id=\"T_354313b6_a41d_11eb_b537_acde48001122row6_col0\" class=\"data row6 col0\" >37</td>\n",
       "                        <td id=\"T_354313b6_a41d_11eb_b537_acde48001122row6_col1\" class=\"data row6 col1\" >10759</td>\n",
       "                        <td id=\"T_354313b6_a41d_11eb_b537_acde48001122row6_col2\" class=\"data row6 col2\" >110</td>\n",
       "                        <td id=\"T_354313b6_a41d_11eb_b537_acde48001122row6_col3\" class=\"data row6 col3\" >1931</td>\n",
       "                        <td id=\"T_354313b6_a41d_11eb_b537_acde48001122row6_col4\" class=\"data row6 col4\" >11489</td>\n",
       "                        <td id=\"T_354313b6_a41d_11eb_b537_acde48001122row6_col5\" class=\"data row6 col5\" >634</td>\n",
       "                        <td id=\"T_354313b6_a41d_11eb_b537_acde48001122row6_col6\" class=\"data row6 col6\" >16750</td>\n",
       "                        <td id=\"T_354313b6_a41d_11eb_b537_acde48001122row6_col7\" class=\"data row6 col7\" >2021-04-22</td>\n",
       "                        <td id=\"T_354313b6_a41d_11eb_b537_acde48001122row6_col8\" class=\"data row6 col8\" >26169</td>\n",
       "                        <td id=\"T_354313b6_a41d_11eb_b537_acde48001122row6_col9\" class=\"data row6 col9\" >346</td>\n",
       "                        <td id=\"T_354313b6_a41d_11eb_b537_acde48001122row6_col10\" class=\"data row6 col10\" >1410</td>\n",
       "                        <td id=\"T_354313b6_a41d_11eb_b537_acde48001122row6_col11\" class=\"data row6 col11\" >13105</td>\n",
       "                        <td id=\"T_354313b6_a41d_11eb_b537_acde48001122row6_col12\" class=\"data row6 col12\" >1774</td>\n",
       "                        <td id=\"T_354313b6_a41d_11eb_b537_acde48001122row6_col13\" class=\"data row6 col13\" >9742</td>\n",
       "                        <td id=\"T_354313b6_a41d_11eb_b537_acde48001122row6_col14\" class=\"data row6 col14\" >7595</td>\n",
       "                        <td id=\"T_354313b6_a41d_11eb_b537_acde48001122row6_col15\" class=\"data row6 col15\" >1965</td>\n",
       "                        <td id=\"T_354313b6_a41d_11eb_b537_acde48001122row6_col16\" class=\"data row6 col16\" >25795</td>\n",
       "                        <td id=\"T_354313b6_a41d_11eb_b537_acde48001122row6_col17\" class=\"data row6 col17\" >26995</td>\n",
       "                        <td id=\"T_354313b6_a41d_11eb_b537_acde48001122row6_col18\" class=\"data row6 col18\" >198</td>\n",
       "                        <td id=\"T_354313b6_a41d_11eb_b537_acde48001122row6_col19\" class=\"data row6 col19\" >67013</td>\n",
       "                        <td id=\"T_354313b6_a41d_11eb_b537_acde48001122row6_col20\" class=\"data row6 col20\" >180</td>\n",
       "                        <td id=\"T_354313b6_a41d_11eb_b537_acde48001122row6_col21\" class=\"data row6 col21\" >86</td>\n",
       "                        <td id=\"T_354313b6_a41d_11eb_b537_acde48001122row6_col22\" class=\"data row6 col22\" >12384</td>\n",
       "                        <td id=\"T_354313b6_a41d_11eb_b537_acde48001122row6_col23\" class=\"data row6 col23\" >73</td>\n",
       "                        <td id=\"T_354313b6_a41d_11eb_b537_acde48001122row6_col24\" class=\"data row6 col24\" >53</td>\n",
       "                        <td id=\"T_354313b6_a41d_11eb_b537_acde48001122row6_col25\" class=\"data row6 col25\" >6164</td>\n",
       "                        <td id=\"T_354313b6_a41d_11eb_b537_acde48001122row6_col26\" class=\"data row6 col26\" >5450</td>\n",
       "                        <td id=\"T_354313b6_a41d_11eb_b537_acde48001122row6_col27\" class=\"data row6 col27\" >987</td>\n",
       "                        <td id=\"T_354313b6_a41d_11eb_b537_acde48001122row6_col28\" class=\"data row6 col28\" >14468</td>\n",
       "                        <td id=\"T_354313b6_a41d_11eb_b537_acde48001122row6_col29\" class=\"data row6 col29\" >124</td>\n",
       "                        <td id=\"T_354313b6_a41d_11eb_b537_acde48001122row6_col30\" class=\"data row6 col30\" >5567</td>\n",
       "                        <td id=\"T_354313b6_a41d_11eb_b537_acde48001122row6_col31\" class=\"data row6 col31\" >12652</td>\n",
       "                        <td id=\"T_354313b6_a41d_11eb_b537_acde48001122row6_col32\" class=\"data row6 col32\" >168</td>\n",
       "                        <td id=\"T_354313b6_a41d_11eb_b537_acde48001122row6_col33\" class=\"data row6 col33\" >34254</td>\n",
       "                        <td id=\"T_354313b6_a41d_11eb_b537_acde48001122row6_col34\" class=\"data row6 col34\" >3998</td>\n",
       "                        <td id=\"T_354313b6_a41d_11eb_b537_acde48001122row6_col35\" class=\"data row6 col35\" >11948</td>\n",
       "            </tr>\n",
       "    </tbody></table>"
      ],
      "text/plain": [
       "<pandas.io.formats.style.Styler at 0x7fe16d4def40>"
      ]
     },
     "execution_count": 40,
     "metadata": {},
     "output_type": "execute_result"
    }
   ],
   "source": [
    "df.style.apply(bold_max_value)"
   ]
  },
  {
   "cell_type": "code",
   "execution_count": 41,
   "metadata": {
    "colab": {
     "base_uri": "https://localhost:8080/",
     "height": 353
    },
    "colab_type": "code",
    "id": "MCRD2Ry9neYJ",
    "outputId": "3afc496b-b5de-4851-9fe9-9e3f8a354e24"
   },
   "outputs": [
    {
     "data": {
      "text/html": [
       "<style  type=\"text/css\" >\n",
       "    #T_3551d266_a41d_11eb_b537_acde48001122row0_col12 {\n",
       "            font-weight:  bold;\n",
       "        }    #T_3551d266_a41d_11eb_b537_acde48001122row1_col3 {\n",
       "            font-weight:  bold;\n",
       "        }    #T_3551d266_a41d_11eb_b537_acde48001122row1_col11 {\n",
       "            font-weight:  bold;\n",
       "        }    #T_3551d266_a41d_11eb_b537_acde48001122row1_col20 {\n",
       "            font-weight:  bold;\n",
       "        }    #T_3551d266_a41d_11eb_b537_acde48001122row1_col28 {\n",
       "            font-weight:  bold;\n",
       "        }    #T_3551d266_a41d_11eb_b537_acde48001122row1_col31 {\n",
       "            font-weight:  bold;\n",
       "        }    #T_3551d266_a41d_11eb_b537_acde48001122row2_col0 {\n",
       "            font-weight:  bold;\n",
       "        }    #T_3551d266_a41d_11eb_b537_acde48001122row2_col4 {\n",
       "            font-weight:  bold;\n",
       "        }    #T_3551d266_a41d_11eb_b537_acde48001122row2_col10 {\n",
       "            font-weight:  bold;\n",
       "        }    #T_3551d266_a41d_11eb_b537_acde48001122row2_col18 {\n",
       "            font-weight:  bold;\n",
       "        }    #T_3551d266_a41d_11eb_b537_acde48001122row2_col19 {\n",
       "            font-weight:  bold;\n",
       "        }    #T_3551d266_a41d_11eb_b537_acde48001122row2_col32 {\n",
       "            font-weight:  bold;\n",
       "        }    #T_3551d266_a41d_11eb_b537_acde48001122row4_col8 {\n",
       "            font-weight:  bold;\n",
       "        }    #T_3551d266_a41d_11eb_b537_acde48001122row4_col21 {\n",
       "            font-weight:  bold;\n",
       "        }    #T_3551d266_a41d_11eb_b537_acde48001122row4_col23 {\n",
       "            font-weight:  bold;\n",
       "        }    #T_3551d266_a41d_11eb_b537_acde48001122row4_col29 {\n",
       "            font-weight:  bold;\n",
       "        }    #T_3551d266_a41d_11eb_b537_acde48001122row4_col35 {\n",
       "            font-weight:  bold;\n",
       "        }    #T_3551d266_a41d_11eb_b537_acde48001122row5_col1 {\n",
       "            font-weight:  bold;\n",
       "        }    #T_3551d266_a41d_11eb_b537_acde48001122row5_col2 {\n",
       "            font-weight:  bold;\n",
       "        }    #T_3551d266_a41d_11eb_b537_acde48001122row5_col15 {\n",
       "            font-weight:  bold;\n",
       "        }    #T_3551d266_a41d_11eb_b537_acde48001122row5_col22 {\n",
       "            font-weight:  bold;\n",
       "        }    #T_3551d266_a41d_11eb_b537_acde48001122row5_col24 {\n",
       "            font-weight:  bold;\n",
       "        }    #T_3551d266_a41d_11eb_b537_acde48001122row5_col30 {\n",
       "            font-weight:  bold;\n",
       "        }    #T_3551d266_a41d_11eb_b537_acde48001122row5_col34 {\n",
       "            font-weight:  bold;\n",
       "        }    #T_3551d266_a41d_11eb_b537_acde48001122row6_col5 {\n",
       "            font-weight:  bold;\n",
       "        }    #T_3551d266_a41d_11eb_b537_acde48001122row6_col6 {\n",
       "            font-weight:  bold;\n",
       "        }    #T_3551d266_a41d_11eb_b537_acde48001122row6_col7 {\n",
       "            font-weight:  bold;\n",
       "        }    #T_3551d266_a41d_11eb_b537_acde48001122row6_col9 {\n",
       "            font-weight:  bold;\n",
       "        }    #T_3551d266_a41d_11eb_b537_acde48001122row6_col13 {\n",
       "            font-weight:  bold;\n",
       "        }    #T_3551d266_a41d_11eb_b537_acde48001122row6_col14 {\n",
       "            font-weight:  bold;\n",
       "        }    #T_3551d266_a41d_11eb_b537_acde48001122row6_col16 {\n",
       "            font-weight:  bold;\n",
       "        }    #T_3551d266_a41d_11eb_b537_acde48001122row6_col17 {\n",
       "            font-weight:  bold;\n",
       "        }    #T_3551d266_a41d_11eb_b537_acde48001122row6_col25 {\n",
       "            font-weight:  bold;\n",
       "        }    #T_3551d266_a41d_11eb_b537_acde48001122row6_col26 {\n",
       "            font-weight:  bold;\n",
       "        }    #T_3551d266_a41d_11eb_b537_acde48001122row6_col27 {\n",
       "            font-weight:  bold;\n",
       "        }    #T_3551d266_a41d_11eb_b537_acde48001122row6_col33 {\n",
       "            font-weight:  bold;\n",
       "        }</style><table id=\"T_3551d266_a41d_11eb_b537_acde48001122\" ><thead>    <tr>        <th class=\"blank level0\" ></th>        <th class=\"col_heading level0 col0\" >an</th>        <th class=\"col_heading level0 col1\" >ap</th>        <th class=\"col_heading level0 col2\" >ar</th>        <th class=\"col_heading level0 col3\" >as</th>        <th class=\"col_heading level0 col4\" >br</th>        <th class=\"col_heading level0 col5\" >ch</th>        <th class=\"col_heading level0 col6\" >ct</th>        <th class=\"col_heading level0 col7\" >dateymd</th>        <th class=\"col_heading level0 col8\" >dl</th>        <th class=\"col_heading level0 col9\" >dn</th>        <th class=\"col_heading level0 col10\" >ga</th>        <th class=\"col_heading level0 col11\" >gj</th>        <th class=\"col_heading level0 col12\" >hp</th>        <th class=\"col_heading level0 col13\" >hr</th>        <th class=\"col_heading level0 col14\" >jh</th>        <th class=\"col_heading level0 col15\" >jk</th>        <th class=\"col_heading level0 col16\" >ka</th>        <th class=\"col_heading level0 col17\" >kl</th>        <th class=\"col_heading level0 col18\" >la</th>        <th class=\"col_heading level0 col19\" >mh</th>        <th class=\"col_heading level0 col20\" >ml</th>        <th class=\"col_heading level0 col21\" >mn</th>        <th class=\"col_heading level0 col22\" >mp</th>        <th class=\"col_heading level0 col23\" >mz</th>        <th class=\"col_heading level0 col24\" >nl</th>        <th class=\"col_heading level0 col25\" >or</th>        <th class=\"col_heading level0 col26\" >pb</th>        <th class=\"col_heading level0 col27\" >py</th>        <th class=\"col_heading level0 col28\" >rj</th>        <th class=\"col_heading level0 col29\" >sk</th>        <th class=\"col_heading level0 col30\" >tg</th>        <th class=\"col_heading level0 col31\" >tn</th>        <th class=\"col_heading level0 col32\" >tr</th>        <th class=\"col_heading level0 col33\" >up</th>        <th class=\"col_heading level0 col34\" >ut</th>        <th class=\"col_heading level0 col35\" >wb</th>    </tr>    <tr>        <th class=\"index_name level0\" >date</th>        <th class=\"blank\" ></th>        <th class=\"blank\" ></th>        <th class=\"blank\" ></th>        <th class=\"blank\" ></th>        <th class=\"blank\" ></th>        <th class=\"blank\" ></th>        <th class=\"blank\" ></th>        <th class=\"blank\" ></th>        <th class=\"blank\" ></th>        <th class=\"blank\" ></th>        <th class=\"blank\" ></th>        <th class=\"blank\" ></th>        <th class=\"blank\" ></th>        <th class=\"blank\" ></th>        <th class=\"blank\" ></th>        <th class=\"blank\" ></th>        <th class=\"blank\" ></th>        <th class=\"blank\" ></th>        <th class=\"blank\" ></th>        <th class=\"blank\" ></th>        <th class=\"blank\" ></th>        <th class=\"blank\" ></th>        <th class=\"blank\" ></th>        <th class=\"blank\" ></th>        <th class=\"blank\" ></th>        <th class=\"blank\" ></th>        <th class=\"blank\" ></th>        <th class=\"blank\" ></th>        <th class=\"blank\" ></th>        <th class=\"blank\" ></th>        <th class=\"blank\" ></th>        <th class=\"blank\" ></th>        <th class=\"blank\" ></th>        <th class=\"blank\" ></th>        <th class=\"blank\" ></th>        <th class=\"blank\" ></th>    </tr></thead><tbody>\n",
       "                <tr>\n",
       "                        <th id=\"T_3551d266_a41d_11eb_b537_acde48001122level0_row0\" class=\"row_heading level0 row0\" >2021-04-16 00:00:00</th>\n",
       "                        <td id=\"T_3551d266_a41d_11eb_b537_acde48001122row0_col0\" class=\"data row0 col0\" >27</td>\n",
       "                        <td id=\"T_3551d266_a41d_11eb_b537_acde48001122row0_col1\" class=\"data row0 col1\" >6096</td>\n",
       "                        <td id=\"T_3551d266_a41d_11eb_b537_acde48001122row0_col2\" class=\"data row0 col2\" >28</td>\n",
       "                        <td id=\"T_3551d266_a41d_11eb_b537_acde48001122row0_col3\" class=\"data row0 col3\" >573</td>\n",
       "                        <td id=\"T_3551d266_a41d_11eb_b537_acde48001122row0_col4\" class=\"data row0 col4\" >6253</td>\n",
       "                        <td id=\"T_3551d266_a41d_11eb_b537_acde48001122row0_col5\" class=\"data row0 col5\" >481</td>\n",
       "                        <td id=\"T_3551d266_a41d_11eb_b537_acde48001122row0_col6\" class=\"data row0 col6\" >14912</td>\n",
       "                        <td id=\"T_3551d266_a41d_11eb_b537_acde48001122row0_col7\" class=\"data row0 col7\" >2021-04-16</td>\n",
       "                        <td id=\"T_3551d266_a41d_11eb_b537_acde48001122row0_col8\" class=\"data row0 col8\" >19486</td>\n",
       "                        <td id=\"T_3551d266_a41d_11eb_b537_acde48001122row0_col9\" class=\"data row0 col9\" >138</td>\n",
       "                        <td id=\"T_3551d266_a41d_11eb_b537_acde48001122row0_col10\" class=\"data row0 col10\" >927</td>\n",
       "                        <td id=\"T_3551d266_a41d_11eb_b537_acde48001122row0_col11\" class=\"data row0 col11\" >8920</td>\n",
       "                        <td id=\"T_3551d266_a41d_11eb_b537_acde48001122row0_col12\" class=\"data row0 col12\" >842</td>\n",
       "                        <td id=\"T_3551d266_a41d_11eb_b537_acde48001122row0_col13\" class=\"data row0 col13\" >6277</td>\n",
       "                        <td id=\"T_3551d266_a41d_11eb_b537_acde48001122row0_col14\" class=\"data row0 col14\" >3843</td>\n",
       "                        <td id=\"T_3551d266_a41d_11eb_b537_acde48001122row0_col15\" class=\"data row0 col15\" >1144</td>\n",
       "                        <td id=\"T_3551d266_a41d_11eb_b537_acde48001122row0_col16\" class=\"data row0 col16\" >14859</td>\n",
       "                        <td id=\"T_3551d266_a41d_11eb_b537_acde48001122row0_col17\" class=\"data row0 col17\" >10031</td>\n",
       "                        <td id=\"T_3551d266_a41d_11eb_b537_acde48001122row0_col18\" class=\"data row0 col18\" >245</td>\n",
       "                        <td id=\"T_3551d266_a41d_11eb_b537_acde48001122row0_col19\" class=\"data row0 col19\" >63729</td>\n",
       "                        <td id=\"T_3551d266_a41d_11eb_b537_acde48001122row0_col20\" class=\"data row0 col20\" >121</td>\n",
       "                        <td id=\"T_3551d266_a41d_11eb_b537_acde48001122row0_col21\" class=\"data row0 col21\" >31</td>\n",
       "                        <td id=\"T_3551d266_a41d_11eb_b537_acde48001122row0_col22\" class=\"data row0 col22\" >11045</td>\n",
       "                        <td id=\"T_3551d266_a41d_11eb_b537_acde48001122row0_col23\" class=\"data row0 col23\" >25</td>\n",
       "                        <td id=\"T_3551d266_a41d_11eb_b537_acde48001122row0_col24\" class=\"data row0 col24\" >22</td>\n",
       "                        <td id=\"T_3551d266_a41d_11eb_b537_acde48001122row0_col25\" class=\"data row0 col25\" >3108</td>\n",
       "                        <td id=\"T_3551d266_a41d_11eb_b537_acde48001122row0_col26\" class=\"data row0 col26\" >3891</td>\n",
       "                        <td id=\"T_3551d266_a41d_11eb_b537_acde48001122row0_col27\" class=\"data row0 col27\" >531</td>\n",
       "                        <td id=\"T_3551d266_a41d_11eb_b537_acde48001122row0_col28\" class=\"data row0 col28\" >7359</td>\n",
       "                        <td id=\"T_3551d266_a41d_11eb_b537_acde48001122row0_col29\" class=\"data row0 col29\" >22</td>\n",
       "                        <td id=\"T_3551d266_a41d_11eb_b537_acde48001122row0_col30\" class=\"data row0 col30\" >3840</td>\n",
       "                        <td id=\"T_3551d266_a41d_11eb_b537_acde48001122row0_col31\" class=\"data row0 col31\" >8449</td>\n",
       "                        <td id=\"T_3551d266_a41d_11eb_b537_acde48001122row0_col32\" class=\"data row0 col32\" >31</td>\n",
       "                        <td id=\"T_3551d266_a41d_11eb_b537_acde48001122row0_col33\" class=\"data row0 col33\" >27360</td>\n",
       "                        <td id=\"T_3551d266_a41d_11eb_b537_acde48001122row0_col34\" class=\"data row0 col34\" >2402</td>\n",
       "                        <td id=\"T_3551d266_a41d_11eb_b537_acde48001122row0_col35\" class=\"data row0 col35\" >6910</td>\n",
       "            </tr>\n",
       "            <tr>\n",
       "                        <th id=\"T_3551d266_a41d_11eb_b537_acde48001122level0_row1\" class=\"row_heading level0 row1\" >2021-04-17 00:00:00</th>\n",
       "                        <td id=\"T_3551d266_a41d_11eb_b537_acde48001122row1_col0\" class=\"data row1 col0\" >42</td>\n",
       "                        <td id=\"T_3551d266_a41d_11eb_b537_acde48001122row1_col1\" class=\"data row1 col1\" >7224</td>\n",
       "                        <td id=\"T_3551d266_a41d_11eb_b537_acde48001122row1_col2\" class=\"data row1 col2\" >19</td>\n",
       "                        <td id=\"T_3551d266_a41d_11eb_b537_acde48001122row1_col3\" class=\"data row1 col3\" >876</td>\n",
       "                        <td id=\"T_3551d266_a41d_11eb_b537_acde48001122row1_col4\" class=\"data row1 col4\" >7870</td>\n",
       "                        <td id=\"T_3551d266_a41d_11eb_b537_acde48001122row1_col5\" class=\"data row1 col5\" >431</td>\n",
       "                        <td id=\"T_3551d266_a41d_11eb_b537_acde48001122row1_col6\" class=\"data row1 col6\" >16083</td>\n",
       "                        <td id=\"T_3551d266_a41d_11eb_b537_acde48001122row1_col7\" class=\"data row1 col7\" >2021-04-17</td>\n",
       "                        <td id=\"T_3551d266_a41d_11eb_b537_acde48001122row1_col8\" class=\"data row1 col8\" >24375</td>\n",
       "                        <td id=\"T_3551d266_a41d_11eb_b537_acde48001122row1_col9\" class=\"data row1 col9\" >108</td>\n",
       "                        <td id=\"T_3551d266_a41d_11eb_b537_acde48001122row1_col10\" class=\"data row1 col10\" >762</td>\n",
       "                        <td id=\"T_3551d266_a41d_11eb_b537_acde48001122row1_col11\" class=\"data row1 col11\" >9541</td>\n",
       "                        <td id=\"T_3551d266_a41d_11eb_b537_acde48001122row1_col12\" class=\"data row1 col12\" >1392</td>\n",
       "                        <td id=\"T_3551d266_a41d_11eb_b537_acde48001122row1_col13\" class=\"data row1 col13\" >7717</td>\n",
       "                        <td id=\"T_3551d266_a41d_11eb_b537_acde48001122row1_col14\" class=\"data row1 col14\" >3838</td>\n",
       "                        <td id=\"T_3551d266_a41d_11eb_b537_acde48001122row1_col15\" class=\"data row1 col15\" >1145</td>\n",
       "                        <td id=\"T_3551d266_a41d_11eb_b537_acde48001122row1_col16\" class=\"data row1 col16\" >17489</td>\n",
       "                        <td id=\"T_3551d266_a41d_11eb_b537_acde48001122row1_col17\" class=\"data row1 col17\" >13835</td>\n",
       "                        <td id=\"T_3551d266_a41d_11eb_b537_acde48001122row1_col18\" class=\"data row1 col18\" >362</td>\n",
       "                        <td id=\"T_3551d266_a41d_11eb_b537_acde48001122row1_col19\" class=\"data row1 col19\" >67123</td>\n",
       "                        <td id=\"T_3551d266_a41d_11eb_b537_acde48001122row1_col20\" class=\"data row1 col20\" >95</td>\n",
       "                        <td id=\"T_3551d266_a41d_11eb_b537_acde48001122row1_col21\" class=\"data row1 col21\" >39</td>\n",
       "                        <td id=\"T_3551d266_a41d_11eb_b537_acde48001122row1_col22\" class=\"data row1 col22\" >11269</td>\n",
       "                        <td id=\"T_3551d266_a41d_11eb_b537_acde48001122row1_col23\" class=\"data row1 col23\" >62</td>\n",
       "                        <td id=\"T_3551d266_a41d_11eb_b537_acde48001122row1_col24\" class=\"data row1 col24\" >32</td>\n",
       "                        <td id=\"T_3551d266_a41d_11eb_b537_acde48001122row1_col25\" class=\"data row1 col25\" >3144</td>\n",
       "                        <td id=\"T_3551d266_a41d_11eb_b537_acde48001122row1_col26\" class=\"data row1 col26\" >4431</td>\n",
       "                        <td id=\"T_3551d266_a41d_11eb_b537_acde48001122row1_col27\" class=\"data row1 col27\" >715</td>\n",
       "                        <td id=\"T_3551d266_a41d_11eb_b537_acde48001122row1_col28\" class=\"data row1 col28\" >9046</td>\n",
       "                        <td id=\"T_3551d266_a41d_11eb_b537_acde48001122row1_col29\" class=\"data row1 col29\" >72</td>\n",
       "                        <td id=\"T_3551d266_a41d_11eb_b537_acde48001122row1_col30\" class=\"data row1 col30\" >4446</td>\n",
       "                        <td id=\"T_3551d266_a41d_11eb_b537_acde48001122row1_col31\" class=\"data row1 col31\" >9344</td>\n",
       "                        <td id=\"T_3551d266_a41d_11eb_b537_acde48001122row1_col32\" class=\"data row1 col32\" >58</td>\n",
       "                        <td id=\"T_3551d266_a41d_11eb_b537_acde48001122row1_col33\" class=\"data row1 col33\" >27334</td>\n",
       "                        <td id=\"T_3551d266_a41d_11eb_b537_acde48001122row1_col34\" class=\"data row1 col34\" >2757</td>\n",
       "                        <td id=\"T_3551d266_a41d_11eb_b537_acde48001122row1_col35\" class=\"data row1 col35\" >7713</td>\n",
       "            </tr>\n",
       "            <tr>\n",
       "                        <th id=\"T_3551d266_a41d_11eb_b537_acde48001122level0_row2\" class=\"row_heading level0 row2\" >2021-04-18 00:00:00</th>\n",
       "                        <td id=\"T_3551d266_a41d_11eb_b537_acde48001122row2_col0\" class=\"data row2 col0\" >59</td>\n",
       "                        <td id=\"T_3551d266_a41d_11eb_b537_acde48001122row2_col1\" class=\"data row2 col1\" >6582</td>\n",
       "                        <td id=\"T_3551d266_a41d_11eb_b537_acde48001122row2_col2\" class=\"data row2 col2\" >20</td>\n",
       "                        <td id=\"T_3551d266_a41d_11eb_b537_acde48001122row2_col3\" class=\"data row2 col3\" >639</td>\n",
       "                        <td id=\"T_3551d266_a41d_11eb_b537_acde48001122row2_col4\" class=\"data row2 col4\" >8690</td>\n",
       "                        <td id=\"T_3551d266_a41d_11eb_b537_acde48001122row2_col5\" class=\"data row2 col5\" >625</td>\n",
       "                        <td id=\"T_3551d266_a41d_11eb_b537_acde48001122row2_col6\" class=\"data row2 col6\" >12345</td>\n",
       "                        <td id=\"T_3551d266_a41d_11eb_b537_acde48001122row2_col7\" class=\"data row2 col7\" >2021-04-18</td>\n",
       "                        <td id=\"T_3551d266_a41d_11eb_b537_acde48001122row2_col8\" class=\"data row2 col8\" >25462</td>\n",
       "                        <td id=\"T_3551d266_a41d_11eb_b537_acde48001122row2_col9\" class=\"data row2 col9\" >184</td>\n",
       "                        <td id=\"T_3551d266_a41d_11eb_b537_acde48001122row2_col10\" class=\"data row2 col10\" >951</td>\n",
       "                        <td id=\"T_3551d266_a41d_11eb_b537_acde48001122row2_col11\" class=\"data row2 col11\" >10340</td>\n",
       "                        <td id=\"T_3551d266_a41d_11eb_b537_acde48001122row2_col12\" class=\"data row2 col12\" >788</td>\n",
       "                        <td id=\"T_3551d266_a41d_11eb_b537_acde48001122row2_col13\" class=\"data row2 col13\" >7177</td>\n",
       "                        <td id=\"T_3551d266_a41d_11eb_b537_acde48001122row2_col14\" class=\"data row2 col14\" >3992</td>\n",
       "                        <td id=\"T_3551d266_a41d_11eb_b537_acde48001122row2_col15\" class=\"data row2 col15\" >1526</td>\n",
       "                        <td id=\"T_3551d266_a41d_11eb_b537_acde48001122row2_col16\" class=\"data row2 col16\" >19067</td>\n",
       "                        <td id=\"T_3551d266_a41d_11eb_b537_acde48001122row2_col17\" class=\"data row2 col17\" >18257</td>\n",
       "                        <td id=\"T_3551d266_a41d_11eb_b537_acde48001122row2_col18\" class=\"data row2 col18\" >60</td>\n",
       "                        <td id=\"T_3551d266_a41d_11eb_b537_acde48001122row2_col19\" class=\"data row2 col19\" >68631</td>\n",
       "                        <td id=\"T_3551d266_a41d_11eb_b537_acde48001122row2_col20\" class=\"data row2 col20\" >71</td>\n",
       "                        <td id=\"T_3551d266_a41d_11eb_b537_acde48001122row2_col21\" class=\"data row2 col21\" >72</td>\n",
       "                        <td id=\"T_3551d266_a41d_11eb_b537_acde48001122row2_col22\" class=\"data row2 col22\" >12248</td>\n",
       "                        <td id=\"T_3551d266_a41d_11eb_b537_acde48001122row2_col23\" class=\"data row2 col23\" >50</td>\n",
       "                        <td id=\"T_3551d266_a41d_11eb_b537_acde48001122row2_col24\" class=\"data row2 col24\" >19</td>\n",
       "                        <td id=\"T_3551d266_a41d_11eb_b537_acde48001122row2_col25\" class=\"data row2 col25\" >3664</td>\n",
       "                        <td id=\"T_3551d266_a41d_11eb_b537_acde48001122row2_col26\" class=\"data row2 col26\" >4900</td>\n",
       "                        <td id=\"T_3551d266_a41d_11eb_b537_acde48001122row2_col27\" class=\"data row2 col27\" >663</td>\n",
       "                        <td id=\"T_3551d266_a41d_11eb_b537_acde48001122row2_col28\" class=\"data row2 col28\" >10262</td>\n",
       "                        <td id=\"T_3551d266_a41d_11eb_b537_acde48001122row2_col29\" class=\"data row2 col29\" >105</td>\n",
       "                        <td id=\"T_3551d266_a41d_11eb_b537_acde48001122row2_col30\" class=\"data row2 col30\" >5093</td>\n",
       "                        <td id=\"T_3551d266_a41d_11eb_b537_acde48001122row2_col31\" class=\"data row2 col31\" >10723</td>\n",
       "                        <td id=\"T_3551d266_a41d_11eb_b537_acde48001122row2_col32\" class=\"data row2 col32\" >69</td>\n",
       "                        <td id=\"T_3551d266_a41d_11eb_b537_acde48001122row2_col33\" class=\"data row2 col33\" >30566</td>\n",
       "                        <td id=\"T_3551d266_a41d_11eb_b537_acde48001122row2_col34\" class=\"data row2 col34\" >2630</td>\n",
       "                        <td id=\"T_3551d266_a41d_11eb_b537_acde48001122row2_col35\" class=\"data row2 col35\" >8419</td>\n",
       "            </tr>\n",
       "            <tr>\n",
       "                        <th id=\"T_3551d266_a41d_11eb_b537_acde48001122level0_row3\" class=\"row_heading level0 row3\" >2021-04-19 00:00:00</th>\n",
       "                        <td id=\"T_3551d266_a41d_11eb_b537_acde48001122row3_col0\" class=\"data row3 col0\" >31</td>\n",
       "                        <td id=\"T_3551d266_a41d_11eb_b537_acde48001122row3_col1\" class=\"data row3 col1\" >5963</td>\n",
       "                        <td id=\"T_3551d266_a41d_11eb_b537_acde48001122row3_col2\" class=\"data row3 col2\" >65</td>\n",
       "                        <td id=\"T_3551d266_a41d_11eb_b537_acde48001122row3_col3\" class=\"data row3 col3\" >1367</td>\n",
       "                        <td id=\"T_3551d266_a41d_11eb_b537_acde48001122row3_col4\" class=\"data row3 col4\" >7487</td>\n",
       "                        <td id=\"T_3551d266_a41d_11eb_b537_acde48001122row3_col5\" class=\"data row3 col5\" >612</td>\n",
       "                        <td id=\"T_3551d266_a41d_11eb_b537_acde48001122row3_col6\" class=\"data row3 col6\" >13834</td>\n",
       "                        <td id=\"T_3551d266_a41d_11eb_b537_acde48001122row3_col7\" class=\"data row3 col7\" >2021-04-19</td>\n",
       "                        <td id=\"T_3551d266_a41d_11eb_b537_acde48001122row3_col8\" class=\"data row3 col8\" >23686</td>\n",
       "                        <td id=\"T_3551d266_a41d_11eb_b537_acde48001122row3_col9\" class=\"data row3 col9\" >121</td>\n",
       "                        <td id=\"T_3551d266_a41d_11eb_b537_acde48001122row3_col10\" class=\"data row3 col10\" >940</td>\n",
       "                        <td id=\"T_3551d266_a41d_11eb_b537_acde48001122row3_col11\" class=\"data row3 col11\" >11403</td>\n",
       "                        <td id=\"T_3551d266_a41d_11eb_b537_acde48001122row3_col12\" class=\"data row3 col12\" >1695</td>\n",
       "                        <td id=\"T_3551d266_a41d_11eb_b537_acde48001122row3_col13\" class=\"data row3 col13\" >6842</td>\n",
       "                        <td id=\"T_3551d266_a41d_11eb_b537_acde48001122row3_col14\" class=\"data row3 col14\" >4290</td>\n",
       "                        <td id=\"T_3551d266_a41d_11eb_b537_acde48001122row3_col15\" class=\"data row3 col15\" >1516</td>\n",
       "                        <td id=\"T_3551d266_a41d_11eb_b537_acde48001122row3_col16\" class=\"data row3 col16\" >15785</td>\n",
       "                        <td id=\"T_3551d266_a41d_11eb_b537_acde48001122row3_col17\" class=\"data row3 col17\" >13644</td>\n",
       "                        <td id=\"T_3551d266_a41d_11eb_b537_acde48001122row3_col18\" class=\"data row3 col18\" >175</td>\n",
       "                        <td id=\"T_3551d266_a41d_11eb_b537_acde48001122row3_col19\" class=\"data row3 col19\" >58924</td>\n",
       "                        <td id=\"T_3551d266_a41d_11eb_b537_acde48001122row3_col20\" class=\"data row3 col20\" >110</td>\n",
       "                        <td id=\"T_3551d266_a41d_11eb_b537_acde48001122row3_col21\" class=\"data row3 col21\" >54</td>\n",
       "                        <td id=\"T_3551d266_a41d_11eb_b537_acde48001122row3_col22\" class=\"data row3 col22\" >12897</td>\n",
       "                        <td id=\"T_3551d266_a41d_11eb_b537_acde48001122row3_col23\" class=\"data row3 col23\" >45</td>\n",
       "                        <td id=\"T_3551d266_a41d_11eb_b537_acde48001122row3_col24\" class=\"data row3 col24\" >13</td>\n",
       "                        <td id=\"T_3551d266_a41d_11eb_b537_acde48001122row3_col25\" class=\"data row3 col25\" >4445</td>\n",
       "                        <td id=\"T_3551d266_a41d_11eb_b537_acde48001122row3_col26\" class=\"data row3 col26\" >4622</td>\n",
       "                        <td id=\"T_3551d266_a41d_11eb_b537_acde48001122row3_col27\" class=\"data row3 col27\" >565</td>\n",
       "                        <td id=\"T_3551d266_a41d_11eb_b537_acde48001122row3_col28\" class=\"data row3 col28\" >11967</td>\n",
       "                        <td id=\"T_3551d266_a41d_11eb_b537_acde48001122row3_col29\" class=\"data row3 col29\" >9</td>\n",
       "                        <td id=\"T_3551d266_a41d_11eb_b537_acde48001122row3_col30\" class=\"data row3 col30\" >4009</td>\n",
       "                        <td id=\"T_3551d266_a41d_11eb_b537_acde48001122row3_col31\" class=\"data row3 col31\" >10941</td>\n",
       "                        <td id=\"T_3551d266_a41d_11eb_b537_acde48001122row3_col32\" class=\"data row3 col32\" >32</td>\n",
       "                        <td id=\"T_3551d266_a41d_11eb_b537_acde48001122row3_col33\" class=\"data row3 col33\" >28211</td>\n",
       "                        <td id=\"T_3551d266_a41d_11eb_b537_acde48001122row3_col34\" class=\"data row3 col34\" >2160</td>\n",
       "                        <td id=\"T_3551d266_a41d_11eb_b537_acde48001122row3_col35\" class=\"data row3 col35\" >8426</td>\n",
       "            </tr>\n",
       "            <tr>\n",
       "                        <th id=\"T_3551d266_a41d_11eb_b537_acde48001122level0_row4\" class=\"row_heading level0 row4\" >2021-04-20 00:00:00</th>\n",
       "                        <td id=\"T_3551d266_a41d_11eb_b537_acde48001122row4_col0\" class=\"data row4 col0\" >45</td>\n",
       "                        <td id=\"T_3551d266_a41d_11eb_b537_acde48001122row4_col1\" class=\"data row4 col1\" >8987</td>\n",
       "                        <td id=\"T_3551d266_a41d_11eb_b537_acde48001122row4_col2\" class=\"data row4 col2\" >61</td>\n",
       "                        <td id=\"T_3551d266_a41d_11eb_b537_acde48001122row4_col3\" class=\"data row4 col3\" >1651</td>\n",
       "                        <td id=\"T_3551d266_a41d_11eb_b537_acde48001122row4_col4\" class=\"data row4 col4\" >10455</td>\n",
       "                        <td id=\"T_3551d266_a41d_11eb_b537_acde48001122row4_col5\" class=\"data row4 col5\" >602</td>\n",
       "                        <td id=\"T_3551d266_a41d_11eb_b537_acde48001122row4_col6\" class=\"data row4 col6\" >15625</td>\n",
       "                        <td id=\"T_3551d266_a41d_11eb_b537_acde48001122row4_col7\" class=\"data row4 col7\" >2021-04-20</td>\n",
       "                        <td id=\"T_3551d266_a41d_11eb_b537_acde48001122row4_col8\" class=\"data row4 col8\" >28395</td>\n",
       "                        <td id=\"T_3551d266_a41d_11eb_b537_acde48001122row4_col9\" class=\"data row4 col9\" >291</td>\n",
       "                        <td id=\"T_3551d266_a41d_11eb_b537_acde48001122row4_col10\" class=\"data row4 col10\" >1160</td>\n",
       "                        <td id=\"T_3551d266_a41d_11eb_b537_acde48001122row4_col11\" class=\"data row4 col11\" >12206</td>\n",
       "                        <td id=\"T_3551d266_a41d_11eb_b537_acde48001122row4_col12\" class=\"data row4 col12\" >1340</td>\n",
       "                        <td id=\"T_3551d266_a41d_11eb_b537_acde48001122row4_col13\" class=\"data row4 col13\" >7811</td>\n",
       "                        <td id=\"T_3551d266_a41d_11eb_b537_acde48001122row4_col14\" class=\"data row4 col14\" >5080</td>\n",
       "                        <td id=\"T_3551d266_a41d_11eb_b537_acde48001122row4_col15\" class=\"data row4 col15\" >2030</td>\n",
       "                        <td id=\"T_3551d266_a41d_11eb_b537_acde48001122row4_col16\" class=\"data row4 col16\" >21794</td>\n",
       "                        <td id=\"T_3551d266_a41d_11eb_b537_acde48001122row4_col17\" class=\"data row4 col17\" >19577</td>\n",
       "                        <td id=\"T_3551d266_a41d_11eb_b537_acde48001122row4_col18\" class=\"data row4 col18\" >250</td>\n",
       "                        <td id=\"T_3551d266_a41d_11eb_b537_acde48001122row4_col19\" class=\"data row4 col19\" >62097</td>\n",
       "                        <td id=\"T_3551d266_a41d_11eb_b537_acde48001122row4_col20\" class=\"data row4 col20\" >137</td>\n",
       "                        <td id=\"T_3551d266_a41d_11eb_b537_acde48001122row4_col21\" class=\"data row4 col21\" >94</td>\n",
       "                        <td id=\"T_3551d266_a41d_11eb_b537_acde48001122row4_col22\" class=\"data row4 col22\" >12727</td>\n",
       "                        <td id=\"T_3551d266_a41d_11eb_b537_acde48001122row4_col23\" class=\"data row4 col23\" >91</td>\n",
       "                        <td id=\"T_3551d266_a41d_11eb_b537_acde48001122row4_col24\" class=\"data row4 col24\" >82</td>\n",
       "                        <td id=\"T_3551d266_a41d_11eb_b537_acde48001122row4_col25\" class=\"data row4 col25\" >4761</td>\n",
       "                        <td id=\"T_3551d266_a41d_11eb_b537_acde48001122row4_col26\" class=\"data row4 col26\" >4656</td>\n",
       "                        <td id=\"T_3551d266_a41d_11eb_b537_acde48001122row4_col27\" class=\"data row4 col27\" >638</td>\n",
       "                        <td id=\"T_3551d266_a41d_11eb_b537_acde48001122row4_col28\" class=\"data row4 col28\" >12201</td>\n",
       "                        <td id=\"T_3551d266_a41d_11eb_b537_acde48001122row4_col29\" class=\"data row4 col29\" >91</td>\n",
       "                        <td id=\"T_3551d266_a41d_11eb_b537_acde48001122row4_col30\" class=\"data row4 col30\" >5926</td>\n",
       "                        <td id=\"T_3551d266_a41d_11eb_b537_acde48001122row4_col31\" class=\"data row4 col31\" >10986</td>\n",
       "                        <td id=\"T_3551d266_a41d_11eb_b537_acde48001122row4_col32\" class=\"data row4 col32\" >60</td>\n",
       "                        <td id=\"T_3551d266_a41d_11eb_b537_acde48001122row4_col33\" class=\"data row4 col33\" >29574</td>\n",
       "                        <td id=\"T_3551d266_a41d_11eb_b537_acde48001122row4_col34\" class=\"data row4 col34\" >3012</td>\n",
       "                        <td id=\"T_3551d266_a41d_11eb_b537_acde48001122row4_col35\" class=\"data row4 col35\" >9819</td>\n",
       "            </tr>\n",
       "            <tr>\n",
       "                        <th id=\"T_3551d266_a41d_11eb_b537_acde48001122level0_row5\" class=\"row_heading level0 row5\" >2021-04-21 00:00:00</th>\n",
       "                        <td id=\"T_3551d266_a41d_11eb_b537_acde48001122row5_col0\" class=\"data row5 col0\" >24</td>\n",
       "                        <td id=\"T_3551d266_a41d_11eb_b537_acde48001122row5_col1\" class=\"data row5 col1\" >9716</td>\n",
       "                        <td id=\"T_3551d266_a41d_11eb_b537_acde48001122row5_col2\" class=\"data row5 col2\" >73</td>\n",
       "                        <td id=\"T_3551d266_a41d_11eb_b537_acde48001122row5_col3\" class=\"data row5 col3\" >1665</td>\n",
       "                        <td id=\"T_3551d266_a41d_11eb_b537_acde48001122row5_col4\" class=\"data row5 col4\" >12222</td>\n",
       "                        <td id=\"T_3551d266_a41d_11eb_b537_acde48001122row5_col5\" class=\"data row5 col5\" >622</td>\n",
       "                        <td id=\"T_3551d266_a41d_11eb_b537_acde48001122row5_col6\" class=\"data row5 col6\" >14519</td>\n",
       "                        <td id=\"T_3551d266_a41d_11eb_b537_acde48001122row5_col7\" class=\"data row5 col7\" >2021-04-21</td>\n",
       "                        <td id=\"T_3551d266_a41d_11eb_b537_acde48001122row5_col8\" class=\"data row5 col8\" >24638</td>\n",
       "                        <td id=\"T_3551d266_a41d_11eb_b537_acde48001122row5_col9\" class=\"data row5 col9\" >234</td>\n",
       "                        <td id=\"T_3551d266_a41d_11eb_b537_acde48001122row5_col10\" class=\"data row5 col10\" >1502</td>\n",
       "                        <td id=\"T_3551d266_a41d_11eb_b537_acde48001122row5_col11\" class=\"data row5 col11\" >12553</td>\n",
       "                        <td id=\"T_3551d266_a41d_11eb_b537_acde48001122row5_col12\" class=\"data row5 col12\" >1692</td>\n",
       "                        <td id=\"T_3551d266_a41d_11eb_b537_acde48001122row5_col13\" class=\"data row5 col13\" >9623</td>\n",
       "                        <td id=\"T_3551d266_a41d_11eb_b537_acde48001122row5_col14\" class=\"data row5 col14\" >5041</td>\n",
       "                        <td id=\"T_3551d266_a41d_11eb_b537_acde48001122row5_col15\" class=\"data row5 col15\" >2204</td>\n",
       "                        <td id=\"T_3551d266_a41d_11eb_b537_acde48001122row5_col16\" class=\"data row5 col16\" >23558</td>\n",
       "                        <td id=\"T_3551d266_a41d_11eb_b537_acde48001122row5_col17\" class=\"data row5 col17\" >22414</td>\n",
       "                        <td id=\"T_3551d266_a41d_11eb_b537_acde48001122row5_col18\" class=\"data row5 col18\" >183</td>\n",
       "                        <td id=\"T_3551d266_a41d_11eb_b537_acde48001122row5_col19\" class=\"data row5 col19\" >67468</td>\n",
       "                        <td id=\"T_3551d266_a41d_11eb_b537_acde48001122row5_col20\" class=\"data row5 col20\" >192</td>\n",
       "                        <td id=\"T_3551d266_a41d_11eb_b537_acde48001122row5_col21\" class=\"data row5 col21\" >92</td>\n",
       "                        <td id=\"T_3551d266_a41d_11eb_b537_acde48001122row5_col22\" class=\"data row5 col22\" >13107</td>\n",
       "                        <td id=\"T_3551d266_a41d_11eb_b537_acde48001122row5_col23\" class=\"data row5 col23\" >90</td>\n",
       "                        <td id=\"T_3551d266_a41d_11eb_b537_acde48001122row5_col24\" class=\"data row5 col24\" >97</td>\n",
       "                        <td id=\"T_3551d266_a41d_11eb_b537_acde48001122row5_col25\" class=\"data row5 col25\" >4851</td>\n",
       "                        <td id=\"T_3551d266_a41d_11eb_b537_acde48001122row5_col26\" class=\"data row5 col26\" >4953</td>\n",
       "                        <td id=\"T_3551d266_a41d_11eb_b537_acde48001122row5_col27\" class=\"data row5 col27\" >619</td>\n",
       "                        <td id=\"T_3551d266_a41d_11eb_b537_acde48001122row5_col28\" class=\"data row5 col28\" >14622</td>\n",
       "                        <td id=\"T_3551d266_a41d_11eb_b537_acde48001122row5_col29\" class=\"data row5 col29\" >50</td>\n",
       "                        <td id=\"T_3551d266_a41d_11eb_b537_acde48001122row5_col30\" class=\"data row5 col30\" >6542</td>\n",
       "                        <td id=\"T_3551d266_a41d_11eb_b537_acde48001122row5_col31\" class=\"data row5 col31\" >11681</td>\n",
       "                        <td id=\"T_3551d266_a41d_11eb_b537_acde48001122row5_col32\" class=\"data row5 col32\" >0</td>\n",
       "                        <td id=\"T_3551d266_a41d_11eb_b537_acde48001122row5_col33\" class=\"data row5 col33\" >33106</td>\n",
       "                        <td id=\"T_3551d266_a41d_11eb_b537_acde48001122row5_col34\" class=\"data row5 col34\" >4807</td>\n",
       "                        <td id=\"T_3551d266_a41d_11eb_b537_acde48001122row5_col35\" class=\"data row5 col35\" >10784</td>\n",
       "            </tr>\n",
       "            <tr>\n",
       "                        <th id=\"T_3551d266_a41d_11eb_b537_acde48001122level0_row6\" class=\"row_heading level0 row6\" >2021-04-22 00:00:00</th>\n",
       "                        <td id=\"T_3551d266_a41d_11eb_b537_acde48001122row6_col0\" class=\"data row6 col0\" >37</td>\n",
       "                        <td id=\"T_3551d266_a41d_11eb_b537_acde48001122row6_col1\" class=\"data row6 col1\" >10759</td>\n",
       "                        <td id=\"T_3551d266_a41d_11eb_b537_acde48001122row6_col2\" class=\"data row6 col2\" >110</td>\n",
       "                        <td id=\"T_3551d266_a41d_11eb_b537_acde48001122row6_col3\" class=\"data row6 col3\" >1931</td>\n",
       "                        <td id=\"T_3551d266_a41d_11eb_b537_acde48001122row6_col4\" class=\"data row6 col4\" >11489</td>\n",
       "                        <td id=\"T_3551d266_a41d_11eb_b537_acde48001122row6_col5\" class=\"data row6 col5\" >634</td>\n",
       "                        <td id=\"T_3551d266_a41d_11eb_b537_acde48001122row6_col6\" class=\"data row6 col6\" >16750</td>\n",
       "                        <td id=\"T_3551d266_a41d_11eb_b537_acde48001122row6_col7\" class=\"data row6 col7\" >2021-04-22</td>\n",
       "                        <td id=\"T_3551d266_a41d_11eb_b537_acde48001122row6_col8\" class=\"data row6 col8\" >26169</td>\n",
       "                        <td id=\"T_3551d266_a41d_11eb_b537_acde48001122row6_col9\" class=\"data row6 col9\" >346</td>\n",
       "                        <td id=\"T_3551d266_a41d_11eb_b537_acde48001122row6_col10\" class=\"data row6 col10\" >1410</td>\n",
       "                        <td id=\"T_3551d266_a41d_11eb_b537_acde48001122row6_col11\" class=\"data row6 col11\" >13105</td>\n",
       "                        <td id=\"T_3551d266_a41d_11eb_b537_acde48001122row6_col12\" class=\"data row6 col12\" >1774</td>\n",
       "                        <td id=\"T_3551d266_a41d_11eb_b537_acde48001122row6_col13\" class=\"data row6 col13\" >9742</td>\n",
       "                        <td id=\"T_3551d266_a41d_11eb_b537_acde48001122row6_col14\" class=\"data row6 col14\" >7595</td>\n",
       "                        <td id=\"T_3551d266_a41d_11eb_b537_acde48001122row6_col15\" class=\"data row6 col15\" >1965</td>\n",
       "                        <td id=\"T_3551d266_a41d_11eb_b537_acde48001122row6_col16\" class=\"data row6 col16\" >25795</td>\n",
       "                        <td id=\"T_3551d266_a41d_11eb_b537_acde48001122row6_col17\" class=\"data row6 col17\" >26995</td>\n",
       "                        <td id=\"T_3551d266_a41d_11eb_b537_acde48001122row6_col18\" class=\"data row6 col18\" >198</td>\n",
       "                        <td id=\"T_3551d266_a41d_11eb_b537_acde48001122row6_col19\" class=\"data row6 col19\" >67013</td>\n",
       "                        <td id=\"T_3551d266_a41d_11eb_b537_acde48001122row6_col20\" class=\"data row6 col20\" >180</td>\n",
       "                        <td id=\"T_3551d266_a41d_11eb_b537_acde48001122row6_col21\" class=\"data row6 col21\" >86</td>\n",
       "                        <td id=\"T_3551d266_a41d_11eb_b537_acde48001122row6_col22\" class=\"data row6 col22\" >12384</td>\n",
       "                        <td id=\"T_3551d266_a41d_11eb_b537_acde48001122row6_col23\" class=\"data row6 col23\" >73</td>\n",
       "                        <td id=\"T_3551d266_a41d_11eb_b537_acde48001122row6_col24\" class=\"data row6 col24\" >53</td>\n",
       "                        <td id=\"T_3551d266_a41d_11eb_b537_acde48001122row6_col25\" class=\"data row6 col25\" >6164</td>\n",
       "                        <td id=\"T_3551d266_a41d_11eb_b537_acde48001122row6_col26\" class=\"data row6 col26\" >5450</td>\n",
       "                        <td id=\"T_3551d266_a41d_11eb_b537_acde48001122row6_col27\" class=\"data row6 col27\" >987</td>\n",
       "                        <td id=\"T_3551d266_a41d_11eb_b537_acde48001122row6_col28\" class=\"data row6 col28\" >14468</td>\n",
       "                        <td id=\"T_3551d266_a41d_11eb_b537_acde48001122row6_col29\" class=\"data row6 col29\" >124</td>\n",
       "                        <td id=\"T_3551d266_a41d_11eb_b537_acde48001122row6_col30\" class=\"data row6 col30\" >5567</td>\n",
       "                        <td id=\"T_3551d266_a41d_11eb_b537_acde48001122row6_col31\" class=\"data row6 col31\" >12652</td>\n",
       "                        <td id=\"T_3551d266_a41d_11eb_b537_acde48001122row6_col32\" class=\"data row6 col32\" >168</td>\n",
       "                        <td id=\"T_3551d266_a41d_11eb_b537_acde48001122row6_col33\" class=\"data row6 col33\" >34254</td>\n",
       "                        <td id=\"T_3551d266_a41d_11eb_b537_acde48001122row6_col34\" class=\"data row6 col34\" >3998</td>\n",
       "                        <td id=\"T_3551d266_a41d_11eb_b537_acde48001122row6_col35\" class=\"data row6 col35\" >11948</td>\n",
       "            </tr>\n",
       "    </tbody></table>"
      ],
      "text/plain": [
       "<pandas.io.formats.style.Styler at 0x7fe16d65e1c0>"
      ]
     },
     "execution_count": 41,
     "metadata": {},
     "output_type": "execute_result"
    }
   ],
   "source": [
    "df.style.apply(bold_max_value).highlight_min(color='green')"
   ]
  },
  {
   "cell_type": "code",
   "execution_count": 42,
   "metadata": {
    "colab": {
     "base_uri": "https://localhost:8080/",
     "height": 353
    },
    "colab_type": "code",
    "id": "pxRlb989nqQy",
    "outputId": "fefca8ee-ea26-4218-c971-5ee93a1f403e"
   },
   "outputs": [
    {
     "data": {
      "text/html": [
       "<style  type=\"text/css\" >\n",
       "    #T_355fed06_a41d_11eb_b537_acde48001122row0_col12 {\n",
       "            font-weight:  bold;\n",
       "        }    #T_355fed06_a41d_11eb_b537_acde48001122row1_col3 {\n",
       "            font-weight:  bold;\n",
       "        }    #T_355fed06_a41d_11eb_b537_acde48001122row1_col11 {\n",
       "            font-weight:  bold;\n",
       "        }    #T_355fed06_a41d_11eb_b537_acde48001122row1_col20 {\n",
       "            font-weight:  bold;\n",
       "        }    #T_355fed06_a41d_11eb_b537_acde48001122row1_col28 {\n",
       "            font-weight:  bold;\n",
       "        }    #T_355fed06_a41d_11eb_b537_acde48001122row1_col31 {\n",
       "            font-weight:  bold;\n",
       "        }    #T_355fed06_a41d_11eb_b537_acde48001122row2_col0 {\n",
       "            font-weight:  bold;\n",
       "        }    #T_355fed06_a41d_11eb_b537_acde48001122row2_col4 {\n",
       "            font-weight:  bold;\n",
       "        }    #T_355fed06_a41d_11eb_b537_acde48001122row2_col10 {\n",
       "            font-weight:  bold;\n",
       "        }    #T_355fed06_a41d_11eb_b537_acde48001122row2_col18 {\n",
       "            font-weight:  bold;\n",
       "        }    #T_355fed06_a41d_11eb_b537_acde48001122row2_col19 {\n",
       "            font-weight:  bold;\n",
       "        }    #T_355fed06_a41d_11eb_b537_acde48001122row2_col32 {\n",
       "            font-weight:  bold;\n",
       "        }    #T_355fed06_a41d_11eb_b537_acde48001122row4_col8 {\n",
       "            font-weight:  bold;\n",
       "        }    #T_355fed06_a41d_11eb_b537_acde48001122row4_col21 {\n",
       "            font-weight:  bold;\n",
       "        }    #T_355fed06_a41d_11eb_b537_acde48001122row4_col23 {\n",
       "            font-weight:  bold;\n",
       "        }    #T_355fed06_a41d_11eb_b537_acde48001122row4_col29 {\n",
       "            font-weight:  bold;\n",
       "        }    #T_355fed06_a41d_11eb_b537_acde48001122row4_col35 {\n",
       "            font-weight:  bold;\n",
       "        }    #T_355fed06_a41d_11eb_b537_acde48001122row5_col1 {\n",
       "            font-weight:  bold;\n",
       "        }    #T_355fed06_a41d_11eb_b537_acde48001122row5_col2 {\n",
       "            font-weight:  bold;\n",
       "        }    #T_355fed06_a41d_11eb_b537_acde48001122row5_col15 {\n",
       "            font-weight:  bold;\n",
       "        }    #T_355fed06_a41d_11eb_b537_acde48001122row5_col22 {\n",
       "            font-weight:  bold;\n",
       "        }    #T_355fed06_a41d_11eb_b537_acde48001122row5_col24 {\n",
       "            font-weight:  bold;\n",
       "        }    #T_355fed06_a41d_11eb_b537_acde48001122row5_col30 {\n",
       "            font-weight:  bold;\n",
       "        }    #T_355fed06_a41d_11eb_b537_acde48001122row5_col34 {\n",
       "            font-weight:  bold;\n",
       "        }    #T_355fed06_a41d_11eb_b537_acde48001122row6_col5 {\n",
       "            font-weight:  bold;\n",
       "        }    #T_355fed06_a41d_11eb_b537_acde48001122row6_col6 {\n",
       "            font-weight:  bold;\n",
       "        }    #T_355fed06_a41d_11eb_b537_acde48001122row6_col7 {\n",
       "            font-weight:  bold;\n",
       "        }    #T_355fed06_a41d_11eb_b537_acde48001122row6_col9 {\n",
       "            font-weight:  bold;\n",
       "        }    #T_355fed06_a41d_11eb_b537_acde48001122row6_col13 {\n",
       "            font-weight:  bold;\n",
       "        }    #T_355fed06_a41d_11eb_b537_acde48001122row6_col14 {\n",
       "            font-weight:  bold;\n",
       "        }    #T_355fed06_a41d_11eb_b537_acde48001122row6_col16 {\n",
       "            font-weight:  bold;\n",
       "        }    #T_355fed06_a41d_11eb_b537_acde48001122row6_col17 {\n",
       "            font-weight:  bold;\n",
       "        }    #T_355fed06_a41d_11eb_b537_acde48001122row6_col25 {\n",
       "            font-weight:  bold;\n",
       "        }    #T_355fed06_a41d_11eb_b537_acde48001122row6_col26 {\n",
       "            font-weight:  bold;\n",
       "        }    #T_355fed06_a41d_11eb_b537_acde48001122row6_col27 {\n",
       "            font-weight:  bold;\n",
       "        }    #T_355fed06_a41d_11eb_b537_acde48001122row6_col33 {\n",
       "            font-weight:  bold;\n",
       "        }</style><table id=\"T_355fed06_a41d_11eb_b537_acde48001122\" ><thead>    <tr>        <th class=\"blank level0\" ></th>        <th class=\"col_heading level0 col0\" >an</th>        <th class=\"col_heading level0 col1\" >ap</th>        <th class=\"col_heading level0 col2\" >ar</th>        <th class=\"col_heading level0 col3\" >as</th>        <th class=\"col_heading level0 col4\" >br</th>        <th class=\"col_heading level0 col5\" >ch</th>        <th class=\"col_heading level0 col6\" >ct</th>        <th class=\"col_heading level0 col7\" >dateymd</th>        <th class=\"col_heading level0 col8\" >dl</th>        <th class=\"col_heading level0 col9\" >dn</th>        <th class=\"col_heading level0 col10\" >ga</th>        <th class=\"col_heading level0 col11\" >gj</th>        <th class=\"col_heading level0 col12\" >hp</th>        <th class=\"col_heading level0 col13\" >hr</th>        <th class=\"col_heading level0 col14\" >jh</th>        <th class=\"col_heading level0 col15\" >jk</th>        <th class=\"col_heading level0 col16\" >ka</th>        <th class=\"col_heading level0 col17\" >kl</th>        <th class=\"col_heading level0 col18\" >la</th>        <th class=\"col_heading level0 col19\" >mh</th>        <th class=\"col_heading level0 col20\" >ml</th>        <th class=\"col_heading level0 col21\" >mn</th>        <th class=\"col_heading level0 col22\" >mp</th>        <th class=\"col_heading level0 col23\" >mz</th>        <th class=\"col_heading level0 col24\" >nl</th>        <th class=\"col_heading level0 col25\" >or</th>        <th class=\"col_heading level0 col26\" >pb</th>        <th class=\"col_heading level0 col27\" >py</th>        <th class=\"col_heading level0 col28\" >rj</th>        <th class=\"col_heading level0 col29\" >sk</th>        <th class=\"col_heading level0 col30\" >tg</th>        <th class=\"col_heading level0 col31\" >tn</th>        <th class=\"col_heading level0 col32\" >tr</th>        <th class=\"col_heading level0 col33\" >up</th>        <th class=\"col_heading level0 col34\" >ut</th>        <th class=\"col_heading level0 col35\" >wb</th>    </tr>    <tr>        <th class=\"index_name level0\" >date</th>        <th class=\"blank\" ></th>        <th class=\"blank\" ></th>        <th class=\"blank\" ></th>        <th class=\"blank\" ></th>        <th class=\"blank\" ></th>        <th class=\"blank\" ></th>        <th class=\"blank\" ></th>        <th class=\"blank\" ></th>        <th class=\"blank\" ></th>        <th class=\"blank\" ></th>        <th class=\"blank\" ></th>        <th class=\"blank\" ></th>        <th class=\"blank\" ></th>        <th class=\"blank\" ></th>        <th class=\"blank\" ></th>        <th class=\"blank\" ></th>        <th class=\"blank\" ></th>        <th class=\"blank\" ></th>        <th class=\"blank\" ></th>        <th class=\"blank\" ></th>        <th class=\"blank\" ></th>        <th class=\"blank\" ></th>        <th class=\"blank\" ></th>        <th class=\"blank\" ></th>        <th class=\"blank\" ></th>        <th class=\"blank\" ></th>        <th class=\"blank\" ></th>        <th class=\"blank\" ></th>        <th class=\"blank\" ></th>        <th class=\"blank\" ></th>        <th class=\"blank\" ></th>        <th class=\"blank\" ></th>        <th class=\"blank\" ></th>        <th class=\"blank\" ></th>        <th class=\"blank\" ></th>        <th class=\"blank\" ></th>    </tr></thead><tbody>\n",
       "                <tr>\n",
       "                        <th id=\"T_355fed06_a41d_11eb_b537_acde48001122level0_row0\" class=\"row_heading level0 row0\" >2021-04-16 00:00:00</th>\n",
       "                        <td id=\"T_355fed06_a41d_11eb_b537_acde48001122row0_col0\" class=\"data row0 col0\" >27</td>\n",
       "                        <td id=\"T_355fed06_a41d_11eb_b537_acde48001122row0_col1\" class=\"data row0 col1\" >6096</td>\n",
       "                        <td id=\"T_355fed06_a41d_11eb_b537_acde48001122row0_col2\" class=\"data row0 col2\" >28</td>\n",
       "                        <td id=\"T_355fed06_a41d_11eb_b537_acde48001122row0_col3\" class=\"data row0 col3\" >573</td>\n",
       "                        <td id=\"T_355fed06_a41d_11eb_b537_acde48001122row0_col4\" class=\"data row0 col4\" >6253</td>\n",
       "                        <td id=\"T_355fed06_a41d_11eb_b537_acde48001122row0_col5\" class=\"data row0 col5\" >481</td>\n",
       "                        <td id=\"T_355fed06_a41d_11eb_b537_acde48001122row0_col6\" class=\"data row0 col6\" >14912</td>\n",
       "                        <td id=\"T_355fed06_a41d_11eb_b537_acde48001122row0_col7\" class=\"data row0 col7\" >2021-04-16</td>\n",
       "                        <td id=\"T_355fed06_a41d_11eb_b537_acde48001122row0_col8\" class=\"data row0 col8\" >19486</td>\n",
       "                        <td id=\"T_355fed06_a41d_11eb_b537_acde48001122row0_col9\" class=\"data row0 col9\" >138</td>\n",
       "                        <td id=\"T_355fed06_a41d_11eb_b537_acde48001122row0_col10\" class=\"data row0 col10\" >927</td>\n",
       "                        <td id=\"T_355fed06_a41d_11eb_b537_acde48001122row0_col11\" class=\"data row0 col11\" >8920</td>\n",
       "                        <td id=\"T_355fed06_a41d_11eb_b537_acde48001122row0_col12\" class=\"data row0 col12\" >842</td>\n",
       "                        <td id=\"T_355fed06_a41d_11eb_b537_acde48001122row0_col13\" class=\"data row0 col13\" >6277</td>\n",
       "                        <td id=\"T_355fed06_a41d_11eb_b537_acde48001122row0_col14\" class=\"data row0 col14\" >3843</td>\n",
       "                        <td id=\"T_355fed06_a41d_11eb_b537_acde48001122row0_col15\" class=\"data row0 col15\" >1144</td>\n",
       "                        <td id=\"T_355fed06_a41d_11eb_b537_acde48001122row0_col16\" class=\"data row0 col16\" >14859</td>\n",
       "                        <td id=\"T_355fed06_a41d_11eb_b537_acde48001122row0_col17\" class=\"data row0 col17\" >10031</td>\n",
       "                        <td id=\"T_355fed06_a41d_11eb_b537_acde48001122row0_col18\" class=\"data row0 col18\" >245</td>\n",
       "                        <td id=\"T_355fed06_a41d_11eb_b537_acde48001122row0_col19\" class=\"data row0 col19\" >63729</td>\n",
       "                        <td id=\"T_355fed06_a41d_11eb_b537_acde48001122row0_col20\" class=\"data row0 col20\" >121</td>\n",
       "                        <td id=\"T_355fed06_a41d_11eb_b537_acde48001122row0_col21\" class=\"data row0 col21\" >31</td>\n",
       "                        <td id=\"T_355fed06_a41d_11eb_b537_acde48001122row0_col22\" class=\"data row0 col22\" >11045</td>\n",
       "                        <td id=\"T_355fed06_a41d_11eb_b537_acde48001122row0_col23\" class=\"data row0 col23\" >25</td>\n",
       "                        <td id=\"T_355fed06_a41d_11eb_b537_acde48001122row0_col24\" class=\"data row0 col24\" >22</td>\n",
       "                        <td id=\"T_355fed06_a41d_11eb_b537_acde48001122row0_col25\" class=\"data row0 col25\" >3108</td>\n",
       "                        <td id=\"T_355fed06_a41d_11eb_b537_acde48001122row0_col26\" class=\"data row0 col26\" >3891</td>\n",
       "                        <td id=\"T_355fed06_a41d_11eb_b537_acde48001122row0_col27\" class=\"data row0 col27\" >531</td>\n",
       "                        <td id=\"T_355fed06_a41d_11eb_b537_acde48001122row0_col28\" class=\"data row0 col28\" >7359</td>\n",
       "                        <td id=\"T_355fed06_a41d_11eb_b537_acde48001122row0_col29\" class=\"data row0 col29\" >22</td>\n",
       "                        <td id=\"T_355fed06_a41d_11eb_b537_acde48001122row0_col30\" class=\"data row0 col30\" >3840</td>\n",
       "                        <td id=\"T_355fed06_a41d_11eb_b537_acde48001122row0_col31\" class=\"data row0 col31\" >8449</td>\n",
       "                        <td id=\"T_355fed06_a41d_11eb_b537_acde48001122row0_col32\" class=\"data row0 col32\" >31</td>\n",
       "                        <td id=\"T_355fed06_a41d_11eb_b537_acde48001122row0_col33\" class=\"data row0 col33\" >27360</td>\n",
       "                        <td id=\"T_355fed06_a41d_11eb_b537_acde48001122row0_col34\" class=\"data row0 col34\" >2402</td>\n",
       "                        <td id=\"T_355fed06_a41d_11eb_b537_acde48001122row0_col35\" class=\"data row0 col35\" >6910</td>\n",
       "            </tr>\n",
       "            <tr>\n",
       "                        <th id=\"T_355fed06_a41d_11eb_b537_acde48001122level0_row1\" class=\"row_heading level0 row1\" >2021-04-17 00:00:00</th>\n",
       "                        <td id=\"T_355fed06_a41d_11eb_b537_acde48001122row1_col0\" class=\"data row1 col0\" >42</td>\n",
       "                        <td id=\"T_355fed06_a41d_11eb_b537_acde48001122row1_col1\" class=\"data row1 col1\" >7224</td>\n",
       "                        <td id=\"T_355fed06_a41d_11eb_b537_acde48001122row1_col2\" class=\"data row1 col2\" >19</td>\n",
       "                        <td id=\"T_355fed06_a41d_11eb_b537_acde48001122row1_col3\" class=\"data row1 col3\" >876</td>\n",
       "                        <td id=\"T_355fed06_a41d_11eb_b537_acde48001122row1_col4\" class=\"data row1 col4\" >7870</td>\n",
       "                        <td id=\"T_355fed06_a41d_11eb_b537_acde48001122row1_col5\" class=\"data row1 col5\" >431</td>\n",
       "                        <td id=\"T_355fed06_a41d_11eb_b537_acde48001122row1_col6\" class=\"data row1 col6\" >16083</td>\n",
       "                        <td id=\"T_355fed06_a41d_11eb_b537_acde48001122row1_col7\" class=\"data row1 col7\" >2021-04-17</td>\n",
       "                        <td id=\"T_355fed06_a41d_11eb_b537_acde48001122row1_col8\" class=\"data row1 col8\" >24375</td>\n",
       "                        <td id=\"T_355fed06_a41d_11eb_b537_acde48001122row1_col9\" class=\"data row1 col9\" >108</td>\n",
       "                        <td id=\"T_355fed06_a41d_11eb_b537_acde48001122row1_col10\" class=\"data row1 col10\" >762</td>\n",
       "                        <td id=\"T_355fed06_a41d_11eb_b537_acde48001122row1_col11\" class=\"data row1 col11\" >9541</td>\n",
       "                        <td id=\"T_355fed06_a41d_11eb_b537_acde48001122row1_col12\" class=\"data row1 col12\" >1392</td>\n",
       "                        <td id=\"T_355fed06_a41d_11eb_b537_acde48001122row1_col13\" class=\"data row1 col13\" >7717</td>\n",
       "                        <td id=\"T_355fed06_a41d_11eb_b537_acde48001122row1_col14\" class=\"data row1 col14\" >3838</td>\n",
       "                        <td id=\"T_355fed06_a41d_11eb_b537_acde48001122row1_col15\" class=\"data row1 col15\" >1145</td>\n",
       "                        <td id=\"T_355fed06_a41d_11eb_b537_acde48001122row1_col16\" class=\"data row1 col16\" >17489</td>\n",
       "                        <td id=\"T_355fed06_a41d_11eb_b537_acde48001122row1_col17\" class=\"data row1 col17\" >13835</td>\n",
       "                        <td id=\"T_355fed06_a41d_11eb_b537_acde48001122row1_col18\" class=\"data row1 col18\" >362</td>\n",
       "                        <td id=\"T_355fed06_a41d_11eb_b537_acde48001122row1_col19\" class=\"data row1 col19\" >67123</td>\n",
       "                        <td id=\"T_355fed06_a41d_11eb_b537_acde48001122row1_col20\" class=\"data row1 col20\" >95</td>\n",
       "                        <td id=\"T_355fed06_a41d_11eb_b537_acde48001122row1_col21\" class=\"data row1 col21\" >39</td>\n",
       "                        <td id=\"T_355fed06_a41d_11eb_b537_acde48001122row1_col22\" class=\"data row1 col22\" >11269</td>\n",
       "                        <td id=\"T_355fed06_a41d_11eb_b537_acde48001122row1_col23\" class=\"data row1 col23\" >62</td>\n",
       "                        <td id=\"T_355fed06_a41d_11eb_b537_acde48001122row1_col24\" class=\"data row1 col24\" >32</td>\n",
       "                        <td id=\"T_355fed06_a41d_11eb_b537_acde48001122row1_col25\" class=\"data row1 col25\" >3144</td>\n",
       "                        <td id=\"T_355fed06_a41d_11eb_b537_acde48001122row1_col26\" class=\"data row1 col26\" >4431</td>\n",
       "                        <td id=\"T_355fed06_a41d_11eb_b537_acde48001122row1_col27\" class=\"data row1 col27\" >715</td>\n",
       "                        <td id=\"T_355fed06_a41d_11eb_b537_acde48001122row1_col28\" class=\"data row1 col28\" >9046</td>\n",
       "                        <td id=\"T_355fed06_a41d_11eb_b537_acde48001122row1_col29\" class=\"data row1 col29\" >72</td>\n",
       "                        <td id=\"T_355fed06_a41d_11eb_b537_acde48001122row1_col30\" class=\"data row1 col30\" >4446</td>\n",
       "                        <td id=\"T_355fed06_a41d_11eb_b537_acde48001122row1_col31\" class=\"data row1 col31\" >9344</td>\n",
       "                        <td id=\"T_355fed06_a41d_11eb_b537_acde48001122row1_col32\" class=\"data row1 col32\" >58</td>\n",
       "                        <td id=\"T_355fed06_a41d_11eb_b537_acde48001122row1_col33\" class=\"data row1 col33\" >27334</td>\n",
       "                        <td id=\"T_355fed06_a41d_11eb_b537_acde48001122row1_col34\" class=\"data row1 col34\" >2757</td>\n",
       "                        <td id=\"T_355fed06_a41d_11eb_b537_acde48001122row1_col35\" class=\"data row1 col35\" >7713</td>\n",
       "            </tr>\n",
       "            <tr>\n",
       "                        <th id=\"T_355fed06_a41d_11eb_b537_acde48001122level0_row2\" class=\"row_heading level0 row2\" >2021-04-18 00:00:00</th>\n",
       "                        <td id=\"T_355fed06_a41d_11eb_b537_acde48001122row2_col0\" class=\"data row2 col0\" >59</td>\n",
       "                        <td id=\"T_355fed06_a41d_11eb_b537_acde48001122row2_col1\" class=\"data row2 col1\" >6582</td>\n",
       "                        <td id=\"T_355fed06_a41d_11eb_b537_acde48001122row2_col2\" class=\"data row2 col2\" >20</td>\n",
       "                        <td id=\"T_355fed06_a41d_11eb_b537_acde48001122row2_col3\" class=\"data row2 col3\" >639</td>\n",
       "                        <td id=\"T_355fed06_a41d_11eb_b537_acde48001122row2_col4\" class=\"data row2 col4\" >8690</td>\n",
       "                        <td id=\"T_355fed06_a41d_11eb_b537_acde48001122row2_col5\" class=\"data row2 col5\" >625</td>\n",
       "                        <td id=\"T_355fed06_a41d_11eb_b537_acde48001122row2_col6\" class=\"data row2 col6\" >12345</td>\n",
       "                        <td id=\"T_355fed06_a41d_11eb_b537_acde48001122row2_col7\" class=\"data row2 col7\" >2021-04-18</td>\n",
       "                        <td id=\"T_355fed06_a41d_11eb_b537_acde48001122row2_col8\" class=\"data row2 col8\" >25462</td>\n",
       "                        <td id=\"T_355fed06_a41d_11eb_b537_acde48001122row2_col9\" class=\"data row2 col9\" >184</td>\n",
       "                        <td id=\"T_355fed06_a41d_11eb_b537_acde48001122row2_col10\" class=\"data row2 col10\" >951</td>\n",
       "                        <td id=\"T_355fed06_a41d_11eb_b537_acde48001122row2_col11\" class=\"data row2 col11\" >10340</td>\n",
       "                        <td id=\"T_355fed06_a41d_11eb_b537_acde48001122row2_col12\" class=\"data row2 col12\" >788</td>\n",
       "                        <td id=\"T_355fed06_a41d_11eb_b537_acde48001122row2_col13\" class=\"data row2 col13\" >7177</td>\n",
       "                        <td id=\"T_355fed06_a41d_11eb_b537_acde48001122row2_col14\" class=\"data row2 col14\" >3992</td>\n",
       "                        <td id=\"T_355fed06_a41d_11eb_b537_acde48001122row2_col15\" class=\"data row2 col15\" >1526</td>\n",
       "                        <td id=\"T_355fed06_a41d_11eb_b537_acde48001122row2_col16\" class=\"data row2 col16\" >19067</td>\n",
       "                        <td id=\"T_355fed06_a41d_11eb_b537_acde48001122row2_col17\" class=\"data row2 col17\" >18257</td>\n",
       "                        <td id=\"T_355fed06_a41d_11eb_b537_acde48001122row2_col18\" class=\"data row2 col18\" >60</td>\n",
       "                        <td id=\"T_355fed06_a41d_11eb_b537_acde48001122row2_col19\" class=\"data row2 col19\" >68631</td>\n",
       "                        <td id=\"T_355fed06_a41d_11eb_b537_acde48001122row2_col20\" class=\"data row2 col20\" >71</td>\n",
       "                        <td id=\"T_355fed06_a41d_11eb_b537_acde48001122row2_col21\" class=\"data row2 col21\" >72</td>\n",
       "                        <td id=\"T_355fed06_a41d_11eb_b537_acde48001122row2_col22\" class=\"data row2 col22\" >12248</td>\n",
       "                        <td id=\"T_355fed06_a41d_11eb_b537_acde48001122row2_col23\" class=\"data row2 col23\" >50</td>\n",
       "                        <td id=\"T_355fed06_a41d_11eb_b537_acde48001122row2_col24\" class=\"data row2 col24\" >19</td>\n",
       "                        <td id=\"T_355fed06_a41d_11eb_b537_acde48001122row2_col25\" class=\"data row2 col25\" >3664</td>\n",
       "                        <td id=\"T_355fed06_a41d_11eb_b537_acde48001122row2_col26\" class=\"data row2 col26\" >4900</td>\n",
       "                        <td id=\"T_355fed06_a41d_11eb_b537_acde48001122row2_col27\" class=\"data row2 col27\" >663</td>\n",
       "                        <td id=\"T_355fed06_a41d_11eb_b537_acde48001122row2_col28\" class=\"data row2 col28\" >10262</td>\n",
       "                        <td id=\"T_355fed06_a41d_11eb_b537_acde48001122row2_col29\" class=\"data row2 col29\" >105</td>\n",
       "                        <td id=\"T_355fed06_a41d_11eb_b537_acde48001122row2_col30\" class=\"data row2 col30\" >5093</td>\n",
       "                        <td id=\"T_355fed06_a41d_11eb_b537_acde48001122row2_col31\" class=\"data row2 col31\" >10723</td>\n",
       "                        <td id=\"T_355fed06_a41d_11eb_b537_acde48001122row2_col32\" class=\"data row2 col32\" >69</td>\n",
       "                        <td id=\"T_355fed06_a41d_11eb_b537_acde48001122row2_col33\" class=\"data row2 col33\" >30566</td>\n",
       "                        <td id=\"T_355fed06_a41d_11eb_b537_acde48001122row2_col34\" class=\"data row2 col34\" >2630</td>\n",
       "                        <td id=\"T_355fed06_a41d_11eb_b537_acde48001122row2_col35\" class=\"data row2 col35\" >8419</td>\n",
       "            </tr>\n",
       "            <tr>\n",
       "                        <th id=\"T_355fed06_a41d_11eb_b537_acde48001122level0_row3\" class=\"row_heading level0 row3\" >2021-04-19 00:00:00</th>\n",
       "                        <td id=\"T_355fed06_a41d_11eb_b537_acde48001122row3_col0\" class=\"data row3 col0\" >31</td>\n",
       "                        <td id=\"T_355fed06_a41d_11eb_b537_acde48001122row3_col1\" class=\"data row3 col1\" >5963</td>\n",
       "                        <td id=\"T_355fed06_a41d_11eb_b537_acde48001122row3_col2\" class=\"data row3 col2\" >65</td>\n",
       "                        <td id=\"T_355fed06_a41d_11eb_b537_acde48001122row3_col3\" class=\"data row3 col3\" >1367</td>\n",
       "                        <td id=\"T_355fed06_a41d_11eb_b537_acde48001122row3_col4\" class=\"data row3 col4\" >7487</td>\n",
       "                        <td id=\"T_355fed06_a41d_11eb_b537_acde48001122row3_col5\" class=\"data row3 col5\" >612</td>\n",
       "                        <td id=\"T_355fed06_a41d_11eb_b537_acde48001122row3_col6\" class=\"data row3 col6\" >13834</td>\n",
       "                        <td id=\"T_355fed06_a41d_11eb_b537_acde48001122row3_col7\" class=\"data row3 col7\" >2021-04-19</td>\n",
       "                        <td id=\"T_355fed06_a41d_11eb_b537_acde48001122row3_col8\" class=\"data row3 col8\" >23686</td>\n",
       "                        <td id=\"T_355fed06_a41d_11eb_b537_acde48001122row3_col9\" class=\"data row3 col9\" >121</td>\n",
       "                        <td id=\"T_355fed06_a41d_11eb_b537_acde48001122row3_col10\" class=\"data row3 col10\" >940</td>\n",
       "                        <td id=\"T_355fed06_a41d_11eb_b537_acde48001122row3_col11\" class=\"data row3 col11\" >11403</td>\n",
       "                        <td id=\"T_355fed06_a41d_11eb_b537_acde48001122row3_col12\" class=\"data row3 col12\" >1695</td>\n",
       "                        <td id=\"T_355fed06_a41d_11eb_b537_acde48001122row3_col13\" class=\"data row3 col13\" >6842</td>\n",
       "                        <td id=\"T_355fed06_a41d_11eb_b537_acde48001122row3_col14\" class=\"data row3 col14\" >4290</td>\n",
       "                        <td id=\"T_355fed06_a41d_11eb_b537_acde48001122row3_col15\" class=\"data row3 col15\" >1516</td>\n",
       "                        <td id=\"T_355fed06_a41d_11eb_b537_acde48001122row3_col16\" class=\"data row3 col16\" >15785</td>\n",
       "                        <td id=\"T_355fed06_a41d_11eb_b537_acde48001122row3_col17\" class=\"data row3 col17\" >13644</td>\n",
       "                        <td id=\"T_355fed06_a41d_11eb_b537_acde48001122row3_col18\" class=\"data row3 col18\" >175</td>\n",
       "                        <td id=\"T_355fed06_a41d_11eb_b537_acde48001122row3_col19\" class=\"data row3 col19\" >58924</td>\n",
       "                        <td id=\"T_355fed06_a41d_11eb_b537_acde48001122row3_col20\" class=\"data row3 col20\" >110</td>\n",
       "                        <td id=\"T_355fed06_a41d_11eb_b537_acde48001122row3_col21\" class=\"data row3 col21\" >54</td>\n",
       "                        <td id=\"T_355fed06_a41d_11eb_b537_acde48001122row3_col22\" class=\"data row3 col22\" >12897</td>\n",
       "                        <td id=\"T_355fed06_a41d_11eb_b537_acde48001122row3_col23\" class=\"data row3 col23\" >45</td>\n",
       "                        <td id=\"T_355fed06_a41d_11eb_b537_acde48001122row3_col24\" class=\"data row3 col24\" >13</td>\n",
       "                        <td id=\"T_355fed06_a41d_11eb_b537_acde48001122row3_col25\" class=\"data row3 col25\" >4445</td>\n",
       "                        <td id=\"T_355fed06_a41d_11eb_b537_acde48001122row3_col26\" class=\"data row3 col26\" >4622</td>\n",
       "                        <td id=\"T_355fed06_a41d_11eb_b537_acde48001122row3_col27\" class=\"data row3 col27\" >565</td>\n",
       "                        <td id=\"T_355fed06_a41d_11eb_b537_acde48001122row3_col28\" class=\"data row3 col28\" >11967</td>\n",
       "                        <td id=\"T_355fed06_a41d_11eb_b537_acde48001122row3_col29\" class=\"data row3 col29\" >9</td>\n",
       "                        <td id=\"T_355fed06_a41d_11eb_b537_acde48001122row3_col30\" class=\"data row3 col30\" >4009</td>\n",
       "                        <td id=\"T_355fed06_a41d_11eb_b537_acde48001122row3_col31\" class=\"data row3 col31\" >10941</td>\n",
       "                        <td id=\"T_355fed06_a41d_11eb_b537_acde48001122row3_col32\" class=\"data row3 col32\" >32</td>\n",
       "                        <td id=\"T_355fed06_a41d_11eb_b537_acde48001122row3_col33\" class=\"data row3 col33\" >28211</td>\n",
       "                        <td id=\"T_355fed06_a41d_11eb_b537_acde48001122row3_col34\" class=\"data row3 col34\" >2160</td>\n",
       "                        <td id=\"T_355fed06_a41d_11eb_b537_acde48001122row3_col35\" class=\"data row3 col35\" >8426</td>\n",
       "            </tr>\n",
       "            <tr>\n",
       "                        <th id=\"T_355fed06_a41d_11eb_b537_acde48001122level0_row4\" class=\"row_heading level0 row4\" >2021-04-20 00:00:00</th>\n",
       "                        <td id=\"T_355fed06_a41d_11eb_b537_acde48001122row4_col0\" class=\"data row4 col0\" >45</td>\n",
       "                        <td id=\"T_355fed06_a41d_11eb_b537_acde48001122row4_col1\" class=\"data row4 col1\" >8987</td>\n",
       "                        <td id=\"T_355fed06_a41d_11eb_b537_acde48001122row4_col2\" class=\"data row4 col2\" >61</td>\n",
       "                        <td id=\"T_355fed06_a41d_11eb_b537_acde48001122row4_col3\" class=\"data row4 col3\" >1651</td>\n",
       "                        <td id=\"T_355fed06_a41d_11eb_b537_acde48001122row4_col4\" class=\"data row4 col4\" >10455</td>\n",
       "                        <td id=\"T_355fed06_a41d_11eb_b537_acde48001122row4_col5\" class=\"data row4 col5\" >602</td>\n",
       "                        <td id=\"T_355fed06_a41d_11eb_b537_acde48001122row4_col6\" class=\"data row4 col6\" >15625</td>\n",
       "                        <td id=\"T_355fed06_a41d_11eb_b537_acde48001122row4_col7\" class=\"data row4 col7\" >2021-04-20</td>\n",
       "                        <td id=\"T_355fed06_a41d_11eb_b537_acde48001122row4_col8\" class=\"data row4 col8\" >28395</td>\n",
       "                        <td id=\"T_355fed06_a41d_11eb_b537_acde48001122row4_col9\" class=\"data row4 col9\" >291</td>\n",
       "                        <td id=\"T_355fed06_a41d_11eb_b537_acde48001122row4_col10\" class=\"data row4 col10\" >1160</td>\n",
       "                        <td id=\"T_355fed06_a41d_11eb_b537_acde48001122row4_col11\" class=\"data row4 col11\" >12206</td>\n",
       "                        <td id=\"T_355fed06_a41d_11eb_b537_acde48001122row4_col12\" class=\"data row4 col12\" >1340</td>\n",
       "                        <td id=\"T_355fed06_a41d_11eb_b537_acde48001122row4_col13\" class=\"data row4 col13\" >7811</td>\n",
       "                        <td id=\"T_355fed06_a41d_11eb_b537_acde48001122row4_col14\" class=\"data row4 col14\" >5080</td>\n",
       "                        <td id=\"T_355fed06_a41d_11eb_b537_acde48001122row4_col15\" class=\"data row4 col15\" >2030</td>\n",
       "                        <td id=\"T_355fed06_a41d_11eb_b537_acde48001122row4_col16\" class=\"data row4 col16\" >21794</td>\n",
       "                        <td id=\"T_355fed06_a41d_11eb_b537_acde48001122row4_col17\" class=\"data row4 col17\" >19577</td>\n",
       "                        <td id=\"T_355fed06_a41d_11eb_b537_acde48001122row4_col18\" class=\"data row4 col18\" >250</td>\n",
       "                        <td id=\"T_355fed06_a41d_11eb_b537_acde48001122row4_col19\" class=\"data row4 col19\" >62097</td>\n",
       "                        <td id=\"T_355fed06_a41d_11eb_b537_acde48001122row4_col20\" class=\"data row4 col20\" >137</td>\n",
       "                        <td id=\"T_355fed06_a41d_11eb_b537_acde48001122row4_col21\" class=\"data row4 col21\" >94</td>\n",
       "                        <td id=\"T_355fed06_a41d_11eb_b537_acde48001122row4_col22\" class=\"data row4 col22\" >12727</td>\n",
       "                        <td id=\"T_355fed06_a41d_11eb_b537_acde48001122row4_col23\" class=\"data row4 col23\" >91</td>\n",
       "                        <td id=\"T_355fed06_a41d_11eb_b537_acde48001122row4_col24\" class=\"data row4 col24\" >82</td>\n",
       "                        <td id=\"T_355fed06_a41d_11eb_b537_acde48001122row4_col25\" class=\"data row4 col25\" >4761</td>\n",
       "                        <td id=\"T_355fed06_a41d_11eb_b537_acde48001122row4_col26\" class=\"data row4 col26\" >4656</td>\n",
       "                        <td id=\"T_355fed06_a41d_11eb_b537_acde48001122row4_col27\" class=\"data row4 col27\" >638</td>\n",
       "                        <td id=\"T_355fed06_a41d_11eb_b537_acde48001122row4_col28\" class=\"data row4 col28\" >12201</td>\n",
       "                        <td id=\"T_355fed06_a41d_11eb_b537_acde48001122row4_col29\" class=\"data row4 col29\" >91</td>\n",
       "                        <td id=\"T_355fed06_a41d_11eb_b537_acde48001122row4_col30\" class=\"data row4 col30\" >5926</td>\n",
       "                        <td id=\"T_355fed06_a41d_11eb_b537_acde48001122row4_col31\" class=\"data row4 col31\" >10986</td>\n",
       "                        <td id=\"T_355fed06_a41d_11eb_b537_acde48001122row4_col32\" class=\"data row4 col32\" >60</td>\n",
       "                        <td id=\"T_355fed06_a41d_11eb_b537_acde48001122row4_col33\" class=\"data row4 col33\" >29574</td>\n",
       "                        <td id=\"T_355fed06_a41d_11eb_b537_acde48001122row4_col34\" class=\"data row4 col34\" >3012</td>\n",
       "                        <td id=\"T_355fed06_a41d_11eb_b537_acde48001122row4_col35\" class=\"data row4 col35\" >9819</td>\n",
       "            </tr>\n",
       "            <tr>\n",
       "                        <th id=\"T_355fed06_a41d_11eb_b537_acde48001122level0_row5\" class=\"row_heading level0 row5\" >2021-04-21 00:00:00</th>\n",
       "                        <td id=\"T_355fed06_a41d_11eb_b537_acde48001122row5_col0\" class=\"data row5 col0\" >24</td>\n",
       "                        <td id=\"T_355fed06_a41d_11eb_b537_acde48001122row5_col1\" class=\"data row5 col1\" >9716</td>\n",
       "                        <td id=\"T_355fed06_a41d_11eb_b537_acde48001122row5_col2\" class=\"data row5 col2\" >73</td>\n",
       "                        <td id=\"T_355fed06_a41d_11eb_b537_acde48001122row5_col3\" class=\"data row5 col3\" >1665</td>\n",
       "                        <td id=\"T_355fed06_a41d_11eb_b537_acde48001122row5_col4\" class=\"data row5 col4\" >12222</td>\n",
       "                        <td id=\"T_355fed06_a41d_11eb_b537_acde48001122row5_col5\" class=\"data row5 col5\" >622</td>\n",
       "                        <td id=\"T_355fed06_a41d_11eb_b537_acde48001122row5_col6\" class=\"data row5 col6\" >14519</td>\n",
       "                        <td id=\"T_355fed06_a41d_11eb_b537_acde48001122row5_col7\" class=\"data row5 col7\" >2021-04-21</td>\n",
       "                        <td id=\"T_355fed06_a41d_11eb_b537_acde48001122row5_col8\" class=\"data row5 col8\" >24638</td>\n",
       "                        <td id=\"T_355fed06_a41d_11eb_b537_acde48001122row5_col9\" class=\"data row5 col9\" >234</td>\n",
       "                        <td id=\"T_355fed06_a41d_11eb_b537_acde48001122row5_col10\" class=\"data row5 col10\" >1502</td>\n",
       "                        <td id=\"T_355fed06_a41d_11eb_b537_acde48001122row5_col11\" class=\"data row5 col11\" >12553</td>\n",
       "                        <td id=\"T_355fed06_a41d_11eb_b537_acde48001122row5_col12\" class=\"data row5 col12\" >1692</td>\n",
       "                        <td id=\"T_355fed06_a41d_11eb_b537_acde48001122row5_col13\" class=\"data row5 col13\" >9623</td>\n",
       "                        <td id=\"T_355fed06_a41d_11eb_b537_acde48001122row5_col14\" class=\"data row5 col14\" >5041</td>\n",
       "                        <td id=\"T_355fed06_a41d_11eb_b537_acde48001122row5_col15\" class=\"data row5 col15\" >2204</td>\n",
       "                        <td id=\"T_355fed06_a41d_11eb_b537_acde48001122row5_col16\" class=\"data row5 col16\" >23558</td>\n",
       "                        <td id=\"T_355fed06_a41d_11eb_b537_acde48001122row5_col17\" class=\"data row5 col17\" >22414</td>\n",
       "                        <td id=\"T_355fed06_a41d_11eb_b537_acde48001122row5_col18\" class=\"data row5 col18\" >183</td>\n",
       "                        <td id=\"T_355fed06_a41d_11eb_b537_acde48001122row5_col19\" class=\"data row5 col19\" >67468</td>\n",
       "                        <td id=\"T_355fed06_a41d_11eb_b537_acde48001122row5_col20\" class=\"data row5 col20\" >192</td>\n",
       "                        <td id=\"T_355fed06_a41d_11eb_b537_acde48001122row5_col21\" class=\"data row5 col21\" >92</td>\n",
       "                        <td id=\"T_355fed06_a41d_11eb_b537_acde48001122row5_col22\" class=\"data row5 col22\" >13107</td>\n",
       "                        <td id=\"T_355fed06_a41d_11eb_b537_acde48001122row5_col23\" class=\"data row5 col23\" >90</td>\n",
       "                        <td id=\"T_355fed06_a41d_11eb_b537_acde48001122row5_col24\" class=\"data row5 col24\" >97</td>\n",
       "                        <td id=\"T_355fed06_a41d_11eb_b537_acde48001122row5_col25\" class=\"data row5 col25\" >4851</td>\n",
       "                        <td id=\"T_355fed06_a41d_11eb_b537_acde48001122row5_col26\" class=\"data row5 col26\" >4953</td>\n",
       "                        <td id=\"T_355fed06_a41d_11eb_b537_acde48001122row5_col27\" class=\"data row5 col27\" >619</td>\n",
       "                        <td id=\"T_355fed06_a41d_11eb_b537_acde48001122row5_col28\" class=\"data row5 col28\" >14622</td>\n",
       "                        <td id=\"T_355fed06_a41d_11eb_b537_acde48001122row5_col29\" class=\"data row5 col29\" >50</td>\n",
       "                        <td id=\"T_355fed06_a41d_11eb_b537_acde48001122row5_col30\" class=\"data row5 col30\" >6542</td>\n",
       "                        <td id=\"T_355fed06_a41d_11eb_b537_acde48001122row5_col31\" class=\"data row5 col31\" >11681</td>\n",
       "                        <td id=\"T_355fed06_a41d_11eb_b537_acde48001122row5_col32\" class=\"data row5 col32\" >0</td>\n",
       "                        <td id=\"T_355fed06_a41d_11eb_b537_acde48001122row5_col33\" class=\"data row5 col33\" >33106</td>\n",
       "                        <td id=\"T_355fed06_a41d_11eb_b537_acde48001122row5_col34\" class=\"data row5 col34\" >4807</td>\n",
       "                        <td id=\"T_355fed06_a41d_11eb_b537_acde48001122row5_col35\" class=\"data row5 col35\" >10784</td>\n",
       "            </tr>\n",
       "            <tr>\n",
       "                        <th id=\"T_355fed06_a41d_11eb_b537_acde48001122level0_row6\" class=\"row_heading level0 row6\" >2021-04-22 00:00:00</th>\n",
       "                        <td id=\"T_355fed06_a41d_11eb_b537_acde48001122row6_col0\" class=\"data row6 col0\" >37</td>\n",
       "                        <td id=\"T_355fed06_a41d_11eb_b537_acde48001122row6_col1\" class=\"data row6 col1\" >10759</td>\n",
       "                        <td id=\"T_355fed06_a41d_11eb_b537_acde48001122row6_col2\" class=\"data row6 col2\" >110</td>\n",
       "                        <td id=\"T_355fed06_a41d_11eb_b537_acde48001122row6_col3\" class=\"data row6 col3\" >1931</td>\n",
       "                        <td id=\"T_355fed06_a41d_11eb_b537_acde48001122row6_col4\" class=\"data row6 col4\" >11489</td>\n",
       "                        <td id=\"T_355fed06_a41d_11eb_b537_acde48001122row6_col5\" class=\"data row6 col5\" >634</td>\n",
       "                        <td id=\"T_355fed06_a41d_11eb_b537_acde48001122row6_col6\" class=\"data row6 col6\" >16750</td>\n",
       "                        <td id=\"T_355fed06_a41d_11eb_b537_acde48001122row6_col7\" class=\"data row6 col7\" >2021-04-22</td>\n",
       "                        <td id=\"T_355fed06_a41d_11eb_b537_acde48001122row6_col8\" class=\"data row6 col8\" >26169</td>\n",
       "                        <td id=\"T_355fed06_a41d_11eb_b537_acde48001122row6_col9\" class=\"data row6 col9\" >346</td>\n",
       "                        <td id=\"T_355fed06_a41d_11eb_b537_acde48001122row6_col10\" class=\"data row6 col10\" >1410</td>\n",
       "                        <td id=\"T_355fed06_a41d_11eb_b537_acde48001122row6_col11\" class=\"data row6 col11\" >13105</td>\n",
       "                        <td id=\"T_355fed06_a41d_11eb_b537_acde48001122row6_col12\" class=\"data row6 col12\" >1774</td>\n",
       "                        <td id=\"T_355fed06_a41d_11eb_b537_acde48001122row6_col13\" class=\"data row6 col13\" >9742</td>\n",
       "                        <td id=\"T_355fed06_a41d_11eb_b537_acde48001122row6_col14\" class=\"data row6 col14\" >7595</td>\n",
       "                        <td id=\"T_355fed06_a41d_11eb_b537_acde48001122row6_col15\" class=\"data row6 col15\" >1965</td>\n",
       "                        <td id=\"T_355fed06_a41d_11eb_b537_acde48001122row6_col16\" class=\"data row6 col16\" >25795</td>\n",
       "                        <td id=\"T_355fed06_a41d_11eb_b537_acde48001122row6_col17\" class=\"data row6 col17\" >26995</td>\n",
       "                        <td id=\"T_355fed06_a41d_11eb_b537_acde48001122row6_col18\" class=\"data row6 col18\" >198</td>\n",
       "                        <td id=\"T_355fed06_a41d_11eb_b537_acde48001122row6_col19\" class=\"data row6 col19\" >67013</td>\n",
       "                        <td id=\"T_355fed06_a41d_11eb_b537_acde48001122row6_col20\" class=\"data row6 col20\" >180</td>\n",
       "                        <td id=\"T_355fed06_a41d_11eb_b537_acde48001122row6_col21\" class=\"data row6 col21\" >86</td>\n",
       "                        <td id=\"T_355fed06_a41d_11eb_b537_acde48001122row6_col22\" class=\"data row6 col22\" >12384</td>\n",
       "                        <td id=\"T_355fed06_a41d_11eb_b537_acde48001122row6_col23\" class=\"data row6 col23\" >73</td>\n",
       "                        <td id=\"T_355fed06_a41d_11eb_b537_acde48001122row6_col24\" class=\"data row6 col24\" >53</td>\n",
       "                        <td id=\"T_355fed06_a41d_11eb_b537_acde48001122row6_col25\" class=\"data row6 col25\" >6164</td>\n",
       "                        <td id=\"T_355fed06_a41d_11eb_b537_acde48001122row6_col26\" class=\"data row6 col26\" >5450</td>\n",
       "                        <td id=\"T_355fed06_a41d_11eb_b537_acde48001122row6_col27\" class=\"data row6 col27\" >987</td>\n",
       "                        <td id=\"T_355fed06_a41d_11eb_b537_acde48001122row6_col28\" class=\"data row6 col28\" >14468</td>\n",
       "                        <td id=\"T_355fed06_a41d_11eb_b537_acde48001122row6_col29\" class=\"data row6 col29\" >124</td>\n",
       "                        <td id=\"T_355fed06_a41d_11eb_b537_acde48001122row6_col30\" class=\"data row6 col30\" >5567</td>\n",
       "                        <td id=\"T_355fed06_a41d_11eb_b537_acde48001122row6_col31\" class=\"data row6 col31\" >12652</td>\n",
       "                        <td id=\"T_355fed06_a41d_11eb_b537_acde48001122row6_col32\" class=\"data row6 col32\" >168</td>\n",
       "                        <td id=\"T_355fed06_a41d_11eb_b537_acde48001122row6_col33\" class=\"data row6 col33\" >34254</td>\n",
       "                        <td id=\"T_355fed06_a41d_11eb_b537_acde48001122row6_col34\" class=\"data row6 col34\" >3998</td>\n",
       "                        <td id=\"T_355fed06_a41d_11eb_b537_acde48001122row6_col35\" class=\"data row6 col35\" >11948</td>\n",
       "            </tr>\n",
       "    </tbody></table>"
      ],
      "text/plain": [
       "<pandas.io.formats.style.Styler at 0x7fe16d65e550>"
      ]
     },
     "execution_count": 42,
     "metadata": {},
     "output_type": "execute_result"
    }
   ],
   "source": [
    "df.style.apply(bold_max_value).highlight_min(color='green', axis=1)"
   ]
  },
  {
   "cell_type": "code",
   "execution_count": 43,
   "metadata": {
    "colab": {
     "base_uri": "https://localhost:8080/",
     "height": 353
    },
    "colab_type": "code",
    "id": "BsB3oQv9nxBQ",
    "outputId": "ce951079-c640-46f5-b2b7-69fea002c46a"
   },
   "outputs": [
    {
     "data": {
      "text/html": [
       "<style  type=\"text/css\" >\n",
       "    #T_356ffa34_a41d_11eb_b537_acde48001122row0_col12 {\n",
       "            font-weight:  bold;\n",
       "        }    #T_356ffa34_a41d_11eb_b537_acde48001122row1_col3 {\n",
       "            font-weight:  bold;\n",
       "        }    #T_356ffa34_a41d_11eb_b537_acde48001122row1_col11 {\n",
       "            font-weight:  bold;\n",
       "        }    #T_356ffa34_a41d_11eb_b537_acde48001122row1_col20 {\n",
       "            font-weight:  bold;\n",
       "        }    #T_356ffa34_a41d_11eb_b537_acde48001122row1_col28 {\n",
       "            font-weight:  bold;\n",
       "        }    #T_356ffa34_a41d_11eb_b537_acde48001122row1_col31 {\n",
       "            font-weight:  bold;\n",
       "        }    #T_356ffa34_a41d_11eb_b537_acde48001122row2_col0 {\n",
       "            font-weight:  bold;\n",
       "        }    #T_356ffa34_a41d_11eb_b537_acde48001122row2_col4 {\n",
       "            font-weight:  bold;\n",
       "        }    #T_356ffa34_a41d_11eb_b537_acde48001122row2_col10 {\n",
       "            font-weight:  bold;\n",
       "        }    #T_356ffa34_a41d_11eb_b537_acde48001122row2_col18 {\n",
       "            font-weight:  bold;\n",
       "        }    #T_356ffa34_a41d_11eb_b537_acde48001122row2_col19 {\n",
       "            font-weight:  bold;\n",
       "        }    #T_356ffa34_a41d_11eb_b537_acde48001122row2_col32 {\n",
       "            font-weight:  bold;\n",
       "        }    #T_356ffa34_a41d_11eb_b537_acde48001122row4_col8 {\n",
       "            font-weight:  bold;\n",
       "        }    #T_356ffa34_a41d_11eb_b537_acde48001122row4_col21 {\n",
       "            font-weight:  bold;\n",
       "        }    #T_356ffa34_a41d_11eb_b537_acde48001122row4_col23 {\n",
       "            font-weight:  bold;\n",
       "        }    #T_356ffa34_a41d_11eb_b537_acde48001122row4_col29 {\n",
       "            font-weight:  bold;\n",
       "        }    #T_356ffa34_a41d_11eb_b537_acde48001122row4_col35 {\n",
       "            font-weight:  bold;\n",
       "        }    #T_356ffa34_a41d_11eb_b537_acde48001122row5_col1 {\n",
       "            font-weight:  bold;\n",
       "        }    #T_356ffa34_a41d_11eb_b537_acde48001122row5_col2 {\n",
       "            font-weight:  bold;\n",
       "        }    #T_356ffa34_a41d_11eb_b537_acde48001122row5_col15 {\n",
       "            font-weight:  bold;\n",
       "        }    #T_356ffa34_a41d_11eb_b537_acde48001122row5_col22 {\n",
       "            font-weight:  bold;\n",
       "        }    #T_356ffa34_a41d_11eb_b537_acde48001122row5_col24 {\n",
       "            font-weight:  bold;\n",
       "        }    #T_356ffa34_a41d_11eb_b537_acde48001122row5_col30 {\n",
       "            font-weight:  bold;\n",
       "        }    #T_356ffa34_a41d_11eb_b537_acde48001122row5_col34 {\n",
       "            font-weight:  bold;\n",
       "        }    #T_356ffa34_a41d_11eb_b537_acde48001122row6_col5 {\n",
       "            font-weight:  bold;\n",
       "        }    #T_356ffa34_a41d_11eb_b537_acde48001122row6_col6 {\n",
       "            font-weight:  bold;\n",
       "        }    #T_356ffa34_a41d_11eb_b537_acde48001122row6_col7 {\n",
       "            font-weight:  bold;\n",
       "        }    #T_356ffa34_a41d_11eb_b537_acde48001122row6_col9 {\n",
       "            font-weight:  bold;\n",
       "        }    #T_356ffa34_a41d_11eb_b537_acde48001122row6_col13 {\n",
       "            font-weight:  bold;\n",
       "        }    #T_356ffa34_a41d_11eb_b537_acde48001122row6_col14 {\n",
       "            font-weight:  bold;\n",
       "        }    #T_356ffa34_a41d_11eb_b537_acde48001122row6_col16 {\n",
       "            font-weight:  bold;\n",
       "        }    #T_356ffa34_a41d_11eb_b537_acde48001122row6_col17 {\n",
       "            font-weight:  bold;\n",
       "        }    #T_356ffa34_a41d_11eb_b537_acde48001122row6_col25 {\n",
       "            font-weight:  bold;\n",
       "        }    #T_356ffa34_a41d_11eb_b537_acde48001122row6_col26 {\n",
       "            font-weight:  bold;\n",
       "        }    #T_356ffa34_a41d_11eb_b537_acde48001122row6_col27 {\n",
       "            font-weight:  bold;\n",
       "        }    #T_356ffa34_a41d_11eb_b537_acde48001122row6_col33 {\n",
       "            font-weight:  bold;\n",
       "        }</style><table id=\"T_356ffa34_a41d_11eb_b537_acde48001122\" ><thead>    <tr>        <th class=\"blank level0\" ></th>        <th class=\"col_heading level0 col0\" >an</th>        <th class=\"col_heading level0 col1\" >ap</th>        <th class=\"col_heading level0 col2\" >ar</th>        <th class=\"col_heading level0 col3\" >as</th>        <th class=\"col_heading level0 col4\" >br</th>        <th class=\"col_heading level0 col5\" >ch</th>        <th class=\"col_heading level0 col6\" >ct</th>        <th class=\"col_heading level0 col7\" >dateymd</th>        <th class=\"col_heading level0 col8\" >dl</th>        <th class=\"col_heading level0 col9\" >dn</th>        <th class=\"col_heading level0 col10\" >ga</th>        <th class=\"col_heading level0 col11\" >gj</th>        <th class=\"col_heading level0 col12\" >hp</th>        <th class=\"col_heading level0 col13\" >hr</th>        <th class=\"col_heading level0 col14\" >jh</th>        <th class=\"col_heading level0 col15\" >jk</th>        <th class=\"col_heading level0 col16\" >ka</th>        <th class=\"col_heading level0 col17\" >kl</th>        <th class=\"col_heading level0 col18\" >la</th>        <th class=\"col_heading level0 col19\" >mh</th>        <th class=\"col_heading level0 col20\" >ml</th>        <th class=\"col_heading level0 col21\" >mn</th>        <th class=\"col_heading level0 col22\" >mp</th>        <th class=\"col_heading level0 col23\" >mz</th>        <th class=\"col_heading level0 col24\" >nl</th>        <th class=\"col_heading level0 col25\" >or</th>        <th class=\"col_heading level0 col26\" >pb</th>        <th class=\"col_heading level0 col27\" >py</th>        <th class=\"col_heading level0 col28\" >rj</th>        <th class=\"col_heading level0 col29\" >sk</th>        <th class=\"col_heading level0 col30\" >tg</th>        <th class=\"col_heading level0 col31\" >tn</th>        <th class=\"col_heading level0 col32\" >tr</th>        <th class=\"col_heading level0 col33\" >up</th>        <th class=\"col_heading level0 col34\" >ut</th>        <th class=\"col_heading level0 col35\" >wb</th>    </tr>    <tr>        <th class=\"index_name level0\" >date</th>        <th class=\"blank\" ></th>        <th class=\"blank\" ></th>        <th class=\"blank\" ></th>        <th class=\"blank\" ></th>        <th class=\"blank\" ></th>        <th class=\"blank\" ></th>        <th class=\"blank\" ></th>        <th class=\"blank\" ></th>        <th class=\"blank\" ></th>        <th class=\"blank\" ></th>        <th class=\"blank\" ></th>        <th class=\"blank\" ></th>        <th class=\"blank\" ></th>        <th class=\"blank\" ></th>        <th class=\"blank\" ></th>        <th class=\"blank\" ></th>        <th class=\"blank\" ></th>        <th class=\"blank\" ></th>        <th class=\"blank\" ></th>        <th class=\"blank\" ></th>        <th class=\"blank\" ></th>        <th class=\"blank\" ></th>        <th class=\"blank\" ></th>        <th class=\"blank\" ></th>        <th class=\"blank\" ></th>        <th class=\"blank\" ></th>        <th class=\"blank\" ></th>        <th class=\"blank\" ></th>        <th class=\"blank\" ></th>        <th class=\"blank\" ></th>        <th class=\"blank\" ></th>        <th class=\"blank\" ></th>        <th class=\"blank\" ></th>        <th class=\"blank\" ></th>        <th class=\"blank\" ></th>        <th class=\"blank\" ></th>    </tr></thead><tbody>\n",
       "                <tr>\n",
       "                        <th id=\"T_356ffa34_a41d_11eb_b537_acde48001122level0_row0\" class=\"row_heading level0 row0\" >2021-04-16 00:00:00</th>\n",
       "                        <td id=\"T_356ffa34_a41d_11eb_b537_acde48001122row0_col0\" class=\"data row0 col0\" >27</td>\n",
       "                        <td id=\"T_356ffa34_a41d_11eb_b537_acde48001122row0_col1\" class=\"data row0 col1\" >6096</td>\n",
       "                        <td id=\"T_356ffa34_a41d_11eb_b537_acde48001122row0_col2\" class=\"data row0 col2\" >28</td>\n",
       "                        <td id=\"T_356ffa34_a41d_11eb_b537_acde48001122row0_col3\" class=\"data row0 col3\" >573</td>\n",
       "                        <td id=\"T_356ffa34_a41d_11eb_b537_acde48001122row0_col4\" class=\"data row0 col4\" >6253</td>\n",
       "                        <td id=\"T_356ffa34_a41d_11eb_b537_acde48001122row0_col5\" class=\"data row0 col5\" >481</td>\n",
       "                        <td id=\"T_356ffa34_a41d_11eb_b537_acde48001122row0_col6\" class=\"data row0 col6\" >14912</td>\n",
       "                        <td id=\"T_356ffa34_a41d_11eb_b537_acde48001122row0_col7\" class=\"data row0 col7\" >2021-04-16</td>\n",
       "                        <td id=\"T_356ffa34_a41d_11eb_b537_acde48001122row0_col8\" class=\"data row0 col8\" >19486</td>\n",
       "                        <td id=\"T_356ffa34_a41d_11eb_b537_acde48001122row0_col9\" class=\"data row0 col9\" >138</td>\n",
       "                        <td id=\"T_356ffa34_a41d_11eb_b537_acde48001122row0_col10\" class=\"data row0 col10\" >927</td>\n",
       "                        <td id=\"T_356ffa34_a41d_11eb_b537_acde48001122row0_col11\" class=\"data row0 col11\" >8920</td>\n",
       "                        <td id=\"T_356ffa34_a41d_11eb_b537_acde48001122row0_col12\" class=\"data row0 col12\" >842</td>\n",
       "                        <td id=\"T_356ffa34_a41d_11eb_b537_acde48001122row0_col13\" class=\"data row0 col13\" >6277</td>\n",
       "                        <td id=\"T_356ffa34_a41d_11eb_b537_acde48001122row0_col14\" class=\"data row0 col14\" >3843</td>\n",
       "                        <td id=\"T_356ffa34_a41d_11eb_b537_acde48001122row0_col15\" class=\"data row0 col15\" >1144</td>\n",
       "                        <td id=\"T_356ffa34_a41d_11eb_b537_acde48001122row0_col16\" class=\"data row0 col16\" >14859</td>\n",
       "                        <td id=\"T_356ffa34_a41d_11eb_b537_acde48001122row0_col17\" class=\"data row0 col17\" >10031</td>\n",
       "                        <td id=\"T_356ffa34_a41d_11eb_b537_acde48001122row0_col18\" class=\"data row0 col18\" >245</td>\n",
       "                        <td id=\"T_356ffa34_a41d_11eb_b537_acde48001122row0_col19\" class=\"data row0 col19\" >63729</td>\n",
       "                        <td id=\"T_356ffa34_a41d_11eb_b537_acde48001122row0_col20\" class=\"data row0 col20\" >121</td>\n",
       "                        <td id=\"T_356ffa34_a41d_11eb_b537_acde48001122row0_col21\" class=\"data row0 col21\" >31</td>\n",
       "                        <td id=\"T_356ffa34_a41d_11eb_b537_acde48001122row0_col22\" class=\"data row0 col22\" >11045</td>\n",
       "                        <td id=\"T_356ffa34_a41d_11eb_b537_acde48001122row0_col23\" class=\"data row0 col23\" >25</td>\n",
       "                        <td id=\"T_356ffa34_a41d_11eb_b537_acde48001122row0_col24\" class=\"data row0 col24\" >22</td>\n",
       "                        <td id=\"T_356ffa34_a41d_11eb_b537_acde48001122row0_col25\" class=\"data row0 col25\" >3108</td>\n",
       "                        <td id=\"T_356ffa34_a41d_11eb_b537_acde48001122row0_col26\" class=\"data row0 col26\" >3891</td>\n",
       "                        <td id=\"T_356ffa34_a41d_11eb_b537_acde48001122row0_col27\" class=\"data row0 col27\" >531</td>\n",
       "                        <td id=\"T_356ffa34_a41d_11eb_b537_acde48001122row0_col28\" class=\"data row0 col28\" >7359</td>\n",
       "                        <td id=\"T_356ffa34_a41d_11eb_b537_acde48001122row0_col29\" class=\"data row0 col29\" >22</td>\n",
       "                        <td id=\"T_356ffa34_a41d_11eb_b537_acde48001122row0_col30\" class=\"data row0 col30\" >3840</td>\n",
       "                        <td id=\"T_356ffa34_a41d_11eb_b537_acde48001122row0_col31\" class=\"data row0 col31\" >8449</td>\n",
       "                        <td id=\"T_356ffa34_a41d_11eb_b537_acde48001122row0_col32\" class=\"data row0 col32\" >31</td>\n",
       "                        <td id=\"T_356ffa34_a41d_11eb_b537_acde48001122row0_col33\" class=\"data row0 col33\" >27360</td>\n",
       "                        <td id=\"T_356ffa34_a41d_11eb_b537_acde48001122row0_col34\" class=\"data row0 col34\" >2402</td>\n",
       "                        <td id=\"T_356ffa34_a41d_11eb_b537_acde48001122row0_col35\" class=\"data row0 col35\" >6910</td>\n",
       "            </tr>\n",
       "            <tr>\n",
       "                        <th id=\"T_356ffa34_a41d_11eb_b537_acde48001122level0_row1\" class=\"row_heading level0 row1\" >2021-04-17 00:00:00</th>\n",
       "                        <td id=\"T_356ffa34_a41d_11eb_b537_acde48001122row1_col0\" class=\"data row1 col0\" >42</td>\n",
       "                        <td id=\"T_356ffa34_a41d_11eb_b537_acde48001122row1_col1\" class=\"data row1 col1\" >7224</td>\n",
       "                        <td id=\"T_356ffa34_a41d_11eb_b537_acde48001122row1_col2\" class=\"data row1 col2\" >19</td>\n",
       "                        <td id=\"T_356ffa34_a41d_11eb_b537_acde48001122row1_col3\" class=\"data row1 col3\" >876</td>\n",
       "                        <td id=\"T_356ffa34_a41d_11eb_b537_acde48001122row1_col4\" class=\"data row1 col4\" >7870</td>\n",
       "                        <td id=\"T_356ffa34_a41d_11eb_b537_acde48001122row1_col5\" class=\"data row1 col5\" >431</td>\n",
       "                        <td id=\"T_356ffa34_a41d_11eb_b537_acde48001122row1_col6\" class=\"data row1 col6\" >16083</td>\n",
       "                        <td id=\"T_356ffa34_a41d_11eb_b537_acde48001122row1_col7\" class=\"data row1 col7\" >2021-04-17</td>\n",
       "                        <td id=\"T_356ffa34_a41d_11eb_b537_acde48001122row1_col8\" class=\"data row1 col8\" >24375</td>\n",
       "                        <td id=\"T_356ffa34_a41d_11eb_b537_acde48001122row1_col9\" class=\"data row1 col9\" >108</td>\n",
       "                        <td id=\"T_356ffa34_a41d_11eb_b537_acde48001122row1_col10\" class=\"data row1 col10\" >762</td>\n",
       "                        <td id=\"T_356ffa34_a41d_11eb_b537_acde48001122row1_col11\" class=\"data row1 col11\" >9541</td>\n",
       "                        <td id=\"T_356ffa34_a41d_11eb_b537_acde48001122row1_col12\" class=\"data row1 col12\" >1392</td>\n",
       "                        <td id=\"T_356ffa34_a41d_11eb_b537_acde48001122row1_col13\" class=\"data row1 col13\" >7717</td>\n",
       "                        <td id=\"T_356ffa34_a41d_11eb_b537_acde48001122row1_col14\" class=\"data row1 col14\" >3838</td>\n",
       "                        <td id=\"T_356ffa34_a41d_11eb_b537_acde48001122row1_col15\" class=\"data row1 col15\" >1145</td>\n",
       "                        <td id=\"T_356ffa34_a41d_11eb_b537_acde48001122row1_col16\" class=\"data row1 col16\" >17489</td>\n",
       "                        <td id=\"T_356ffa34_a41d_11eb_b537_acde48001122row1_col17\" class=\"data row1 col17\" >13835</td>\n",
       "                        <td id=\"T_356ffa34_a41d_11eb_b537_acde48001122row1_col18\" class=\"data row1 col18\" >362</td>\n",
       "                        <td id=\"T_356ffa34_a41d_11eb_b537_acde48001122row1_col19\" class=\"data row1 col19\" >67123</td>\n",
       "                        <td id=\"T_356ffa34_a41d_11eb_b537_acde48001122row1_col20\" class=\"data row1 col20\" >95</td>\n",
       "                        <td id=\"T_356ffa34_a41d_11eb_b537_acde48001122row1_col21\" class=\"data row1 col21\" >39</td>\n",
       "                        <td id=\"T_356ffa34_a41d_11eb_b537_acde48001122row1_col22\" class=\"data row1 col22\" >11269</td>\n",
       "                        <td id=\"T_356ffa34_a41d_11eb_b537_acde48001122row1_col23\" class=\"data row1 col23\" >62</td>\n",
       "                        <td id=\"T_356ffa34_a41d_11eb_b537_acde48001122row1_col24\" class=\"data row1 col24\" >32</td>\n",
       "                        <td id=\"T_356ffa34_a41d_11eb_b537_acde48001122row1_col25\" class=\"data row1 col25\" >3144</td>\n",
       "                        <td id=\"T_356ffa34_a41d_11eb_b537_acde48001122row1_col26\" class=\"data row1 col26\" >4431</td>\n",
       "                        <td id=\"T_356ffa34_a41d_11eb_b537_acde48001122row1_col27\" class=\"data row1 col27\" >715</td>\n",
       "                        <td id=\"T_356ffa34_a41d_11eb_b537_acde48001122row1_col28\" class=\"data row1 col28\" >9046</td>\n",
       "                        <td id=\"T_356ffa34_a41d_11eb_b537_acde48001122row1_col29\" class=\"data row1 col29\" >72</td>\n",
       "                        <td id=\"T_356ffa34_a41d_11eb_b537_acde48001122row1_col30\" class=\"data row1 col30\" >4446</td>\n",
       "                        <td id=\"T_356ffa34_a41d_11eb_b537_acde48001122row1_col31\" class=\"data row1 col31\" >9344</td>\n",
       "                        <td id=\"T_356ffa34_a41d_11eb_b537_acde48001122row1_col32\" class=\"data row1 col32\" >58</td>\n",
       "                        <td id=\"T_356ffa34_a41d_11eb_b537_acde48001122row1_col33\" class=\"data row1 col33\" >27334</td>\n",
       "                        <td id=\"T_356ffa34_a41d_11eb_b537_acde48001122row1_col34\" class=\"data row1 col34\" >2757</td>\n",
       "                        <td id=\"T_356ffa34_a41d_11eb_b537_acde48001122row1_col35\" class=\"data row1 col35\" >7713</td>\n",
       "            </tr>\n",
       "            <tr>\n",
       "                        <th id=\"T_356ffa34_a41d_11eb_b537_acde48001122level0_row2\" class=\"row_heading level0 row2\" >2021-04-18 00:00:00</th>\n",
       "                        <td id=\"T_356ffa34_a41d_11eb_b537_acde48001122row2_col0\" class=\"data row2 col0\" >59</td>\n",
       "                        <td id=\"T_356ffa34_a41d_11eb_b537_acde48001122row2_col1\" class=\"data row2 col1\" >6582</td>\n",
       "                        <td id=\"T_356ffa34_a41d_11eb_b537_acde48001122row2_col2\" class=\"data row2 col2\" >20</td>\n",
       "                        <td id=\"T_356ffa34_a41d_11eb_b537_acde48001122row2_col3\" class=\"data row2 col3\" >639</td>\n",
       "                        <td id=\"T_356ffa34_a41d_11eb_b537_acde48001122row2_col4\" class=\"data row2 col4\" >8690</td>\n",
       "                        <td id=\"T_356ffa34_a41d_11eb_b537_acde48001122row2_col5\" class=\"data row2 col5\" >625</td>\n",
       "                        <td id=\"T_356ffa34_a41d_11eb_b537_acde48001122row2_col6\" class=\"data row2 col6\" >12345</td>\n",
       "                        <td id=\"T_356ffa34_a41d_11eb_b537_acde48001122row2_col7\" class=\"data row2 col7\" >2021-04-18</td>\n",
       "                        <td id=\"T_356ffa34_a41d_11eb_b537_acde48001122row2_col8\" class=\"data row2 col8\" >25462</td>\n",
       "                        <td id=\"T_356ffa34_a41d_11eb_b537_acde48001122row2_col9\" class=\"data row2 col9\" >184</td>\n",
       "                        <td id=\"T_356ffa34_a41d_11eb_b537_acde48001122row2_col10\" class=\"data row2 col10\" >951</td>\n",
       "                        <td id=\"T_356ffa34_a41d_11eb_b537_acde48001122row2_col11\" class=\"data row2 col11\" >10340</td>\n",
       "                        <td id=\"T_356ffa34_a41d_11eb_b537_acde48001122row2_col12\" class=\"data row2 col12\" >788</td>\n",
       "                        <td id=\"T_356ffa34_a41d_11eb_b537_acde48001122row2_col13\" class=\"data row2 col13\" >7177</td>\n",
       "                        <td id=\"T_356ffa34_a41d_11eb_b537_acde48001122row2_col14\" class=\"data row2 col14\" >3992</td>\n",
       "                        <td id=\"T_356ffa34_a41d_11eb_b537_acde48001122row2_col15\" class=\"data row2 col15\" >1526</td>\n",
       "                        <td id=\"T_356ffa34_a41d_11eb_b537_acde48001122row2_col16\" class=\"data row2 col16\" >19067</td>\n",
       "                        <td id=\"T_356ffa34_a41d_11eb_b537_acde48001122row2_col17\" class=\"data row2 col17\" >18257</td>\n",
       "                        <td id=\"T_356ffa34_a41d_11eb_b537_acde48001122row2_col18\" class=\"data row2 col18\" >60</td>\n",
       "                        <td id=\"T_356ffa34_a41d_11eb_b537_acde48001122row2_col19\" class=\"data row2 col19\" >68631</td>\n",
       "                        <td id=\"T_356ffa34_a41d_11eb_b537_acde48001122row2_col20\" class=\"data row2 col20\" >71</td>\n",
       "                        <td id=\"T_356ffa34_a41d_11eb_b537_acde48001122row2_col21\" class=\"data row2 col21\" >72</td>\n",
       "                        <td id=\"T_356ffa34_a41d_11eb_b537_acde48001122row2_col22\" class=\"data row2 col22\" >12248</td>\n",
       "                        <td id=\"T_356ffa34_a41d_11eb_b537_acde48001122row2_col23\" class=\"data row2 col23\" >50</td>\n",
       "                        <td id=\"T_356ffa34_a41d_11eb_b537_acde48001122row2_col24\" class=\"data row2 col24\" >19</td>\n",
       "                        <td id=\"T_356ffa34_a41d_11eb_b537_acde48001122row2_col25\" class=\"data row2 col25\" >3664</td>\n",
       "                        <td id=\"T_356ffa34_a41d_11eb_b537_acde48001122row2_col26\" class=\"data row2 col26\" >4900</td>\n",
       "                        <td id=\"T_356ffa34_a41d_11eb_b537_acde48001122row2_col27\" class=\"data row2 col27\" >663</td>\n",
       "                        <td id=\"T_356ffa34_a41d_11eb_b537_acde48001122row2_col28\" class=\"data row2 col28\" >10262</td>\n",
       "                        <td id=\"T_356ffa34_a41d_11eb_b537_acde48001122row2_col29\" class=\"data row2 col29\" >105</td>\n",
       "                        <td id=\"T_356ffa34_a41d_11eb_b537_acde48001122row2_col30\" class=\"data row2 col30\" >5093</td>\n",
       "                        <td id=\"T_356ffa34_a41d_11eb_b537_acde48001122row2_col31\" class=\"data row2 col31\" >10723</td>\n",
       "                        <td id=\"T_356ffa34_a41d_11eb_b537_acde48001122row2_col32\" class=\"data row2 col32\" >69</td>\n",
       "                        <td id=\"T_356ffa34_a41d_11eb_b537_acde48001122row2_col33\" class=\"data row2 col33\" >30566</td>\n",
       "                        <td id=\"T_356ffa34_a41d_11eb_b537_acde48001122row2_col34\" class=\"data row2 col34\" >2630</td>\n",
       "                        <td id=\"T_356ffa34_a41d_11eb_b537_acde48001122row2_col35\" class=\"data row2 col35\" >8419</td>\n",
       "            </tr>\n",
       "            <tr>\n",
       "                        <th id=\"T_356ffa34_a41d_11eb_b537_acde48001122level0_row3\" class=\"row_heading level0 row3\" >2021-04-19 00:00:00</th>\n",
       "                        <td id=\"T_356ffa34_a41d_11eb_b537_acde48001122row3_col0\" class=\"data row3 col0\" >31</td>\n",
       "                        <td id=\"T_356ffa34_a41d_11eb_b537_acde48001122row3_col1\" class=\"data row3 col1\" >5963</td>\n",
       "                        <td id=\"T_356ffa34_a41d_11eb_b537_acde48001122row3_col2\" class=\"data row3 col2\" >65</td>\n",
       "                        <td id=\"T_356ffa34_a41d_11eb_b537_acde48001122row3_col3\" class=\"data row3 col3\" >1367</td>\n",
       "                        <td id=\"T_356ffa34_a41d_11eb_b537_acde48001122row3_col4\" class=\"data row3 col4\" >7487</td>\n",
       "                        <td id=\"T_356ffa34_a41d_11eb_b537_acde48001122row3_col5\" class=\"data row3 col5\" >612</td>\n",
       "                        <td id=\"T_356ffa34_a41d_11eb_b537_acde48001122row3_col6\" class=\"data row3 col6\" >13834</td>\n",
       "                        <td id=\"T_356ffa34_a41d_11eb_b537_acde48001122row3_col7\" class=\"data row3 col7\" >2021-04-19</td>\n",
       "                        <td id=\"T_356ffa34_a41d_11eb_b537_acde48001122row3_col8\" class=\"data row3 col8\" >23686</td>\n",
       "                        <td id=\"T_356ffa34_a41d_11eb_b537_acde48001122row3_col9\" class=\"data row3 col9\" >121</td>\n",
       "                        <td id=\"T_356ffa34_a41d_11eb_b537_acde48001122row3_col10\" class=\"data row3 col10\" >940</td>\n",
       "                        <td id=\"T_356ffa34_a41d_11eb_b537_acde48001122row3_col11\" class=\"data row3 col11\" >11403</td>\n",
       "                        <td id=\"T_356ffa34_a41d_11eb_b537_acde48001122row3_col12\" class=\"data row3 col12\" >1695</td>\n",
       "                        <td id=\"T_356ffa34_a41d_11eb_b537_acde48001122row3_col13\" class=\"data row3 col13\" >6842</td>\n",
       "                        <td id=\"T_356ffa34_a41d_11eb_b537_acde48001122row3_col14\" class=\"data row3 col14\" >4290</td>\n",
       "                        <td id=\"T_356ffa34_a41d_11eb_b537_acde48001122row3_col15\" class=\"data row3 col15\" >1516</td>\n",
       "                        <td id=\"T_356ffa34_a41d_11eb_b537_acde48001122row3_col16\" class=\"data row3 col16\" >15785</td>\n",
       "                        <td id=\"T_356ffa34_a41d_11eb_b537_acde48001122row3_col17\" class=\"data row3 col17\" >13644</td>\n",
       "                        <td id=\"T_356ffa34_a41d_11eb_b537_acde48001122row3_col18\" class=\"data row3 col18\" >175</td>\n",
       "                        <td id=\"T_356ffa34_a41d_11eb_b537_acde48001122row3_col19\" class=\"data row3 col19\" >58924</td>\n",
       "                        <td id=\"T_356ffa34_a41d_11eb_b537_acde48001122row3_col20\" class=\"data row3 col20\" >110</td>\n",
       "                        <td id=\"T_356ffa34_a41d_11eb_b537_acde48001122row3_col21\" class=\"data row3 col21\" >54</td>\n",
       "                        <td id=\"T_356ffa34_a41d_11eb_b537_acde48001122row3_col22\" class=\"data row3 col22\" >12897</td>\n",
       "                        <td id=\"T_356ffa34_a41d_11eb_b537_acde48001122row3_col23\" class=\"data row3 col23\" >45</td>\n",
       "                        <td id=\"T_356ffa34_a41d_11eb_b537_acde48001122row3_col24\" class=\"data row3 col24\" >13</td>\n",
       "                        <td id=\"T_356ffa34_a41d_11eb_b537_acde48001122row3_col25\" class=\"data row3 col25\" >4445</td>\n",
       "                        <td id=\"T_356ffa34_a41d_11eb_b537_acde48001122row3_col26\" class=\"data row3 col26\" >4622</td>\n",
       "                        <td id=\"T_356ffa34_a41d_11eb_b537_acde48001122row3_col27\" class=\"data row3 col27\" >565</td>\n",
       "                        <td id=\"T_356ffa34_a41d_11eb_b537_acde48001122row3_col28\" class=\"data row3 col28\" >11967</td>\n",
       "                        <td id=\"T_356ffa34_a41d_11eb_b537_acde48001122row3_col29\" class=\"data row3 col29\" >9</td>\n",
       "                        <td id=\"T_356ffa34_a41d_11eb_b537_acde48001122row3_col30\" class=\"data row3 col30\" >4009</td>\n",
       "                        <td id=\"T_356ffa34_a41d_11eb_b537_acde48001122row3_col31\" class=\"data row3 col31\" >10941</td>\n",
       "                        <td id=\"T_356ffa34_a41d_11eb_b537_acde48001122row3_col32\" class=\"data row3 col32\" >32</td>\n",
       "                        <td id=\"T_356ffa34_a41d_11eb_b537_acde48001122row3_col33\" class=\"data row3 col33\" >28211</td>\n",
       "                        <td id=\"T_356ffa34_a41d_11eb_b537_acde48001122row3_col34\" class=\"data row3 col34\" >2160</td>\n",
       "                        <td id=\"T_356ffa34_a41d_11eb_b537_acde48001122row3_col35\" class=\"data row3 col35\" >8426</td>\n",
       "            </tr>\n",
       "            <tr>\n",
       "                        <th id=\"T_356ffa34_a41d_11eb_b537_acde48001122level0_row4\" class=\"row_heading level0 row4\" >2021-04-20 00:00:00</th>\n",
       "                        <td id=\"T_356ffa34_a41d_11eb_b537_acde48001122row4_col0\" class=\"data row4 col0\" >45</td>\n",
       "                        <td id=\"T_356ffa34_a41d_11eb_b537_acde48001122row4_col1\" class=\"data row4 col1\" >8987</td>\n",
       "                        <td id=\"T_356ffa34_a41d_11eb_b537_acde48001122row4_col2\" class=\"data row4 col2\" >61</td>\n",
       "                        <td id=\"T_356ffa34_a41d_11eb_b537_acde48001122row4_col3\" class=\"data row4 col3\" >1651</td>\n",
       "                        <td id=\"T_356ffa34_a41d_11eb_b537_acde48001122row4_col4\" class=\"data row4 col4\" >10455</td>\n",
       "                        <td id=\"T_356ffa34_a41d_11eb_b537_acde48001122row4_col5\" class=\"data row4 col5\" >602</td>\n",
       "                        <td id=\"T_356ffa34_a41d_11eb_b537_acde48001122row4_col6\" class=\"data row4 col6\" >15625</td>\n",
       "                        <td id=\"T_356ffa34_a41d_11eb_b537_acde48001122row4_col7\" class=\"data row4 col7\" >2021-04-20</td>\n",
       "                        <td id=\"T_356ffa34_a41d_11eb_b537_acde48001122row4_col8\" class=\"data row4 col8\" >28395</td>\n",
       "                        <td id=\"T_356ffa34_a41d_11eb_b537_acde48001122row4_col9\" class=\"data row4 col9\" >291</td>\n",
       "                        <td id=\"T_356ffa34_a41d_11eb_b537_acde48001122row4_col10\" class=\"data row4 col10\" >1160</td>\n",
       "                        <td id=\"T_356ffa34_a41d_11eb_b537_acde48001122row4_col11\" class=\"data row4 col11\" >12206</td>\n",
       "                        <td id=\"T_356ffa34_a41d_11eb_b537_acde48001122row4_col12\" class=\"data row4 col12\" >1340</td>\n",
       "                        <td id=\"T_356ffa34_a41d_11eb_b537_acde48001122row4_col13\" class=\"data row4 col13\" >7811</td>\n",
       "                        <td id=\"T_356ffa34_a41d_11eb_b537_acde48001122row4_col14\" class=\"data row4 col14\" >5080</td>\n",
       "                        <td id=\"T_356ffa34_a41d_11eb_b537_acde48001122row4_col15\" class=\"data row4 col15\" >2030</td>\n",
       "                        <td id=\"T_356ffa34_a41d_11eb_b537_acde48001122row4_col16\" class=\"data row4 col16\" >21794</td>\n",
       "                        <td id=\"T_356ffa34_a41d_11eb_b537_acde48001122row4_col17\" class=\"data row4 col17\" >19577</td>\n",
       "                        <td id=\"T_356ffa34_a41d_11eb_b537_acde48001122row4_col18\" class=\"data row4 col18\" >250</td>\n",
       "                        <td id=\"T_356ffa34_a41d_11eb_b537_acde48001122row4_col19\" class=\"data row4 col19\" >62097</td>\n",
       "                        <td id=\"T_356ffa34_a41d_11eb_b537_acde48001122row4_col20\" class=\"data row4 col20\" >137</td>\n",
       "                        <td id=\"T_356ffa34_a41d_11eb_b537_acde48001122row4_col21\" class=\"data row4 col21\" >94</td>\n",
       "                        <td id=\"T_356ffa34_a41d_11eb_b537_acde48001122row4_col22\" class=\"data row4 col22\" >12727</td>\n",
       "                        <td id=\"T_356ffa34_a41d_11eb_b537_acde48001122row4_col23\" class=\"data row4 col23\" >91</td>\n",
       "                        <td id=\"T_356ffa34_a41d_11eb_b537_acde48001122row4_col24\" class=\"data row4 col24\" >82</td>\n",
       "                        <td id=\"T_356ffa34_a41d_11eb_b537_acde48001122row4_col25\" class=\"data row4 col25\" >4761</td>\n",
       "                        <td id=\"T_356ffa34_a41d_11eb_b537_acde48001122row4_col26\" class=\"data row4 col26\" >4656</td>\n",
       "                        <td id=\"T_356ffa34_a41d_11eb_b537_acde48001122row4_col27\" class=\"data row4 col27\" >638</td>\n",
       "                        <td id=\"T_356ffa34_a41d_11eb_b537_acde48001122row4_col28\" class=\"data row4 col28\" >12201</td>\n",
       "                        <td id=\"T_356ffa34_a41d_11eb_b537_acde48001122row4_col29\" class=\"data row4 col29\" >91</td>\n",
       "                        <td id=\"T_356ffa34_a41d_11eb_b537_acde48001122row4_col30\" class=\"data row4 col30\" >5926</td>\n",
       "                        <td id=\"T_356ffa34_a41d_11eb_b537_acde48001122row4_col31\" class=\"data row4 col31\" >10986</td>\n",
       "                        <td id=\"T_356ffa34_a41d_11eb_b537_acde48001122row4_col32\" class=\"data row4 col32\" >60</td>\n",
       "                        <td id=\"T_356ffa34_a41d_11eb_b537_acde48001122row4_col33\" class=\"data row4 col33\" >29574</td>\n",
       "                        <td id=\"T_356ffa34_a41d_11eb_b537_acde48001122row4_col34\" class=\"data row4 col34\" >3012</td>\n",
       "                        <td id=\"T_356ffa34_a41d_11eb_b537_acde48001122row4_col35\" class=\"data row4 col35\" >9819</td>\n",
       "            </tr>\n",
       "            <tr>\n",
       "                        <th id=\"T_356ffa34_a41d_11eb_b537_acde48001122level0_row5\" class=\"row_heading level0 row5\" >2021-04-21 00:00:00</th>\n",
       "                        <td id=\"T_356ffa34_a41d_11eb_b537_acde48001122row5_col0\" class=\"data row5 col0\" >24</td>\n",
       "                        <td id=\"T_356ffa34_a41d_11eb_b537_acde48001122row5_col1\" class=\"data row5 col1\" >9716</td>\n",
       "                        <td id=\"T_356ffa34_a41d_11eb_b537_acde48001122row5_col2\" class=\"data row5 col2\" >73</td>\n",
       "                        <td id=\"T_356ffa34_a41d_11eb_b537_acde48001122row5_col3\" class=\"data row5 col3\" >1665</td>\n",
       "                        <td id=\"T_356ffa34_a41d_11eb_b537_acde48001122row5_col4\" class=\"data row5 col4\" >12222</td>\n",
       "                        <td id=\"T_356ffa34_a41d_11eb_b537_acde48001122row5_col5\" class=\"data row5 col5\" >622</td>\n",
       "                        <td id=\"T_356ffa34_a41d_11eb_b537_acde48001122row5_col6\" class=\"data row5 col6\" >14519</td>\n",
       "                        <td id=\"T_356ffa34_a41d_11eb_b537_acde48001122row5_col7\" class=\"data row5 col7\" >2021-04-21</td>\n",
       "                        <td id=\"T_356ffa34_a41d_11eb_b537_acde48001122row5_col8\" class=\"data row5 col8\" >24638</td>\n",
       "                        <td id=\"T_356ffa34_a41d_11eb_b537_acde48001122row5_col9\" class=\"data row5 col9\" >234</td>\n",
       "                        <td id=\"T_356ffa34_a41d_11eb_b537_acde48001122row5_col10\" class=\"data row5 col10\" >1502</td>\n",
       "                        <td id=\"T_356ffa34_a41d_11eb_b537_acde48001122row5_col11\" class=\"data row5 col11\" >12553</td>\n",
       "                        <td id=\"T_356ffa34_a41d_11eb_b537_acde48001122row5_col12\" class=\"data row5 col12\" >1692</td>\n",
       "                        <td id=\"T_356ffa34_a41d_11eb_b537_acde48001122row5_col13\" class=\"data row5 col13\" >9623</td>\n",
       "                        <td id=\"T_356ffa34_a41d_11eb_b537_acde48001122row5_col14\" class=\"data row5 col14\" >5041</td>\n",
       "                        <td id=\"T_356ffa34_a41d_11eb_b537_acde48001122row5_col15\" class=\"data row5 col15\" >2204</td>\n",
       "                        <td id=\"T_356ffa34_a41d_11eb_b537_acde48001122row5_col16\" class=\"data row5 col16\" >23558</td>\n",
       "                        <td id=\"T_356ffa34_a41d_11eb_b537_acde48001122row5_col17\" class=\"data row5 col17\" >22414</td>\n",
       "                        <td id=\"T_356ffa34_a41d_11eb_b537_acde48001122row5_col18\" class=\"data row5 col18\" >183</td>\n",
       "                        <td id=\"T_356ffa34_a41d_11eb_b537_acde48001122row5_col19\" class=\"data row5 col19\" >67468</td>\n",
       "                        <td id=\"T_356ffa34_a41d_11eb_b537_acde48001122row5_col20\" class=\"data row5 col20\" >192</td>\n",
       "                        <td id=\"T_356ffa34_a41d_11eb_b537_acde48001122row5_col21\" class=\"data row5 col21\" >92</td>\n",
       "                        <td id=\"T_356ffa34_a41d_11eb_b537_acde48001122row5_col22\" class=\"data row5 col22\" >13107</td>\n",
       "                        <td id=\"T_356ffa34_a41d_11eb_b537_acde48001122row5_col23\" class=\"data row5 col23\" >90</td>\n",
       "                        <td id=\"T_356ffa34_a41d_11eb_b537_acde48001122row5_col24\" class=\"data row5 col24\" >97</td>\n",
       "                        <td id=\"T_356ffa34_a41d_11eb_b537_acde48001122row5_col25\" class=\"data row5 col25\" >4851</td>\n",
       "                        <td id=\"T_356ffa34_a41d_11eb_b537_acde48001122row5_col26\" class=\"data row5 col26\" >4953</td>\n",
       "                        <td id=\"T_356ffa34_a41d_11eb_b537_acde48001122row5_col27\" class=\"data row5 col27\" >619</td>\n",
       "                        <td id=\"T_356ffa34_a41d_11eb_b537_acde48001122row5_col28\" class=\"data row5 col28\" >14622</td>\n",
       "                        <td id=\"T_356ffa34_a41d_11eb_b537_acde48001122row5_col29\" class=\"data row5 col29\" >50</td>\n",
       "                        <td id=\"T_356ffa34_a41d_11eb_b537_acde48001122row5_col30\" class=\"data row5 col30\" >6542</td>\n",
       "                        <td id=\"T_356ffa34_a41d_11eb_b537_acde48001122row5_col31\" class=\"data row5 col31\" >11681</td>\n",
       "                        <td id=\"T_356ffa34_a41d_11eb_b537_acde48001122row5_col32\" class=\"data row5 col32\" >0</td>\n",
       "                        <td id=\"T_356ffa34_a41d_11eb_b537_acde48001122row5_col33\" class=\"data row5 col33\" >33106</td>\n",
       "                        <td id=\"T_356ffa34_a41d_11eb_b537_acde48001122row5_col34\" class=\"data row5 col34\" >4807</td>\n",
       "                        <td id=\"T_356ffa34_a41d_11eb_b537_acde48001122row5_col35\" class=\"data row5 col35\" >10784</td>\n",
       "            </tr>\n",
       "            <tr>\n",
       "                        <th id=\"T_356ffa34_a41d_11eb_b537_acde48001122level0_row6\" class=\"row_heading level0 row6\" >2021-04-22 00:00:00</th>\n",
       "                        <td id=\"T_356ffa34_a41d_11eb_b537_acde48001122row6_col0\" class=\"data row6 col0\" >37</td>\n",
       "                        <td id=\"T_356ffa34_a41d_11eb_b537_acde48001122row6_col1\" class=\"data row6 col1\" >10759</td>\n",
       "                        <td id=\"T_356ffa34_a41d_11eb_b537_acde48001122row6_col2\" class=\"data row6 col2\" >110</td>\n",
       "                        <td id=\"T_356ffa34_a41d_11eb_b537_acde48001122row6_col3\" class=\"data row6 col3\" >1931</td>\n",
       "                        <td id=\"T_356ffa34_a41d_11eb_b537_acde48001122row6_col4\" class=\"data row6 col4\" >11489</td>\n",
       "                        <td id=\"T_356ffa34_a41d_11eb_b537_acde48001122row6_col5\" class=\"data row6 col5\" >634</td>\n",
       "                        <td id=\"T_356ffa34_a41d_11eb_b537_acde48001122row6_col6\" class=\"data row6 col6\" >16750</td>\n",
       "                        <td id=\"T_356ffa34_a41d_11eb_b537_acde48001122row6_col7\" class=\"data row6 col7\" >2021-04-22</td>\n",
       "                        <td id=\"T_356ffa34_a41d_11eb_b537_acde48001122row6_col8\" class=\"data row6 col8\" >26169</td>\n",
       "                        <td id=\"T_356ffa34_a41d_11eb_b537_acde48001122row6_col9\" class=\"data row6 col9\" >346</td>\n",
       "                        <td id=\"T_356ffa34_a41d_11eb_b537_acde48001122row6_col10\" class=\"data row6 col10\" >1410</td>\n",
       "                        <td id=\"T_356ffa34_a41d_11eb_b537_acde48001122row6_col11\" class=\"data row6 col11\" >13105</td>\n",
       "                        <td id=\"T_356ffa34_a41d_11eb_b537_acde48001122row6_col12\" class=\"data row6 col12\" >1774</td>\n",
       "                        <td id=\"T_356ffa34_a41d_11eb_b537_acde48001122row6_col13\" class=\"data row6 col13\" >9742</td>\n",
       "                        <td id=\"T_356ffa34_a41d_11eb_b537_acde48001122row6_col14\" class=\"data row6 col14\" >7595</td>\n",
       "                        <td id=\"T_356ffa34_a41d_11eb_b537_acde48001122row6_col15\" class=\"data row6 col15\" >1965</td>\n",
       "                        <td id=\"T_356ffa34_a41d_11eb_b537_acde48001122row6_col16\" class=\"data row6 col16\" >25795</td>\n",
       "                        <td id=\"T_356ffa34_a41d_11eb_b537_acde48001122row6_col17\" class=\"data row6 col17\" >26995</td>\n",
       "                        <td id=\"T_356ffa34_a41d_11eb_b537_acde48001122row6_col18\" class=\"data row6 col18\" >198</td>\n",
       "                        <td id=\"T_356ffa34_a41d_11eb_b537_acde48001122row6_col19\" class=\"data row6 col19\" >67013</td>\n",
       "                        <td id=\"T_356ffa34_a41d_11eb_b537_acde48001122row6_col20\" class=\"data row6 col20\" >180</td>\n",
       "                        <td id=\"T_356ffa34_a41d_11eb_b537_acde48001122row6_col21\" class=\"data row6 col21\" >86</td>\n",
       "                        <td id=\"T_356ffa34_a41d_11eb_b537_acde48001122row6_col22\" class=\"data row6 col22\" >12384</td>\n",
       "                        <td id=\"T_356ffa34_a41d_11eb_b537_acde48001122row6_col23\" class=\"data row6 col23\" >73</td>\n",
       "                        <td id=\"T_356ffa34_a41d_11eb_b537_acde48001122row6_col24\" class=\"data row6 col24\" >53</td>\n",
       "                        <td id=\"T_356ffa34_a41d_11eb_b537_acde48001122row6_col25\" class=\"data row6 col25\" >6164</td>\n",
       "                        <td id=\"T_356ffa34_a41d_11eb_b537_acde48001122row6_col26\" class=\"data row6 col26\" >5450</td>\n",
       "                        <td id=\"T_356ffa34_a41d_11eb_b537_acde48001122row6_col27\" class=\"data row6 col27\" >987</td>\n",
       "                        <td id=\"T_356ffa34_a41d_11eb_b537_acde48001122row6_col28\" class=\"data row6 col28\" >14468</td>\n",
       "                        <td id=\"T_356ffa34_a41d_11eb_b537_acde48001122row6_col29\" class=\"data row6 col29\" >124</td>\n",
       "                        <td id=\"T_356ffa34_a41d_11eb_b537_acde48001122row6_col30\" class=\"data row6 col30\" >5567</td>\n",
       "                        <td id=\"T_356ffa34_a41d_11eb_b537_acde48001122row6_col31\" class=\"data row6 col31\" >12652</td>\n",
       "                        <td id=\"T_356ffa34_a41d_11eb_b537_acde48001122row6_col32\" class=\"data row6 col32\" >168</td>\n",
       "                        <td id=\"T_356ffa34_a41d_11eb_b537_acde48001122row6_col33\" class=\"data row6 col33\" >34254</td>\n",
       "                        <td id=\"T_356ffa34_a41d_11eb_b537_acde48001122row6_col34\" class=\"data row6 col34\" >3998</td>\n",
       "                        <td id=\"T_356ffa34_a41d_11eb_b537_acde48001122row6_col35\" class=\"data row6 col35\" >11948</td>\n",
       "            </tr>\n",
       "    </tbody></table>"
      ],
      "text/plain": [
       "<pandas.io.formats.style.Styler at 0x7fe16d65eac0>"
      ]
     },
     "execution_count": 43,
     "metadata": {},
     "output_type": "execute_result"
    }
   ],
   "source": [
    "df.style.apply(bold_max_value).highlight_max(color='red', axis=1)"
   ]
  },
  {
   "cell_type": "code",
   "execution_count": 44,
   "metadata": {
    "colab": {
     "base_uri": "https://localhost:8080/",
     "height": 353
    },
    "colab_type": "code",
    "id": "dbzPnzFvn2JG",
    "outputId": "0f7e6554-fe0c-4529-93ac-d4921a189540"
   },
   "outputs": [
    {
     "data": {
      "text/html": [
       "<style  type=\"text/css\" >\n",
       "</style><table id=\"T_3572bed6_a41d_11eb_b537_acde48001122\" ><thead>    <tr>        <th class=\"blank level0\" ></th>        <th class=\"col_heading level0 col0\" >an</th>        <th class=\"col_heading level0 col1\" >ap</th>        <th class=\"col_heading level0 col2\" >ar</th>        <th class=\"col_heading level0 col3\" >as</th>        <th class=\"col_heading level0 col4\" >br</th>        <th class=\"col_heading level0 col5\" >ch</th>        <th class=\"col_heading level0 col6\" >ct</th>        <th class=\"col_heading level0 col7\" >dateymd</th>        <th class=\"col_heading level0 col8\" >dl</th>        <th class=\"col_heading level0 col9\" >dn</th>        <th class=\"col_heading level0 col10\" >ga</th>        <th class=\"col_heading level0 col11\" >gj</th>        <th class=\"col_heading level0 col12\" >hp</th>        <th class=\"col_heading level0 col13\" >hr</th>        <th class=\"col_heading level0 col14\" >jh</th>        <th class=\"col_heading level0 col15\" >jk</th>        <th class=\"col_heading level0 col16\" >ka</th>        <th class=\"col_heading level0 col17\" >kl</th>        <th class=\"col_heading level0 col18\" >la</th>        <th class=\"col_heading level0 col19\" >mh</th>        <th class=\"col_heading level0 col20\" >ml</th>        <th class=\"col_heading level0 col21\" >mn</th>        <th class=\"col_heading level0 col22\" >mp</th>        <th class=\"col_heading level0 col23\" >mz</th>        <th class=\"col_heading level0 col24\" >nl</th>        <th class=\"col_heading level0 col25\" >or</th>        <th class=\"col_heading level0 col26\" >pb</th>        <th class=\"col_heading level0 col27\" >py</th>        <th class=\"col_heading level0 col28\" >rj</th>        <th class=\"col_heading level0 col29\" >sk</th>        <th class=\"col_heading level0 col30\" >tg</th>        <th class=\"col_heading level0 col31\" >tn</th>        <th class=\"col_heading level0 col32\" >tr</th>        <th class=\"col_heading level0 col33\" >up</th>        <th class=\"col_heading level0 col34\" >ut</th>        <th class=\"col_heading level0 col35\" >wb</th>    </tr>    <tr>        <th class=\"index_name level0\" >date</th>        <th class=\"blank\" ></th>        <th class=\"blank\" ></th>        <th class=\"blank\" ></th>        <th class=\"blank\" ></th>        <th class=\"blank\" ></th>        <th class=\"blank\" ></th>        <th class=\"blank\" ></th>        <th class=\"blank\" ></th>        <th class=\"blank\" ></th>        <th class=\"blank\" ></th>        <th class=\"blank\" ></th>        <th class=\"blank\" ></th>        <th class=\"blank\" ></th>        <th class=\"blank\" ></th>        <th class=\"blank\" ></th>        <th class=\"blank\" ></th>        <th class=\"blank\" ></th>        <th class=\"blank\" ></th>        <th class=\"blank\" ></th>        <th class=\"blank\" ></th>        <th class=\"blank\" ></th>        <th class=\"blank\" ></th>        <th class=\"blank\" ></th>        <th class=\"blank\" ></th>        <th class=\"blank\" ></th>        <th class=\"blank\" ></th>        <th class=\"blank\" ></th>        <th class=\"blank\" ></th>        <th class=\"blank\" ></th>        <th class=\"blank\" ></th>        <th class=\"blank\" ></th>        <th class=\"blank\" ></th>        <th class=\"blank\" ></th>        <th class=\"blank\" ></th>        <th class=\"blank\" ></th>        <th class=\"blank\" ></th>    </tr></thead><tbody>\n",
       "                <tr>\n",
       "                        <th id=\"T_3572bed6_a41d_11eb_b537_acde48001122level0_row0\" class=\"row_heading level0 row0\" >2021-04-16 00:00:00</th>\n",
       "                        <td id=\"T_3572bed6_a41d_11eb_b537_acde48001122row0_col0\" class=\"data row0 col0\" >27</td>\n",
       "                        <td id=\"T_3572bed6_a41d_11eb_b537_acde48001122row0_col1\" class=\"data row0 col1\" >6096</td>\n",
       "                        <td id=\"T_3572bed6_a41d_11eb_b537_acde48001122row0_col2\" class=\"data row0 col2\" >28</td>\n",
       "                        <td id=\"T_3572bed6_a41d_11eb_b537_acde48001122row0_col3\" class=\"data row0 col3\" >573</td>\n",
       "                        <td id=\"T_3572bed6_a41d_11eb_b537_acde48001122row0_col4\" class=\"data row0 col4\" >6253</td>\n",
       "                        <td id=\"T_3572bed6_a41d_11eb_b537_acde48001122row0_col5\" class=\"data row0 col5\" >481</td>\n",
       "                        <td id=\"T_3572bed6_a41d_11eb_b537_acde48001122row0_col6\" class=\"data row0 col6\" >14912</td>\n",
       "                        <td id=\"T_3572bed6_a41d_11eb_b537_acde48001122row0_col7\" class=\"data row0 col7\" >2021-04-16</td>\n",
       "                        <td id=\"T_3572bed6_a41d_11eb_b537_acde48001122row0_col8\" class=\"data row0 col8\" >19486</td>\n",
       "                        <td id=\"T_3572bed6_a41d_11eb_b537_acde48001122row0_col9\" class=\"data row0 col9\" >138</td>\n",
       "                        <td id=\"T_3572bed6_a41d_11eb_b537_acde48001122row0_col10\" class=\"data row0 col10\" >927</td>\n",
       "                        <td id=\"T_3572bed6_a41d_11eb_b537_acde48001122row0_col11\" class=\"data row0 col11\" >8920</td>\n",
       "                        <td id=\"T_3572bed6_a41d_11eb_b537_acde48001122row0_col12\" class=\"data row0 col12\" >842</td>\n",
       "                        <td id=\"T_3572bed6_a41d_11eb_b537_acde48001122row0_col13\" class=\"data row0 col13\" >6277</td>\n",
       "                        <td id=\"T_3572bed6_a41d_11eb_b537_acde48001122row0_col14\" class=\"data row0 col14\" >3843</td>\n",
       "                        <td id=\"T_3572bed6_a41d_11eb_b537_acde48001122row0_col15\" class=\"data row0 col15\" >1144</td>\n",
       "                        <td id=\"T_3572bed6_a41d_11eb_b537_acde48001122row0_col16\" class=\"data row0 col16\" >14859</td>\n",
       "                        <td id=\"T_3572bed6_a41d_11eb_b537_acde48001122row0_col17\" class=\"data row0 col17\" >10031</td>\n",
       "                        <td id=\"T_3572bed6_a41d_11eb_b537_acde48001122row0_col18\" class=\"data row0 col18\" >245</td>\n",
       "                        <td id=\"T_3572bed6_a41d_11eb_b537_acde48001122row0_col19\" class=\"data row0 col19\" >63729</td>\n",
       "                        <td id=\"T_3572bed6_a41d_11eb_b537_acde48001122row0_col20\" class=\"data row0 col20\" >121</td>\n",
       "                        <td id=\"T_3572bed6_a41d_11eb_b537_acde48001122row0_col21\" class=\"data row0 col21\" >31</td>\n",
       "                        <td id=\"T_3572bed6_a41d_11eb_b537_acde48001122row0_col22\" class=\"data row0 col22\" >11045</td>\n",
       "                        <td id=\"T_3572bed6_a41d_11eb_b537_acde48001122row0_col23\" class=\"data row0 col23\" >25</td>\n",
       "                        <td id=\"T_3572bed6_a41d_11eb_b537_acde48001122row0_col24\" class=\"data row0 col24\" >22</td>\n",
       "                        <td id=\"T_3572bed6_a41d_11eb_b537_acde48001122row0_col25\" class=\"data row0 col25\" >3108</td>\n",
       "                        <td id=\"T_3572bed6_a41d_11eb_b537_acde48001122row0_col26\" class=\"data row0 col26\" >3891</td>\n",
       "                        <td id=\"T_3572bed6_a41d_11eb_b537_acde48001122row0_col27\" class=\"data row0 col27\" >531</td>\n",
       "                        <td id=\"T_3572bed6_a41d_11eb_b537_acde48001122row0_col28\" class=\"data row0 col28\" >7359</td>\n",
       "                        <td id=\"T_3572bed6_a41d_11eb_b537_acde48001122row0_col29\" class=\"data row0 col29\" >22</td>\n",
       "                        <td id=\"T_3572bed6_a41d_11eb_b537_acde48001122row0_col30\" class=\"data row0 col30\" >3840</td>\n",
       "                        <td id=\"T_3572bed6_a41d_11eb_b537_acde48001122row0_col31\" class=\"data row0 col31\" >8449</td>\n",
       "                        <td id=\"T_3572bed6_a41d_11eb_b537_acde48001122row0_col32\" class=\"data row0 col32\" >31</td>\n",
       "                        <td id=\"T_3572bed6_a41d_11eb_b537_acde48001122row0_col33\" class=\"data row0 col33\" >27360</td>\n",
       "                        <td id=\"T_3572bed6_a41d_11eb_b537_acde48001122row0_col34\" class=\"data row0 col34\" >2402</td>\n",
       "                        <td id=\"T_3572bed6_a41d_11eb_b537_acde48001122row0_col35\" class=\"data row0 col35\" >6910</td>\n",
       "            </tr>\n",
       "            <tr>\n",
       "                        <th id=\"T_3572bed6_a41d_11eb_b537_acde48001122level0_row1\" class=\"row_heading level0 row1\" >2021-04-17 00:00:00</th>\n",
       "                        <td id=\"T_3572bed6_a41d_11eb_b537_acde48001122row1_col0\" class=\"data row1 col0\" >42</td>\n",
       "                        <td id=\"T_3572bed6_a41d_11eb_b537_acde48001122row1_col1\" class=\"data row1 col1\" >7224</td>\n",
       "                        <td id=\"T_3572bed6_a41d_11eb_b537_acde48001122row1_col2\" class=\"data row1 col2\" >19</td>\n",
       "                        <td id=\"T_3572bed6_a41d_11eb_b537_acde48001122row1_col3\" class=\"data row1 col3\" >876</td>\n",
       "                        <td id=\"T_3572bed6_a41d_11eb_b537_acde48001122row1_col4\" class=\"data row1 col4\" >7870</td>\n",
       "                        <td id=\"T_3572bed6_a41d_11eb_b537_acde48001122row1_col5\" class=\"data row1 col5\" >431</td>\n",
       "                        <td id=\"T_3572bed6_a41d_11eb_b537_acde48001122row1_col6\" class=\"data row1 col6\" >16083</td>\n",
       "                        <td id=\"T_3572bed6_a41d_11eb_b537_acde48001122row1_col7\" class=\"data row1 col7\" >2021-04-17</td>\n",
       "                        <td id=\"T_3572bed6_a41d_11eb_b537_acde48001122row1_col8\" class=\"data row1 col8\" >24375</td>\n",
       "                        <td id=\"T_3572bed6_a41d_11eb_b537_acde48001122row1_col9\" class=\"data row1 col9\" >108</td>\n",
       "                        <td id=\"T_3572bed6_a41d_11eb_b537_acde48001122row1_col10\" class=\"data row1 col10\" >762</td>\n",
       "                        <td id=\"T_3572bed6_a41d_11eb_b537_acde48001122row1_col11\" class=\"data row1 col11\" >9541</td>\n",
       "                        <td id=\"T_3572bed6_a41d_11eb_b537_acde48001122row1_col12\" class=\"data row1 col12\" >1392</td>\n",
       "                        <td id=\"T_3572bed6_a41d_11eb_b537_acde48001122row1_col13\" class=\"data row1 col13\" >7717</td>\n",
       "                        <td id=\"T_3572bed6_a41d_11eb_b537_acde48001122row1_col14\" class=\"data row1 col14\" >3838</td>\n",
       "                        <td id=\"T_3572bed6_a41d_11eb_b537_acde48001122row1_col15\" class=\"data row1 col15\" >1145</td>\n",
       "                        <td id=\"T_3572bed6_a41d_11eb_b537_acde48001122row1_col16\" class=\"data row1 col16\" >17489</td>\n",
       "                        <td id=\"T_3572bed6_a41d_11eb_b537_acde48001122row1_col17\" class=\"data row1 col17\" >13835</td>\n",
       "                        <td id=\"T_3572bed6_a41d_11eb_b537_acde48001122row1_col18\" class=\"data row1 col18\" >362</td>\n",
       "                        <td id=\"T_3572bed6_a41d_11eb_b537_acde48001122row1_col19\" class=\"data row1 col19\" >67123</td>\n",
       "                        <td id=\"T_3572bed6_a41d_11eb_b537_acde48001122row1_col20\" class=\"data row1 col20\" >95</td>\n",
       "                        <td id=\"T_3572bed6_a41d_11eb_b537_acde48001122row1_col21\" class=\"data row1 col21\" >39</td>\n",
       "                        <td id=\"T_3572bed6_a41d_11eb_b537_acde48001122row1_col22\" class=\"data row1 col22\" >11269</td>\n",
       "                        <td id=\"T_3572bed6_a41d_11eb_b537_acde48001122row1_col23\" class=\"data row1 col23\" >62</td>\n",
       "                        <td id=\"T_3572bed6_a41d_11eb_b537_acde48001122row1_col24\" class=\"data row1 col24\" >32</td>\n",
       "                        <td id=\"T_3572bed6_a41d_11eb_b537_acde48001122row1_col25\" class=\"data row1 col25\" >3144</td>\n",
       "                        <td id=\"T_3572bed6_a41d_11eb_b537_acde48001122row1_col26\" class=\"data row1 col26\" >4431</td>\n",
       "                        <td id=\"T_3572bed6_a41d_11eb_b537_acde48001122row1_col27\" class=\"data row1 col27\" >715</td>\n",
       "                        <td id=\"T_3572bed6_a41d_11eb_b537_acde48001122row1_col28\" class=\"data row1 col28\" >9046</td>\n",
       "                        <td id=\"T_3572bed6_a41d_11eb_b537_acde48001122row1_col29\" class=\"data row1 col29\" >72</td>\n",
       "                        <td id=\"T_3572bed6_a41d_11eb_b537_acde48001122row1_col30\" class=\"data row1 col30\" >4446</td>\n",
       "                        <td id=\"T_3572bed6_a41d_11eb_b537_acde48001122row1_col31\" class=\"data row1 col31\" >9344</td>\n",
       "                        <td id=\"T_3572bed6_a41d_11eb_b537_acde48001122row1_col32\" class=\"data row1 col32\" >58</td>\n",
       "                        <td id=\"T_3572bed6_a41d_11eb_b537_acde48001122row1_col33\" class=\"data row1 col33\" >27334</td>\n",
       "                        <td id=\"T_3572bed6_a41d_11eb_b537_acde48001122row1_col34\" class=\"data row1 col34\" >2757</td>\n",
       "                        <td id=\"T_3572bed6_a41d_11eb_b537_acde48001122row1_col35\" class=\"data row1 col35\" >7713</td>\n",
       "            </tr>\n",
       "            <tr>\n",
       "                        <th id=\"T_3572bed6_a41d_11eb_b537_acde48001122level0_row2\" class=\"row_heading level0 row2\" >2021-04-18 00:00:00</th>\n",
       "                        <td id=\"T_3572bed6_a41d_11eb_b537_acde48001122row2_col0\" class=\"data row2 col0\" >59</td>\n",
       "                        <td id=\"T_3572bed6_a41d_11eb_b537_acde48001122row2_col1\" class=\"data row2 col1\" >6582</td>\n",
       "                        <td id=\"T_3572bed6_a41d_11eb_b537_acde48001122row2_col2\" class=\"data row2 col2\" >20</td>\n",
       "                        <td id=\"T_3572bed6_a41d_11eb_b537_acde48001122row2_col3\" class=\"data row2 col3\" >639</td>\n",
       "                        <td id=\"T_3572bed6_a41d_11eb_b537_acde48001122row2_col4\" class=\"data row2 col4\" >8690</td>\n",
       "                        <td id=\"T_3572bed6_a41d_11eb_b537_acde48001122row2_col5\" class=\"data row2 col5\" >625</td>\n",
       "                        <td id=\"T_3572bed6_a41d_11eb_b537_acde48001122row2_col6\" class=\"data row2 col6\" >12345</td>\n",
       "                        <td id=\"T_3572bed6_a41d_11eb_b537_acde48001122row2_col7\" class=\"data row2 col7\" >2021-04-18</td>\n",
       "                        <td id=\"T_3572bed6_a41d_11eb_b537_acde48001122row2_col8\" class=\"data row2 col8\" >25462</td>\n",
       "                        <td id=\"T_3572bed6_a41d_11eb_b537_acde48001122row2_col9\" class=\"data row2 col9\" >184</td>\n",
       "                        <td id=\"T_3572bed6_a41d_11eb_b537_acde48001122row2_col10\" class=\"data row2 col10\" >951</td>\n",
       "                        <td id=\"T_3572bed6_a41d_11eb_b537_acde48001122row2_col11\" class=\"data row2 col11\" >10340</td>\n",
       "                        <td id=\"T_3572bed6_a41d_11eb_b537_acde48001122row2_col12\" class=\"data row2 col12\" >788</td>\n",
       "                        <td id=\"T_3572bed6_a41d_11eb_b537_acde48001122row2_col13\" class=\"data row2 col13\" >7177</td>\n",
       "                        <td id=\"T_3572bed6_a41d_11eb_b537_acde48001122row2_col14\" class=\"data row2 col14\" >3992</td>\n",
       "                        <td id=\"T_3572bed6_a41d_11eb_b537_acde48001122row2_col15\" class=\"data row2 col15\" >1526</td>\n",
       "                        <td id=\"T_3572bed6_a41d_11eb_b537_acde48001122row2_col16\" class=\"data row2 col16\" >19067</td>\n",
       "                        <td id=\"T_3572bed6_a41d_11eb_b537_acde48001122row2_col17\" class=\"data row2 col17\" >18257</td>\n",
       "                        <td id=\"T_3572bed6_a41d_11eb_b537_acde48001122row2_col18\" class=\"data row2 col18\" >60</td>\n",
       "                        <td id=\"T_3572bed6_a41d_11eb_b537_acde48001122row2_col19\" class=\"data row2 col19\" >68631</td>\n",
       "                        <td id=\"T_3572bed6_a41d_11eb_b537_acde48001122row2_col20\" class=\"data row2 col20\" >71</td>\n",
       "                        <td id=\"T_3572bed6_a41d_11eb_b537_acde48001122row2_col21\" class=\"data row2 col21\" >72</td>\n",
       "                        <td id=\"T_3572bed6_a41d_11eb_b537_acde48001122row2_col22\" class=\"data row2 col22\" >12248</td>\n",
       "                        <td id=\"T_3572bed6_a41d_11eb_b537_acde48001122row2_col23\" class=\"data row2 col23\" >50</td>\n",
       "                        <td id=\"T_3572bed6_a41d_11eb_b537_acde48001122row2_col24\" class=\"data row2 col24\" >19</td>\n",
       "                        <td id=\"T_3572bed6_a41d_11eb_b537_acde48001122row2_col25\" class=\"data row2 col25\" >3664</td>\n",
       "                        <td id=\"T_3572bed6_a41d_11eb_b537_acde48001122row2_col26\" class=\"data row2 col26\" >4900</td>\n",
       "                        <td id=\"T_3572bed6_a41d_11eb_b537_acde48001122row2_col27\" class=\"data row2 col27\" >663</td>\n",
       "                        <td id=\"T_3572bed6_a41d_11eb_b537_acde48001122row2_col28\" class=\"data row2 col28\" >10262</td>\n",
       "                        <td id=\"T_3572bed6_a41d_11eb_b537_acde48001122row2_col29\" class=\"data row2 col29\" >105</td>\n",
       "                        <td id=\"T_3572bed6_a41d_11eb_b537_acde48001122row2_col30\" class=\"data row2 col30\" >5093</td>\n",
       "                        <td id=\"T_3572bed6_a41d_11eb_b537_acde48001122row2_col31\" class=\"data row2 col31\" >10723</td>\n",
       "                        <td id=\"T_3572bed6_a41d_11eb_b537_acde48001122row2_col32\" class=\"data row2 col32\" >69</td>\n",
       "                        <td id=\"T_3572bed6_a41d_11eb_b537_acde48001122row2_col33\" class=\"data row2 col33\" >30566</td>\n",
       "                        <td id=\"T_3572bed6_a41d_11eb_b537_acde48001122row2_col34\" class=\"data row2 col34\" >2630</td>\n",
       "                        <td id=\"T_3572bed6_a41d_11eb_b537_acde48001122row2_col35\" class=\"data row2 col35\" >8419</td>\n",
       "            </tr>\n",
       "            <tr>\n",
       "                        <th id=\"T_3572bed6_a41d_11eb_b537_acde48001122level0_row3\" class=\"row_heading level0 row3\" >2021-04-19 00:00:00</th>\n",
       "                        <td id=\"T_3572bed6_a41d_11eb_b537_acde48001122row3_col0\" class=\"data row3 col0\" >31</td>\n",
       "                        <td id=\"T_3572bed6_a41d_11eb_b537_acde48001122row3_col1\" class=\"data row3 col1\" >5963</td>\n",
       "                        <td id=\"T_3572bed6_a41d_11eb_b537_acde48001122row3_col2\" class=\"data row3 col2\" >65</td>\n",
       "                        <td id=\"T_3572bed6_a41d_11eb_b537_acde48001122row3_col3\" class=\"data row3 col3\" >1367</td>\n",
       "                        <td id=\"T_3572bed6_a41d_11eb_b537_acde48001122row3_col4\" class=\"data row3 col4\" >7487</td>\n",
       "                        <td id=\"T_3572bed6_a41d_11eb_b537_acde48001122row3_col5\" class=\"data row3 col5\" >612</td>\n",
       "                        <td id=\"T_3572bed6_a41d_11eb_b537_acde48001122row3_col6\" class=\"data row3 col6\" >13834</td>\n",
       "                        <td id=\"T_3572bed6_a41d_11eb_b537_acde48001122row3_col7\" class=\"data row3 col7\" >2021-04-19</td>\n",
       "                        <td id=\"T_3572bed6_a41d_11eb_b537_acde48001122row3_col8\" class=\"data row3 col8\" >23686</td>\n",
       "                        <td id=\"T_3572bed6_a41d_11eb_b537_acde48001122row3_col9\" class=\"data row3 col9\" >121</td>\n",
       "                        <td id=\"T_3572bed6_a41d_11eb_b537_acde48001122row3_col10\" class=\"data row3 col10\" >940</td>\n",
       "                        <td id=\"T_3572bed6_a41d_11eb_b537_acde48001122row3_col11\" class=\"data row3 col11\" >11403</td>\n",
       "                        <td id=\"T_3572bed6_a41d_11eb_b537_acde48001122row3_col12\" class=\"data row3 col12\" >1695</td>\n",
       "                        <td id=\"T_3572bed6_a41d_11eb_b537_acde48001122row3_col13\" class=\"data row3 col13\" >6842</td>\n",
       "                        <td id=\"T_3572bed6_a41d_11eb_b537_acde48001122row3_col14\" class=\"data row3 col14\" >4290</td>\n",
       "                        <td id=\"T_3572bed6_a41d_11eb_b537_acde48001122row3_col15\" class=\"data row3 col15\" >1516</td>\n",
       "                        <td id=\"T_3572bed6_a41d_11eb_b537_acde48001122row3_col16\" class=\"data row3 col16\" >15785</td>\n",
       "                        <td id=\"T_3572bed6_a41d_11eb_b537_acde48001122row3_col17\" class=\"data row3 col17\" >13644</td>\n",
       "                        <td id=\"T_3572bed6_a41d_11eb_b537_acde48001122row3_col18\" class=\"data row3 col18\" >175</td>\n",
       "                        <td id=\"T_3572bed6_a41d_11eb_b537_acde48001122row3_col19\" class=\"data row3 col19\" >58924</td>\n",
       "                        <td id=\"T_3572bed6_a41d_11eb_b537_acde48001122row3_col20\" class=\"data row3 col20\" >110</td>\n",
       "                        <td id=\"T_3572bed6_a41d_11eb_b537_acde48001122row3_col21\" class=\"data row3 col21\" >54</td>\n",
       "                        <td id=\"T_3572bed6_a41d_11eb_b537_acde48001122row3_col22\" class=\"data row3 col22\" >12897</td>\n",
       "                        <td id=\"T_3572bed6_a41d_11eb_b537_acde48001122row3_col23\" class=\"data row3 col23\" >45</td>\n",
       "                        <td id=\"T_3572bed6_a41d_11eb_b537_acde48001122row3_col24\" class=\"data row3 col24\" >13</td>\n",
       "                        <td id=\"T_3572bed6_a41d_11eb_b537_acde48001122row3_col25\" class=\"data row3 col25\" >4445</td>\n",
       "                        <td id=\"T_3572bed6_a41d_11eb_b537_acde48001122row3_col26\" class=\"data row3 col26\" >4622</td>\n",
       "                        <td id=\"T_3572bed6_a41d_11eb_b537_acde48001122row3_col27\" class=\"data row3 col27\" >565</td>\n",
       "                        <td id=\"T_3572bed6_a41d_11eb_b537_acde48001122row3_col28\" class=\"data row3 col28\" >11967</td>\n",
       "                        <td id=\"T_3572bed6_a41d_11eb_b537_acde48001122row3_col29\" class=\"data row3 col29\" >9</td>\n",
       "                        <td id=\"T_3572bed6_a41d_11eb_b537_acde48001122row3_col30\" class=\"data row3 col30\" >4009</td>\n",
       "                        <td id=\"T_3572bed6_a41d_11eb_b537_acde48001122row3_col31\" class=\"data row3 col31\" >10941</td>\n",
       "                        <td id=\"T_3572bed6_a41d_11eb_b537_acde48001122row3_col32\" class=\"data row3 col32\" >32</td>\n",
       "                        <td id=\"T_3572bed6_a41d_11eb_b537_acde48001122row3_col33\" class=\"data row3 col33\" >28211</td>\n",
       "                        <td id=\"T_3572bed6_a41d_11eb_b537_acde48001122row3_col34\" class=\"data row3 col34\" >2160</td>\n",
       "                        <td id=\"T_3572bed6_a41d_11eb_b537_acde48001122row3_col35\" class=\"data row3 col35\" >8426</td>\n",
       "            </tr>\n",
       "            <tr>\n",
       "                        <th id=\"T_3572bed6_a41d_11eb_b537_acde48001122level0_row4\" class=\"row_heading level0 row4\" >2021-04-20 00:00:00</th>\n",
       "                        <td id=\"T_3572bed6_a41d_11eb_b537_acde48001122row4_col0\" class=\"data row4 col0\" >45</td>\n",
       "                        <td id=\"T_3572bed6_a41d_11eb_b537_acde48001122row4_col1\" class=\"data row4 col1\" >8987</td>\n",
       "                        <td id=\"T_3572bed6_a41d_11eb_b537_acde48001122row4_col2\" class=\"data row4 col2\" >61</td>\n",
       "                        <td id=\"T_3572bed6_a41d_11eb_b537_acde48001122row4_col3\" class=\"data row4 col3\" >1651</td>\n",
       "                        <td id=\"T_3572bed6_a41d_11eb_b537_acde48001122row4_col4\" class=\"data row4 col4\" >10455</td>\n",
       "                        <td id=\"T_3572bed6_a41d_11eb_b537_acde48001122row4_col5\" class=\"data row4 col5\" >602</td>\n",
       "                        <td id=\"T_3572bed6_a41d_11eb_b537_acde48001122row4_col6\" class=\"data row4 col6\" >15625</td>\n",
       "                        <td id=\"T_3572bed6_a41d_11eb_b537_acde48001122row4_col7\" class=\"data row4 col7\" >2021-04-20</td>\n",
       "                        <td id=\"T_3572bed6_a41d_11eb_b537_acde48001122row4_col8\" class=\"data row4 col8\" >28395</td>\n",
       "                        <td id=\"T_3572bed6_a41d_11eb_b537_acde48001122row4_col9\" class=\"data row4 col9\" >291</td>\n",
       "                        <td id=\"T_3572bed6_a41d_11eb_b537_acde48001122row4_col10\" class=\"data row4 col10\" >1160</td>\n",
       "                        <td id=\"T_3572bed6_a41d_11eb_b537_acde48001122row4_col11\" class=\"data row4 col11\" >12206</td>\n",
       "                        <td id=\"T_3572bed6_a41d_11eb_b537_acde48001122row4_col12\" class=\"data row4 col12\" >1340</td>\n",
       "                        <td id=\"T_3572bed6_a41d_11eb_b537_acde48001122row4_col13\" class=\"data row4 col13\" >7811</td>\n",
       "                        <td id=\"T_3572bed6_a41d_11eb_b537_acde48001122row4_col14\" class=\"data row4 col14\" >5080</td>\n",
       "                        <td id=\"T_3572bed6_a41d_11eb_b537_acde48001122row4_col15\" class=\"data row4 col15\" >2030</td>\n",
       "                        <td id=\"T_3572bed6_a41d_11eb_b537_acde48001122row4_col16\" class=\"data row4 col16\" >21794</td>\n",
       "                        <td id=\"T_3572bed6_a41d_11eb_b537_acde48001122row4_col17\" class=\"data row4 col17\" >19577</td>\n",
       "                        <td id=\"T_3572bed6_a41d_11eb_b537_acde48001122row4_col18\" class=\"data row4 col18\" >250</td>\n",
       "                        <td id=\"T_3572bed6_a41d_11eb_b537_acde48001122row4_col19\" class=\"data row4 col19\" >62097</td>\n",
       "                        <td id=\"T_3572bed6_a41d_11eb_b537_acde48001122row4_col20\" class=\"data row4 col20\" >137</td>\n",
       "                        <td id=\"T_3572bed6_a41d_11eb_b537_acde48001122row4_col21\" class=\"data row4 col21\" >94</td>\n",
       "                        <td id=\"T_3572bed6_a41d_11eb_b537_acde48001122row4_col22\" class=\"data row4 col22\" >12727</td>\n",
       "                        <td id=\"T_3572bed6_a41d_11eb_b537_acde48001122row4_col23\" class=\"data row4 col23\" >91</td>\n",
       "                        <td id=\"T_3572bed6_a41d_11eb_b537_acde48001122row4_col24\" class=\"data row4 col24\" >82</td>\n",
       "                        <td id=\"T_3572bed6_a41d_11eb_b537_acde48001122row4_col25\" class=\"data row4 col25\" >4761</td>\n",
       "                        <td id=\"T_3572bed6_a41d_11eb_b537_acde48001122row4_col26\" class=\"data row4 col26\" >4656</td>\n",
       "                        <td id=\"T_3572bed6_a41d_11eb_b537_acde48001122row4_col27\" class=\"data row4 col27\" >638</td>\n",
       "                        <td id=\"T_3572bed6_a41d_11eb_b537_acde48001122row4_col28\" class=\"data row4 col28\" >12201</td>\n",
       "                        <td id=\"T_3572bed6_a41d_11eb_b537_acde48001122row4_col29\" class=\"data row4 col29\" >91</td>\n",
       "                        <td id=\"T_3572bed6_a41d_11eb_b537_acde48001122row4_col30\" class=\"data row4 col30\" >5926</td>\n",
       "                        <td id=\"T_3572bed6_a41d_11eb_b537_acde48001122row4_col31\" class=\"data row4 col31\" >10986</td>\n",
       "                        <td id=\"T_3572bed6_a41d_11eb_b537_acde48001122row4_col32\" class=\"data row4 col32\" >60</td>\n",
       "                        <td id=\"T_3572bed6_a41d_11eb_b537_acde48001122row4_col33\" class=\"data row4 col33\" >29574</td>\n",
       "                        <td id=\"T_3572bed6_a41d_11eb_b537_acde48001122row4_col34\" class=\"data row4 col34\" >3012</td>\n",
       "                        <td id=\"T_3572bed6_a41d_11eb_b537_acde48001122row4_col35\" class=\"data row4 col35\" >9819</td>\n",
       "            </tr>\n",
       "            <tr>\n",
       "                        <th id=\"T_3572bed6_a41d_11eb_b537_acde48001122level0_row5\" class=\"row_heading level0 row5\" >2021-04-21 00:00:00</th>\n",
       "                        <td id=\"T_3572bed6_a41d_11eb_b537_acde48001122row5_col0\" class=\"data row5 col0\" >24</td>\n",
       "                        <td id=\"T_3572bed6_a41d_11eb_b537_acde48001122row5_col1\" class=\"data row5 col1\" >9716</td>\n",
       "                        <td id=\"T_3572bed6_a41d_11eb_b537_acde48001122row5_col2\" class=\"data row5 col2\" >73</td>\n",
       "                        <td id=\"T_3572bed6_a41d_11eb_b537_acde48001122row5_col3\" class=\"data row5 col3\" >1665</td>\n",
       "                        <td id=\"T_3572bed6_a41d_11eb_b537_acde48001122row5_col4\" class=\"data row5 col4\" >12222</td>\n",
       "                        <td id=\"T_3572bed6_a41d_11eb_b537_acde48001122row5_col5\" class=\"data row5 col5\" >622</td>\n",
       "                        <td id=\"T_3572bed6_a41d_11eb_b537_acde48001122row5_col6\" class=\"data row5 col6\" >14519</td>\n",
       "                        <td id=\"T_3572bed6_a41d_11eb_b537_acde48001122row5_col7\" class=\"data row5 col7\" >2021-04-21</td>\n",
       "                        <td id=\"T_3572bed6_a41d_11eb_b537_acde48001122row5_col8\" class=\"data row5 col8\" >24638</td>\n",
       "                        <td id=\"T_3572bed6_a41d_11eb_b537_acde48001122row5_col9\" class=\"data row5 col9\" >234</td>\n",
       "                        <td id=\"T_3572bed6_a41d_11eb_b537_acde48001122row5_col10\" class=\"data row5 col10\" >1502</td>\n",
       "                        <td id=\"T_3572bed6_a41d_11eb_b537_acde48001122row5_col11\" class=\"data row5 col11\" >12553</td>\n",
       "                        <td id=\"T_3572bed6_a41d_11eb_b537_acde48001122row5_col12\" class=\"data row5 col12\" >1692</td>\n",
       "                        <td id=\"T_3572bed6_a41d_11eb_b537_acde48001122row5_col13\" class=\"data row5 col13\" >9623</td>\n",
       "                        <td id=\"T_3572bed6_a41d_11eb_b537_acde48001122row5_col14\" class=\"data row5 col14\" >5041</td>\n",
       "                        <td id=\"T_3572bed6_a41d_11eb_b537_acde48001122row5_col15\" class=\"data row5 col15\" >2204</td>\n",
       "                        <td id=\"T_3572bed6_a41d_11eb_b537_acde48001122row5_col16\" class=\"data row5 col16\" >23558</td>\n",
       "                        <td id=\"T_3572bed6_a41d_11eb_b537_acde48001122row5_col17\" class=\"data row5 col17\" >22414</td>\n",
       "                        <td id=\"T_3572bed6_a41d_11eb_b537_acde48001122row5_col18\" class=\"data row5 col18\" >183</td>\n",
       "                        <td id=\"T_3572bed6_a41d_11eb_b537_acde48001122row5_col19\" class=\"data row5 col19\" >67468</td>\n",
       "                        <td id=\"T_3572bed6_a41d_11eb_b537_acde48001122row5_col20\" class=\"data row5 col20\" >192</td>\n",
       "                        <td id=\"T_3572bed6_a41d_11eb_b537_acde48001122row5_col21\" class=\"data row5 col21\" >92</td>\n",
       "                        <td id=\"T_3572bed6_a41d_11eb_b537_acde48001122row5_col22\" class=\"data row5 col22\" >13107</td>\n",
       "                        <td id=\"T_3572bed6_a41d_11eb_b537_acde48001122row5_col23\" class=\"data row5 col23\" >90</td>\n",
       "                        <td id=\"T_3572bed6_a41d_11eb_b537_acde48001122row5_col24\" class=\"data row5 col24\" >97</td>\n",
       "                        <td id=\"T_3572bed6_a41d_11eb_b537_acde48001122row5_col25\" class=\"data row5 col25\" >4851</td>\n",
       "                        <td id=\"T_3572bed6_a41d_11eb_b537_acde48001122row5_col26\" class=\"data row5 col26\" >4953</td>\n",
       "                        <td id=\"T_3572bed6_a41d_11eb_b537_acde48001122row5_col27\" class=\"data row5 col27\" >619</td>\n",
       "                        <td id=\"T_3572bed6_a41d_11eb_b537_acde48001122row5_col28\" class=\"data row5 col28\" >14622</td>\n",
       "                        <td id=\"T_3572bed6_a41d_11eb_b537_acde48001122row5_col29\" class=\"data row5 col29\" >50</td>\n",
       "                        <td id=\"T_3572bed6_a41d_11eb_b537_acde48001122row5_col30\" class=\"data row5 col30\" >6542</td>\n",
       "                        <td id=\"T_3572bed6_a41d_11eb_b537_acde48001122row5_col31\" class=\"data row5 col31\" >11681</td>\n",
       "                        <td id=\"T_3572bed6_a41d_11eb_b537_acde48001122row5_col32\" class=\"data row5 col32\" >0</td>\n",
       "                        <td id=\"T_3572bed6_a41d_11eb_b537_acde48001122row5_col33\" class=\"data row5 col33\" >33106</td>\n",
       "                        <td id=\"T_3572bed6_a41d_11eb_b537_acde48001122row5_col34\" class=\"data row5 col34\" >4807</td>\n",
       "                        <td id=\"T_3572bed6_a41d_11eb_b537_acde48001122row5_col35\" class=\"data row5 col35\" >10784</td>\n",
       "            </tr>\n",
       "            <tr>\n",
       "                        <th id=\"T_3572bed6_a41d_11eb_b537_acde48001122level0_row6\" class=\"row_heading level0 row6\" >2021-04-22 00:00:00</th>\n",
       "                        <td id=\"T_3572bed6_a41d_11eb_b537_acde48001122row6_col0\" class=\"data row6 col0\" >37</td>\n",
       "                        <td id=\"T_3572bed6_a41d_11eb_b537_acde48001122row6_col1\" class=\"data row6 col1\" >10759</td>\n",
       "                        <td id=\"T_3572bed6_a41d_11eb_b537_acde48001122row6_col2\" class=\"data row6 col2\" >110</td>\n",
       "                        <td id=\"T_3572bed6_a41d_11eb_b537_acde48001122row6_col3\" class=\"data row6 col3\" >1931</td>\n",
       "                        <td id=\"T_3572bed6_a41d_11eb_b537_acde48001122row6_col4\" class=\"data row6 col4\" >11489</td>\n",
       "                        <td id=\"T_3572bed6_a41d_11eb_b537_acde48001122row6_col5\" class=\"data row6 col5\" >634</td>\n",
       "                        <td id=\"T_3572bed6_a41d_11eb_b537_acde48001122row6_col6\" class=\"data row6 col6\" >16750</td>\n",
       "                        <td id=\"T_3572bed6_a41d_11eb_b537_acde48001122row6_col7\" class=\"data row6 col7\" >2021-04-22</td>\n",
       "                        <td id=\"T_3572bed6_a41d_11eb_b537_acde48001122row6_col8\" class=\"data row6 col8\" >26169</td>\n",
       "                        <td id=\"T_3572bed6_a41d_11eb_b537_acde48001122row6_col9\" class=\"data row6 col9\" >346</td>\n",
       "                        <td id=\"T_3572bed6_a41d_11eb_b537_acde48001122row6_col10\" class=\"data row6 col10\" >1410</td>\n",
       "                        <td id=\"T_3572bed6_a41d_11eb_b537_acde48001122row6_col11\" class=\"data row6 col11\" >13105</td>\n",
       "                        <td id=\"T_3572bed6_a41d_11eb_b537_acde48001122row6_col12\" class=\"data row6 col12\" >1774</td>\n",
       "                        <td id=\"T_3572bed6_a41d_11eb_b537_acde48001122row6_col13\" class=\"data row6 col13\" >9742</td>\n",
       "                        <td id=\"T_3572bed6_a41d_11eb_b537_acde48001122row6_col14\" class=\"data row6 col14\" >7595</td>\n",
       "                        <td id=\"T_3572bed6_a41d_11eb_b537_acde48001122row6_col15\" class=\"data row6 col15\" >1965</td>\n",
       "                        <td id=\"T_3572bed6_a41d_11eb_b537_acde48001122row6_col16\" class=\"data row6 col16\" >25795</td>\n",
       "                        <td id=\"T_3572bed6_a41d_11eb_b537_acde48001122row6_col17\" class=\"data row6 col17\" >26995</td>\n",
       "                        <td id=\"T_3572bed6_a41d_11eb_b537_acde48001122row6_col18\" class=\"data row6 col18\" >198</td>\n",
       "                        <td id=\"T_3572bed6_a41d_11eb_b537_acde48001122row6_col19\" class=\"data row6 col19\" >67013</td>\n",
       "                        <td id=\"T_3572bed6_a41d_11eb_b537_acde48001122row6_col20\" class=\"data row6 col20\" >180</td>\n",
       "                        <td id=\"T_3572bed6_a41d_11eb_b537_acde48001122row6_col21\" class=\"data row6 col21\" >86</td>\n",
       "                        <td id=\"T_3572bed6_a41d_11eb_b537_acde48001122row6_col22\" class=\"data row6 col22\" >12384</td>\n",
       "                        <td id=\"T_3572bed6_a41d_11eb_b537_acde48001122row6_col23\" class=\"data row6 col23\" >73</td>\n",
       "                        <td id=\"T_3572bed6_a41d_11eb_b537_acde48001122row6_col24\" class=\"data row6 col24\" >53</td>\n",
       "                        <td id=\"T_3572bed6_a41d_11eb_b537_acde48001122row6_col25\" class=\"data row6 col25\" >6164</td>\n",
       "                        <td id=\"T_3572bed6_a41d_11eb_b537_acde48001122row6_col26\" class=\"data row6 col26\" >5450</td>\n",
       "                        <td id=\"T_3572bed6_a41d_11eb_b537_acde48001122row6_col27\" class=\"data row6 col27\" >987</td>\n",
       "                        <td id=\"T_3572bed6_a41d_11eb_b537_acde48001122row6_col28\" class=\"data row6 col28\" >14468</td>\n",
       "                        <td id=\"T_3572bed6_a41d_11eb_b537_acde48001122row6_col29\" class=\"data row6 col29\" >124</td>\n",
       "                        <td id=\"T_3572bed6_a41d_11eb_b537_acde48001122row6_col30\" class=\"data row6 col30\" >5567</td>\n",
       "                        <td id=\"T_3572bed6_a41d_11eb_b537_acde48001122row6_col31\" class=\"data row6 col31\" >12652</td>\n",
       "                        <td id=\"T_3572bed6_a41d_11eb_b537_acde48001122row6_col32\" class=\"data row6 col32\" >168</td>\n",
       "                        <td id=\"T_3572bed6_a41d_11eb_b537_acde48001122row6_col33\" class=\"data row6 col33\" >34254</td>\n",
       "                        <td id=\"T_3572bed6_a41d_11eb_b537_acde48001122row6_col34\" class=\"data row6 col34\" >3998</td>\n",
       "                        <td id=\"T_3572bed6_a41d_11eb_b537_acde48001122row6_col35\" class=\"data row6 col35\" >11948</td>\n",
       "            </tr>\n",
       "    </tbody></table>"
      ],
      "text/plain": [
       "<pandas.io.formats.style.Styler at 0x7fe16d65e6a0>"
      ]
     },
     "execution_count": 44,
     "metadata": {},
     "output_type": "execute_result"
    }
   ],
   "source": [
    "df.style.background_gradient(cmap='Reds')"
   ]
  },
  {
   "cell_type": "code",
   "execution_count": 45,
   "metadata": {
    "colab": {
     "base_uri": "https://localhost:8080/",
     "height": 353
    },
    "colab_type": "code",
    "id": "oyQtSkyBoJdO",
    "outputId": "a21a1cc1-4c00-4741-fbb5-5cb6df468fc4"
   },
   "outputs": [
    {
     "data": {
      "text/html": [
       "<style  type=\"text/css\" >\n",
       "</style><table id=\"T_3574d98c_a41d_11eb_b537_acde48001122\" ><thead>    <tr>        <th class=\"blank level0\" ></th>        <th class=\"col_heading level0 col0\" >an</th>        <th class=\"col_heading level0 col1\" >ap</th>        <th class=\"col_heading level0 col2\" >ar</th>        <th class=\"col_heading level0 col3\" >as</th>        <th class=\"col_heading level0 col4\" >br</th>        <th class=\"col_heading level0 col5\" >ch</th>        <th class=\"col_heading level0 col6\" >ct</th>        <th class=\"col_heading level0 col7\" >dateymd</th>        <th class=\"col_heading level0 col8\" >dl</th>        <th class=\"col_heading level0 col9\" >dn</th>        <th class=\"col_heading level0 col10\" >ga</th>        <th class=\"col_heading level0 col11\" >gj</th>        <th class=\"col_heading level0 col12\" >hp</th>        <th class=\"col_heading level0 col13\" >hr</th>        <th class=\"col_heading level0 col14\" >jh</th>        <th class=\"col_heading level0 col15\" >jk</th>        <th class=\"col_heading level0 col16\" >ka</th>        <th class=\"col_heading level0 col17\" >kl</th>        <th class=\"col_heading level0 col18\" >la</th>        <th class=\"col_heading level0 col19\" >mh</th>        <th class=\"col_heading level0 col20\" >ml</th>        <th class=\"col_heading level0 col21\" >mn</th>        <th class=\"col_heading level0 col22\" >mp</th>        <th class=\"col_heading level0 col23\" >mz</th>        <th class=\"col_heading level0 col24\" >nl</th>        <th class=\"col_heading level0 col25\" >or</th>        <th class=\"col_heading level0 col26\" >pb</th>        <th class=\"col_heading level0 col27\" >py</th>        <th class=\"col_heading level0 col28\" >rj</th>        <th class=\"col_heading level0 col29\" >sk</th>        <th class=\"col_heading level0 col30\" >tg</th>        <th class=\"col_heading level0 col31\" >tn</th>        <th class=\"col_heading level0 col32\" >tr</th>        <th class=\"col_heading level0 col33\" >up</th>        <th class=\"col_heading level0 col34\" >ut</th>        <th class=\"col_heading level0 col35\" >wb</th>    </tr>    <tr>        <th class=\"index_name level0\" >date</th>        <th class=\"blank\" ></th>        <th class=\"blank\" ></th>        <th class=\"blank\" ></th>        <th class=\"blank\" ></th>        <th class=\"blank\" ></th>        <th class=\"blank\" ></th>        <th class=\"blank\" ></th>        <th class=\"blank\" ></th>        <th class=\"blank\" ></th>        <th class=\"blank\" ></th>        <th class=\"blank\" ></th>        <th class=\"blank\" ></th>        <th class=\"blank\" ></th>        <th class=\"blank\" ></th>        <th class=\"blank\" ></th>        <th class=\"blank\" ></th>        <th class=\"blank\" ></th>        <th class=\"blank\" ></th>        <th class=\"blank\" ></th>        <th class=\"blank\" ></th>        <th class=\"blank\" ></th>        <th class=\"blank\" ></th>        <th class=\"blank\" ></th>        <th class=\"blank\" ></th>        <th class=\"blank\" ></th>        <th class=\"blank\" ></th>        <th class=\"blank\" ></th>        <th class=\"blank\" ></th>        <th class=\"blank\" ></th>        <th class=\"blank\" ></th>        <th class=\"blank\" ></th>        <th class=\"blank\" ></th>        <th class=\"blank\" ></th>        <th class=\"blank\" ></th>        <th class=\"blank\" ></th>        <th class=\"blank\" ></th>    </tr></thead><tbody>\n",
       "                <tr>\n",
       "                        <th id=\"T_3574d98c_a41d_11eb_b537_acde48001122level0_row0\" class=\"row_heading level0 row0\" >2021-04-16 00:00:00</th>\n",
       "                        <td id=\"T_3574d98c_a41d_11eb_b537_acde48001122row0_col0\" class=\"data row0 col0\" >27</td>\n",
       "                        <td id=\"T_3574d98c_a41d_11eb_b537_acde48001122row0_col1\" class=\"data row0 col1\" >6096</td>\n",
       "                        <td id=\"T_3574d98c_a41d_11eb_b537_acde48001122row0_col2\" class=\"data row0 col2\" >28</td>\n",
       "                        <td id=\"T_3574d98c_a41d_11eb_b537_acde48001122row0_col3\" class=\"data row0 col3\" >573</td>\n",
       "                        <td id=\"T_3574d98c_a41d_11eb_b537_acde48001122row0_col4\" class=\"data row0 col4\" >6253</td>\n",
       "                        <td id=\"T_3574d98c_a41d_11eb_b537_acde48001122row0_col5\" class=\"data row0 col5\" >481</td>\n",
       "                        <td id=\"T_3574d98c_a41d_11eb_b537_acde48001122row0_col6\" class=\"data row0 col6\" >14912</td>\n",
       "                        <td id=\"T_3574d98c_a41d_11eb_b537_acde48001122row0_col7\" class=\"data row0 col7\" >2021-04-16</td>\n",
       "                        <td id=\"T_3574d98c_a41d_11eb_b537_acde48001122row0_col8\" class=\"data row0 col8\" >19486</td>\n",
       "                        <td id=\"T_3574d98c_a41d_11eb_b537_acde48001122row0_col9\" class=\"data row0 col9\" >138</td>\n",
       "                        <td id=\"T_3574d98c_a41d_11eb_b537_acde48001122row0_col10\" class=\"data row0 col10\" >927</td>\n",
       "                        <td id=\"T_3574d98c_a41d_11eb_b537_acde48001122row0_col11\" class=\"data row0 col11\" >8920</td>\n",
       "                        <td id=\"T_3574d98c_a41d_11eb_b537_acde48001122row0_col12\" class=\"data row0 col12\" >842</td>\n",
       "                        <td id=\"T_3574d98c_a41d_11eb_b537_acde48001122row0_col13\" class=\"data row0 col13\" >6277</td>\n",
       "                        <td id=\"T_3574d98c_a41d_11eb_b537_acde48001122row0_col14\" class=\"data row0 col14\" >3843</td>\n",
       "                        <td id=\"T_3574d98c_a41d_11eb_b537_acde48001122row0_col15\" class=\"data row0 col15\" >1144</td>\n",
       "                        <td id=\"T_3574d98c_a41d_11eb_b537_acde48001122row0_col16\" class=\"data row0 col16\" >14859</td>\n",
       "                        <td id=\"T_3574d98c_a41d_11eb_b537_acde48001122row0_col17\" class=\"data row0 col17\" >10031</td>\n",
       "                        <td id=\"T_3574d98c_a41d_11eb_b537_acde48001122row0_col18\" class=\"data row0 col18\" >245</td>\n",
       "                        <td id=\"T_3574d98c_a41d_11eb_b537_acde48001122row0_col19\" class=\"data row0 col19\" >63729</td>\n",
       "                        <td id=\"T_3574d98c_a41d_11eb_b537_acde48001122row0_col20\" class=\"data row0 col20\" >121</td>\n",
       "                        <td id=\"T_3574d98c_a41d_11eb_b537_acde48001122row0_col21\" class=\"data row0 col21\" >31</td>\n",
       "                        <td id=\"T_3574d98c_a41d_11eb_b537_acde48001122row0_col22\" class=\"data row0 col22\" >11045</td>\n",
       "                        <td id=\"T_3574d98c_a41d_11eb_b537_acde48001122row0_col23\" class=\"data row0 col23\" >25</td>\n",
       "                        <td id=\"T_3574d98c_a41d_11eb_b537_acde48001122row0_col24\" class=\"data row0 col24\" >22</td>\n",
       "                        <td id=\"T_3574d98c_a41d_11eb_b537_acde48001122row0_col25\" class=\"data row0 col25\" >3108</td>\n",
       "                        <td id=\"T_3574d98c_a41d_11eb_b537_acde48001122row0_col26\" class=\"data row0 col26\" >3891</td>\n",
       "                        <td id=\"T_3574d98c_a41d_11eb_b537_acde48001122row0_col27\" class=\"data row0 col27\" >531</td>\n",
       "                        <td id=\"T_3574d98c_a41d_11eb_b537_acde48001122row0_col28\" class=\"data row0 col28\" >7359</td>\n",
       "                        <td id=\"T_3574d98c_a41d_11eb_b537_acde48001122row0_col29\" class=\"data row0 col29\" >22</td>\n",
       "                        <td id=\"T_3574d98c_a41d_11eb_b537_acde48001122row0_col30\" class=\"data row0 col30\" >3840</td>\n",
       "                        <td id=\"T_3574d98c_a41d_11eb_b537_acde48001122row0_col31\" class=\"data row0 col31\" >8449</td>\n",
       "                        <td id=\"T_3574d98c_a41d_11eb_b537_acde48001122row0_col32\" class=\"data row0 col32\" >31</td>\n",
       "                        <td id=\"T_3574d98c_a41d_11eb_b537_acde48001122row0_col33\" class=\"data row0 col33\" >27360</td>\n",
       "                        <td id=\"T_3574d98c_a41d_11eb_b537_acde48001122row0_col34\" class=\"data row0 col34\" >2402</td>\n",
       "                        <td id=\"T_3574d98c_a41d_11eb_b537_acde48001122row0_col35\" class=\"data row0 col35\" >6910</td>\n",
       "            </tr>\n",
       "            <tr>\n",
       "                        <th id=\"T_3574d98c_a41d_11eb_b537_acde48001122level0_row1\" class=\"row_heading level0 row1\" >2021-04-17 00:00:00</th>\n",
       "                        <td id=\"T_3574d98c_a41d_11eb_b537_acde48001122row1_col0\" class=\"data row1 col0\" >42</td>\n",
       "                        <td id=\"T_3574d98c_a41d_11eb_b537_acde48001122row1_col1\" class=\"data row1 col1\" >7224</td>\n",
       "                        <td id=\"T_3574d98c_a41d_11eb_b537_acde48001122row1_col2\" class=\"data row1 col2\" >19</td>\n",
       "                        <td id=\"T_3574d98c_a41d_11eb_b537_acde48001122row1_col3\" class=\"data row1 col3\" >876</td>\n",
       "                        <td id=\"T_3574d98c_a41d_11eb_b537_acde48001122row1_col4\" class=\"data row1 col4\" >7870</td>\n",
       "                        <td id=\"T_3574d98c_a41d_11eb_b537_acde48001122row1_col5\" class=\"data row1 col5\" >431</td>\n",
       "                        <td id=\"T_3574d98c_a41d_11eb_b537_acde48001122row1_col6\" class=\"data row1 col6\" >16083</td>\n",
       "                        <td id=\"T_3574d98c_a41d_11eb_b537_acde48001122row1_col7\" class=\"data row1 col7\" >2021-04-17</td>\n",
       "                        <td id=\"T_3574d98c_a41d_11eb_b537_acde48001122row1_col8\" class=\"data row1 col8\" >24375</td>\n",
       "                        <td id=\"T_3574d98c_a41d_11eb_b537_acde48001122row1_col9\" class=\"data row1 col9\" >108</td>\n",
       "                        <td id=\"T_3574d98c_a41d_11eb_b537_acde48001122row1_col10\" class=\"data row1 col10\" >762</td>\n",
       "                        <td id=\"T_3574d98c_a41d_11eb_b537_acde48001122row1_col11\" class=\"data row1 col11\" >9541</td>\n",
       "                        <td id=\"T_3574d98c_a41d_11eb_b537_acde48001122row1_col12\" class=\"data row1 col12\" >1392</td>\n",
       "                        <td id=\"T_3574d98c_a41d_11eb_b537_acde48001122row1_col13\" class=\"data row1 col13\" >7717</td>\n",
       "                        <td id=\"T_3574d98c_a41d_11eb_b537_acde48001122row1_col14\" class=\"data row1 col14\" >3838</td>\n",
       "                        <td id=\"T_3574d98c_a41d_11eb_b537_acde48001122row1_col15\" class=\"data row1 col15\" >1145</td>\n",
       "                        <td id=\"T_3574d98c_a41d_11eb_b537_acde48001122row1_col16\" class=\"data row1 col16\" >17489</td>\n",
       "                        <td id=\"T_3574d98c_a41d_11eb_b537_acde48001122row1_col17\" class=\"data row1 col17\" >13835</td>\n",
       "                        <td id=\"T_3574d98c_a41d_11eb_b537_acde48001122row1_col18\" class=\"data row1 col18\" >362</td>\n",
       "                        <td id=\"T_3574d98c_a41d_11eb_b537_acde48001122row1_col19\" class=\"data row1 col19\" >67123</td>\n",
       "                        <td id=\"T_3574d98c_a41d_11eb_b537_acde48001122row1_col20\" class=\"data row1 col20\" >95</td>\n",
       "                        <td id=\"T_3574d98c_a41d_11eb_b537_acde48001122row1_col21\" class=\"data row1 col21\" >39</td>\n",
       "                        <td id=\"T_3574d98c_a41d_11eb_b537_acde48001122row1_col22\" class=\"data row1 col22\" >11269</td>\n",
       "                        <td id=\"T_3574d98c_a41d_11eb_b537_acde48001122row1_col23\" class=\"data row1 col23\" >62</td>\n",
       "                        <td id=\"T_3574d98c_a41d_11eb_b537_acde48001122row1_col24\" class=\"data row1 col24\" >32</td>\n",
       "                        <td id=\"T_3574d98c_a41d_11eb_b537_acde48001122row1_col25\" class=\"data row1 col25\" >3144</td>\n",
       "                        <td id=\"T_3574d98c_a41d_11eb_b537_acde48001122row1_col26\" class=\"data row1 col26\" >4431</td>\n",
       "                        <td id=\"T_3574d98c_a41d_11eb_b537_acde48001122row1_col27\" class=\"data row1 col27\" >715</td>\n",
       "                        <td id=\"T_3574d98c_a41d_11eb_b537_acde48001122row1_col28\" class=\"data row1 col28\" >9046</td>\n",
       "                        <td id=\"T_3574d98c_a41d_11eb_b537_acde48001122row1_col29\" class=\"data row1 col29\" >72</td>\n",
       "                        <td id=\"T_3574d98c_a41d_11eb_b537_acde48001122row1_col30\" class=\"data row1 col30\" >4446</td>\n",
       "                        <td id=\"T_3574d98c_a41d_11eb_b537_acde48001122row1_col31\" class=\"data row1 col31\" >9344</td>\n",
       "                        <td id=\"T_3574d98c_a41d_11eb_b537_acde48001122row1_col32\" class=\"data row1 col32\" >58</td>\n",
       "                        <td id=\"T_3574d98c_a41d_11eb_b537_acde48001122row1_col33\" class=\"data row1 col33\" >27334</td>\n",
       "                        <td id=\"T_3574d98c_a41d_11eb_b537_acde48001122row1_col34\" class=\"data row1 col34\" >2757</td>\n",
       "                        <td id=\"T_3574d98c_a41d_11eb_b537_acde48001122row1_col35\" class=\"data row1 col35\" >7713</td>\n",
       "            </tr>\n",
       "            <tr>\n",
       "                        <th id=\"T_3574d98c_a41d_11eb_b537_acde48001122level0_row2\" class=\"row_heading level0 row2\" >2021-04-18 00:00:00</th>\n",
       "                        <td id=\"T_3574d98c_a41d_11eb_b537_acde48001122row2_col0\" class=\"data row2 col0\" >59</td>\n",
       "                        <td id=\"T_3574d98c_a41d_11eb_b537_acde48001122row2_col1\" class=\"data row2 col1\" >6582</td>\n",
       "                        <td id=\"T_3574d98c_a41d_11eb_b537_acde48001122row2_col2\" class=\"data row2 col2\" >20</td>\n",
       "                        <td id=\"T_3574d98c_a41d_11eb_b537_acde48001122row2_col3\" class=\"data row2 col3\" >639</td>\n",
       "                        <td id=\"T_3574d98c_a41d_11eb_b537_acde48001122row2_col4\" class=\"data row2 col4\" >8690</td>\n",
       "                        <td id=\"T_3574d98c_a41d_11eb_b537_acde48001122row2_col5\" class=\"data row2 col5\" >625</td>\n",
       "                        <td id=\"T_3574d98c_a41d_11eb_b537_acde48001122row2_col6\" class=\"data row2 col6\" >12345</td>\n",
       "                        <td id=\"T_3574d98c_a41d_11eb_b537_acde48001122row2_col7\" class=\"data row2 col7\" >2021-04-18</td>\n",
       "                        <td id=\"T_3574d98c_a41d_11eb_b537_acde48001122row2_col8\" class=\"data row2 col8\" >25462</td>\n",
       "                        <td id=\"T_3574d98c_a41d_11eb_b537_acde48001122row2_col9\" class=\"data row2 col9\" >184</td>\n",
       "                        <td id=\"T_3574d98c_a41d_11eb_b537_acde48001122row2_col10\" class=\"data row2 col10\" >951</td>\n",
       "                        <td id=\"T_3574d98c_a41d_11eb_b537_acde48001122row2_col11\" class=\"data row2 col11\" >10340</td>\n",
       "                        <td id=\"T_3574d98c_a41d_11eb_b537_acde48001122row2_col12\" class=\"data row2 col12\" >788</td>\n",
       "                        <td id=\"T_3574d98c_a41d_11eb_b537_acde48001122row2_col13\" class=\"data row2 col13\" >7177</td>\n",
       "                        <td id=\"T_3574d98c_a41d_11eb_b537_acde48001122row2_col14\" class=\"data row2 col14\" >3992</td>\n",
       "                        <td id=\"T_3574d98c_a41d_11eb_b537_acde48001122row2_col15\" class=\"data row2 col15\" >1526</td>\n",
       "                        <td id=\"T_3574d98c_a41d_11eb_b537_acde48001122row2_col16\" class=\"data row2 col16\" >19067</td>\n",
       "                        <td id=\"T_3574d98c_a41d_11eb_b537_acde48001122row2_col17\" class=\"data row2 col17\" >18257</td>\n",
       "                        <td id=\"T_3574d98c_a41d_11eb_b537_acde48001122row2_col18\" class=\"data row2 col18\" >60</td>\n",
       "                        <td id=\"T_3574d98c_a41d_11eb_b537_acde48001122row2_col19\" class=\"data row2 col19\" >68631</td>\n",
       "                        <td id=\"T_3574d98c_a41d_11eb_b537_acde48001122row2_col20\" class=\"data row2 col20\" >71</td>\n",
       "                        <td id=\"T_3574d98c_a41d_11eb_b537_acde48001122row2_col21\" class=\"data row2 col21\" >72</td>\n",
       "                        <td id=\"T_3574d98c_a41d_11eb_b537_acde48001122row2_col22\" class=\"data row2 col22\" >12248</td>\n",
       "                        <td id=\"T_3574d98c_a41d_11eb_b537_acde48001122row2_col23\" class=\"data row2 col23\" >50</td>\n",
       "                        <td id=\"T_3574d98c_a41d_11eb_b537_acde48001122row2_col24\" class=\"data row2 col24\" >19</td>\n",
       "                        <td id=\"T_3574d98c_a41d_11eb_b537_acde48001122row2_col25\" class=\"data row2 col25\" >3664</td>\n",
       "                        <td id=\"T_3574d98c_a41d_11eb_b537_acde48001122row2_col26\" class=\"data row2 col26\" >4900</td>\n",
       "                        <td id=\"T_3574d98c_a41d_11eb_b537_acde48001122row2_col27\" class=\"data row2 col27\" >663</td>\n",
       "                        <td id=\"T_3574d98c_a41d_11eb_b537_acde48001122row2_col28\" class=\"data row2 col28\" >10262</td>\n",
       "                        <td id=\"T_3574d98c_a41d_11eb_b537_acde48001122row2_col29\" class=\"data row2 col29\" >105</td>\n",
       "                        <td id=\"T_3574d98c_a41d_11eb_b537_acde48001122row2_col30\" class=\"data row2 col30\" >5093</td>\n",
       "                        <td id=\"T_3574d98c_a41d_11eb_b537_acde48001122row2_col31\" class=\"data row2 col31\" >10723</td>\n",
       "                        <td id=\"T_3574d98c_a41d_11eb_b537_acde48001122row2_col32\" class=\"data row2 col32\" >69</td>\n",
       "                        <td id=\"T_3574d98c_a41d_11eb_b537_acde48001122row2_col33\" class=\"data row2 col33\" >30566</td>\n",
       "                        <td id=\"T_3574d98c_a41d_11eb_b537_acde48001122row2_col34\" class=\"data row2 col34\" >2630</td>\n",
       "                        <td id=\"T_3574d98c_a41d_11eb_b537_acde48001122row2_col35\" class=\"data row2 col35\" >8419</td>\n",
       "            </tr>\n",
       "            <tr>\n",
       "                        <th id=\"T_3574d98c_a41d_11eb_b537_acde48001122level0_row3\" class=\"row_heading level0 row3\" >2021-04-19 00:00:00</th>\n",
       "                        <td id=\"T_3574d98c_a41d_11eb_b537_acde48001122row3_col0\" class=\"data row3 col0\" >31</td>\n",
       "                        <td id=\"T_3574d98c_a41d_11eb_b537_acde48001122row3_col1\" class=\"data row3 col1\" >5963</td>\n",
       "                        <td id=\"T_3574d98c_a41d_11eb_b537_acde48001122row3_col2\" class=\"data row3 col2\" >65</td>\n",
       "                        <td id=\"T_3574d98c_a41d_11eb_b537_acde48001122row3_col3\" class=\"data row3 col3\" >1367</td>\n",
       "                        <td id=\"T_3574d98c_a41d_11eb_b537_acde48001122row3_col4\" class=\"data row3 col4\" >7487</td>\n",
       "                        <td id=\"T_3574d98c_a41d_11eb_b537_acde48001122row3_col5\" class=\"data row3 col5\" >612</td>\n",
       "                        <td id=\"T_3574d98c_a41d_11eb_b537_acde48001122row3_col6\" class=\"data row3 col6\" >13834</td>\n",
       "                        <td id=\"T_3574d98c_a41d_11eb_b537_acde48001122row3_col7\" class=\"data row3 col7\" >2021-04-19</td>\n",
       "                        <td id=\"T_3574d98c_a41d_11eb_b537_acde48001122row3_col8\" class=\"data row3 col8\" >23686</td>\n",
       "                        <td id=\"T_3574d98c_a41d_11eb_b537_acde48001122row3_col9\" class=\"data row3 col9\" >121</td>\n",
       "                        <td id=\"T_3574d98c_a41d_11eb_b537_acde48001122row3_col10\" class=\"data row3 col10\" >940</td>\n",
       "                        <td id=\"T_3574d98c_a41d_11eb_b537_acde48001122row3_col11\" class=\"data row3 col11\" >11403</td>\n",
       "                        <td id=\"T_3574d98c_a41d_11eb_b537_acde48001122row3_col12\" class=\"data row3 col12\" >1695</td>\n",
       "                        <td id=\"T_3574d98c_a41d_11eb_b537_acde48001122row3_col13\" class=\"data row3 col13\" >6842</td>\n",
       "                        <td id=\"T_3574d98c_a41d_11eb_b537_acde48001122row3_col14\" class=\"data row3 col14\" >4290</td>\n",
       "                        <td id=\"T_3574d98c_a41d_11eb_b537_acde48001122row3_col15\" class=\"data row3 col15\" >1516</td>\n",
       "                        <td id=\"T_3574d98c_a41d_11eb_b537_acde48001122row3_col16\" class=\"data row3 col16\" >15785</td>\n",
       "                        <td id=\"T_3574d98c_a41d_11eb_b537_acde48001122row3_col17\" class=\"data row3 col17\" >13644</td>\n",
       "                        <td id=\"T_3574d98c_a41d_11eb_b537_acde48001122row3_col18\" class=\"data row3 col18\" >175</td>\n",
       "                        <td id=\"T_3574d98c_a41d_11eb_b537_acde48001122row3_col19\" class=\"data row3 col19\" >58924</td>\n",
       "                        <td id=\"T_3574d98c_a41d_11eb_b537_acde48001122row3_col20\" class=\"data row3 col20\" >110</td>\n",
       "                        <td id=\"T_3574d98c_a41d_11eb_b537_acde48001122row3_col21\" class=\"data row3 col21\" >54</td>\n",
       "                        <td id=\"T_3574d98c_a41d_11eb_b537_acde48001122row3_col22\" class=\"data row3 col22\" >12897</td>\n",
       "                        <td id=\"T_3574d98c_a41d_11eb_b537_acde48001122row3_col23\" class=\"data row3 col23\" >45</td>\n",
       "                        <td id=\"T_3574d98c_a41d_11eb_b537_acde48001122row3_col24\" class=\"data row3 col24\" >13</td>\n",
       "                        <td id=\"T_3574d98c_a41d_11eb_b537_acde48001122row3_col25\" class=\"data row3 col25\" >4445</td>\n",
       "                        <td id=\"T_3574d98c_a41d_11eb_b537_acde48001122row3_col26\" class=\"data row3 col26\" >4622</td>\n",
       "                        <td id=\"T_3574d98c_a41d_11eb_b537_acde48001122row3_col27\" class=\"data row3 col27\" >565</td>\n",
       "                        <td id=\"T_3574d98c_a41d_11eb_b537_acde48001122row3_col28\" class=\"data row3 col28\" >11967</td>\n",
       "                        <td id=\"T_3574d98c_a41d_11eb_b537_acde48001122row3_col29\" class=\"data row3 col29\" >9</td>\n",
       "                        <td id=\"T_3574d98c_a41d_11eb_b537_acde48001122row3_col30\" class=\"data row3 col30\" >4009</td>\n",
       "                        <td id=\"T_3574d98c_a41d_11eb_b537_acde48001122row3_col31\" class=\"data row3 col31\" >10941</td>\n",
       "                        <td id=\"T_3574d98c_a41d_11eb_b537_acde48001122row3_col32\" class=\"data row3 col32\" >32</td>\n",
       "                        <td id=\"T_3574d98c_a41d_11eb_b537_acde48001122row3_col33\" class=\"data row3 col33\" >28211</td>\n",
       "                        <td id=\"T_3574d98c_a41d_11eb_b537_acde48001122row3_col34\" class=\"data row3 col34\" >2160</td>\n",
       "                        <td id=\"T_3574d98c_a41d_11eb_b537_acde48001122row3_col35\" class=\"data row3 col35\" >8426</td>\n",
       "            </tr>\n",
       "            <tr>\n",
       "                        <th id=\"T_3574d98c_a41d_11eb_b537_acde48001122level0_row4\" class=\"row_heading level0 row4\" >2021-04-20 00:00:00</th>\n",
       "                        <td id=\"T_3574d98c_a41d_11eb_b537_acde48001122row4_col0\" class=\"data row4 col0\" >45</td>\n",
       "                        <td id=\"T_3574d98c_a41d_11eb_b537_acde48001122row4_col1\" class=\"data row4 col1\" >8987</td>\n",
       "                        <td id=\"T_3574d98c_a41d_11eb_b537_acde48001122row4_col2\" class=\"data row4 col2\" >61</td>\n",
       "                        <td id=\"T_3574d98c_a41d_11eb_b537_acde48001122row4_col3\" class=\"data row4 col3\" >1651</td>\n",
       "                        <td id=\"T_3574d98c_a41d_11eb_b537_acde48001122row4_col4\" class=\"data row4 col4\" >10455</td>\n",
       "                        <td id=\"T_3574d98c_a41d_11eb_b537_acde48001122row4_col5\" class=\"data row4 col5\" >602</td>\n",
       "                        <td id=\"T_3574d98c_a41d_11eb_b537_acde48001122row4_col6\" class=\"data row4 col6\" >15625</td>\n",
       "                        <td id=\"T_3574d98c_a41d_11eb_b537_acde48001122row4_col7\" class=\"data row4 col7\" >2021-04-20</td>\n",
       "                        <td id=\"T_3574d98c_a41d_11eb_b537_acde48001122row4_col8\" class=\"data row4 col8\" >28395</td>\n",
       "                        <td id=\"T_3574d98c_a41d_11eb_b537_acde48001122row4_col9\" class=\"data row4 col9\" >291</td>\n",
       "                        <td id=\"T_3574d98c_a41d_11eb_b537_acde48001122row4_col10\" class=\"data row4 col10\" >1160</td>\n",
       "                        <td id=\"T_3574d98c_a41d_11eb_b537_acde48001122row4_col11\" class=\"data row4 col11\" >12206</td>\n",
       "                        <td id=\"T_3574d98c_a41d_11eb_b537_acde48001122row4_col12\" class=\"data row4 col12\" >1340</td>\n",
       "                        <td id=\"T_3574d98c_a41d_11eb_b537_acde48001122row4_col13\" class=\"data row4 col13\" >7811</td>\n",
       "                        <td id=\"T_3574d98c_a41d_11eb_b537_acde48001122row4_col14\" class=\"data row4 col14\" >5080</td>\n",
       "                        <td id=\"T_3574d98c_a41d_11eb_b537_acde48001122row4_col15\" class=\"data row4 col15\" >2030</td>\n",
       "                        <td id=\"T_3574d98c_a41d_11eb_b537_acde48001122row4_col16\" class=\"data row4 col16\" >21794</td>\n",
       "                        <td id=\"T_3574d98c_a41d_11eb_b537_acde48001122row4_col17\" class=\"data row4 col17\" >19577</td>\n",
       "                        <td id=\"T_3574d98c_a41d_11eb_b537_acde48001122row4_col18\" class=\"data row4 col18\" >250</td>\n",
       "                        <td id=\"T_3574d98c_a41d_11eb_b537_acde48001122row4_col19\" class=\"data row4 col19\" >62097</td>\n",
       "                        <td id=\"T_3574d98c_a41d_11eb_b537_acde48001122row4_col20\" class=\"data row4 col20\" >137</td>\n",
       "                        <td id=\"T_3574d98c_a41d_11eb_b537_acde48001122row4_col21\" class=\"data row4 col21\" >94</td>\n",
       "                        <td id=\"T_3574d98c_a41d_11eb_b537_acde48001122row4_col22\" class=\"data row4 col22\" >12727</td>\n",
       "                        <td id=\"T_3574d98c_a41d_11eb_b537_acde48001122row4_col23\" class=\"data row4 col23\" >91</td>\n",
       "                        <td id=\"T_3574d98c_a41d_11eb_b537_acde48001122row4_col24\" class=\"data row4 col24\" >82</td>\n",
       "                        <td id=\"T_3574d98c_a41d_11eb_b537_acde48001122row4_col25\" class=\"data row4 col25\" >4761</td>\n",
       "                        <td id=\"T_3574d98c_a41d_11eb_b537_acde48001122row4_col26\" class=\"data row4 col26\" >4656</td>\n",
       "                        <td id=\"T_3574d98c_a41d_11eb_b537_acde48001122row4_col27\" class=\"data row4 col27\" >638</td>\n",
       "                        <td id=\"T_3574d98c_a41d_11eb_b537_acde48001122row4_col28\" class=\"data row4 col28\" >12201</td>\n",
       "                        <td id=\"T_3574d98c_a41d_11eb_b537_acde48001122row4_col29\" class=\"data row4 col29\" >91</td>\n",
       "                        <td id=\"T_3574d98c_a41d_11eb_b537_acde48001122row4_col30\" class=\"data row4 col30\" >5926</td>\n",
       "                        <td id=\"T_3574d98c_a41d_11eb_b537_acde48001122row4_col31\" class=\"data row4 col31\" >10986</td>\n",
       "                        <td id=\"T_3574d98c_a41d_11eb_b537_acde48001122row4_col32\" class=\"data row4 col32\" >60</td>\n",
       "                        <td id=\"T_3574d98c_a41d_11eb_b537_acde48001122row4_col33\" class=\"data row4 col33\" >29574</td>\n",
       "                        <td id=\"T_3574d98c_a41d_11eb_b537_acde48001122row4_col34\" class=\"data row4 col34\" >3012</td>\n",
       "                        <td id=\"T_3574d98c_a41d_11eb_b537_acde48001122row4_col35\" class=\"data row4 col35\" >9819</td>\n",
       "            </tr>\n",
       "            <tr>\n",
       "                        <th id=\"T_3574d98c_a41d_11eb_b537_acde48001122level0_row5\" class=\"row_heading level0 row5\" >2021-04-21 00:00:00</th>\n",
       "                        <td id=\"T_3574d98c_a41d_11eb_b537_acde48001122row5_col0\" class=\"data row5 col0\" >24</td>\n",
       "                        <td id=\"T_3574d98c_a41d_11eb_b537_acde48001122row5_col1\" class=\"data row5 col1\" >9716</td>\n",
       "                        <td id=\"T_3574d98c_a41d_11eb_b537_acde48001122row5_col2\" class=\"data row5 col2\" >73</td>\n",
       "                        <td id=\"T_3574d98c_a41d_11eb_b537_acde48001122row5_col3\" class=\"data row5 col3\" >1665</td>\n",
       "                        <td id=\"T_3574d98c_a41d_11eb_b537_acde48001122row5_col4\" class=\"data row5 col4\" >12222</td>\n",
       "                        <td id=\"T_3574d98c_a41d_11eb_b537_acde48001122row5_col5\" class=\"data row5 col5\" >622</td>\n",
       "                        <td id=\"T_3574d98c_a41d_11eb_b537_acde48001122row5_col6\" class=\"data row5 col6\" >14519</td>\n",
       "                        <td id=\"T_3574d98c_a41d_11eb_b537_acde48001122row5_col7\" class=\"data row5 col7\" >2021-04-21</td>\n",
       "                        <td id=\"T_3574d98c_a41d_11eb_b537_acde48001122row5_col8\" class=\"data row5 col8\" >24638</td>\n",
       "                        <td id=\"T_3574d98c_a41d_11eb_b537_acde48001122row5_col9\" class=\"data row5 col9\" >234</td>\n",
       "                        <td id=\"T_3574d98c_a41d_11eb_b537_acde48001122row5_col10\" class=\"data row5 col10\" >1502</td>\n",
       "                        <td id=\"T_3574d98c_a41d_11eb_b537_acde48001122row5_col11\" class=\"data row5 col11\" >12553</td>\n",
       "                        <td id=\"T_3574d98c_a41d_11eb_b537_acde48001122row5_col12\" class=\"data row5 col12\" >1692</td>\n",
       "                        <td id=\"T_3574d98c_a41d_11eb_b537_acde48001122row5_col13\" class=\"data row5 col13\" >9623</td>\n",
       "                        <td id=\"T_3574d98c_a41d_11eb_b537_acde48001122row5_col14\" class=\"data row5 col14\" >5041</td>\n",
       "                        <td id=\"T_3574d98c_a41d_11eb_b537_acde48001122row5_col15\" class=\"data row5 col15\" >2204</td>\n",
       "                        <td id=\"T_3574d98c_a41d_11eb_b537_acde48001122row5_col16\" class=\"data row5 col16\" >23558</td>\n",
       "                        <td id=\"T_3574d98c_a41d_11eb_b537_acde48001122row5_col17\" class=\"data row5 col17\" >22414</td>\n",
       "                        <td id=\"T_3574d98c_a41d_11eb_b537_acde48001122row5_col18\" class=\"data row5 col18\" >183</td>\n",
       "                        <td id=\"T_3574d98c_a41d_11eb_b537_acde48001122row5_col19\" class=\"data row5 col19\" >67468</td>\n",
       "                        <td id=\"T_3574d98c_a41d_11eb_b537_acde48001122row5_col20\" class=\"data row5 col20\" >192</td>\n",
       "                        <td id=\"T_3574d98c_a41d_11eb_b537_acde48001122row5_col21\" class=\"data row5 col21\" >92</td>\n",
       "                        <td id=\"T_3574d98c_a41d_11eb_b537_acde48001122row5_col22\" class=\"data row5 col22\" >13107</td>\n",
       "                        <td id=\"T_3574d98c_a41d_11eb_b537_acde48001122row5_col23\" class=\"data row5 col23\" >90</td>\n",
       "                        <td id=\"T_3574d98c_a41d_11eb_b537_acde48001122row5_col24\" class=\"data row5 col24\" >97</td>\n",
       "                        <td id=\"T_3574d98c_a41d_11eb_b537_acde48001122row5_col25\" class=\"data row5 col25\" >4851</td>\n",
       "                        <td id=\"T_3574d98c_a41d_11eb_b537_acde48001122row5_col26\" class=\"data row5 col26\" >4953</td>\n",
       "                        <td id=\"T_3574d98c_a41d_11eb_b537_acde48001122row5_col27\" class=\"data row5 col27\" >619</td>\n",
       "                        <td id=\"T_3574d98c_a41d_11eb_b537_acde48001122row5_col28\" class=\"data row5 col28\" >14622</td>\n",
       "                        <td id=\"T_3574d98c_a41d_11eb_b537_acde48001122row5_col29\" class=\"data row5 col29\" >50</td>\n",
       "                        <td id=\"T_3574d98c_a41d_11eb_b537_acde48001122row5_col30\" class=\"data row5 col30\" >6542</td>\n",
       "                        <td id=\"T_3574d98c_a41d_11eb_b537_acde48001122row5_col31\" class=\"data row5 col31\" >11681</td>\n",
       "                        <td id=\"T_3574d98c_a41d_11eb_b537_acde48001122row5_col32\" class=\"data row5 col32\" >0</td>\n",
       "                        <td id=\"T_3574d98c_a41d_11eb_b537_acde48001122row5_col33\" class=\"data row5 col33\" >33106</td>\n",
       "                        <td id=\"T_3574d98c_a41d_11eb_b537_acde48001122row5_col34\" class=\"data row5 col34\" >4807</td>\n",
       "                        <td id=\"T_3574d98c_a41d_11eb_b537_acde48001122row5_col35\" class=\"data row5 col35\" >10784</td>\n",
       "            </tr>\n",
       "            <tr>\n",
       "                        <th id=\"T_3574d98c_a41d_11eb_b537_acde48001122level0_row6\" class=\"row_heading level0 row6\" >2021-04-22 00:00:00</th>\n",
       "                        <td id=\"T_3574d98c_a41d_11eb_b537_acde48001122row6_col0\" class=\"data row6 col0\" >37</td>\n",
       "                        <td id=\"T_3574d98c_a41d_11eb_b537_acde48001122row6_col1\" class=\"data row6 col1\" >10759</td>\n",
       "                        <td id=\"T_3574d98c_a41d_11eb_b537_acde48001122row6_col2\" class=\"data row6 col2\" >110</td>\n",
       "                        <td id=\"T_3574d98c_a41d_11eb_b537_acde48001122row6_col3\" class=\"data row6 col3\" >1931</td>\n",
       "                        <td id=\"T_3574d98c_a41d_11eb_b537_acde48001122row6_col4\" class=\"data row6 col4\" >11489</td>\n",
       "                        <td id=\"T_3574d98c_a41d_11eb_b537_acde48001122row6_col5\" class=\"data row6 col5\" >634</td>\n",
       "                        <td id=\"T_3574d98c_a41d_11eb_b537_acde48001122row6_col6\" class=\"data row6 col6\" >16750</td>\n",
       "                        <td id=\"T_3574d98c_a41d_11eb_b537_acde48001122row6_col7\" class=\"data row6 col7\" >2021-04-22</td>\n",
       "                        <td id=\"T_3574d98c_a41d_11eb_b537_acde48001122row6_col8\" class=\"data row6 col8\" >26169</td>\n",
       "                        <td id=\"T_3574d98c_a41d_11eb_b537_acde48001122row6_col9\" class=\"data row6 col9\" >346</td>\n",
       "                        <td id=\"T_3574d98c_a41d_11eb_b537_acde48001122row6_col10\" class=\"data row6 col10\" >1410</td>\n",
       "                        <td id=\"T_3574d98c_a41d_11eb_b537_acde48001122row6_col11\" class=\"data row6 col11\" >13105</td>\n",
       "                        <td id=\"T_3574d98c_a41d_11eb_b537_acde48001122row6_col12\" class=\"data row6 col12\" >1774</td>\n",
       "                        <td id=\"T_3574d98c_a41d_11eb_b537_acde48001122row6_col13\" class=\"data row6 col13\" >9742</td>\n",
       "                        <td id=\"T_3574d98c_a41d_11eb_b537_acde48001122row6_col14\" class=\"data row6 col14\" >7595</td>\n",
       "                        <td id=\"T_3574d98c_a41d_11eb_b537_acde48001122row6_col15\" class=\"data row6 col15\" >1965</td>\n",
       "                        <td id=\"T_3574d98c_a41d_11eb_b537_acde48001122row6_col16\" class=\"data row6 col16\" >25795</td>\n",
       "                        <td id=\"T_3574d98c_a41d_11eb_b537_acde48001122row6_col17\" class=\"data row6 col17\" >26995</td>\n",
       "                        <td id=\"T_3574d98c_a41d_11eb_b537_acde48001122row6_col18\" class=\"data row6 col18\" >198</td>\n",
       "                        <td id=\"T_3574d98c_a41d_11eb_b537_acde48001122row6_col19\" class=\"data row6 col19\" >67013</td>\n",
       "                        <td id=\"T_3574d98c_a41d_11eb_b537_acde48001122row6_col20\" class=\"data row6 col20\" >180</td>\n",
       "                        <td id=\"T_3574d98c_a41d_11eb_b537_acde48001122row6_col21\" class=\"data row6 col21\" >86</td>\n",
       "                        <td id=\"T_3574d98c_a41d_11eb_b537_acde48001122row6_col22\" class=\"data row6 col22\" >12384</td>\n",
       "                        <td id=\"T_3574d98c_a41d_11eb_b537_acde48001122row6_col23\" class=\"data row6 col23\" >73</td>\n",
       "                        <td id=\"T_3574d98c_a41d_11eb_b537_acde48001122row6_col24\" class=\"data row6 col24\" >53</td>\n",
       "                        <td id=\"T_3574d98c_a41d_11eb_b537_acde48001122row6_col25\" class=\"data row6 col25\" >6164</td>\n",
       "                        <td id=\"T_3574d98c_a41d_11eb_b537_acde48001122row6_col26\" class=\"data row6 col26\" >5450</td>\n",
       "                        <td id=\"T_3574d98c_a41d_11eb_b537_acde48001122row6_col27\" class=\"data row6 col27\" >987</td>\n",
       "                        <td id=\"T_3574d98c_a41d_11eb_b537_acde48001122row6_col28\" class=\"data row6 col28\" >14468</td>\n",
       "                        <td id=\"T_3574d98c_a41d_11eb_b537_acde48001122row6_col29\" class=\"data row6 col29\" >124</td>\n",
       "                        <td id=\"T_3574d98c_a41d_11eb_b537_acde48001122row6_col30\" class=\"data row6 col30\" >5567</td>\n",
       "                        <td id=\"T_3574d98c_a41d_11eb_b537_acde48001122row6_col31\" class=\"data row6 col31\" >12652</td>\n",
       "                        <td id=\"T_3574d98c_a41d_11eb_b537_acde48001122row6_col32\" class=\"data row6 col32\" >168</td>\n",
       "                        <td id=\"T_3574d98c_a41d_11eb_b537_acde48001122row6_col33\" class=\"data row6 col33\" >34254</td>\n",
       "                        <td id=\"T_3574d98c_a41d_11eb_b537_acde48001122row6_col34\" class=\"data row6 col34\" >3998</td>\n",
       "                        <td id=\"T_3574d98c_a41d_11eb_b537_acde48001122row6_col35\" class=\"data row6 col35\" >11948</td>\n",
       "            </tr>\n",
       "    </tbody></table>"
      ],
      "text/plain": [
       "<pandas.io.formats.style.Styler at 0x7fe16d6988b0>"
      ]
     },
     "execution_count": 45,
     "metadata": {},
     "output_type": "execute_result"
    }
   ],
   "source": [
    "df.style.background_gradient(cmap='Reds', axis=1)"
   ]
  },
  {
   "cell_type": "code",
   "execution_count": 46,
   "metadata": {
    "colab": {
     "base_uri": "https://localhost:8080/",
     "height": 353
    },
    "colab_type": "code",
    "id": "fryUG6fKouM7",
    "outputId": "fda5def9-c4e9-4f5c-fd90-4494576eb9f8"
   },
   "outputs": [
    {
     "ename": "TypeError",
     "evalue": "unsupported operand type(s) for -: 'str' and 'str'",
     "output_type": "error",
     "traceback": [
      "\u001b[0;31m---------------------------------------------------------------------------\u001b[0m",
      "\u001b[0;31mTypeError\u001b[0m                                 Traceback (most recent call last)",
      "\u001b[0;32m/opt/anaconda3/lib/python3.8/site-packages/IPython/core/formatters.py\u001b[0m in \u001b[0;36m__call__\u001b[0;34m(self, obj)\u001b[0m\n\u001b[1;32m    343\u001b[0m             \u001b[0mmethod\u001b[0m \u001b[0;34m=\u001b[0m \u001b[0mget_real_method\u001b[0m\u001b[0;34m(\u001b[0m\u001b[0mobj\u001b[0m\u001b[0;34m,\u001b[0m \u001b[0mself\u001b[0m\u001b[0;34m.\u001b[0m\u001b[0mprint_method\u001b[0m\u001b[0;34m)\u001b[0m\u001b[0;34m\u001b[0m\u001b[0;34m\u001b[0m\u001b[0m\n\u001b[1;32m    344\u001b[0m             \u001b[0;32mif\u001b[0m \u001b[0mmethod\u001b[0m \u001b[0;32mis\u001b[0m \u001b[0;32mnot\u001b[0m \u001b[0;32mNone\u001b[0m\u001b[0;34m:\u001b[0m\u001b[0;34m\u001b[0m\u001b[0;34m\u001b[0m\u001b[0m\n\u001b[0;32m--> 345\u001b[0;31m                 \u001b[0;32mreturn\u001b[0m \u001b[0mmethod\u001b[0m\u001b[0;34m(\u001b[0m\u001b[0;34m)\u001b[0m\u001b[0;34m\u001b[0m\u001b[0;34m\u001b[0m\u001b[0m\n\u001b[0m\u001b[1;32m    346\u001b[0m             \u001b[0;32mreturn\u001b[0m \u001b[0;32mNone\u001b[0m\u001b[0;34m\u001b[0m\u001b[0;34m\u001b[0m\u001b[0m\n\u001b[1;32m    347\u001b[0m         \u001b[0;32melse\u001b[0m\u001b[0;34m:\u001b[0m\u001b[0;34m\u001b[0m\u001b[0;34m\u001b[0m\u001b[0m\n",
      "\u001b[0;32m/opt/anaconda3/lib/python3.8/site-packages/pandas/io/formats/style.py\u001b[0m in \u001b[0;36m_repr_html_\u001b[0;34m(self)\u001b[0m\n\u001b[1;32m    180\u001b[0m         \u001b[0mHooks\u001b[0m \u001b[0minto\u001b[0m \u001b[0mJupyter\u001b[0m \u001b[0mnotebook\u001b[0m \u001b[0mrich\u001b[0m \u001b[0mdisplay\u001b[0m \u001b[0msystem\u001b[0m\u001b[0;34m.\u001b[0m\u001b[0;34m\u001b[0m\u001b[0;34m\u001b[0m\u001b[0m\n\u001b[1;32m    181\u001b[0m         \"\"\"\n\u001b[0;32m--> 182\u001b[0;31m         \u001b[0;32mreturn\u001b[0m \u001b[0mself\u001b[0m\u001b[0;34m.\u001b[0m\u001b[0mrender\u001b[0m\u001b[0;34m(\u001b[0m\u001b[0;34m)\u001b[0m\u001b[0;34m\u001b[0m\u001b[0;34m\u001b[0m\u001b[0m\n\u001b[0m\u001b[1;32m    183\u001b[0m \u001b[0;34m\u001b[0m\u001b[0m\n\u001b[1;32m    184\u001b[0m     @Appender(\n",
      "\u001b[0;32m/opt/anaconda3/lib/python3.8/site-packages/pandas/io/formats/style.py\u001b[0m in \u001b[0;36mrender\u001b[0;34m(self, **kwargs)\u001b[0m\n\u001b[1;32m    535\u001b[0m         \u001b[0;34m*\u001b[0m \u001b[0mtable_attributes\u001b[0m\u001b[0;34m\u001b[0m\u001b[0;34m\u001b[0m\u001b[0m\n\u001b[1;32m    536\u001b[0m         \"\"\"\n\u001b[0;32m--> 537\u001b[0;31m         \u001b[0mself\u001b[0m\u001b[0;34m.\u001b[0m\u001b[0m_compute\u001b[0m\u001b[0;34m(\u001b[0m\u001b[0;34m)\u001b[0m\u001b[0;34m\u001b[0m\u001b[0;34m\u001b[0m\u001b[0m\n\u001b[0m\u001b[1;32m    538\u001b[0m         \u001b[0;31m# TODO: namespace all the pandas keys\u001b[0m\u001b[0;34m\u001b[0m\u001b[0;34m\u001b[0m\u001b[0;34m\u001b[0m\u001b[0m\n\u001b[1;32m    539\u001b[0m         \u001b[0md\u001b[0m \u001b[0;34m=\u001b[0m \u001b[0mself\u001b[0m\u001b[0;34m.\u001b[0m\u001b[0m_translate\u001b[0m\u001b[0;34m(\u001b[0m\u001b[0;34m)\u001b[0m\u001b[0;34m\u001b[0m\u001b[0;34m\u001b[0m\u001b[0m\n",
      "\u001b[0;32m/opt/anaconda3/lib/python3.8/site-packages/pandas/io/formats/style.py\u001b[0m in \u001b[0;36m_compute\u001b[0;34m(self)\u001b[0m\n\u001b[1;32m    610\u001b[0m         \u001b[0mr\u001b[0m \u001b[0;34m=\u001b[0m \u001b[0mself\u001b[0m\u001b[0;34m\u001b[0m\u001b[0;34m\u001b[0m\u001b[0m\n\u001b[1;32m    611\u001b[0m         \u001b[0;32mfor\u001b[0m \u001b[0mfunc\u001b[0m\u001b[0;34m,\u001b[0m \u001b[0margs\u001b[0m\u001b[0;34m,\u001b[0m \u001b[0mkwargs\u001b[0m \u001b[0;32min\u001b[0m \u001b[0mself\u001b[0m\u001b[0;34m.\u001b[0m\u001b[0m_todo\u001b[0m\u001b[0;34m:\u001b[0m\u001b[0;34m\u001b[0m\u001b[0;34m\u001b[0m\u001b[0m\n\u001b[0;32m--> 612\u001b[0;31m             \u001b[0mr\u001b[0m \u001b[0;34m=\u001b[0m \u001b[0mfunc\u001b[0m\u001b[0;34m(\u001b[0m\u001b[0mself\u001b[0m\u001b[0;34m)\u001b[0m\u001b[0;34m(\u001b[0m\u001b[0;34m*\u001b[0m\u001b[0margs\u001b[0m\u001b[0;34m,\u001b[0m \u001b[0;34m**\u001b[0m\u001b[0mkwargs\u001b[0m\u001b[0;34m)\u001b[0m\u001b[0;34m\u001b[0m\u001b[0;34m\u001b[0m\u001b[0m\n\u001b[0m\u001b[1;32m    613\u001b[0m         \u001b[0;32mreturn\u001b[0m \u001b[0mr\u001b[0m\u001b[0;34m\u001b[0m\u001b[0;34m\u001b[0m\u001b[0m\n\u001b[1;32m    614\u001b[0m \u001b[0;34m\u001b[0m\u001b[0m\n",
      "\u001b[0;32m/opt/anaconda3/lib/python3.8/site-packages/pandas/io/formats/style.py\u001b[0m in \u001b[0;36m_apply\u001b[0;34m(self, func, axis, subset, **kwargs)\u001b[0m\n\u001b[1;32m    618\u001b[0m         \u001b[0mdata\u001b[0m \u001b[0;34m=\u001b[0m \u001b[0mself\u001b[0m\u001b[0;34m.\u001b[0m\u001b[0mdata\u001b[0m\u001b[0;34m.\u001b[0m\u001b[0mloc\u001b[0m\u001b[0;34m[\u001b[0m\u001b[0msubset\u001b[0m\u001b[0;34m]\u001b[0m\u001b[0;34m\u001b[0m\u001b[0;34m\u001b[0m\u001b[0m\n\u001b[1;32m    619\u001b[0m         \u001b[0;32mif\u001b[0m \u001b[0maxis\u001b[0m \u001b[0;32mis\u001b[0m \u001b[0;32mnot\u001b[0m \u001b[0;32mNone\u001b[0m\u001b[0;34m:\u001b[0m\u001b[0;34m\u001b[0m\u001b[0;34m\u001b[0m\u001b[0m\n\u001b[0;32m--> 620\u001b[0;31m             \u001b[0mresult\u001b[0m \u001b[0;34m=\u001b[0m \u001b[0mdata\u001b[0m\u001b[0;34m.\u001b[0m\u001b[0mapply\u001b[0m\u001b[0;34m(\u001b[0m\u001b[0mfunc\u001b[0m\u001b[0;34m,\u001b[0m \u001b[0maxis\u001b[0m\u001b[0;34m=\u001b[0m\u001b[0maxis\u001b[0m\u001b[0;34m,\u001b[0m \u001b[0mresult_type\u001b[0m\u001b[0;34m=\u001b[0m\u001b[0;34m\"expand\"\u001b[0m\u001b[0;34m,\u001b[0m \u001b[0;34m**\u001b[0m\u001b[0mkwargs\u001b[0m\u001b[0;34m)\u001b[0m\u001b[0;34m\u001b[0m\u001b[0;34m\u001b[0m\u001b[0m\n\u001b[0m\u001b[1;32m    621\u001b[0m             \u001b[0mresult\u001b[0m\u001b[0;34m.\u001b[0m\u001b[0mcolumns\u001b[0m \u001b[0;34m=\u001b[0m \u001b[0mdata\u001b[0m\u001b[0;34m.\u001b[0m\u001b[0mcolumns\u001b[0m\u001b[0;34m\u001b[0m\u001b[0;34m\u001b[0m\u001b[0m\n\u001b[1;32m    622\u001b[0m         \u001b[0;32melse\u001b[0m\u001b[0;34m:\u001b[0m\u001b[0;34m\u001b[0m\u001b[0;34m\u001b[0m\u001b[0m\n",
      "\u001b[0;32m/opt/anaconda3/lib/python3.8/site-packages/pandas/core/frame.py\u001b[0m in \u001b[0;36mapply\u001b[0;34m(self, func, axis, raw, result_type, args, **kwds)\u001b[0m\n\u001b[1;32m   6876\u001b[0m             \u001b[0mkwds\u001b[0m\u001b[0;34m=\u001b[0m\u001b[0mkwds\u001b[0m\u001b[0;34m,\u001b[0m\u001b[0;34m\u001b[0m\u001b[0;34m\u001b[0m\u001b[0m\n\u001b[1;32m   6877\u001b[0m         )\n\u001b[0;32m-> 6878\u001b[0;31m         \u001b[0;32mreturn\u001b[0m \u001b[0mop\u001b[0m\u001b[0;34m.\u001b[0m\u001b[0mget_result\u001b[0m\u001b[0;34m(\u001b[0m\u001b[0;34m)\u001b[0m\u001b[0;34m\u001b[0m\u001b[0;34m\u001b[0m\u001b[0m\n\u001b[0m\u001b[1;32m   6879\u001b[0m \u001b[0;34m\u001b[0m\u001b[0m\n\u001b[1;32m   6880\u001b[0m     \u001b[0;32mdef\u001b[0m \u001b[0mapplymap\u001b[0m\u001b[0;34m(\u001b[0m\u001b[0mself\u001b[0m\u001b[0;34m,\u001b[0m \u001b[0mfunc\u001b[0m\u001b[0;34m)\u001b[0m \u001b[0;34m->\u001b[0m \u001b[0;34m\"DataFrame\"\u001b[0m\u001b[0;34m:\u001b[0m\u001b[0;34m\u001b[0m\u001b[0;34m\u001b[0m\u001b[0m\n",
      "\u001b[0;32m/opt/anaconda3/lib/python3.8/site-packages/pandas/core/apply.py\u001b[0m in \u001b[0;36mget_result\u001b[0;34m(self)\u001b[0m\n\u001b[1;32m    184\u001b[0m             \u001b[0;32mreturn\u001b[0m \u001b[0mself\u001b[0m\u001b[0;34m.\u001b[0m\u001b[0mapply_raw\u001b[0m\u001b[0;34m(\u001b[0m\u001b[0;34m)\u001b[0m\u001b[0;34m\u001b[0m\u001b[0;34m\u001b[0m\u001b[0m\n\u001b[1;32m    185\u001b[0m \u001b[0;34m\u001b[0m\u001b[0m\n\u001b[0;32m--> 186\u001b[0;31m         \u001b[0;32mreturn\u001b[0m \u001b[0mself\u001b[0m\u001b[0;34m.\u001b[0m\u001b[0mapply_standard\u001b[0m\u001b[0;34m(\u001b[0m\u001b[0;34m)\u001b[0m\u001b[0;34m\u001b[0m\u001b[0;34m\u001b[0m\u001b[0m\n\u001b[0m\u001b[1;32m    187\u001b[0m \u001b[0;34m\u001b[0m\u001b[0m\n\u001b[1;32m    188\u001b[0m     \u001b[0;32mdef\u001b[0m \u001b[0mapply_empty_result\u001b[0m\u001b[0;34m(\u001b[0m\u001b[0mself\u001b[0m\u001b[0;34m)\u001b[0m\u001b[0;34m:\u001b[0m\u001b[0;34m\u001b[0m\u001b[0;34m\u001b[0m\u001b[0m\n",
      "\u001b[0;32m/opt/anaconda3/lib/python3.8/site-packages/pandas/core/apply.py\u001b[0m in \u001b[0;36mapply_standard\u001b[0;34m(self)\u001b[0m\n\u001b[1;32m    311\u001b[0m \u001b[0;34m\u001b[0m\u001b[0m\n\u001b[1;32m    312\u001b[0m         \u001b[0;31m# compute the result using the series generator\u001b[0m\u001b[0;34m\u001b[0m\u001b[0;34m\u001b[0m\u001b[0;34m\u001b[0m\u001b[0m\n\u001b[0;32m--> 313\u001b[0;31m         \u001b[0mresults\u001b[0m\u001b[0;34m,\u001b[0m \u001b[0mres_index\u001b[0m \u001b[0;34m=\u001b[0m \u001b[0mself\u001b[0m\u001b[0;34m.\u001b[0m\u001b[0mapply_series_generator\u001b[0m\u001b[0;34m(\u001b[0m\u001b[0;34m)\u001b[0m\u001b[0;34m\u001b[0m\u001b[0;34m\u001b[0m\u001b[0m\n\u001b[0m\u001b[1;32m    314\u001b[0m \u001b[0;34m\u001b[0m\u001b[0m\n\u001b[1;32m    315\u001b[0m         \u001b[0;31m# wrap results\u001b[0m\u001b[0;34m\u001b[0m\u001b[0;34m\u001b[0m\u001b[0;34m\u001b[0m\u001b[0m\n",
      "\u001b[0;32m/opt/anaconda3/lib/python3.8/site-packages/pandas/core/apply.py\u001b[0m in \u001b[0;36mapply_series_generator\u001b[0;34m(self)\u001b[0m\n\u001b[1;32m    339\u001b[0m         \u001b[0;32melse\u001b[0m\u001b[0;34m:\u001b[0m\u001b[0;34m\u001b[0m\u001b[0;34m\u001b[0m\u001b[0m\n\u001b[1;32m    340\u001b[0m             \u001b[0;32mfor\u001b[0m \u001b[0mi\u001b[0m\u001b[0;34m,\u001b[0m \u001b[0mv\u001b[0m \u001b[0;32min\u001b[0m \u001b[0menumerate\u001b[0m\u001b[0;34m(\u001b[0m\u001b[0mseries_gen\u001b[0m\u001b[0;34m)\u001b[0m\u001b[0;34m:\u001b[0m\u001b[0;34m\u001b[0m\u001b[0;34m\u001b[0m\u001b[0m\n\u001b[0;32m--> 341\u001b[0;31m                 \u001b[0mresults\u001b[0m\u001b[0;34m[\u001b[0m\u001b[0mi\u001b[0m\u001b[0;34m]\u001b[0m \u001b[0;34m=\u001b[0m \u001b[0mself\u001b[0m\u001b[0;34m.\u001b[0m\u001b[0mf\u001b[0m\u001b[0;34m(\u001b[0m\u001b[0mv\u001b[0m\u001b[0;34m)\u001b[0m\u001b[0;34m\u001b[0m\u001b[0;34m\u001b[0m\u001b[0m\n\u001b[0m\u001b[1;32m    342\u001b[0m                 \u001b[0mkeys\u001b[0m\u001b[0;34m.\u001b[0m\u001b[0mappend\u001b[0m\u001b[0;34m(\u001b[0m\u001b[0mv\u001b[0m\u001b[0;34m.\u001b[0m\u001b[0mname\u001b[0m\u001b[0;34m)\u001b[0m\u001b[0;34m\u001b[0m\u001b[0;34m\u001b[0m\u001b[0m\n\u001b[1;32m    343\u001b[0m \u001b[0;34m\u001b[0m\u001b[0m\n",
      "\u001b[0;32m/opt/anaconda3/lib/python3.8/site-packages/pandas/core/apply.py\u001b[0m in \u001b[0;36mf\u001b[0;34m(x)\u001b[0m\n\u001b[1;32m    111\u001b[0m \u001b[0;34m\u001b[0m\u001b[0m\n\u001b[1;32m    112\u001b[0m             \u001b[0;32mdef\u001b[0m \u001b[0mf\u001b[0m\u001b[0;34m(\u001b[0m\u001b[0mx\u001b[0m\u001b[0;34m)\u001b[0m\u001b[0;34m:\u001b[0m\u001b[0;34m\u001b[0m\u001b[0;34m\u001b[0m\u001b[0m\n\u001b[0;32m--> 113\u001b[0;31m                 \u001b[0;32mreturn\u001b[0m \u001b[0mfunc\u001b[0m\u001b[0;34m(\u001b[0m\u001b[0mx\u001b[0m\u001b[0;34m,\u001b[0m \u001b[0;34m*\u001b[0m\u001b[0margs\u001b[0m\u001b[0;34m,\u001b[0m \u001b[0;34m**\u001b[0m\u001b[0mkwds\u001b[0m\u001b[0;34m)\u001b[0m\u001b[0;34m\u001b[0m\u001b[0;34m\u001b[0m\u001b[0m\n\u001b[0m\u001b[1;32m    114\u001b[0m \u001b[0;34m\u001b[0m\u001b[0m\n\u001b[1;32m    115\u001b[0m         \u001b[0;32melse\u001b[0m\u001b[0;34m:\u001b[0m\u001b[0;34m\u001b[0m\u001b[0;34m\u001b[0m\u001b[0m\n",
      "\u001b[0;32m/opt/anaconda3/lib/python3.8/site-packages/pandas/io/formats/style.py\u001b[0m in \u001b[0;36m_background_gradient\u001b[0;34m(s, cmap, low, high, text_color_threshold, vmin, vmax)\u001b[0m\n\u001b[1;32m   1089\u001b[0m             \u001b[0msmin\u001b[0m \u001b[0;34m=\u001b[0m \u001b[0mnp\u001b[0m\u001b[0;34m.\u001b[0m\u001b[0mnanmin\u001b[0m\u001b[0;34m(\u001b[0m\u001b[0ms\u001b[0m\u001b[0;34m.\u001b[0m\u001b[0mto_numpy\u001b[0m\u001b[0;34m(\u001b[0m\u001b[0;34m)\u001b[0m\u001b[0;34m)\u001b[0m \u001b[0;32mif\u001b[0m \u001b[0mvmin\u001b[0m \u001b[0;32mis\u001b[0m \u001b[0;32mNone\u001b[0m \u001b[0;32melse\u001b[0m \u001b[0mvmin\u001b[0m\u001b[0;34m\u001b[0m\u001b[0;34m\u001b[0m\u001b[0m\n\u001b[1;32m   1090\u001b[0m             \u001b[0msmax\u001b[0m \u001b[0;34m=\u001b[0m \u001b[0mnp\u001b[0m\u001b[0;34m.\u001b[0m\u001b[0mnanmax\u001b[0m\u001b[0;34m(\u001b[0m\u001b[0ms\u001b[0m\u001b[0;34m.\u001b[0m\u001b[0mto_numpy\u001b[0m\u001b[0;34m(\u001b[0m\u001b[0;34m)\u001b[0m\u001b[0;34m)\u001b[0m \u001b[0;32mif\u001b[0m \u001b[0mvmax\u001b[0m \u001b[0;32mis\u001b[0m \u001b[0;32mNone\u001b[0m \u001b[0;32melse\u001b[0m \u001b[0mvmax\u001b[0m\u001b[0;34m\u001b[0m\u001b[0;34m\u001b[0m\u001b[0m\n\u001b[0;32m-> 1091\u001b[0;31m             \u001b[0mrng\u001b[0m \u001b[0;34m=\u001b[0m \u001b[0msmax\u001b[0m \u001b[0;34m-\u001b[0m \u001b[0msmin\u001b[0m\u001b[0;34m\u001b[0m\u001b[0;34m\u001b[0m\u001b[0m\n\u001b[0m\u001b[1;32m   1092\u001b[0m             \u001b[0;31m# extend lower / upper bounds, compresses color range\u001b[0m\u001b[0;34m\u001b[0m\u001b[0;34m\u001b[0m\u001b[0;34m\u001b[0m\u001b[0m\n\u001b[1;32m   1093\u001b[0m             \u001b[0mnorm\u001b[0m \u001b[0;34m=\u001b[0m \u001b[0mcolors\u001b[0m\u001b[0;34m.\u001b[0m\u001b[0mNormalize\u001b[0m\u001b[0;34m(\u001b[0m\u001b[0msmin\u001b[0m \u001b[0;34m-\u001b[0m \u001b[0;34m(\u001b[0m\u001b[0mrng\u001b[0m \u001b[0;34m*\u001b[0m \u001b[0mlow\u001b[0m\u001b[0;34m)\u001b[0m\u001b[0;34m,\u001b[0m \u001b[0msmax\u001b[0m \u001b[0;34m+\u001b[0m \u001b[0;34m(\u001b[0m\u001b[0mrng\u001b[0m \u001b[0;34m*\u001b[0m \u001b[0mhigh\u001b[0m\u001b[0;34m)\u001b[0m\u001b[0;34m)\u001b[0m\u001b[0;34m\u001b[0m\u001b[0;34m\u001b[0m\u001b[0m\n",
      "\u001b[0;31mTypeError\u001b[0m: unsupported operand type(s) for -: 'str' and 'str'"
     ]
    },
    {
     "data": {
      "text/plain": [
       "<pandas.io.formats.style.Styler at 0x7fe16d698c40>"
      ]
     },
     "execution_count": 46,
     "metadata": {},
     "output_type": "execute_result"
    }
   ],
   "source": [
    "df.style.background_gradient(cmap='Reds', subset=['mh', 'tn', 'dl'])"
   ]
  },
  {
   "cell_type": "code",
   "execution_count": 47,
   "metadata": {
    "colab": {
     "base_uri": "https://localhost:8080/",
     "height": 353
    },
    "colab_type": "code",
    "id": "dNS3GqNCpCQB",
    "outputId": "cd2d3bd8-efa4-4eb8-9d53-3742c0a0210f"
   },
   "outputs": [
    {
     "data": {
      "text/html": [
       "<style  type=\"text/css\" >\n",
       "</style><table id=\"T_3579c244_a41d_11eb_b537_acde48001122\" ><thead>    <tr>        <th class=\"blank level0\" ></th>        <th class=\"col_heading level0 col0\" >an</th>        <th class=\"col_heading level0 col1\" >ap</th>        <th class=\"col_heading level0 col2\" >ar</th>        <th class=\"col_heading level0 col3\" >as</th>        <th class=\"col_heading level0 col4\" >br</th>        <th class=\"col_heading level0 col5\" >ch</th>        <th class=\"col_heading level0 col6\" >ct</th>        <th class=\"col_heading level0 col7\" >dateymd</th>        <th class=\"col_heading level0 col8\" >dl</th>        <th class=\"col_heading level0 col9\" >dn</th>        <th class=\"col_heading level0 col10\" >ga</th>        <th class=\"col_heading level0 col11\" >gj</th>        <th class=\"col_heading level0 col12\" >hp</th>        <th class=\"col_heading level0 col13\" >hr</th>        <th class=\"col_heading level0 col14\" >jh</th>        <th class=\"col_heading level0 col15\" >jk</th>        <th class=\"col_heading level0 col16\" >ka</th>        <th class=\"col_heading level0 col17\" >kl</th>        <th class=\"col_heading level0 col18\" >la</th>        <th class=\"col_heading level0 col19\" >mh</th>        <th class=\"col_heading level0 col20\" >ml</th>        <th class=\"col_heading level0 col21\" >mn</th>        <th class=\"col_heading level0 col22\" >mp</th>        <th class=\"col_heading level0 col23\" >mz</th>        <th class=\"col_heading level0 col24\" >nl</th>        <th class=\"col_heading level0 col25\" >or</th>        <th class=\"col_heading level0 col26\" >pb</th>        <th class=\"col_heading level0 col27\" >py</th>        <th class=\"col_heading level0 col28\" >rj</th>        <th class=\"col_heading level0 col29\" >sk</th>        <th class=\"col_heading level0 col30\" >tg</th>        <th class=\"col_heading level0 col31\" >tn</th>        <th class=\"col_heading level0 col32\" >tr</th>        <th class=\"col_heading level0 col33\" >up</th>        <th class=\"col_heading level0 col34\" >ut</th>        <th class=\"col_heading level0 col35\" >wb</th>    </tr>    <tr>        <th class=\"index_name level0\" >date</th>        <th class=\"blank\" ></th>        <th class=\"blank\" ></th>        <th class=\"blank\" ></th>        <th class=\"blank\" ></th>        <th class=\"blank\" ></th>        <th class=\"blank\" ></th>        <th class=\"blank\" ></th>        <th class=\"blank\" ></th>        <th class=\"blank\" ></th>        <th class=\"blank\" ></th>        <th class=\"blank\" ></th>        <th class=\"blank\" ></th>        <th class=\"blank\" ></th>        <th class=\"blank\" ></th>        <th class=\"blank\" ></th>        <th class=\"blank\" ></th>        <th class=\"blank\" ></th>        <th class=\"blank\" ></th>        <th class=\"blank\" ></th>        <th class=\"blank\" ></th>        <th class=\"blank\" ></th>        <th class=\"blank\" ></th>        <th class=\"blank\" ></th>        <th class=\"blank\" ></th>        <th class=\"blank\" ></th>        <th class=\"blank\" ></th>        <th class=\"blank\" ></th>        <th class=\"blank\" ></th>        <th class=\"blank\" ></th>        <th class=\"blank\" ></th>        <th class=\"blank\" ></th>        <th class=\"blank\" ></th>        <th class=\"blank\" ></th>        <th class=\"blank\" ></th>        <th class=\"blank\" ></th>        <th class=\"blank\" ></th>    </tr></thead><tbody>\n",
       "                <tr>\n",
       "                        <th id=\"T_3579c244_a41d_11eb_b537_acde48001122level0_row0\" class=\"row_heading level0 row0\" >2021-04-16 00:00:00</th>\n",
       "                        <td id=\"T_3579c244_a41d_11eb_b537_acde48001122row0_col0\" class=\"data row0 col0\" >27</td>\n",
       "                        <td id=\"T_3579c244_a41d_11eb_b537_acde48001122row0_col1\" class=\"data row0 col1\" >6096</td>\n",
       "                        <td id=\"T_3579c244_a41d_11eb_b537_acde48001122row0_col2\" class=\"data row0 col2\" >28</td>\n",
       "                        <td id=\"T_3579c244_a41d_11eb_b537_acde48001122row0_col3\" class=\"data row0 col3\" >573</td>\n",
       "                        <td id=\"T_3579c244_a41d_11eb_b537_acde48001122row0_col4\" class=\"data row0 col4\" >6253</td>\n",
       "                        <td id=\"T_3579c244_a41d_11eb_b537_acde48001122row0_col5\" class=\"data row0 col5\" >481</td>\n",
       "                        <td id=\"T_3579c244_a41d_11eb_b537_acde48001122row0_col6\" class=\"data row0 col6\" >14912</td>\n",
       "                        <td id=\"T_3579c244_a41d_11eb_b537_acde48001122row0_col7\" class=\"data row0 col7\" >2021-04-16</td>\n",
       "                        <td id=\"T_3579c244_a41d_11eb_b537_acde48001122row0_col8\" class=\"data row0 col8\" >19486</td>\n",
       "                        <td id=\"T_3579c244_a41d_11eb_b537_acde48001122row0_col9\" class=\"data row0 col9\" >138</td>\n",
       "                        <td id=\"T_3579c244_a41d_11eb_b537_acde48001122row0_col10\" class=\"data row0 col10\" >927</td>\n",
       "                        <td id=\"T_3579c244_a41d_11eb_b537_acde48001122row0_col11\" class=\"data row0 col11\" >8920</td>\n",
       "                        <td id=\"T_3579c244_a41d_11eb_b537_acde48001122row0_col12\" class=\"data row0 col12\" >842</td>\n",
       "                        <td id=\"T_3579c244_a41d_11eb_b537_acde48001122row0_col13\" class=\"data row0 col13\" >6277</td>\n",
       "                        <td id=\"T_3579c244_a41d_11eb_b537_acde48001122row0_col14\" class=\"data row0 col14\" >3843</td>\n",
       "                        <td id=\"T_3579c244_a41d_11eb_b537_acde48001122row0_col15\" class=\"data row0 col15\" >1144</td>\n",
       "                        <td id=\"T_3579c244_a41d_11eb_b537_acde48001122row0_col16\" class=\"data row0 col16\" >14859</td>\n",
       "                        <td id=\"T_3579c244_a41d_11eb_b537_acde48001122row0_col17\" class=\"data row0 col17\" >10031</td>\n",
       "                        <td id=\"T_3579c244_a41d_11eb_b537_acde48001122row0_col18\" class=\"data row0 col18\" >245</td>\n",
       "                        <td id=\"T_3579c244_a41d_11eb_b537_acde48001122row0_col19\" class=\"data row0 col19\" >63729</td>\n",
       "                        <td id=\"T_3579c244_a41d_11eb_b537_acde48001122row0_col20\" class=\"data row0 col20\" >121</td>\n",
       "                        <td id=\"T_3579c244_a41d_11eb_b537_acde48001122row0_col21\" class=\"data row0 col21\" >31</td>\n",
       "                        <td id=\"T_3579c244_a41d_11eb_b537_acde48001122row0_col22\" class=\"data row0 col22\" >11045</td>\n",
       "                        <td id=\"T_3579c244_a41d_11eb_b537_acde48001122row0_col23\" class=\"data row0 col23\" >25</td>\n",
       "                        <td id=\"T_3579c244_a41d_11eb_b537_acde48001122row0_col24\" class=\"data row0 col24\" >22</td>\n",
       "                        <td id=\"T_3579c244_a41d_11eb_b537_acde48001122row0_col25\" class=\"data row0 col25\" >3108</td>\n",
       "                        <td id=\"T_3579c244_a41d_11eb_b537_acde48001122row0_col26\" class=\"data row0 col26\" >3891</td>\n",
       "                        <td id=\"T_3579c244_a41d_11eb_b537_acde48001122row0_col27\" class=\"data row0 col27\" >531</td>\n",
       "                        <td id=\"T_3579c244_a41d_11eb_b537_acde48001122row0_col28\" class=\"data row0 col28\" >7359</td>\n",
       "                        <td id=\"T_3579c244_a41d_11eb_b537_acde48001122row0_col29\" class=\"data row0 col29\" >22</td>\n",
       "                        <td id=\"T_3579c244_a41d_11eb_b537_acde48001122row0_col30\" class=\"data row0 col30\" >3840</td>\n",
       "                        <td id=\"T_3579c244_a41d_11eb_b537_acde48001122row0_col31\" class=\"data row0 col31\" >8449</td>\n",
       "                        <td id=\"T_3579c244_a41d_11eb_b537_acde48001122row0_col32\" class=\"data row0 col32\" >31</td>\n",
       "                        <td id=\"T_3579c244_a41d_11eb_b537_acde48001122row0_col33\" class=\"data row0 col33\" >27360</td>\n",
       "                        <td id=\"T_3579c244_a41d_11eb_b537_acde48001122row0_col34\" class=\"data row0 col34\" >2402</td>\n",
       "                        <td id=\"T_3579c244_a41d_11eb_b537_acde48001122row0_col35\" class=\"data row0 col35\" >6910</td>\n",
       "            </tr>\n",
       "            <tr>\n",
       "                        <th id=\"T_3579c244_a41d_11eb_b537_acde48001122level0_row1\" class=\"row_heading level0 row1\" >2021-04-17 00:00:00</th>\n",
       "                        <td id=\"T_3579c244_a41d_11eb_b537_acde48001122row1_col0\" class=\"data row1 col0\" >42</td>\n",
       "                        <td id=\"T_3579c244_a41d_11eb_b537_acde48001122row1_col1\" class=\"data row1 col1\" >7224</td>\n",
       "                        <td id=\"T_3579c244_a41d_11eb_b537_acde48001122row1_col2\" class=\"data row1 col2\" >19</td>\n",
       "                        <td id=\"T_3579c244_a41d_11eb_b537_acde48001122row1_col3\" class=\"data row1 col3\" >876</td>\n",
       "                        <td id=\"T_3579c244_a41d_11eb_b537_acde48001122row1_col4\" class=\"data row1 col4\" >7870</td>\n",
       "                        <td id=\"T_3579c244_a41d_11eb_b537_acde48001122row1_col5\" class=\"data row1 col5\" >431</td>\n",
       "                        <td id=\"T_3579c244_a41d_11eb_b537_acde48001122row1_col6\" class=\"data row1 col6\" >16083</td>\n",
       "                        <td id=\"T_3579c244_a41d_11eb_b537_acde48001122row1_col7\" class=\"data row1 col7\" >2021-04-17</td>\n",
       "                        <td id=\"T_3579c244_a41d_11eb_b537_acde48001122row1_col8\" class=\"data row1 col8\" >24375</td>\n",
       "                        <td id=\"T_3579c244_a41d_11eb_b537_acde48001122row1_col9\" class=\"data row1 col9\" >108</td>\n",
       "                        <td id=\"T_3579c244_a41d_11eb_b537_acde48001122row1_col10\" class=\"data row1 col10\" >762</td>\n",
       "                        <td id=\"T_3579c244_a41d_11eb_b537_acde48001122row1_col11\" class=\"data row1 col11\" >9541</td>\n",
       "                        <td id=\"T_3579c244_a41d_11eb_b537_acde48001122row1_col12\" class=\"data row1 col12\" >1392</td>\n",
       "                        <td id=\"T_3579c244_a41d_11eb_b537_acde48001122row1_col13\" class=\"data row1 col13\" >7717</td>\n",
       "                        <td id=\"T_3579c244_a41d_11eb_b537_acde48001122row1_col14\" class=\"data row1 col14\" >3838</td>\n",
       "                        <td id=\"T_3579c244_a41d_11eb_b537_acde48001122row1_col15\" class=\"data row1 col15\" >1145</td>\n",
       "                        <td id=\"T_3579c244_a41d_11eb_b537_acde48001122row1_col16\" class=\"data row1 col16\" >17489</td>\n",
       "                        <td id=\"T_3579c244_a41d_11eb_b537_acde48001122row1_col17\" class=\"data row1 col17\" >13835</td>\n",
       "                        <td id=\"T_3579c244_a41d_11eb_b537_acde48001122row1_col18\" class=\"data row1 col18\" >362</td>\n",
       "                        <td id=\"T_3579c244_a41d_11eb_b537_acde48001122row1_col19\" class=\"data row1 col19\" >67123</td>\n",
       "                        <td id=\"T_3579c244_a41d_11eb_b537_acde48001122row1_col20\" class=\"data row1 col20\" >95</td>\n",
       "                        <td id=\"T_3579c244_a41d_11eb_b537_acde48001122row1_col21\" class=\"data row1 col21\" >39</td>\n",
       "                        <td id=\"T_3579c244_a41d_11eb_b537_acde48001122row1_col22\" class=\"data row1 col22\" >11269</td>\n",
       "                        <td id=\"T_3579c244_a41d_11eb_b537_acde48001122row1_col23\" class=\"data row1 col23\" >62</td>\n",
       "                        <td id=\"T_3579c244_a41d_11eb_b537_acde48001122row1_col24\" class=\"data row1 col24\" >32</td>\n",
       "                        <td id=\"T_3579c244_a41d_11eb_b537_acde48001122row1_col25\" class=\"data row1 col25\" >3144</td>\n",
       "                        <td id=\"T_3579c244_a41d_11eb_b537_acde48001122row1_col26\" class=\"data row1 col26\" >4431</td>\n",
       "                        <td id=\"T_3579c244_a41d_11eb_b537_acde48001122row1_col27\" class=\"data row1 col27\" >715</td>\n",
       "                        <td id=\"T_3579c244_a41d_11eb_b537_acde48001122row1_col28\" class=\"data row1 col28\" >9046</td>\n",
       "                        <td id=\"T_3579c244_a41d_11eb_b537_acde48001122row1_col29\" class=\"data row1 col29\" >72</td>\n",
       "                        <td id=\"T_3579c244_a41d_11eb_b537_acde48001122row1_col30\" class=\"data row1 col30\" >4446</td>\n",
       "                        <td id=\"T_3579c244_a41d_11eb_b537_acde48001122row1_col31\" class=\"data row1 col31\" >9344</td>\n",
       "                        <td id=\"T_3579c244_a41d_11eb_b537_acde48001122row1_col32\" class=\"data row1 col32\" >58</td>\n",
       "                        <td id=\"T_3579c244_a41d_11eb_b537_acde48001122row1_col33\" class=\"data row1 col33\" >27334</td>\n",
       "                        <td id=\"T_3579c244_a41d_11eb_b537_acde48001122row1_col34\" class=\"data row1 col34\" >2757</td>\n",
       "                        <td id=\"T_3579c244_a41d_11eb_b537_acde48001122row1_col35\" class=\"data row1 col35\" >7713</td>\n",
       "            </tr>\n",
       "            <tr>\n",
       "                        <th id=\"T_3579c244_a41d_11eb_b537_acde48001122level0_row2\" class=\"row_heading level0 row2\" >2021-04-18 00:00:00</th>\n",
       "                        <td id=\"T_3579c244_a41d_11eb_b537_acde48001122row2_col0\" class=\"data row2 col0\" >59</td>\n",
       "                        <td id=\"T_3579c244_a41d_11eb_b537_acde48001122row2_col1\" class=\"data row2 col1\" >6582</td>\n",
       "                        <td id=\"T_3579c244_a41d_11eb_b537_acde48001122row2_col2\" class=\"data row2 col2\" >20</td>\n",
       "                        <td id=\"T_3579c244_a41d_11eb_b537_acde48001122row2_col3\" class=\"data row2 col3\" >639</td>\n",
       "                        <td id=\"T_3579c244_a41d_11eb_b537_acde48001122row2_col4\" class=\"data row2 col4\" >8690</td>\n",
       "                        <td id=\"T_3579c244_a41d_11eb_b537_acde48001122row2_col5\" class=\"data row2 col5\" >625</td>\n",
       "                        <td id=\"T_3579c244_a41d_11eb_b537_acde48001122row2_col6\" class=\"data row2 col6\" >12345</td>\n",
       "                        <td id=\"T_3579c244_a41d_11eb_b537_acde48001122row2_col7\" class=\"data row2 col7\" >2021-04-18</td>\n",
       "                        <td id=\"T_3579c244_a41d_11eb_b537_acde48001122row2_col8\" class=\"data row2 col8\" >25462</td>\n",
       "                        <td id=\"T_3579c244_a41d_11eb_b537_acde48001122row2_col9\" class=\"data row2 col9\" >184</td>\n",
       "                        <td id=\"T_3579c244_a41d_11eb_b537_acde48001122row2_col10\" class=\"data row2 col10\" >951</td>\n",
       "                        <td id=\"T_3579c244_a41d_11eb_b537_acde48001122row2_col11\" class=\"data row2 col11\" >10340</td>\n",
       "                        <td id=\"T_3579c244_a41d_11eb_b537_acde48001122row2_col12\" class=\"data row2 col12\" >788</td>\n",
       "                        <td id=\"T_3579c244_a41d_11eb_b537_acde48001122row2_col13\" class=\"data row2 col13\" >7177</td>\n",
       "                        <td id=\"T_3579c244_a41d_11eb_b537_acde48001122row2_col14\" class=\"data row2 col14\" >3992</td>\n",
       "                        <td id=\"T_3579c244_a41d_11eb_b537_acde48001122row2_col15\" class=\"data row2 col15\" >1526</td>\n",
       "                        <td id=\"T_3579c244_a41d_11eb_b537_acde48001122row2_col16\" class=\"data row2 col16\" >19067</td>\n",
       "                        <td id=\"T_3579c244_a41d_11eb_b537_acde48001122row2_col17\" class=\"data row2 col17\" >18257</td>\n",
       "                        <td id=\"T_3579c244_a41d_11eb_b537_acde48001122row2_col18\" class=\"data row2 col18\" >60</td>\n",
       "                        <td id=\"T_3579c244_a41d_11eb_b537_acde48001122row2_col19\" class=\"data row2 col19\" >68631</td>\n",
       "                        <td id=\"T_3579c244_a41d_11eb_b537_acde48001122row2_col20\" class=\"data row2 col20\" >71</td>\n",
       "                        <td id=\"T_3579c244_a41d_11eb_b537_acde48001122row2_col21\" class=\"data row2 col21\" >72</td>\n",
       "                        <td id=\"T_3579c244_a41d_11eb_b537_acde48001122row2_col22\" class=\"data row2 col22\" >12248</td>\n",
       "                        <td id=\"T_3579c244_a41d_11eb_b537_acde48001122row2_col23\" class=\"data row2 col23\" >50</td>\n",
       "                        <td id=\"T_3579c244_a41d_11eb_b537_acde48001122row2_col24\" class=\"data row2 col24\" >19</td>\n",
       "                        <td id=\"T_3579c244_a41d_11eb_b537_acde48001122row2_col25\" class=\"data row2 col25\" >3664</td>\n",
       "                        <td id=\"T_3579c244_a41d_11eb_b537_acde48001122row2_col26\" class=\"data row2 col26\" >4900</td>\n",
       "                        <td id=\"T_3579c244_a41d_11eb_b537_acde48001122row2_col27\" class=\"data row2 col27\" >663</td>\n",
       "                        <td id=\"T_3579c244_a41d_11eb_b537_acde48001122row2_col28\" class=\"data row2 col28\" >10262</td>\n",
       "                        <td id=\"T_3579c244_a41d_11eb_b537_acde48001122row2_col29\" class=\"data row2 col29\" >105</td>\n",
       "                        <td id=\"T_3579c244_a41d_11eb_b537_acde48001122row2_col30\" class=\"data row2 col30\" >5093</td>\n",
       "                        <td id=\"T_3579c244_a41d_11eb_b537_acde48001122row2_col31\" class=\"data row2 col31\" >10723</td>\n",
       "                        <td id=\"T_3579c244_a41d_11eb_b537_acde48001122row2_col32\" class=\"data row2 col32\" >69</td>\n",
       "                        <td id=\"T_3579c244_a41d_11eb_b537_acde48001122row2_col33\" class=\"data row2 col33\" >30566</td>\n",
       "                        <td id=\"T_3579c244_a41d_11eb_b537_acde48001122row2_col34\" class=\"data row2 col34\" >2630</td>\n",
       "                        <td id=\"T_3579c244_a41d_11eb_b537_acde48001122row2_col35\" class=\"data row2 col35\" >8419</td>\n",
       "            </tr>\n",
       "            <tr>\n",
       "                        <th id=\"T_3579c244_a41d_11eb_b537_acde48001122level0_row3\" class=\"row_heading level0 row3\" >2021-04-19 00:00:00</th>\n",
       "                        <td id=\"T_3579c244_a41d_11eb_b537_acde48001122row3_col0\" class=\"data row3 col0\" >31</td>\n",
       "                        <td id=\"T_3579c244_a41d_11eb_b537_acde48001122row3_col1\" class=\"data row3 col1\" >5963</td>\n",
       "                        <td id=\"T_3579c244_a41d_11eb_b537_acde48001122row3_col2\" class=\"data row3 col2\" >65</td>\n",
       "                        <td id=\"T_3579c244_a41d_11eb_b537_acde48001122row3_col3\" class=\"data row3 col3\" >1367</td>\n",
       "                        <td id=\"T_3579c244_a41d_11eb_b537_acde48001122row3_col4\" class=\"data row3 col4\" >7487</td>\n",
       "                        <td id=\"T_3579c244_a41d_11eb_b537_acde48001122row3_col5\" class=\"data row3 col5\" >612</td>\n",
       "                        <td id=\"T_3579c244_a41d_11eb_b537_acde48001122row3_col6\" class=\"data row3 col6\" >13834</td>\n",
       "                        <td id=\"T_3579c244_a41d_11eb_b537_acde48001122row3_col7\" class=\"data row3 col7\" >2021-04-19</td>\n",
       "                        <td id=\"T_3579c244_a41d_11eb_b537_acde48001122row3_col8\" class=\"data row3 col8\" >23686</td>\n",
       "                        <td id=\"T_3579c244_a41d_11eb_b537_acde48001122row3_col9\" class=\"data row3 col9\" >121</td>\n",
       "                        <td id=\"T_3579c244_a41d_11eb_b537_acde48001122row3_col10\" class=\"data row3 col10\" >940</td>\n",
       "                        <td id=\"T_3579c244_a41d_11eb_b537_acde48001122row3_col11\" class=\"data row3 col11\" >11403</td>\n",
       "                        <td id=\"T_3579c244_a41d_11eb_b537_acde48001122row3_col12\" class=\"data row3 col12\" >1695</td>\n",
       "                        <td id=\"T_3579c244_a41d_11eb_b537_acde48001122row3_col13\" class=\"data row3 col13\" >6842</td>\n",
       "                        <td id=\"T_3579c244_a41d_11eb_b537_acde48001122row3_col14\" class=\"data row3 col14\" >4290</td>\n",
       "                        <td id=\"T_3579c244_a41d_11eb_b537_acde48001122row3_col15\" class=\"data row3 col15\" >1516</td>\n",
       "                        <td id=\"T_3579c244_a41d_11eb_b537_acde48001122row3_col16\" class=\"data row3 col16\" >15785</td>\n",
       "                        <td id=\"T_3579c244_a41d_11eb_b537_acde48001122row3_col17\" class=\"data row3 col17\" >13644</td>\n",
       "                        <td id=\"T_3579c244_a41d_11eb_b537_acde48001122row3_col18\" class=\"data row3 col18\" >175</td>\n",
       "                        <td id=\"T_3579c244_a41d_11eb_b537_acde48001122row3_col19\" class=\"data row3 col19\" >58924</td>\n",
       "                        <td id=\"T_3579c244_a41d_11eb_b537_acde48001122row3_col20\" class=\"data row3 col20\" >110</td>\n",
       "                        <td id=\"T_3579c244_a41d_11eb_b537_acde48001122row3_col21\" class=\"data row3 col21\" >54</td>\n",
       "                        <td id=\"T_3579c244_a41d_11eb_b537_acde48001122row3_col22\" class=\"data row3 col22\" >12897</td>\n",
       "                        <td id=\"T_3579c244_a41d_11eb_b537_acde48001122row3_col23\" class=\"data row3 col23\" >45</td>\n",
       "                        <td id=\"T_3579c244_a41d_11eb_b537_acde48001122row3_col24\" class=\"data row3 col24\" >13</td>\n",
       "                        <td id=\"T_3579c244_a41d_11eb_b537_acde48001122row3_col25\" class=\"data row3 col25\" >4445</td>\n",
       "                        <td id=\"T_3579c244_a41d_11eb_b537_acde48001122row3_col26\" class=\"data row3 col26\" >4622</td>\n",
       "                        <td id=\"T_3579c244_a41d_11eb_b537_acde48001122row3_col27\" class=\"data row3 col27\" >565</td>\n",
       "                        <td id=\"T_3579c244_a41d_11eb_b537_acde48001122row3_col28\" class=\"data row3 col28\" >11967</td>\n",
       "                        <td id=\"T_3579c244_a41d_11eb_b537_acde48001122row3_col29\" class=\"data row3 col29\" >9</td>\n",
       "                        <td id=\"T_3579c244_a41d_11eb_b537_acde48001122row3_col30\" class=\"data row3 col30\" >4009</td>\n",
       "                        <td id=\"T_3579c244_a41d_11eb_b537_acde48001122row3_col31\" class=\"data row3 col31\" >10941</td>\n",
       "                        <td id=\"T_3579c244_a41d_11eb_b537_acde48001122row3_col32\" class=\"data row3 col32\" >32</td>\n",
       "                        <td id=\"T_3579c244_a41d_11eb_b537_acde48001122row3_col33\" class=\"data row3 col33\" >28211</td>\n",
       "                        <td id=\"T_3579c244_a41d_11eb_b537_acde48001122row3_col34\" class=\"data row3 col34\" >2160</td>\n",
       "                        <td id=\"T_3579c244_a41d_11eb_b537_acde48001122row3_col35\" class=\"data row3 col35\" >8426</td>\n",
       "            </tr>\n",
       "            <tr>\n",
       "                        <th id=\"T_3579c244_a41d_11eb_b537_acde48001122level0_row4\" class=\"row_heading level0 row4\" >2021-04-20 00:00:00</th>\n",
       "                        <td id=\"T_3579c244_a41d_11eb_b537_acde48001122row4_col0\" class=\"data row4 col0\" >45</td>\n",
       "                        <td id=\"T_3579c244_a41d_11eb_b537_acde48001122row4_col1\" class=\"data row4 col1\" >8987</td>\n",
       "                        <td id=\"T_3579c244_a41d_11eb_b537_acde48001122row4_col2\" class=\"data row4 col2\" >61</td>\n",
       "                        <td id=\"T_3579c244_a41d_11eb_b537_acde48001122row4_col3\" class=\"data row4 col3\" >1651</td>\n",
       "                        <td id=\"T_3579c244_a41d_11eb_b537_acde48001122row4_col4\" class=\"data row4 col4\" >10455</td>\n",
       "                        <td id=\"T_3579c244_a41d_11eb_b537_acde48001122row4_col5\" class=\"data row4 col5\" >602</td>\n",
       "                        <td id=\"T_3579c244_a41d_11eb_b537_acde48001122row4_col6\" class=\"data row4 col6\" >15625</td>\n",
       "                        <td id=\"T_3579c244_a41d_11eb_b537_acde48001122row4_col7\" class=\"data row4 col7\" >2021-04-20</td>\n",
       "                        <td id=\"T_3579c244_a41d_11eb_b537_acde48001122row4_col8\" class=\"data row4 col8\" >28395</td>\n",
       "                        <td id=\"T_3579c244_a41d_11eb_b537_acde48001122row4_col9\" class=\"data row4 col9\" >291</td>\n",
       "                        <td id=\"T_3579c244_a41d_11eb_b537_acde48001122row4_col10\" class=\"data row4 col10\" >1160</td>\n",
       "                        <td id=\"T_3579c244_a41d_11eb_b537_acde48001122row4_col11\" class=\"data row4 col11\" >12206</td>\n",
       "                        <td id=\"T_3579c244_a41d_11eb_b537_acde48001122row4_col12\" class=\"data row4 col12\" >1340</td>\n",
       "                        <td id=\"T_3579c244_a41d_11eb_b537_acde48001122row4_col13\" class=\"data row4 col13\" >7811</td>\n",
       "                        <td id=\"T_3579c244_a41d_11eb_b537_acde48001122row4_col14\" class=\"data row4 col14\" >5080</td>\n",
       "                        <td id=\"T_3579c244_a41d_11eb_b537_acde48001122row4_col15\" class=\"data row4 col15\" >2030</td>\n",
       "                        <td id=\"T_3579c244_a41d_11eb_b537_acde48001122row4_col16\" class=\"data row4 col16\" >21794</td>\n",
       "                        <td id=\"T_3579c244_a41d_11eb_b537_acde48001122row4_col17\" class=\"data row4 col17\" >19577</td>\n",
       "                        <td id=\"T_3579c244_a41d_11eb_b537_acde48001122row4_col18\" class=\"data row4 col18\" >250</td>\n",
       "                        <td id=\"T_3579c244_a41d_11eb_b537_acde48001122row4_col19\" class=\"data row4 col19\" >62097</td>\n",
       "                        <td id=\"T_3579c244_a41d_11eb_b537_acde48001122row4_col20\" class=\"data row4 col20\" >137</td>\n",
       "                        <td id=\"T_3579c244_a41d_11eb_b537_acde48001122row4_col21\" class=\"data row4 col21\" >94</td>\n",
       "                        <td id=\"T_3579c244_a41d_11eb_b537_acde48001122row4_col22\" class=\"data row4 col22\" >12727</td>\n",
       "                        <td id=\"T_3579c244_a41d_11eb_b537_acde48001122row4_col23\" class=\"data row4 col23\" >91</td>\n",
       "                        <td id=\"T_3579c244_a41d_11eb_b537_acde48001122row4_col24\" class=\"data row4 col24\" >82</td>\n",
       "                        <td id=\"T_3579c244_a41d_11eb_b537_acde48001122row4_col25\" class=\"data row4 col25\" >4761</td>\n",
       "                        <td id=\"T_3579c244_a41d_11eb_b537_acde48001122row4_col26\" class=\"data row4 col26\" >4656</td>\n",
       "                        <td id=\"T_3579c244_a41d_11eb_b537_acde48001122row4_col27\" class=\"data row4 col27\" >638</td>\n",
       "                        <td id=\"T_3579c244_a41d_11eb_b537_acde48001122row4_col28\" class=\"data row4 col28\" >12201</td>\n",
       "                        <td id=\"T_3579c244_a41d_11eb_b537_acde48001122row4_col29\" class=\"data row4 col29\" >91</td>\n",
       "                        <td id=\"T_3579c244_a41d_11eb_b537_acde48001122row4_col30\" class=\"data row4 col30\" >5926</td>\n",
       "                        <td id=\"T_3579c244_a41d_11eb_b537_acde48001122row4_col31\" class=\"data row4 col31\" >10986</td>\n",
       "                        <td id=\"T_3579c244_a41d_11eb_b537_acde48001122row4_col32\" class=\"data row4 col32\" >60</td>\n",
       "                        <td id=\"T_3579c244_a41d_11eb_b537_acde48001122row4_col33\" class=\"data row4 col33\" >29574</td>\n",
       "                        <td id=\"T_3579c244_a41d_11eb_b537_acde48001122row4_col34\" class=\"data row4 col34\" >3012</td>\n",
       "                        <td id=\"T_3579c244_a41d_11eb_b537_acde48001122row4_col35\" class=\"data row4 col35\" >9819</td>\n",
       "            </tr>\n",
       "            <tr>\n",
       "                        <th id=\"T_3579c244_a41d_11eb_b537_acde48001122level0_row5\" class=\"row_heading level0 row5\" >2021-04-21 00:00:00</th>\n",
       "                        <td id=\"T_3579c244_a41d_11eb_b537_acde48001122row5_col0\" class=\"data row5 col0\" >24</td>\n",
       "                        <td id=\"T_3579c244_a41d_11eb_b537_acde48001122row5_col1\" class=\"data row5 col1\" >9716</td>\n",
       "                        <td id=\"T_3579c244_a41d_11eb_b537_acde48001122row5_col2\" class=\"data row5 col2\" >73</td>\n",
       "                        <td id=\"T_3579c244_a41d_11eb_b537_acde48001122row5_col3\" class=\"data row5 col3\" >1665</td>\n",
       "                        <td id=\"T_3579c244_a41d_11eb_b537_acde48001122row5_col4\" class=\"data row5 col4\" >12222</td>\n",
       "                        <td id=\"T_3579c244_a41d_11eb_b537_acde48001122row5_col5\" class=\"data row5 col5\" >622</td>\n",
       "                        <td id=\"T_3579c244_a41d_11eb_b537_acde48001122row5_col6\" class=\"data row5 col6\" >14519</td>\n",
       "                        <td id=\"T_3579c244_a41d_11eb_b537_acde48001122row5_col7\" class=\"data row5 col7\" >2021-04-21</td>\n",
       "                        <td id=\"T_3579c244_a41d_11eb_b537_acde48001122row5_col8\" class=\"data row5 col8\" >24638</td>\n",
       "                        <td id=\"T_3579c244_a41d_11eb_b537_acde48001122row5_col9\" class=\"data row5 col9\" >234</td>\n",
       "                        <td id=\"T_3579c244_a41d_11eb_b537_acde48001122row5_col10\" class=\"data row5 col10\" >1502</td>\n",
       "                        <td id=\"T_3579c244_a41d_11eb_b537_acde48001122row5_col11\" class=\"data row5 col11\" >12553</td>\n",
       "                        <td id=\"T_3579c244_a41d_11eb_b537_acde48001122row5_col12\" class=\"data row5 col12\" >1692</td>\n",
       "                        <td id=\"T_3579c244_a41d_11eb_b537_acde48001122row5_col13\" class=\"data row5 col13\" >9623</td>\n",
       "                        <td id=\"T_3579c244_a41d_11eb_b537_acde48001122row5_col14\" class=\"data row5 col14\" >5041</td>\n",
       "                        <td id=\"T_3579c244_a41d_11eb_b537_acde48001122row5_col15\" class=\"data row5 col15\" >2204</td>\n",
       "                        <td id=\"T_3579c244_a41d_11eb_b537_acde48001122row5_col16\" class=\"data row5 col16\" >23558</td>\n",
       "                        <td id=\"T_3579c244_a41d_11eb_b537_acde48001122row5_col17\" class=\"data row5 col17\" >22414</td>\n",
       "                        <td id=\"T_3579c244_a41d_11eb_b537_acde48001122row5_col18\" class=\"data row5 col18\" >183</td>\n",
       "                        <td id=\"T_3579c244_a41d_11eb_b537_acde48001122row5_col19\" class=\"data row5 col19\" >67468</td>\n",
       "                        <td id=\"T_3579c244_a41d_11eb_b537_acde48001122row5_col20\" class=\"data row5 col20\" >192</td>\n",
       "                        <td id=\"T_3579c244_a41d_11eb_b537_acde48001122row5_col21\" class=\"data row5 col21\" >92</td>\n",
       "                        <td id=\"T_3579c244_a41d_11eb_b537_acde48001122row5_col22\" class=\"data row5 col22\" >13107</td>\n",
       "                        <td id=\"T_3579c244_a41d_11eb_b537_acde48001122row5_col23\" class=\"data row5 col23\" >90</td>\n",
       "                        <td id=\"T_3579c244_a41d_11eb_b537_acde48001122row5_col24\" class=\"data row5 col24\" >97</td>\n",
       "                        <td id=\"T_3579c244_a41d_11eb_b537_acde48001122row5_col25\" class=\"data row5 col25\" >4851</td>\n",
       "                        <td id=\"T_3579c244_a41d_11eb_b537_acde48001122row5_col26\" class=\"data row5 col26\" >4953</td>\n",
       "                        <td id=\"T_3579c244_a41d_11eb_b537_acde48001122row5_col27\" class=\"data row5 col27\" >619</td>\n",
       "                        <td id=\"T_3579c244_a41d_11eb_b537_acde48001122row5_col28\" class=\"data row5 col28\" >14622</td>\n",
       "                        <td id=\"T_3579c244_a41d_11eb_b537_acde48001122row5_col29\" class=\"data row5 col29\" >50</td>\n",
       "                        <td id=\"T_3579c244_a41d_11eb_b537_acde48001122row5_col30\" class=\"data row5 col30\" >6542</td>\n",
       "                        <td id=\"T_3579c244_a41d_11eb_b537_acde48001122row5_col31\" class=\"data row5 col31\" >11681</td>\n",
       "                        <td id=\"T_3579c244_a41d_11eb_b537_acde48001122row5_col32\" class=\"data row5 col32\" >0</td>\n",
       "                        <td id=\"T_3579c244_a41d_11eb_b537_acde48001122row5_col33\" class=\"data row5 col33\" >33106</td>\n",
       "                        <td id=\"T_3579c244_a41d_11eb_b537_acde48001122row5_col34\" class=\"data row5 col34\" >4807</td>\n",
       "                        <td id=\"T_3579c244_a41d_11eb_b537_acde48001122row5_col35\" class=\"data row5 col35\" >10784</td>\n",
       "            </tr>\n",
       "            <tr>\n",
       "                        <th id=\"T_3579c244_a41d_11eb_b537_acde48001122level0_row6\" class=\"row_heading level0 row6\" >2021-04-22 00:00:00</th>\n",
       "                        <td id=\"T_3579c244_a41d_11eb_b537_acde48001122row6_col0\" class=\"data row6 col0\" >37</td>\n",
       "                        <td id=\"T_3579c244_a41d_11eb_b537_acde48001122row6_col1\" class=\"data row6 col1\" >10759</td>\n",
       "                        <td id=\"T_3579c244_a41d_11eb_b537_acde48001122row6_col2\" class=\"data row6 col2\" >110</td>\n",
       "                        <td id=\"T_3579c244_a41d_11eb_b537_acde48001122row6_col3\" class=\"data row6 col3\" >1931</td>\n",
       "                        <td id=\"T_3579c244_a41d_11eb_b537_acde48001122row6_col4\" class=\"data row6 col4\" >11489</td>\n",
       "                        <td id=\"T_3579c244_a41d_11eb_b537_acde48001122row6_col5\" class=\"data row6 col5\" >634</td>\n",
       "                        <td id=\"T_3579c244_a41d_11eb_b537_acde48001122row6_col6\" class=\"data row6 col6\" >16750</td>\n",
       "                        <td id=\"T_3579c244_a41d_11eb_b537_acde48001122row6_col7\" class=\"data row6 col7\" >2021-04-22</td>\n",
       "                        <td id=\"T_3579c244_a41d_11eb_b537_acde48001122row6_col8\" class=\"data row6 col8\" >26169</td>\n",
       "                        <td id=\"T_3579c244_a41d_11eb_b537_acde48001122row6_col9\" class=\"data row6 col9\" >346</td>\n",
       "                        <td id=\"T_3579c244_a41d_11eb_b537_acde48001122row6_col10\" class=\"data row6 col10\" >1410</td>\n",
       "                        <td id=\"T_3579c244_a41d_11eb_b537_acde48001122row6_col11\" class=\"data row6 col11\" >13105</td>\n",
       "                        <td id=\"T_3579c244_a41d_11eb_b537_acde48001122row6_col12\" class=\"data row6 col12\" >1774</td>\n",
       "                        <td id=\"T_3579c244_a41d_11eb_b537_acde48001122row6_col13\" class=\"data row6 col13\" >9742</td>\n",
       "                        <td id=\"T_3579c244_a41d_11eb_b537_acde48001122row6_col14\" class=\"data row6 col14\" >7595</td>\n",
       "                        <td id=\"T_3579c244_a41d_11eb_b537_acde48001122row6_col15\" class=\"data row6 col15\" >1965</td>\n",
       "                        <td id=\"T_3579c244_a41d_11eb_b537_acde48001122row6_col16\" class=\"data row6 col16\" >25795</td>\n",
       "                        <td id=\"T_3579c244_a41d_11eb_b537_acde48001122row6_col17\" class=\"data row6 col17\" >26995</td>\n",
       "                        <td id=\"T_3579c244_a41d_11eb_b537_acde48001122row6_col18\" class=\"data row6 col18\" >198</td>\n",
       "                        <td id=\"T_3579c244_a41d_11eb_b537_acde48001122row6_col19\" class=\"data row6 col19\" >67013</td>\n",
       "                        <td id=\"T_3579c244_a41d_11eb_b537_acde48001122row6_col20\" class=\"data row6 col20\" >180</td>\n",
       "                        <td id=\"T_3579c244_a41d_11eb_b537_acde48001122row6_col21\" class=\"data row6 col21\" >86</td>\n",
       "                        <td id=\"T_3579c244_a41d_11eb_b537_acde48001122row6_col22\" class=\"data row6 col22\" >12384</td>\n",
       "                        <td id=\"T_3579c244_a41d_11eb_b537_acde48001122row6_col23\" class=\"data row6 col23\" >73</td>\n",
       "                        <td id=\"T_3579c244_a41d_11eb_b537_acde48001122row6_col24\" class=\"data row6 col24\" >53</td>\n",
       "                        <td id=\"T_3579c244_a41d_11eb_b537_acde48001122row6_col25\" class=\"data row6 col25\" >6164</td>\n",
       "                        <td id=\"T_3579c244_a41d_11eb_b537_acde48001122row6_col26\" class=\"data row6 col26\" >5450</td>\n",
       "                        <td id=\"T_3579c244_a41d_11eb_b537_acde48001122row6_col27\" class=\"data row6 col27\" >987</td>\n",
       "                        <td id=\"T_3579c244_a41d_11eb_b537_acde48001122row6_col28\" class=\"data row6 col28\" >14468</td>\n",
       "                        <td id=\"T_3579c244_a41d_11eb_b537_acde48001122row6_col29\" class=\"data row6 col29\" >124</td>\n",
       "                        <td id=\"T_3579c244_a41d_11eb_b537_acde48001122row6_col30\" class=\"data row6 col30\" >5567</td>\n",
       "                        <td id=\"T_3579c244_a41d_11eb_b537_acde48001122row6_col31\" class=\"data row6 col31\" >12652</td>\n",
       "                        <td id=\"T_3579c244_a41d_11eb_b537_acde48001122row6_col32\" class=\"data row6 col32\" >168</td>\n",
       "                        <td id=\"T_3579c244_a41d_11eb_b537_acde48001122row6_col33\" class=\"data row6 col33\" >34254</td>\n",
       "                        <td id=\"T_3579c244_a41d_11eb_b537_acde48001122row6_col34\" class=\"data row6 col34\" >3998</td>\n",
       "                        <td id=\"T_3579c244_a41d_11eb_b537_acde48001122row6_col35\" class=\"data row6 col35\" >11948</td>\n",
       "            </tr>\n",
       "    </tbody></table>"
      ],
      "text/plain": [
       "<pandas.io.formats.style.Styler at 0x7fe16d1d25e0>"
      ]
     },
     "execution_count": 47,
     "metadata": {},
     "output_type": "execute_result"
    }
   ],
   "source": [
    "df.style.bar()"
   ]
  },
  {
   "cell_type": "code",
   "execution_count": 48,
   "metadata": {
    "colab": {
     "base_uri": "https://localhost:8080/",
     "height": 353
    },
    "colab_type": "code",
    "id": "Iss6MVFspKth",
    "outputId": "7b41c6ef-bfcd-48b2-c1b6-d6d551112783"
   },
   "outputs": [
    {
     "ename": "UFuncTypeError",
     "evalue": "ufunc 'subtract' did not contain a loop with signature matching types (dtype('<U32'), dtype('<U32')) -> dtype('<U32')",
     "output_type": "error",
     "traceback": [
      "\u001b[0;31m---------------------------------------------------------------------------\u001b[0m",
      "\u001b[0;31mUFuncTypeError\u001b[0m                            Traceback (most recent call last)",
      "\u001b[0;32m/opt/anaconda3/lib/python3.8/site-packages/IPython/core/formatters.py\u001b[0m in \u001b[0;36m__call__\u001b[0;34m(self, obj)\u001b[0m\n\u001b[1;32m    343\u001b[0m             \u001b[0mmethod\u001b[0m \u001b[0;34m=\u001b[0m \u001b[0mget_real_method\u001b[0m\u001b[0;34m(\u001b[0m\u001b[0mobj\u001b[0m\u001b[0;34m,\u001b[0m \u001b[0mself\u001b[0m\u001b[0;34m.\u001b[0m\u001b[0mprint_method\u001b[0m\u001b[0;34m)\u001b[0m\u001b[0;34m\u001b[0m\u001b[0;34m\u001b[0m\u001b[0m\n\u001b[1;32m    344\u001b[0m             \u001b[0;32mif\u001b[0m \u001b[0mmethod\u001b[0m \u001b[0;32mis\u001b[0m \u001b[0;32mnot\u001b[0m \u001b[0;32mNone\u001b[0m\u001b[0;34m:\u001b[0m\u001b[0;34m\u001b[0m\u001b[0;34m\u001b[0m\u001b[0m\n\u001b[0;32m--> 345\u001b[0;31m                 \u001b[0;32mreturn\u001b[0m \u001b[0mmethod\u001b[0m\u001b[0;34m(\u001b[0m\u001b[0;34m)\u001b[0m\u001b[0;34m\u001b[0m\u001b[0;34m\u001b[0m\u001b[0m\n\u001b[0m\u001b[1;32m    346\u001b[0m             \u001b[0;32mreturn\u001b[0m \u001b[0;32mNone\u001b[0m\u001b[0;34m\u001b[0m\u001b[0;34m\u001b[0m\u001b[0m\n\u001b[1;32m    347\u001b[0m         \u001b[0;32melse\u001b[0m\u001b[0;34m:\u001b[0m\u001b[0;34m\u001b[0m\u001b[0;34m\u001b[0m\u001b[0m\n",
      "\u001b[0;32m/opt/anaconda3/lib/python3.8/site-packages/pandas/io/formats/style.py\u001b[0m in \u001b[0;36m_repr_html_\u001b[0;34m(self)\u001b[0m\n\u001b[1;32m    180\u001b[0m         \u001b[0mHooks\u001b[0m \u001b[0minto\u001b[0m \u001b[0mJupyter\u001b[0m \u001b[0mnotebook\u001b[0m \u001b[0mrich\u001b[0m \u001b[0mdisplay\u001b[0m \u001b[0msystem\u001b[0m\u001b[0;34m.\u001b[0m\u001b[0;34m\u001b[0m\u001b[0;34m\u001b[0m\u001b[0m\n\u001b[1;32m    181\u001b[0m         \"\"\"\n\u001b[0;32m--> 182\u001b[0;31m         \u001b[0;32mreturn\u001b[0m \u001b[0mself\u001b[0m\u001b[0;34m.\u001b[0m\u001b[0mrender\u001b[0m\u001b[0;34m(\u001b[0m\u001b[0;34m)\u001b[0m\u001b[0;34m\u001b[0m\u001b[0;34m\u001b[0m\u001b[0m\n\u001b[0m\u001b[1;32m    183\u001b[0m \u001b[0;34m\u001b[0m\u001b[0m\n\u001b[1;32m    184\u001b[0m     @Appender(\n",
      "\u001b[0;32m/opt/anaconda3/lib/python3.8/site-packages/pandas/io/formats/style.py\u001b[0m in \u001b[0;36mrender\u001b[0;34m(self, **kwargs)\u001b[0m\n\u001b[1;32m    535\u001b[0m         \u001b[0;34m*\u001b[0m \u001b[0mtable_attributes\u001b[0m\u001b[0;34m\u001b[0m\u001b[0;34m\u001b[0m\u001b[0m\n\u001b[1;32m    536\u001b[0m         \"\"\"\n\u001b[0;32m--> 537\u001b[0;31m         \u001b[0mself\u001b[0m\u001b[0;34m.\u001b[0m\u001b[0m_compute\u001b[0m\u001b[0;34m(\u001b[0m\u001b[0;34m)\u001b[0m\u001b[0;34m\u001b[0m\u001b[0;34m\u001b[0m\u001b[0m\n\u001b[0m\u001b[1;32m    538\u001b[0m         \u001b[0;31m# TODO: namespace all the pandas keys\u001b[0m\u001b[0;34m\u001b[0m\u001b[0;34m\u001b[0m\u001b[0;34m\u001b[0m\u001b[0m\n\u001b[1;32m    539\u001b[0m         \u001b[0md\u001b[0m \u001b[0;34m=\u001b[0m \u001b[0mself\u001b[0m\u001b[0;34m.\u001b[0m\u001b[0m_translate\u001b[0m\u001b[0;34m(\u001b[0m\u001b[0;34m)\u001b[0m\u001b[0;34m\u001b[0m\u001b[0;34m\u001b[0m\u001b[0m\n",
      "\u001b[0;32m/opt/anaconda3/lib/python3.8/site-packages/pandas/io/formats/style.py\u001b[0m in \u001b[0;36m_compute\u001b[0;34m(self)\u001b[0m\n\u001b[1;32m    610\u001b[0m         \u001b[0mr\u001b[0m \u001b[0;34m=\u001b[0m \u001b[0mself\u001b[0m\u001b[0;34m\u001b[0m\u001b[0;34m\u001b[0m\u001b[0m\n\u001b[1;32m    611\u001b[0m         \u001b[0;32mfor\u001b[0m \u001b[0mfunc\u001b[0m\u001b[0;34m,\u001b[0m \u001b[0margs\u001b[0m\u001b[0;34m,\u001b[0m \u001b[0mkwargs\u001b[0m \u001b[0;32min\u001b[0m \u001b[0mself\u001b[0m\u001b[0;34m.\u001b[0m\u001b[0m_todo\u001b[0m\u001b[0;34m:\u001b[0m\u001b[0;34m\u001b[0m\u001b[0;34m\u001b[0m\u001b[0m\n\u001b[0;32m--> 612\u001b[0;31m             \u001b[0mr\u001b[0m \u001b[0;34m=\u001b[0m \u001b[0mfunc\u001b[0m\u001b[0;34m(\u001b[0m\u001b[0mself\u001b[0m\u001b[0;34m)\u001b[0m\u001b[0;34m(\u001b[0m\u001b[0;34m*\u001b[0m\u001b[0margs\u001b[0m\u001b[0;34m,\u001b[0m \u001b[0;34m**\u001b[0m\u001b[0mkwargs\u001b[0m\u001b[0;34m)\u001b[0m\u001b[0;34m\u001b[0m\u001b[0;34m\u001b[0m\u001b[0m\n\u001b[0m\u001b[1;32m    613\u001b[0m         \u001b[0;32mreturn\u001b[0m \u001b[0mr\u001b[0m\u001b[0;34m\u001b[0m\u001b[0;34m\u001b[0m\u001b[0m\n\u001b[1;32m    614\u001b[0m \u001b[0;34m\u001b[0m\u001b[0m\n",
      "\u001b[0;32m/opt/anaconda3/lib/python3.8/site-packages/pandas/io/formats/style.py\u001b[0m in \u001b[0;36m_apply\u001b[0;34m(self, func, axis, subset, **kwargs)\u001b[0m\n\u001b[1;32m    618\u001b[0m         \u001b[0mdata\u001b[0m \u001b[0;34m=\u001b[0m \u001b[0mself\u001b[0m\u001b[0;34m.\u001b[0m\u001b[0mdata\u001b[0m\u001b[0;34m.\u001b[0m\u001b[0mloc\u001b[0m\u001b[0;34m[\u001b[0m\u001b[0msubset\u001b[0m\u001b[0;34m]\u001b[0m\u001b[0;34m\u001b[0m\u001b[0;34m\u001b[0m\u001b[0m\n\u001b[1;32m    619\u001b[0m         \u001b[0;32mif\u001b[0m \u001b[0maxis\u001b[0m \u001b[0;32mis\u001b[0m \u001b[0;32mnot\u001b[0m \u001b[0;32mNone\u001b[0m\u001b[0;34m:\u001b[0m\u001b[0;34m\u001b[0m\u001b[0;34m\u001b[0m\u001b[0m\n\u001b[0;32m--> 620\u001b[0;31m             \u001b[0mresult\u001b[0m \u001b[0;34m=\u001b[0m \u001b[0mdata\u001b[0m\u001b[0;34m.\u001b[0m\u001b[0mapply\u001b[0m\u001b[0;34m(\u001b[0m\u001b[0mfunc\u001b[0m\u001b[0;34m,\u001b[0m \u001b[0maxis\u001b[0m\u001b[0;34m=\u001b[0m\u001b[0maxis\u001b[0m\u001b[0;34m,\u001b[0m \u001b[0mresult_type\u001b[0m\u001b[0;34m=\u001b[0m\u001b[0;34m\"expand\"\u001b[0m\u001b[0;34m,\u001b[0m \u001b[0;34m**\u001b[0m\u001b[0mkwargs\u001b[0m\u001b[0;34m)\u001b[0m\u001b[0;34m\u001b[0m\u001b[0;34m\u001b[0m\u001b[0m\n\u001b[0m\u001b[1;32m    621\u001b[0m             \u001b[0mresult\u001b[0m\u001b[0;34m.\u001b[0m\u001b[0mcolumns\u001b[0m \u001b[0;34m=\u001b[0m \u001b[0mdata\u001b[0m\u001b[0;34m.\u001b[0m\u001b[0mcolumns\u001b[0m\u001b[0;34m\u001b[0m\u001b[0;34m\u001b[0m\u001b[0m\n\u001b[1;32m    622\u001b[0m         \u001b[0;32melse\u001b[0m\u001b[0;34m:\u001b[0m\u001b[0;34m\u001b[0m\u001b[0;34m\u001b[0m\u001b[0m\n",
      "\u001b[0;32m/opt/anaconda3/lib/python3.8/site-packages/pandas/core/frame.py\u001b[0m in \u001b[0;36mapply\u001b[0;34m(self, func, axis, raw, result_type, args, **kwds)\u001b[0m\n\u001b[1;32m   6876\u001b[0m             \u001b[0mkwds\u001b[0m\u001b[0;34m=\u001b[0m\u001b[0mkwds\u001b[0m\u001b[0;34m,\u001b[0m\u001b[0;34m\u001b[0m\u001b[0;34m\u001b[0m\u001b[0m\n\u001b[1;32m   6877\u001b[0m         )\n\u001b[0;32m-> 6878\u001b[0;31m         \u001b[0;32mreturn\u001b[0m \u001b[0mop\u001b[0m\u001b[0;34m.\u001b[0m\u001b[0mget_result\u001b[0m\u001b[0;34m(\u001b[0m\u001b[0;34m)\u001b[0m\u001b[0;34m\u001b[0m\u001b[0;34m\u001b[0m\u001b[0m\n\u001b[0m\u001b[1;32m   6879\u001b[0m \u001b[0;34m\u001b[0m\u001b[0m\n\u001b[1;32m   6880\u001b[0m     \u001b[0;32mdef\u001b[0m \u001b[0mapplymap\u001b[0m\u001b[0;34m(\u001b[0m\u001b[0mself\u001b[0m\u001b[0;34m,\u001b[0m \u001b[0mfunc\u001b[0m\u001b[0;34m)\u001b[0m \u001b[0;34m->\u001b[0m \u001b[0;34m\"DataFrame\"\u001b[0m\u001b[0;34m:\u001b[0m\u001b[0;34m\u001b[0m\u001b[0;34m\u001b[0m\u001b[0m\n",
      "\u001b[0;32m/opt/anaconda3/lib/python3.8/site-packages/pandas/core/apply.py\u001b[0m in \u001b[0;36mget_result\u001b[0;34m(self)\u001b[0m\n\u001b[1;32m    184\u001b[0m             \u001b[0;32mreturn\u001b[0m \u001b[0mself\u001b[0m\u001b[0;34m.\u001b[0m\u001b[0mapply_raw\u001b[0m\u001b[0;34m(\u001b[0m\u001b[0;34m)\u001b[0m\u001b[0;34m\u001b[0m\u001b[0;34m\u001b[0m\u001b[0m\n\u001b[1;32m    185\u001b[0m \u001b[0;34m\u001b[0m\u001b[0m\n\u001b[0;32m--> 186\u001b[0;31m         \u001b[0;32mreturn\u001b[0m \u001b[0mself\u001b[0m\u001b[0;34m.\u001b[0m\u001b[0mapply_standard\u001b[0m\u001b[0;34m(\u001b[0m\u001b[0;34m)\u001b[0m\u001b[0;34m\u001b[0m\u001b[0;34m\u001b[0m\u001b[0m\n\u001b[0m\u001b[1;32m    187\u001b[0m \u001b[0;34m\u001b[0m\u001b[0m\n\u001b[1;32m    188\u001b[0m     \u001b[0;32mdef\u001b[0m \u001b[0mapply_empty_result\u001b[0m\u001b[0;34m(\u001b[0m\u001b[0mself\u001b[0m\u001b[0;34m)\u001b[0m\u001b[0;34m:\u001b[0m\u001b[0;34m\u001b[0m\u001b[0;34m\u001b[0m\u001b[0m\n",
      "\u001b[0;32m/opt/anaconda3/lib/python3.8/site-packages/pandas/core/apply.py\u001b[0m in \u001b[0;36mapply_standard\u001b[0;34m(self)\u001b[0m\n\u001b[1;32m    311\u001b[0m \u001b[0;34m\u001b[0m\u001b[0m\n\u001b[1;32m    312\u001b[0m         \u001b[0;31m# compute the result using the series generator\u001b[0m\u001b[0;34m\u001b[0m\u001b[0;34m\u001b[0m\u001b[0;34m\u001b[0m\u001b[0m\n\u001b[0;32m--> 313\u001b[0;31m         \u001b[0mresults\u001b[0m\u001b[0;34m,\u001b[0m \u001b[0mres_index\u001b[0m \u001b[0;34m=\u001b[0m \u001b[0mself\u001b[0m\u001b[0;34m.\u001b[0m\u001b[0mapply_series_generator\u001b[0m\u001b[0;34m(\u001b[0m\u001b[0;34m)\u001b[0m\u001b[0;34m\u001b[0m\u001b[0;34m\u001b[0m\u001b[0m\n\u001b[0m\u001b[1;32m    314\u001b[0m \u001b[0;34m\u001b[0m\u001b[0m\n\u001b[1;32m    315\u001b[0m         \u001b[0;31m# wrap results\u001b[0m\u001b[0;34m\u001b[0m\u001b[0;34m\u001b[0m\u001b[0;34m\u001b[0m\u001b[0m\n",
      "\u001b[0;32m/opt/anaconda3/lib/python3.8/site-packages/pandas/core/apply.py\u001b[0m in \u001b[0;36mapply_series_generator\u001b[0;34m(self)\u001b[0m\n\u001b[1;32m    339\u001b[0m         \u001b[0;32melse\u001b[0m\u001b[0;34m:\u001b[0m\u001b[0;34m\u001b[0m\u001b[0;34m\u001b[0m\u001b[0m\n\u001b[1;32m    340\u001b[0m             \u001b[0;32mfor\u001b[0m \u001b[0mi\u001b[0m\u001b[0;34m,\u001b[0m \u001b[0mv\u001b[0m \u001b[0;32min\u001b[0m \u001b[0menumerate\u001b[0m\u001b[0;34m(\u001b[0m\u001b[0mseries_gen\u001b[0m\u001b[0;34m)\u001b[0m\u001b[0;34m:\u001b[0m\u001b[0;34m\u001b[0m\u001b[0;34m\u001b[0m\u001b[0m\n\u001b[0;32m--> 341\u001b[0;31m                 \u001b[0mresults\u001b[0m\u001b[0;34m[\u001b[0m\u001b[0mi\u001b[0m\u001b[0;34m]\u001b[0m \u001b[0;34m=\u001b[0m \u001b[0mself\u001b[0m\u001b[0;34m.\u001b[0m\u001b[0mf\u001b[0m\u001b[0;34m(\u001b[0m\u001b[0mv\u001b[0m\u001b[0;34m)\u001b[0m\u001b[0;34m\u001b[0m\u001b[0;34m\u001b[0m\u001b[0m\n\u001b[0m\u001b[1;32m    342\u001b[0m                 \u001b[0mkeys\u001b[0m\u001b[0;34m.\u001b[0m\u001b[0mappend\u001b[0m\u001b[0;34m(\u001b[0m\u001b[0mv\u001b[0m\u001b[0;34m.\u001b[0m\u001b[0mname\u001b[0m\u001b[0;34m)\u001b[0m\u001b[0;34m\u001b[0m\u001b[0;34m\u001b[0m\u001b[0m\n\u001b[1;32m    343\u001b[0m \u001b[0;34m\u001b[0m\u001b[0m\n",
      "\u001b[0;32m/opt/anaconda3/lib/python3.8/site-packages/pandas/core/apply.py\u001b[0m in \u001b[0;36mf\u001b[0;34m(x)\u001b[0m\n\u001b[1;32m    111\u001b[0m \u001b[0;34m\u001b[0m\u001b[0m\n\u001b[1;32m    112\u001b[0m             \u001b[0;32mdef\u001b[0m \u001b[0mf\u001b[0m\u001b[0;34m(\u001b[0m\u001b[0mx\u001b[0m\u001b[0;34m)\u001b[0m\u001b[0;34m:\u001b[0m\u001b[0;34m\u001b[0m\u001b[0;34m\u001b[0m\u001b[0m\n\u001b[0;32m--> 113\u001b[0;31m                 \u001b[0;32mreturn\u001b[0m \u001b[0mfunc\u001b[0m\u001b[0;34m(\u001b[0m\u001b[0mx\u001b[0m\u001b[0;34m,\u001b[0m \u001b[0;34m*\u001b[0m\u001b[0margs\u001b[0m\u001b[0;34m,\u001b[0m \u001b[0;34m**\u001b[0m\u001b[0mkwds\u001b[0m\u001b[0;34m)\u001b[0m\u001b[0;34m\u001b[0m\u001b[0;34m\u001b[0m\u001b[0m\n\u001b[0m\u001b[1;32m    114\u001b[0m \u001b[0;34m\u001b[0m\u001b[0m\n\u001b[1;32m    115\u001b[0m         \u001b[0;32melse\u001b[0m\u001b[0;34m:\u001b[0m\u001b[0;34m\u001b[0m\u001b[0;34m\u001b[0m\u001b[0m\n",
      "\u001b[0;32m/opt/anaconda3/lib/python3.8/site-packages/pandas/io/formats/style.py\u001b[0m in \u001b[0;36m_bar\u001b[0;34m(s, align, colors, width, vmin, vmax)\u001b[0m\n\u001b[1;32m   1173\u001b[0m             \u001b[0msmin\u001b[0m \u001b[0;34m=\u001b[0m \u001b[0;34m-\u001b[0m\u001b[0msmax\u001b[0m\u001b[0;34m\u001b[0m\u001b[0;34m\u001b[0m\u001b[0m\n\u001b[1;32m   1174\u001b[0m         \u001b[0;31m# Transform to percent-range of linear-gradient\u001b[0m\u001b[0;34m\u001b[0m\u001b[0;34m\u001b[0m\u001b[0;34m\u001b[0m\u001b[0m\n\u001b[0;32m-> 1175\u001b[0;31m         \u001b[0mnormed\u001b[0m \u001b[0;34m=\u001b[0m \u001b[0mwidth\u001b[0m \u001b[0;34m*\u001b[0m \u001b[0;34m(\u001b[0m\u001b[0ms\u001b[0m\u001b[0;34m.\u001b[0m\u001b[0mto_numpy\u001b[0m\u001b[0;34m(\u001b[0m\u001b[0mdtype\u001b[0m\u001b[0;34m=\u001b[0m\u001b[0mfloat\u001b[0m\u001b[0;34m)\u001b[0m \u001b[0;34m-\u001b[0m \u001b[0msmin\u001b[0m\u001b[0;34m)\u001b[0m \u001b[0;34m/\u001b[0m \u001b[0;34m(\u001b[0m\u001b[0msmax\u001b[0m \u001b[0;34m-\u001b[0m \u001b[0msmin\u001b[0m \u001b[0;34m+\u001b[0m \u001b[0;36m1e-12\u001b[0m\u001b[0;34m)\u001b[0m\u001b[0;34m\u001b[0m\u001b[0;34m\u001b[0m\u001b[0m\n\u001b[0m\u001b[1;32m   1176\u001b[0m         \u001b[0mzero\u001b[0m \u001b[0;34m=\u001b[0m \u001b[0;34m-\u001b[0m\u001b[0mwidth\u001b[0m \u001b[0;34m*\u001b[0m \u001b[0msmin\u001b[0m \u001b[0;34m/\u001b[0m \u001b[0;34m(\u001b[0m\u001b[0msmax\u001b[0m \u001b[0;34m-\u001b[0m \u001b[0msmin\u001b[0m \u001b[0;34m+\u001b[0m \u001b[0;36m1e-12\u001b[0m\u001b[0;34m)\u001b[0m\u001b[0;34m\u001b[0m\u001b[0;34m\u001b[0m\u001b[0m\n\u001b[1;32m   1177\u001b[0m \u001b[0;34m\u001b[0m\u001b[0m\n",
      "\u001b[0;31mUFuncTypeError\u001b[0m: ufunc 'subtract' did not contain a loop with signature matching types (dtype('<U32'), dtype('<U32')) -> dtype('<U32')"
     ]
    },
    {
     "data": {
      "text/plain": [
       "<pandas.io.formats.style.Styler at 0x7fe16d698af0>"
      ]
     },
     "execution_count": 48,
     "metadata": {},
     "output_type": "execute_result"
    }
   ],
   "source": [
    "df.style.bar(subset=['mh', 'tn', 'dl'])"
   ]
  },
  {
   "cell_type": "code",
   "execution_count": 49,
   "metadata": {
    "colab": {
     "base_uri": "https://localhost:8080/",
     "height": 211
    },
    "colab_type": "code",
    "id": "tX_vpcWVpUzB",
    "outputId": "41958df0-8fa7-4bf2-a906-4941de6e3fff"
   },
   "outputs": [
    {
     "data": {
      "text/html": [
       "<style  type=\"text/css\" >\n",
       "</style><table id=\"T_357f29a0_a41d_11eb_b537_acde48001122\" ><thead>    <tr>        <th class=\"blank level0\" ></th>        <th class=\"col_heading level0 col0\" >mh</th>        <th class=\"col_heading level0 col1\" >tn</th>        <th class=\"col_heading level0 col2\" >dl</th>    </tr>    <tr>        <th class=\"index_name level0\" >date</th>        <th class=\"blank\" ></th>        <th class=\"blank\" ></th>        <th class=\"blank\" ></th>    </tr></thead><tbody>\n",
       "                <tr>\n",
       "                        <th id=\"T_357f29a0_a41d_11eb_b537_acde48001122level0_row0\" class=\"row_heading level0 row0\" >2021-04-16 00:00:00</th>\n",
       "                        <td id=\"T_357f29a0_a41d_11eb_b537_acde48001122row0_col0\" class=\"data row0 col0\" >63729</td>\n",
       "                        <td id=\"T_357f29a0_a41d_11eb_b537_acde48001122row0_col1\" class=\"data row0 col1\" >8449</td>\n",
       "                        <td id=\"T_357f29a0_a41d_11eb_b537_acde48001122row0_col2\" class=\"data row0 col2\" >19486</td>\n",
       "            </tr>\n",
       "            <tr>\n",
       "                        <th id=\"T_357f29a0_a41d_11eb_b537_acde48001122level0_row1\" class=\"row_heading level0 row1\" >2021-04-17 00:00:00</th>\n",
       "                        <td id=\"T_357f29a0_a41d_11eb_b537_acde48001122row1_col0\" class=\"data row1 col0\" >67123</td>\n",
       "                        <td id=\"T_357f29a0_a41d_11eb_b537_acde48001122row1_col1\" class=\"data row1 col1\" >9344</td>\n",
       "                        <td id=\"T_357f29a0_a41d_11eb_b537_acde48001122row1_col2\" class=\"data row1 col2\" >24375</td>\n",
       "            </tr>\n",
       "            <tr>\n",
       "                        <th id=\"T_357f29a0_a41d_11eb_b537_acde48001122level0_row2\" class=\"row_heading level0 row2\" >2021-04-18 00:00:00</th>\n",
       "                        <td id=\"T_357f29a0_a41d_11eb_b537_acde48001122row2_col0\" class=\"data row2 col0\" >68631</td>\n",
       "                        <td id=\"T_357f29a0_a41d_11eb_b537_acde48001122row2_col1\" class=\"data row2 col1\" >10723</td>\n",
       "                        <td id=\"T_357f29a0_a41d_11eb_b537_acde48001122row2_col2\" class=\"data row2 col2\" >25462</td>\n",
       "            </tr>\n",
       "            <tr>\n",
       "                        <th id=\"T_357f29a0_a41d_11eb_b537_acde48001122level0_row3\" class=\"row_heading level0 row3\" >2021-04-19 00:00:00</th>\n",
       "                        <td id=\"T_357f29a0_a41d_11eb_b537_acde48001122row3_col0\" class=\"data row3 col0\" >58924</td>\n",
       "                        <td id=\"T_357f29a0_a41d_11eb_b537_acde48001122row3_col1\" class=\"data row3 col1\" >10941</td>\n",
       "                        <td id=\"T_357f29a0_a41d_11eb_b537_acde48001122row3_col2\" class=\"data row3 col2\" >23686</td>\n",
       "            </tr>\n",
       "            <tr>\n",
       "                        <th id=\"T_357f29a0_a41d_11eb_b537_acde48001122level0_row4\" class=\"row_heading level0 row4\" >2021-04-20 00:00:00</th>\n",
       "                        <td id=\"T_357f29a0_a41d_11eb_b537_acde48001122row4_col0\" class=\"data row4 col0\" >62097</td>\n",
       "                        <td id=\"T_357f29a0_a41d_11eb_b537_acde48001122row4_col1\" class=\"data row4 col1\" >10986</td>\n",
       "                        <td id=\"T_357f29a0_a41d_11eb_b537_acde48001122row4_col2\" class=\"data row4 col2\" >28395</td>\n",
       "            </tr>\n",
       "            <tr>\n",
       "                        <th id=\"T_357f29a0_a41d_11eb_b537_acde48001122level0_row5\" class=\"row_heading level0 row5\" >2021-04-21 00:00:00</th>\n",
       "                        <td id=\"T_357f29a0_a41d_11eb_b537_acde48001122row5_col0\" class=\"data row5 col0\" >67468</td>\n",
       "                        <td id=\"T_357f29a0_a41d_11eb_b537_acde48001122row5_col1\" class=\"data row5 col1\" >11681</td>\n",
       "                        <td id=\"T_357f29a0_a41d_11eb_b537_acde48001122row5_col2\" class=\"data row5 col2\" >24638</td>\n",
       "            </tr>\n",
       "            <tr>\n",
       "                        <th id=\"T_357f29a0_a41d_11eb_b537_acde48001122level0_row6\" class=\"row_heading level0 row6\" >2021-04-22 00:00:00</th>\n",
       "                        <td id=\"T_357f29a0_a41d_11eb_b537_acde48001122row6_col0\" class=\"data row6 col0\" >67013</td>\n",
       "                        <td id=\"T_357f29a0_a41d_11eb_b537_acde48001122row6_col1\" class=\"data row6 col1\" >12652</td>\n",
       "                        <td id=\"T_357f29a0_a41d_11eb_b537_acde48001122row6_col2\" class=\"data row6 col2\" >26169</td>\n",
       "            </tr>\n",
       "    </tbody></table>"
      ],
      "text/plain": [
       "<pandas.io.formats.style.Styler at 0x7fe16d65ee80>"
      ]
     },
     "execution_count": 49,
     "metadata": {},
     "output_type": "execute_result"
    }
   ],
   "source": [
    "df[['mh', 'tn', 'dl']].style.bar()"
   ]
  },
  {
   "cell_type": "code",
   "execution_count": 50,
   "metadata": {
    "colab": {
     "base_uri": "https://localhost:8080/",
     "height": 211
    },
    "colab_type": "code",
    "id": "pLzVBpxGpbJI",
    "outputId": "78355ff1-08a3-4b42-c84c-40aca4418d8a"
   },
   "outputs": [
    {
     "ename": "UFuncTypeError",
     "evalue": "ufunc 'subtract' did not contain a loop with signature matching types (dtype('<U32'), dtype('<U32')) -> dtype('<U32')",
     "output_type": "error",
     "traceback": [
      "\u001b[0;31m---------------------------------------------------------------------------\u001b[0m",
      "\u001b[0;31mUFuncTypeError\u001b[0m                            Traceback (most recent call last)",
      "\u001b[0;32m/opt/anaconda3/lib/python3.8/site-packages/IPython/core/formatters.py\u001b[0m in \u001b[0;36m__call__\u001b[0;34m(self, obj)\u001b[0m\n\u001b[1;32m    343\u001b[0m             \u001b[0mmethod\u001b[0m \u001b[0;34m=\u001b[0m \u001b[0mget_real_method\u001b[0m\u001b[0;34m(\u001b[0m\u001b[0mobj\u001b[0m\u001b[0;34m,\u001b[0m \u001b[0mself\u001b[0m\u001b[0;34m.\u001b[0m\u001b[0mprint_method\u001b[0m\u001b[0;34m)\u001b[0m\u001b[0;34m\u001b[0m\u001b[0;34m\u001b[0m\u001b[0m\n\u001b[1;32m    344\u001b[0m             \u001b[0;32mif\u001b[0m \u001b[0mmethod\u001b[0m \u001b[0;32mis\u001b[0m \u001b[0;32mnot\u001b[0m \u001b[0;32mNone\u001b[0m\u001b[0;34m:\u001b[0m\u001b[0;34m\u001b[0m\u001b[0;34m\u001b[0m\u001b[0m\n\u001b[0;32m--> 345\u001b[0;31m                 \u001b[0;32mreturn\u001b[0m \u001b[0mmethod\u001b[0m\u001b[0;34m(\u001b[0m\u001b[0;34m)\u001b[0m\u001b[0;34m\u001b[0m\u001b[0;34m\u001b[0m\u001b[0m\n\u001b[0m\u001b[1;32m    346\u001b[0m             \u001b[0;32mreturn\u001b[0m \u001b[0;32mNone\u001b[0m\u001b[0;34m\u001b[0m\u001b[0;34m\u001b[0m\u001b[0m\n\u001b[1;32m    347\u001b[0m         \u001b[0;32melse\u001b[0m\u001b[0;34m:\u001b[0m\u001b[0;34m\u001b[0m\u001b[0;34m\u001b[0m\u001b[0m\n",
      "\u001b[0;32m/opt/anaconda3/lib/python3.8/site-packages/pandas/io/formats/style.py\u001b[0m in \u001b[0;36m_repr_html_\u001b[0;34m(self)\u001b[0m\n\u001b[1;32m    180\u001b[0m         \u001b[0mHooks\u001b[0m \u001b[0minto\u001b[0m \u001b[0mJupyter\u001b[0m \u001b[0mnotebook\u001b[0m \u001b[0mrich\u001b[0m \u001b[0mdisplay\u001b[0m \u001b[0msystem\u001b[0m\u001b[0;34m.\u001b[0m\u001b[0;34m\u001b[0m\u001b[0;34m\u001b[0m\u001b[0m\n\u001b[1;32m    181\u001b[0m         \"\"\"\n\u001b[0;32m--> 182\u001b[0;31m         \u001b[0;32mreturn\u001b[0m \u001b[0mself\u001b[0m\u001b[0;34m.\u001b[0m\u001b[0mrender\u001b[0m\u001b[0;34m(\u001b[0m\u001b[0;34m)\u001b[0m\u001b[0;34m\u001b[0m\u001b[0;34m\u001b[0m\u001b[0m\n\u001b[0m\u001b[1;32m    183\u001b[0m \u001b[0;34m\u001b[0m\u001b[0m\n\u001b[1;32m    184\u001b[0m     @Appender(\n",
      "\u001b[0;32m/opt/anaconda3/lib/python3.8/site-packages/pandas/io/formats/style.py\u001b[0m in \u001b[0;36mrender\u001b[0;34m(self, **kwargs)\u001b[0m\n\u001b[1;32m    535\u001b[0m         \u001b[0;34m*\u001b[0m \u001b[0mtable_attributes\u001b[0m\u001b[0;34m\u001b[0m\u001b[0;34m\u001b[0m\u001b[0m\n\u001b[1;32m    536\u001b[0m         \"\"\"\n\u001b[0;32m--> 537\u001b[0;31m         \u001b[0mself\u001b[0m\u001b[0;34m.\u001b[0m\u001b[0m_compute\u001b[0m\u001b[0;34m(\u001b[0m\u001b[0;34m)\u001b[0m\u001b[0;34m\u001b[0m\u001b[0;34m\u001b[0m\u001b[0m\n\u001b[0m\u001b[1;32m    538\u001b[0m         \u001b[0;31m# TODO: namespace all the pandas keys\u001b[0m\u001b[0;34m\u001b[0m\u001b[0;34m\u001b[0m\u001b[0;34m\u001b[0m\u001b[0m\n\u001b[1;32m    539\u001b[0m         \u001b[0md\u001b[0m \u001b[0;34m=\u001b[0m \u001b[0mself\u001b[0m\u001b[0;34m.\u001b[0m\u001b[0m_translate\u001b[0m\u001b[0;34m(\u001b[0m\u001b[0;34m)\u001b[0m\u001b[0;34m\u001b[0m\u001b[0;34m\u001b[0m\u001b[0m\n",
      "\u001b[0;32m/opt/anaconda3/lib/python3.8/site-packages/pandas/io/formats/style.py\u001b[0m in \u001b[0;36m_compute\u001b[0;34m(self)\u001b[0m\n\u001b[1;32m    610\u001b[0m         \u001b[0mr\u001b[0m \u001b[0;34m=\u001b[0m \u001b[0mself\u001b[0m\u001b[0;34m\u001b[0m\u001b[0;34m\u001b[0m\u001b[0m\n\u001b[1;32m    611\u001b[0m         \u001b[0;32mfor\u001b[0m \u001b[0mfunc\u001b[0m\u001b[0;34m,\u001b[0m \u001b[0margs\u001b[0m\u001b[0;34m,\u001b[0m \u001b[0mkwargs\u001b[0m \u001b[0;32min\u001b[0m \u001b[0mself\u001b[0m\u001b[0;34m.\u001b[0m\u001b[0m_todo\u001b[0m\u001b[0;34m:\u001b[0m\u001b[0;34m\u001b[0m\u001b[0;34m\u001b[0m\u001b[0m\n\u001b[0;32m--> 612\u001b[0;31m             \u001b[0mr\u001b[0m \u001b[0;34m=\u001b[0m \u001b[0mfunc\u001b[0m\u001b[0;34m(\u001b[0m\u001b[0mself\u001b[0m\u001b[0;34m)\u001b[0m\u001b[0;34m(\u001b[0m\u001b[0;34m*\u001b[0m\u001b[0margs\u001b[0m\u001b[0;34m,\u001b[0m \u001b[0;34m**\u001b[0m\u001b[0mkwargs\u001b[0m\u001b[0;34m)\u001b[0m\u001b[0;34m\u001b[0m\u001b[0;34m\u001b[0m\u001b[0m\n\u001b[0m\u001b[1;32m    613\u001b[0m         \u001b[0;32mreturn\u001b[0m \u001b[0mr\u001b[0m\u001b[0;34m\u001b[0m\u001b[0;34m\u001b[0m\u001b[0m\n\u001b[1;32m    614\u001b[0m \u001b[0;34m\u001b[0m\u001b[0m\n",
      "\u001b[0;32m/opt/anaconda3/lib/python3.8/site-packages/pandas/io/formats/style.py\u001b[0m in \u001b[0;36m_apply\u001b[0;34m(self, func, axis, subset, **kwargs)\u001b[0m\n\u001b[1;32m    618\u001b[0m         \u001b[0mdata\u001b[0m \u001b[0;34m=\u001b[0m \u001b[0mself\u001b[0m\u001b[0;34m.\u001b[0m\u001b[0mdata\u001b[0m\u001b[0;34m.\u001b[0m\u001b[0mloc\u001b[0m\u001b[0;34m[\u001b[0m\u001b[0msubset\u001b[0m\u001b[0;34m]\u001b[0m\u001b[0;34m\u001b[0m\u001b[0;34m\u001b[0m\u001b[0m\n\u001b[1;32m    619\u001b[0m         \u001b[0;32mif\u001b[0m \u001b[0maxis\u001b[0m \u001b[0;32mis\u001b[0m \u001b[0;32mnot\u001b[0m \u001b[0;32mNone\u001b[0m\u001b[0;34m:\u001b[0m\u001b[0;34m\u001b[0m\u001b[0;34m\u001b[0m\u001b[0m\n\u001b[0;32m--> 620\u001b[0;31m             \u001b[0mresult\u001b[0m \u001b[0;34m=\u001b[0m \u001b[0mdata\u001b[0m\u001b[0;34m.\u001b[0m\u001b[0mapply\u001b[0m\u001b[0;34m(\u001b[0m\u001b[0mfunc\u001b[0m\u001b[0;34m,\u001b[0m \u001b[0maxis\u001b[0m\u001b[0;34m=\u001b[0m\u001b[0maxis\u001b[0m\u001b[0;34m,\u001b[0m \u001b[0mresult_type\u001b[0m\u001b[0;34m=\u001b[0m\u001b[0;34m\"expand\"\u001b[0m\u001b[0;34m,\u001b[0m \u001b[0;34m**\u001b[0m\u001b[0mkwargs\u001b[0m\u001b[0;34m)\u001b[0m\u001b[0;34m\u001b[0m\u001b[0;34m\u001b[0m\u001b[0m\n\u001b[0m\u001b[1;32m    621\u001b[0m             \u001b[0mresult\u001b[0m\u001b[0;34m.\u001b[0m\u001b[0mcolumns\u001b[0m \u001b[0;34m=\u001b[0m \u001b[0mdata\u001b[0m\u001b[0;34m.\u001b[0m\u001b[0mcolumns\u001b[0m\u001b[0;34m\u001b[0m\u001b[0;34m\u001b[0m\u001b[0m\n\u001b[1;32m    622\u001b[0m         \u001b[0;32melse\u001b[0m\u001b[0;34m:\u001b[0m\u001b[0;34m\u001b[0m\u001b[0;34m\u001b[0m\u001b[0m\n",
      "\u001b[0;32m/opt/anaconda3/lib/python3.8/site-packages/pandas/core/frame.py\u001b[0m in \u001b[0;36mapply\u001b[0;34m(self, func, axis, raw, result_type, args, **kwds)\u001b[0m\n\u001b[1;32m   6876\u001b[0m             \u001b[0mkwds\u001b[0m\u001b[0;34m=\u001b[0m\u001b[0mkwds\u001b[0m\u001b[0;34m,\u001b[0m\u001b[0;34m\u001b[0m\u001b[0;34m\u001b[0m\u001b[0m\n\u001b[1;32m   6877\u001b[0m         )\n\u001b[0;32m-> 6878\u001b[0;31m         \u001b[0;32mreturn\u001b[0m \u001b[0mop\u001b[0m\u001b[0;34m.\u001b[0m\u001b[0mget_result\u001b[0m\u001b[0;34m(\u001b[0m\u001b[0;34m)\u001b[0m\u001b[0;34m\u001b[0m\u001b[0;34m\u001b[0m\u001b[0m\n\u001b[0m\u001b[1;32m   6879\u001b[0m \u001b[0;34m\u001b[0m\u001b[0m\n\u001b[1;32m   6880\u001b[0m     \u001b[0;32mdef\u001b[0m \u001b[0mapplymap\u001b[0m\u001b[0;34m(\u001b[0m\u001b[0mself\u001b[0m\u001b[0;34m,\u001b[0m \u001b[0mfunc\u001b[0m\u001b[0;34m)\u001b[0m \u001b[0;34m->\u001b[0m \u001b[0;34m\"DataFrame\"\u001b[0m\u001b[0;34m:\u001b[0m\u001b[0;34m\u001b[0m\u001b[0;34m\u001b[0m\u001b[0m\n",
      "\u001b[0;32m/opt/anaconda3/lib/python3.8/site-packages/pandas/core/apply.py\u001b[0m in \u001b[0;36mget_result\u001b[0;34m(self)\u001b[0m\n\u001b[1;32m    184\u001b[0m             \u001b[0;32mreturn\u001b[0m \u001b[0mself\u001b[0m\u001b[0;34m.\u001b[0m\u001b[0mapply_raw\u001b[0m\u001b[0;34m(\u001b[0m\u001b[0;34m)\u001b[0m\u001b[0;34m\u001b[0m\u001b[0;34m\u001b[0m\u001b[0m\n\u001b[1;32m    185\u001b[0m \u001b[0;34m\u001b[0m\u001b[0m\n\u001b[0;32m--> 186\u001b[0;31m         \u001b[0;32mreturn\u001b[0m \u001b[0mself\u001b[0m\u001b[0;34m.\u001b[0m\u001b[0mapply_standard\u001b[0m\u001b[0;34m(\u001b[0m\u001b[0;34m)\u001b[0m\u001b[0;34m\u001b[0m\u001b[0;34m\u001b[0m\u001b[0m\n\u001b[0m\u001b[1;32m    187\u001b[0m \u001b[0;34m\u001b[0m\u001b[0m\n\u001b[1;32m    188\u001b[0m     \u001b[0;32mdef\u001b[0m \u001b[0mapply_empty_result\u001b[0m\u001b[0;34m(\u001b[0m\u001b[0mself\u001b[0m\u001b[0;34m)\u001b[0m\u001b[0;34m:\u001b[0m\u001b[0;34m\u001b[0m\u001b[0;34m\u001b[0m\u001b[0m\n",
      "\u001b[0;32m/opt/anaconda3/lib/python3.8/site-packages/pandas/core/apply.py\u001b[0m in \u001b[0;36mapply_standard\u001b[0;34m(self)\u001b[0m\n\u001b[1;32m    311\u001b[0m \u001b[0;34m\u001b[0m\u001b[0m\n\u001b[1;32m    312\u001b[0m         \u001b[0;31m# compute the result using the series generator\u001b[0m\u001b[0;34m\u001b[0m\u001b[0;34m\u001b[0m\u001b[0;34m\u001b[0m\u001b[0m\n\u001b[0;32m--> 313\u001b[0;31m         \u001b[0mresults\u001b[0m\u001b[0;34m,\u001b[0m \u001b[0mres_index\u001b[0m \u001b[0;34m=\u001b[0m \u001b[0mself\u001b[0m\u001b[0;34m.\u001b[0m\u001b[0mapply_series_generator\u001b[0m\u001b[0;34m(\u001b[0m\u001b[0;34m)\u001b[0m\u001b[0;34m\u001b[0m\u001b[0;34m\u001b[0m\u001b[0m\n\u001b[0m\u001b[1;32m    314\u001b[0m \u001b[0;34m\u001b[0m\u001b[0m\n\u001b[1;32m    315\u001b[0m         \u001b[0;31m# wrap results\u001b[0m\u001b[0;34m\u001b[0m\u001b[0;34m\u001b[0m\u001b[0;34m\u001b[0m\u001b[0m\n",
      "\u001b[0;32m/opt/anaconda3/lib/python3.8/site-packages/pandas/core/apply.py\u001b[0m in \u001b[0;36mapply_series_generator\u001b[0;34m(self)\u001b[0m\n\u001b[1;32m    339\u001b[0m         \u001b[0;32melse\u001b[0m\u001b[0;34m:\u001b[0m\u001b[0;34m\u001b[0m\u001b[0;34m\u001b[0m\u001b[0m\n\u001b[1;32m    340\u001b[0m             \u001b[0;32mfor\u001b[0m \u001b[0mi\u001b[0m\u001b[0;34m,\u001b[0m \u001b[0mv\u001b[0m \u001b[0;32min\u001b[0m \u001b[0menumerate\u001b[0m\u001b[0;34m(\u001b[0m\u001b[0mseries_gen\u001b[0m\u001b[0;34m)\u001b[0m\u001b[0;34m:\u001b[0m\u001b[0;34m\u001b[0m\u001b[0;34m\u001b[0m\u001b[0m\n\u001b[0;32m--> 341\u001b[0;31m                 \u001b[0mresults\u001b[0m\u001b[0;34m[\u001b[0m\u001b[0mi\u001b[0m\u001b[0;34m]\u001b[0m \u001b[0;34m=\u001b[0m \u001b[0mself\u001b[0m\u001b[0;34m.\u001b[0m\u001b[0mf\u001b[0m\u001b[0;34m(\u001b[0m\u001b[0mv\u001b[0m\u001b[0;34m)\u001b[0m\u001b[0;34m\u001b[0m\u001b[0;34m\u001b[0m\u001b[0m\n\u001b[0m\u001b[1;32m    342\u001b[0m                 \u001b[0mkeys\u001b[0m\u001b[0;34m.\u001b[0m\u001b[0mappend\u001b[0m\u001b[0;34m(\u001b[0m\u001b[0mv\u001b[0m\u001b[0;34m.\u001b[0m\u001b[0mname\u001b[0m\u001b[0;34m)\u001b[0m\u001b[0;34m\u001b[0m\u001b[0;34m\u001b[0m\u001b[0m\n\u001b[1;32m    343\u001b[0m \u001b[0;34m\u001b[0m\u001b[0m\n",
      "\u001b[0;32m/opt/anaconda3/lib/python3.8/site-packages/pandas/core/apply.py\u001b[0m in \u001b[0;36mf\u001b[0;34m(x)\u001b[0m\n\u001b[1;32m    111\u001b[0m \u001b[0;34m\u001b[0m\u001b[0m\n\u001b[1;32m    112\u001b[0m             \u001b[0;32mdef\u001b[0m \u001b[0mf\u001b[0m\u001b[0;34m(\u001b[0m\u001b[0mx\u001b[0m\u001b[0;34m)\u001b[0m\u001b[0;34m:\u001b[0m\u001b[0;34m\u001b[0m\u001b[0;34m\u001b[0m\u001b[0m\n\u001b[0;32m--> 113\u001b[0;31m                 \u001b[0;32mreturn\u001b[0m \u001b[0mfunc\u001b[0m\u001b[0;34m(\u001b[0m\u001b[0mx\u001b[0m\u001b[0;34m,\u001b[0m \u001b[0;34m*\u001b[0m\u001b[0margs\u001b[0m\u001b[0;34m,\u001b[0m \u001b[0;34m**\u001b[0m\u001b[0mkwds\u001b[0m\u001b[0;34m)\u001b[0m\u001b[0;34m\u001b[0m\u001b[0;34m\u001b[0m\u001b[0m\n\u001b[0m\u001b[1;32m    114\u001b[0m \u001b[0;34m\u001b[0m\u001b[0m\n\u001b[1;32m    115\u001b[0m         \u001b[0;32melse\u001b[0m\u001b[0;34m:\u001b[0m\u001b[0;34m\u001b[0m\u001b[0;34m\u001b[0m\u001b[0m\n",
      "\u001b[0;32m/opt/anaconda3/lib/python3.8/site-packages/pandas/io/formats/style.py\u001b[0m in \u001b[0;36m_bar\u001b[0;34m(s, align, colors, width, vmin, vmax)\u001b[0m\n\u001b[1;32m   1173\u001b[0m             \u001b[0msmin\u001b[0m \u001b[0;34m=\u001b[0m \u001b[0;34m-\u001b[0m\u001b[0msmax\u001b[0m\u001b[0;34m\u001b[0m\u001b[0;34m\u001b[0m\u001b[0m\n\u001b[1;32m   1174\u001b[0m         \u001b[0;31m# Transform to percent-range of linear-gradient\u001b[0m\u001b[0;34m\u001b[0m\u001b[0;34m\u001b[0m\u001b[0;34m\u001b[0m\u001b[0m\n\u001b[0;32m-> 1175\u001b[0;31m         \u001b[0mnormed\u001b[0m \u001b[0;34m=\u001b[0m \u001b[0mwidth\u001b[0m \u001b[0;34m*\u001b[0m \u001b[0;34m(\u001b[0m\u001b[0ms\u001b[0m\u001b[0;34m.\u001b[0m\u001b[0mto_numpy\u001b[0m\u001b[0;34m(\u001b[0m\u001b[0mdtype\u001b[0m\u001b[0;34m=\u001b[0m\u001b[0mfloat\u001b[0m\u001b[0;34m)\u001b[0m \u001b[0;34m-\u001b[0m \u001b[0msmin\u001b[0m\u001b[0;34m)\u001b[0m \u001b[0;34m/\u001b[0m \u001b[0;34m(\u001b[0m\u001b[0msmax\u001b[0m \u001b[0;34m-\u001b[0m \u001b[0msmin\u001b[0m \u001b[0;34m+\u001b[0m \u001b[0;36m1e-12\u001b[0m\u001b[0;34m)\u001b[0m\u001b[0;34m\u001b[0m\u001b[0;34m\u001b[0m\u001b[0m\n\u001b[0m\u001b[1;32m   1176\u001b[0m         \u001b[0mzero\u001b[0m \u001b[0;34m=\u001b[0m \u001b[0;34m-\u001b[0m\u001b[0mwidth\u001b[0m \u001b[0;34m*\u001b[0m \u001b[0msmin\u001b[0m \u001b[0;34m/\u001b[0m \u001b[0;34m(\u001b[0m\u001b[0msmax\u001b[0m \u001b[0;34m-\u001b[0m \u001b[0msmin\u001b[0m \u001b[0;34m+\u001b[0m \u001b[0;36m1e-12\u001b[0m\u001b[0;34m)\u001b[0m\u001b[0;34m\u001b[0m\u001b[0;34m\u001b[0m\u001b[0m\n\u001b[1;32m   1177\u001b[0m \u001b[0;34m\u001b[0m\u001b[0m\n",
      "\u001b[0;31mUFuncTypeError\u001b[0m: ufunc 'subtract' did not contain a loop with signature matching types (dtype('<U32'), dtype('<U32')) -> dtype('<U32')"
     ]
    },
    {
     "data": {
      "text/plain": [
       "<pandas.io.formats.style.Styler at 0x7fe16d674940>"
      ]
     },
     "execution_count": 50,
     "metadata": {},
     "output_type": "execute_result"
    }
   ],
   "source": [
    "df[['mh', 'tn', 'dl']].style.bar(subset=['mh'], color='red').bar(subset=['tn'], color='orange').bar(subset=['dl'], color='yellow')"
   ]
  },
  {
   "cell_type": "markdown",
   "metadata": {
    "colab_type": "text",
    "id": "nb967ln7rBvz"
   },
   "source": [
    "# Distribution of data"
   ]
  },
  {
   "cell_type": "markdown",
   "metadata": {
    "colab_type": "text",
    "id": "CM0DALKW1VYX"
   },
   "source": [
    "## Distribution of a single continuous variable"
   ]
  },
  {
   "cell_type": "markdown",
   "metadata": {
    "colab_type": "text",
    "id": "dQdMcHExrGDp"
   },
   "source": [
    "### Histogram"
   ]
  },
  {
   "cell_type": "code",
   "execution_count": 51,
   "metadata": {
    "colab": {},
    "colab_type": "code",
    "id": "lgcUR7mLp3mZ"
   },
   "outputs": [],
   "source": [
    "x = np.random.normal(size=1000)"
   ]
  },
  {
   "cell_type": "code",
   "execution_count": 52,
   "metadata": {
    "colab": {
     "base_uri": "https://localhost:8080/",
     "height": 268
    },
    "colab_type": "code",
    "id": "-jy7uPIprNqu",
    "outputId": "5930306d-4e62-4810-c23d-dfb3b7972b17"
   },
   "outputs": [
    {
     "data": {
      "image/png": "[encoded data removed]",
      "text/plain": [
       "<Figure size 432x288 with 1 Axes>"
      ]
     },
     "metadata": {},
     "output_type": "display_data"
    }
   ],
   "source": [
    "sns.distplot(x);"
   ]
  },
  {
   "cell_type": "code",
   "execution_count": 53,
   "metadata": {
    "colab": {
     "base_uri": "https://localhost:8080/",
     "height": 268
    },
    "colab_type": "code",
    "id": "oKvMsN7lrVn_",
    "outputId": "3aed19fd-03f6-413b-a5e6-6546d255ba9e"
   },
   "outputs": [
    {
     "data": {
      "image/png": "[encoded data removed]",
      "text/plain": [
       "<Figure size 432x288 with 1 Axes>"
      ]
     },
     "metadata": {},
     "output_type": "display_data"
    }
   ],
   "source": [
    "sns.distplot(x, kde=False);"
   ]
  },
  {
   "cell_type": "code",
   "execution_count": null,
   "metadata": {
    "colab": {},
    "colab_type": "code",
    "id": "qToNygU6r-Zb"
   },
   "outputs": [],
   "source": []
  },
  {
   "cell_type": "code",
   "execution_count": 54,
   "metadata": {
    "colab": {
     "base_uri": "https://localhost:8080/",
     "height": 268
    },
    "colab_type": "code",
    "id": "vP6Ntm8orjvN",
    "outputId": "942c125b-64ca-40cf-cfa2-1968f8d6afe4"
   },
   "outputs": [
    {
     "data": {
      "image/png": "[encoded data removed]",
      "text/plain": [
       "<Figure size 432x288 with 1 Axes>"
      ]
     },
     "metadata": {},
     "output_type": "display_data"
    }
   ],
   "source": [
    "sns.distplot(x, kde=False, rug=True);"
   ]
  },
  {
   "cell_type": "code",
   "execution_count": 55,
   "metadata": {
    "colab": {
     "base_uri": "https://localhost:8080/",
     "height": 268
    },
    "colab_type": "code",
    "id": "iAQs0Sgxrnuc",
    "outputId": "97c807fd-6382-4ad0-b16d-be81e45340ab"
   },
   "outputs": [
    {
     "data": {
      "image/png": "[encoded data removed]",
      "text/plain": [
       "<Figure size 432x288 with 1 Axes>"
      ]
     },
     "metadata": {},
     "output_type": "display_data"
    }
   ],
   "source": [
    "sns.distplot(x, kde=False, rug=True, bins=50);"
   ]
  },
  {
   "cell_type": "code",
   "execution_count": 56,
   "metadata": {
    "colab": {
     "base_uri": "https://localhost:8080/",
     "height": 268
    },
    "colab_type": "code",
    "id": "P6FYA5D9sLa_",
    "outputId": "c275fd37-f4db-4252-e75c-4c876d1ff2c8"
   },
   "outputs": [
    {
     "data": {
      "image/png": "[encoded data removed]",
      "text/plain": [
       "<Figure size 432x288 with 1 Axes>"
      ]
     },
     "metadata": {},
     "output_type": "display_data"
    }
   ],
   "source": [
    "sns.kdeplot(x);"
   ]
  },
  {
   "cell_type": "code",
   "execution_count": 57,
   "metadata": {
    "colab": {
     "base_uri": "https://localhost:8080/",
     "height": 268
    },
    "colab_type": "code",
    "id": "lpNZy9SHsVUM",
    "outputId": "055b6019-6fc1-4a35-831b-9d6873df2bc5"
   },
   "outputs": [
    {
     "data": {
      "image/png": "[encoded data removed]",
      "text/plain": [
       "<Figure size 432x288 with 1 Axes>"
      ]
     },
     "metadata": {},
     "output_type": "display_data"
    }
   ],
   "source": [
    "sns.kdeplot(x, shade=True);"
   ]
  },
  {
   "cell_type": "code",
   "execution_count": 58,
   "metadata": {
    "colab": {},
    "colab_type": "code",
    "id": "17HJW83tsZWc"
   },
   "outputs": [],
   "source": [
    "y = np.random.uniform(size=1000)"
   ]
  },
  {
   "cell_type": "code",
   "execution_count": 59,
   "metadata": {
    "colab": {
     "base_uri": "https://localhost:8080/",
     "height": 268
    },
    "colab_type": "code",
    "id": "DxjPLPGZseHZ",
    "outputId": "d372385b-e701-4e86-e345-b61fbc15134f"
   },
   "outputs": [
    {
     "data": {
      "image/png": "[encoded data removed]",
      "text/plain": [
       "<Figure size 432x288 with 1 Axes>"
      ]
     },
     "metadata": {},
     "output_type": "display_data"
    }
   ],
   "source": [
    "sns.kdeplot(x,shade=True)\n",
    "sns.kdeplot(y,shade=True);"
   ]
  },
  {
   "cell_type": "code",
   "execution_count": 60,
   "metadata": {
    "colab": {},
    "colab_type": "code",
    "id": "ojtNhRdLsib3"
   },
   "outputs": [],
   "source": [
    "d = sns.load_dataset('diamonds')"
   ]
  },
  {
   "cell_type": "code",
   "execution_count": 61,
   "metadata": {
    "colab": {
     "base_uri": "https://localhost:8080/",
     "height": 424
    },
    "colab_type": "code",
    "id": "Krl0ozxktLOk",
    "outputId": "4e53dd8c-8c01-4428-c446-a6f41ad66c84"
   },
   "outputs": [
    {
     "data": {
      "text/html": [
       "<div>\n",
       "<style scoped>\n",
       "    .dataframe tbody tr th:only-of-type {\n",
       "        vertical-align: middle;\n",
       "    }\n",
       "\n",
       "    .dataframe tbody tr th {\n",
       "        vertical-align: top;\n",
       "    }\n",
       "\n",
       "    .dataframe thead th {\n",
       "        text-align: right;\n",
       "    }\n",
       "</style>\n",
       "<table border=\"1\" class=\"dataframe\">\n",
       "  <thead>\n",
       "    <tr style=\"text-align: right;\">\n",
       "      <th></th>\n",
       "      <th>carat</th>\n",
       "      <th>cut</th>\n",
       "      <th>color</th>\n",
       "      <th>clarity</th>\n",
       "      <th>depth</th>\n",
       "      <th>table</th>\n",
       "      <th>price</th>\n",
       "      <th>x</th>\n",
       "      <th>y</th>\n",
       "      <th>z</th>\n",
       "    </tr>\n",
       "  </thead>\n",
       "  <tbody>\n",
       "    <tr>\n",
       "      <th>0</th>\n",
       "      <td>0.23</td>\n",
       "      <td>Ideal</td>\n",
       "      <td>E</td>\n",
       "      <td>SI2</td>\n",
       "      <td>61.5</td>\n",
       "      <td>55.0</td>\n",
       "      <td>326</td>\n",
       "      <td>3.95</td>\n",
       "      <td>3.98</td>\n",
       "      <td>2.43</td>\n",
       "    </tr>\n",
       "    <tr>\n",
       "      <th>1</th>\n",
       "      <td>0.21</td>\n",
       "      <td>Premium</td>\n",
       "      <td>E</td>\n",
       "      <td>SI1</td>\n",
       "      <td>59.8</td>\n",
       "      <td>61.0</td>\n",
       "      <td>326</td>\n",
       "      <td>3.89</td>\n",
       "      <td>3.84</td>\n",
       "      <td>2.31</td>\n",
       "    </tr>\n",
       "    <tr>\n",
       "      <th>2</th>\n",
       "      <td>0.23</td>\n",
       "      <td>Good</td>\n",
       "      <td>E</td>\n",
       "      <td>VS1</td>\n",
       "      <td>56.9</td>\n",
       "      <td>65.0</td>\n",
       "      <td>327</td>\n",
       "      <td>4.05</td>\n",
       "      <td>4.07</td>\n",
       "      <td>2.31</td>\n",
       "    </tr>\n",
       "    <tr>\n",
       "      <th>3</th>\n",
       "      <td>0.29</td>\n",
       "      <td>Premium</td>\n",
       "      <td>I</td>\n",
       "      <td>VS2</td>\n",
       "      <td>62.4</td>\n",
       "      <td>58.0</td>\n",
       "      <td>334</td>\n",
       "      <td>4.20</td>\n",
       "      <td>4.23</td>\n",
       "      <td>2.63</td>\n",
       "    </tr>\n",
       "    <tr>\n",
       "      <th>4</th>\n",
       "      <td>0.31</td>\n",
       "      <td>Good</td>\n",
       "      <td>J</td>\n",
       "      <td>SI2</td>\n",
       "      <td>63.3</td>\n",
       "      <td>58.0</td>\n",
       "      <td>335</td>\n",
       "      <td>4.34</td>\n",
       "      <td>4.35</td>\n",
       "      <td>2.75</td>\n",
       "    </tr>\n",
       "    <tr>\n",
       "      <th>...</th>\n",
       "      <td>...</td>\n",
       "      <td>...</td>\n",
       "      <td>...</td>\n",
       "      <td>...</td>\n",
       "      <td>...</td>\n",
       "      <td>...</td>\n",
       "      <td>...</td>\n",
       "      <td>...</td>\n",
       "      <td>...</td>\n",
       "      <td>...</td>\n",
       "    </tr>\n",
       "    <tr>\n",
       "      <th>53935</th>\n",
       "      <td>0.72</td>\n",
       "      <td>Ideal</td>\n",
       "      <td>D</td>\n",
       "      <td>SI1</td>\n",
       "      <td>60.8</td>\n",
       "      <td>57.0</td>\n",
       "      <td>2757</td>\n",
       "      <td>5.75</td>\n",
       "      <td>5.76</td>\n",
       "      <td>3.50</td>\n",
       "    </tr>\n",
       "    <tr>\n",
       "      <th>53936</th>\n",
       "      <td>0.72</td>\n",
       "      <td>Good</td>\n",
       "      <td>D</td>\n",
       "      <td>SI1</td>\n",
       "      <td>63.1</td>\n",
       "      <td>55.0</td>\n",
       "      <td>2757</td>\n",
       "      <td>5.69</td>\n",
       "      <td>5.75</td>\n",
       "      <td>3.61</td>\n",
       "    </tr>\n",
       "    <tr>\n",
       "      <th>53937</th>\n",
       "      <td>0.70</td>\n",
       "      <td>Very Good</td>\n",
       "      <td>D</td>\n",
       "      <td>SI1</td>\n",
       "      <td>62.8</td>\n",
       "      <td>60.0</td>\n",
       "      <td>2757</td>\n",
       "      <td>5.66</td>\n",
       "      <td>5.68</td>\n",
       "      <td>3.56</td>\n",
       "    </tr>\n",
       "    <tr>\n",
       "      <th>53938</th>\n",
       "      <td>0.86</td>\n",
       "      <td>Premium</td>\n",
       "      <td>H</td>\n",
       "      <td>SI2</td>\n",
       "      <td>61.0</td>\n",
       "      <td>58.0</td>\n",
       "      <td>2757</td>\n",
       "      <td>6.15</td>\n",
       "      <td>6.12</td>\n",
       "      <td>3.74</td>\n",
       "    </tr>\n",
       "    <tr>\n",
       "      <th>53939</th>\n",
       "      <td>0.75</td>\n",
       "      <td>Ideal</td>\n",
       "      <td>D</td>\n",
       "      <td>SI2</td>\n",
       "      <td>62.2</td>\n",
       "      <td>55.0</td>\n",
       "      <td>2757</td>\n",
       "      <td>5.83</td>\n",
       "      <td>5.87</td>\n",
       "      <td>3.64</td>\n",
       "    </tr>\n",
       "  </tbody>\n",
       "</table>\n",
       "<p>53940 rows × 10 columns</p>\n",
       "</div>"
      ],
      "text/plain": [
       "       carat        cut color clarity  depth  table  price     x     y     z\n",
       "0       0.23      Ideal     E     SI2   61.5   55.0    326  3.95  3.98  2.43\n",
       "1       0.21    Premium     E     SI1   59.8   61.0    326  3.89  3.84  2.31\n",
       "2       0.23       Good     E     VS1   56.9   65.0    327  4.05  4.07  2.31\n",
       "3       0.29    Premium     I     VS2   62.4   58.0    334  4.20  4.23  2.63\n",
       "4       0.31       Good     J     SI2   63.3   58.0    335  4.34  4.35  2.75\n",
       "...      ...        ...   ...     ...    ...    ...    ...   ...   ...   ...\n",
       "53935   0.72      Ideal     D     SI1   60.8   57.0   2757  5.75  5.76  3.50\n",
       "53936   0.72       Good     D     SI1   63.1   55.0   2757  5.69  5.75  3.61\n",
       "53937   0.70  Very Good     D     SI1   62.8   60.0   2757  5.66  5.68  3.56\n",
       "53938   0.86    Premium     H     SI2   61.0   58.0   2757  6.15  6.12  3.74\n",
       "53939   0.75      Ideal     D     SI2   62.2   55.0   2757  5.83  5.87  3.64\n",
       "\n",
       "[53940 rows x 10 columns]"
      ]
     },
     "execution_count": 61,
     "metadata": {},
     "output_type": "execute_result"
    }
   ],
   "source": [
    "d"
   ]
  },
  {
   "cell_type": "code",
   "execution_count": 62,
   "metadata": {
    "colab": {
     "base_uri": "https://localhost:8080/",
     "height": 344
    },
    "colab_type": "code",
    "id": "vDE94yrHtLsy",
    "outputId": "2a891518-44a2-455f-e779-2b43a86def79"
   },
   "outputs": [
    {
     "name": "stdout",
     "output_type": "stream",
     "text": [
      "<class 'pandas.core.frame.DataFrame'>\n",
      "RangeIndex: 53940 entries, 0 to 53939\n",
      "Data columns (total 10 columns):\n",
      " #   Column   Non-Null Count  Dtype  \n",
      "---  ------   --------------  -----  \n",
      " 0   carat    53940 non-null  float64\n",
      " 1   cut      53940 non-null  object \n",
      " 2   color    53940 non-null  object \n",
      " 3   clarity  53940 non-null  object \n",
      " 4   depth    53940 non-null  float64\n",
      " 5   table    53940 non-null  float64\n",
      " 6   price    53940 non-null  int64  \n",
      " 7   x        53940 non-null  float64\n",
      " 8   y        53940 non-null  float64\n",
      " 9   z        53940 non-null  float64\n",
      "dtypes: float64(6), int64(1), object(3)\n",
      "memory usage: 4.1+ MB\n"
     ]
    }
   ],
   "source": [
    "d.info()"
   ]
  },
  {
   "cell_type": "code",
   "execution_count": 63,
   "metadata": {
    "colab": {
     "base_uri": "https://localhost:8080/",
     "height": 285
    },
    "colab_type": "code",
    "id": "3sL46Ap9tVyd",
    "outputId": "05ed88dc-5694-44bd-87e0-461f8bd01cc6"
   },
   "outputs": [
    {
     "data": {
      "image/png": "[encoded data removed]",
      "text/plain": [
       "<Figure size 432x288 with 1 Axes>"
      ]
     },
     "metadata": {},
     "output_type": "display_data"
    }
   ],
   "source": [
    "sns.distplot(d.carat);"
   ]
  },
  {
   "cell_type": "code",
   "execution_count": 64,
   "metadata": {
    "colab": {
     "base_uri": "https://localhost:8080/",
     "height": 285
    },
    "colab_type": "code",
    "id": "6BlsWi5EtZib",
    "outputId": "790b5153-fac2-4bd4-c7c6-321df7ef6997"
   },
   "outputs": [
    {
     "data": {
      "image/png": "[encoded data removed]",
      "text/plain": [
       "<Figure size 432x288 with 1 Axes>"
      ]
     },
     "metadata": {},
     "output_type": "display_data"
    }
   ],
   "source": [
    "sns.distplot(d.price);"
   ]
  },
  {
   "cell_type": "code",
   "execution_count": 65,
   "metadata": {
    "colab": {
     "base_uri": "https://localhost:8080/",
     "height": 285
    },
    "colab_type": "code",
    "id": "7d6O7-g4tkUw",
    "outputId": "5a3010d2-2fe0-4162-8c0c-152e91d5cb55"
   },
   "outputs": [
    {
     "data": {
      "image/png": "[encoded data removed]",
      "text/plain": [
       "<Figure size 432x288 with 1 Axes>"
      ]
     },
     "metadata": {},
     "output_type": "display_data"
    }
   ],
   "source": [
    "sns.distplot(d.x);"
   ]
  },
  {
   "cell_type": "code",
   "execution_count": 66,
   "metadata": {
    "colab": {
     "base_uri": "https://localhost:8080/",
     "height": 285
    },
    "colab_type": "code",
    "id": "rMgt0WJbtv0y",
    "outputId": "6481e8fb-6d6d-40e2-8b9f-208472e7b7f5"
   },
   "outputs": [
    {
     "data": {
      "image/png": "[encoded data removed]",
      "text/plain": [
       "<Figure size 432x288 with 1 Axes>"
      ]
     },
     "metadata": {},
     "output_type": "display_data"
    }
   ],
   "source": [
    "sns.distplot(d.x, rug=True);"
   ]
  },
  {
   "cell_type": "code",
   "execution_count": 67,
   "metadata": {
    "colab": {
     "base_uri": "https://localhost:8080/",
     "height": 285
    },
    "colab_type": "code",
    "id": "WBx0dAHDt4iN",
    "outputId": "0d89b58e-74cb-4ee2-d8e0-ce71d65ee6fd"
   },
   "outputs": [
    {
     "data": {
      "image/png": "[encoded data removed]",
      "text/plain": [
       "<Figure size 432x288 with 1 Axes>"
      ]
     },
     "metadata": {},
     "output_type": "display_data"
    }
   ],
   "source": [
    "sns.distplot(d.sample(1000).x, rug=True, bins=50);"
   ]
  },
  {
   "cell_type": "code",
   "execution_count": 68,
   "metadata": {
    "colab": {
     "base_uri": "https://localhost:8080/",
     "height": 268
    },
    "colab_type": "code",
    "id": "XYmc9QT3uHu4",
    "outputId": "92a3081c-ce58-4776-e438-778a849405f7"
   },
   "outputs": [
    {
     "data": {
      "image/png": "[encoded data removed]",
      "text/plain": [
       "<Figure size 432x288 with 1 Axes>"
      ]
     },
     "metadata": {},
     "output_type": "display_data"
    }
   ],
   "source": [
    "sns.kdeplot(d.x, shade=True)\n",
    "sns.kdeplot(d.y, shade=True)\n",
    "sns.kdeplot(d.z, shade=True);"
   ]
  },
  {
   "cell_type": "markdown",
   "metadata": {
    "colab_type": "text",
    "id": "AU5PMsynvyNI"
   },
   "source": [
    "### Box plot"
   ]
  },
  {
   "cell_type": "code",
   "execution_count": 69,
   "metadata": {
    "colab": {},
    "colab_type": "code",
    "id": "CwUvubCeubm2"
   },
   "outputs": [],
   "source": [
    "x = np.random.normal(size=1000)"
   ]
  },
  {
   "cell_type": "code",
   "execution_count": 70,
   "metadata": {
    "colab": {
     "base_uri": "https://localhost:8080/",
     "height": 287
    },
    "colab_type": "code",
    "id": "C_7hdmGyv4UZ",
    "outputId": "7396b07d-9ff5-415c-dca8-89d21971e2f9"
   },
   "outputs": [
    {
     "data": {
      "text/plain": [
       "<matplotlib.axes._subplots.AxesSubplot at 0x7fe170287460>"
      ]
     },
     "execution_count": 70,
     "metadata": {},
     "output_type": "execute_result"
    },
    {
     "data": {
      "image/png": "[encoded data removed]",
      "text/plain": [
       "<Figure size 432x288 with 1 Axes>"
      ]
     },
     "metadata": {},
     "output_type": "display_data"
    }
   ],
   "source": [
    "sns.boxplot(x)"
   ]
  },
  {
   "cell_type": "code",
   "execution_count": 71,
   "metadata": {
    "colab": {
     "base_uri": "https://localhost:8080/",
     "height": 268
    },
    "colab_type": "code",
    "id": "1zfwlIa5SPI9",
    "outputId": "1590d4b1-13a7-4163-c030-aacb7cf59f4a"
   },
   "outputs": [
    {
     "data": {
      "image/png": "[encoded data removed]",
      "text/plain": [
       "<Figure size 432x288 with 1 Axes>"
      ]
     },
     "metadata": {},
     "output_type": "display_data"
    }
   ],
   "source": [
    "sns.kdeplot(x);"
   ]
  },
  {
   "cell_type": "code",
   "execution_count": 72,
   "metadata": {
    "colab": {},
    "colab_type": "code",
    "id": "jSGJi8cZv5_G"
   },
   "outputs": [],
   "source": [
    "x = np.random.uniform(size=1000)"
   ]
  },
  {
   "cell_type": "code",
   "execution_count": 73,
   "metadata": {
    "colab": {
     "base_uri": "https://localhost:8080/",
     "height": 268
    },
    "colab_type": "code",
    "id": "YJVxKFqowNmH",
    "outputId": "d4163fac-7331-4b99-cc38-c29f473309b1"
   },
   "outputs": [
    {
     "data": {
      "image/png": "[encoded data removed]",
      "text/plain": [
       "<Figure size 432x288 with 1 Axes>"
      ]
     },
     "metadata": {},
     "output_type": "display_data"
    }
   ],
   "source": [
    "sns.boxplot(x);"
   ]
  },
  {
   "cell_type": "code",
   "execution_count": 74,
   "metadata": {
    "colab": {
     "base_uri": "https://localhost:8080/",
     "height": 287
    },
    "colab_type": "code",
    "id": "26-PssWawOmC",
    "outputId": "e27086b5-9a16-4478-abae-5e51484d2b06"
   },
   "outputs": [
    {
     "data": {
      "text/plain": [
       "<matplotlib.axes._subplots.AxesSubplot at 0x7fe1702d08e0>"
      ]
     },
     "execution_count": 74,
     "metadata": {},
     "output_type": "execute_result"
    },
    {
     "data": {
      "image/png": "[encoded data removed]",
      "text/plain": [
       "<Figure size 432x288 with 1 Axes>"
      ]
     },
     "metadata": {},
     "output_type": "display_data"
    }
   ],
   "source": [
    "sns.boxplot(x, whis=0.2)"
   ]
  },
  {
   "cell_type": "code",
   "execution_count": 75,
   "metadata": {
    "colab": {},
    "colab_type": "code",
    "id": "qgjfQVRFwyhy"
   },
   "outputs": [],
   "source": [
    "x = np.random.normal(size=1000)"
   ]
  },
  {
   "cell_type": "code",
   "execution_count": 76,
   "metadata": {
    "colab": {
     "base_uri": "https://localhost:8080/",
     "height": 268
    },
    "colab_type": "code",
    "id": "wG9w6r_sw4sN",
    "outputId": "129beb71-7558-44b7-9929-349ce7607365"
   },
   "outputs": [
    {
     "data": {
      "image/png": "[encoded data removed]",
      "text/plain": [
       "<Figure size 432x288 with 1 Axes>"
      ]
     },
     "metadata": {},
     "output_type": "display_data"
    }
   ],
   "source": [
    "sns.boxplot(x, whis=0.5);"
   ]
  },
  {
   "cell_type": "code",
   "execution_count": 77,
   "metadata": {
    "colab": {
     "base_uri": "https://localhost:8080/",
     "height": 268
    },
    "colab_type": "code",
    "id": "_2fwOvM_w526",
    "outputId": "c5cdc40e-9350-4542-9c39-48b170478331"
   },
   "outputs": [
    {
     "data": {
      "image/png": "[encoded data removed]",
      "text/plain": [
       "<Figure size 432x288 with 1 Axes>"
      ]
     },
     "metadata": {},
     "output_type": "display_data"
    }
   ],
   "source": [
    "sns.boxplot(x, whis=0.5, fliersize=1);"
   ]
  },
  {
   "cell_type": "code",
   "execution_count": 78,
   "metadata": {
    "colab": {
     "base_uri": "https://localhost:8080/",
     "height": 248
    },
    "colab_type": "code",
    "id": "pxTQQeqaxCWF",
    "outputId": "030a4224-1167-4924-ab34-08f4b0ece27c"
   },
   "outputs": [
    {
     "data": {
      "image/png": "[encoded data removed]",
      "text/plain": [
       "<Figure size 432x288 with 1 Axes>"
      ]
     },
     "metadata": {},
     "output_type": "display_data"
    }
   ],
   "source": [
    "sns.boxplot(x, whis=0.5, fliersize=1, orient='v');"
   ]
  },
  {
   "cell_type": "code",
   "execution_count": 79,
   "metadata": {
    "colab": {
     "base_uri": "https://localhost:8080/",
     "height": 285
    },
    "colab_type": "code",
    "id": "V3fNp-nkxHU7",
    "outputId": "60047e00-c53d-4d25-bf44-0790783ef91f"
   },
   "outputs": [
    {
     "data": {
      "image/png": "[encoded data removed]",
      "text/plain": [
       "<Figure size 432x288 with 1 Axes>"
      ]
     },
     "metadata": {},
     "output_type": "display_data"
    }
   ],
   "source": [
    "sns.boxplot(d.price);"
   ]
  },
  {
   "cell_type": "code",
   "execution_count": 80,
   "metadata": {
    "colab": {
     "base_uri": "https://localhost:8080/",
     "height": 268
    },
    "colab_type": "code",
    "id": "XksHg4OkxTua",
    "outputId": "1d533532-ce24-4952-dd08-83f4023271c8"
   },
   "outputs": [
    {
     "data": {
      "image/png": "[encoded data removed]",
      "text/plain": [
       "<Figure size 432x288 with 1 Axes>"
      ]
     },
     "metadata": {},
     "output_type": "display_data"
    }
   ],
   "source": [
    "sns.kdeplot(d.price);"
   ]
  },
  {
   "cell_type": "code",
   "execution_count": 81,
   "metadata": {
    "colab": {
     "base_uri": "https://localhost:8080/",
     "height": 285
    },
    "colab_type": "code",
    "id": "UsqoBpzexhoB",
    "outputId": "6133d129-421a-40ea-a16c-5d3c1e96818a"
   },
   "outputs": [
    {
     "data": {
      "image/png": "[encoded data removed]",
      "text/plain": [
       "<Figure size 432x288 with 1 Axes>"
      ]
     },
     "metadata": {},
     "output_type": "display_data"
    }
   ],
   "source": [
    "sns.boxplot(d.x);"
   ]
  },
  {
   "cell_type": "code",
   "execution_count": 82,
   "metadata": {
    "colab": {
     "base_uri": "https://localhost:8080/",
     "height": 285
    },
    "colab_type": "code",
    "id": "CWFBLt1qxlZP",
    "outputId": "b3fae2ee-a44d-4f13-8c0e-1272107db57d"
   },
   "outputs": [
    {
     "data": {
      "image/png": "[encoded data removed]",
      "text/plain": [
       "<Figure size 432x288 with 1 Axes>"
      ]
     },
     "metadata": {},
     "output_type": "display_data"
    }
   ],
   "source": [
    "sns.distplot(d.x);"
   ]
  },
  {
   "cell_type": "code",
   "execution_count": 83,
   "metadata": {
    "colab": {
     "base_uri": "https://localhost:8080/",
     "height": 304
    },
    "colab_type": "code",
    "id": "Uk3Unod_yKQA",
    "outputId": "635d20b5-e49d-46a6-877b-22ac14b68c82"
   },
   "outputs": [
    {
     "data": {
      "text/plain": [
       "<matplotlib.axes._subplots.AxesSubplot at 0x7fe17048ce80>"
      ]
     },
     "execution_count": 83,
     "metadata": {},
     "output_type": "execute_result"
    },
    {
     "data": {
      "image/png": "[encoded data removed]",
      "text/plain": [
       "<Figure size 432x288 with 1 Axes>"
      ]
     },
     "metadata": {},
     "output_type": "display_data"
    }
   ],
   "source": [
    "sns.distplot(d.carat)"
   ]
  },
  {
   "cell_type": "code",
   "execution_count": 84,
   "metadata": {
    "colab": {
     "base_uri": "https://localhost:8080/",
     "height": 304
    },
    "colab_type": "code",
    "id": "az5uhg2ByUra",
    "outputId": "ee66a4b6-06bb-4865-bafc-005d4bb569ee"
   },
   "outputs": [
    {
     "data": {
      "text/plain": [
       "<matplotlib.axes._subplots.AxesSubplot at 0x7fe1706e9d90>"
      ]
     },
     "execution_count": 84,
     "metadata": {},
     "output_type": "execute_result"
    },
    {
     "data": {
      "image/png": "[encoded data removed]",
      "text/plain": [
       "<Figure size 432x288 with 1 Axes>"
      ]
     },
     "metadata": {},
     "output_type": "display_data"
    }
   ],
   "source": [
    "sns.boxplot(d.carat)"
   ]
  },
  {
   "cell_type": "markdown",
   "metadata": {
    "colab_type": "text",
    "id": "dEIWTDf3SUnv"
   },
   "source": [
    "### Boxen plots"
   ]
  },
  {
   "cell_type": "code",
   "execution_count": 85,
   "metadata": {
    "colab": {
     "base_uri": "https://localhost:8080/",
     "height": 285
    },
    "colab_type": "code",
    "id": "21h2WKZWSWFz",
    "outputId": "f9088004-bf20-4d5f-df12-ae894b860e94"
   },
   "outputs": [
    {
     "data": {
      "image/png": "[encoded data removed]",
      "text/plain": [
       "<Figure size 432x288 with 1 Axes>"
      ]
     },
     "metadata": {},
     "output_type": "display_data"
    }
   ],
   "source": [
    "sns.boxplot(d.sample(5000).carat);"
   ]
  },
  {
   "cell_type": "code",
   "execution_count": 86,
   "metadata": {
    "colab": {
     "base_uri": "https://localhost:8080/",
     "height": 285
    },
    "colab_type": "code",
    "id": "-AXSDNJvSeCh",
    "outputId": "96ec08b5-539a-45fc-ade5-5b8ccdea2e3f"
   },
   "outputs": [
    {
     "data": {
      "image/png": "[encoded data removed]",
      "text/plain": [
       "<Figure size 432x288 with 1 Axes>"
      ]
     },
     "metadata": {},
     "output_type": "display_data"
    }
   ],
   "source": [
    "sns.boxenplot(d.sample(5000).carat);"
   ]
  },
  {
   "cell_type": "code",
   "execution_count": 87,
   "metadata": {
    "colab": {
     "base_uri": "https://localhost:8080/",
     "height": 285
    },
    "colab_type": "code",
    "id": "Q0RsDThvS1Dz",
    "outputId": "b72822d3-a12f-4342-9b10-eee3d0f9ca74"
   },
   "outputs": [
    {
     "ename": "NameError",
     "evalue": "name 'p' is not defined",
     "output_type": "error",
     "traceback": [
      "\u001b[0;31m---------------------------------------------------------------------------\u001b[0m",
      "\u001b[0;31mNameError\u001b[0m                                 Traceback (most recent call last)",
      "\u001b[0;32m<ipython-input-87-c629f56e0be1>\u001b[0m in \u001b[0;36m<module>\u001b[0;34m\u001b[0m\n\u001b[0;32m----> 1\u001b[0;31m \u001b[0msns\u001b[0m\u001b[0;34m.\u001b[0m\u001b[0mboxenplot\u001b[0m\u001b[0;34m(\u001b[0m\u001b[0mx\u001b[0m \u001b[0;34m=\u001b[0m \u001b[0;34m'island'\u001b[0m\u001b[0;34m,\u001b[0m \u001b[0my\u001b[0m \u001b[0;34m=\u001b[0m \u001b[0;34m'body_mass_g'\u001b[0m\u001b[0;34m,\u001b[0m \u001b[0mdata\u001b[0m \u001b[0;34m=\u001b[0m \u001b[0mp\u001b[0m\u001b[0;34m)\u001b[0m\u001b[0;34m;\u001b[0m\u001b[0;34m\u001b[0m\u001b[0;34m\u001b[0m\u001b[0m\n\u001b[0m",
      "\u001b[0;31mNameError\u001b[0m: name 'p' is not defined"
     ]
    }
   ],
   "source": [
    "sns.boxenplot(x = 'island', y = 'body_mass_g', data = p);"
   ]
  },
  {
   "cell_type": "markdown",
   "metadata": {
    "colab_type": "text",
    "id": "nLOS4if41PY8"
   },
   "source": [
    "## Distribution of a categorical variable"
   ]
  },
  {
   "cell_type": "markdown",
   "metadata": {
    "colab_type": "text",
    "id": "7QBHTvjc1bAB"
   },
   "source": [
    "### Bar plots"
   ]
  },
  {
   "cell_type": "code",
   "execution_count": null,
   "metadata": {
    "colab": {},
    "colab_type": "code",
    "id": "pIdfAoQ6yV3_"
   },
   "outputs": [],
   "source": [
    "c = d.groupby('cut')['cut'].count()"
   ]
  },
  {
   "cell_type": "code",
   "execution_count": null,
   "metadata": {
    "colab": {
     "base_uri": "https://localhost:8080/",
     "height": 304
    },
    "colab_type": "code",
    "id": "v3i59_Ej1nHP",
    "outputId": "252f4b2e-281e-498f-fe17-254108772215"
   },
   "outputs": [],
   "source": [
    "sns.barplot(x=c.index, y=c.values)"
   ]
  },
  {
   "cell_type": "code",
   "execution_count": null,
   "metadata": {
    "colab": {},
    "colab_type": "code",
    "id": "1SGR9Ufu14JM"
   },
   "outputs": [],
   "source": [
    "c = d.groupby('clarity')['clarity'].count()"
   ]
  },
  {
   "cell_type": "code",
   "execution_count": null,
   "metadata": {
    "colab": {
     "base_uri": "https://localhost:8080/",
     "height": 285
    },
    "colab_type": "code",
    "id": "NygnWBE01_YU",
    "outputId": "72c7d0cc-c97f-44b3-db00-80c344e7036c"
   },
   "outputs": [],
   "source": [
    "sns.barplot(x=c.index, y=c.values);"
   ]
  },
  {
   "cell_type": "code",
   "execution_count": null,
   "metadata": {
    "colab": {},
    "colab_type": "code",
    "id": "omREvt702AZu"
   },
   "outputs": [],
   "source": [
    "c = d.groupby('color')['color'].count()"
   ]
  },
  {
   "cell_type": "code",
   "execution_count": null,
   "metadata": {
    "colab": {
     "base_uri": "https://localhost:8080/",
     "height": 285
    },
    "colab_type": "code",
    "id": "3TO_sQLj2HzJ",
    "outputId": "d743840c-7d38-45cf-bb6f-a5b08c20c1ee"
   },
   "outputs": [],
   "source": [
    "sns.barplot(x=c.index, y=c.values);"
   ]
  },
  {
   "cell_type": "markdown",
   "metadata": {
    "colab_type": "text",
    "id": "2TrcjSmC4IQF"
   },
   "source": [
    "## Joint distribution of two variables"
   ]
  },
  {
   "cell_type": "markdown",
   "metadata": {
    "colab_type": "text",
    "id": "7zoUiGGg4KQD"
   },
   "source": [
    "### Jointplot"
   ]
  },
  {
   "cell_type": "code",
   "execution_count": null,
   "metadata": {
    "colab": {},
    "colab_type": "code",
    "id": "Us_awbci3xG2"
   },
   "outputs": [],
   "source": [
    "x = np.random.normal(size=1000)\n",
    "y = np.random.normal(size=1000)"
   ]
  },
  {
   "cell_type": "code",
   "execution_count": null,
   "metadata": {
    "colab": {},
    "colab_type": "code",
    "id": "R0WfaLXv4Xm5"
   },
   "outputs": [],
   "source": [
    "df = pd.DataFrame({'x': x, 'y': y})"
   ]
  },
  {
   "cell_type": "code",
   "execution_count": null,
   "metadata": {
    "colab": {
     "base_uri": "https://localhost:8080/",
     "height": 437
    },
    "colab_type": "code",
    "id": "PVOHDU9M4eEt",
    "outputId": "085be942-f5d2-4eb8-bc7c-916bb2f6dcc0"
   },
   "outputs": [],
   "source": [
    "sns.jointplot('x', 'y', data=df);"
   ]
  },
  {
   "cell_type": "code",
   "execution_count": null,
   "metadata": {
    "colab": {
     "base_uri": "https://localhost:8080/",
     "height": 437
    },
    "colab_type": "code",
    "id": "ekkc_fiY5ApB",
    "outputId": "32446da1-03f3-43d0-9383-7daa52cc9b02"
   },
   "outputs": [],
   "source": [
    "sns.jointplot('x', 'y', data=df, kind='kde');"
   ]
  },
  {
   "cell_type": "code",
   "execution_count": null,
   "metadata": {
    "colab": {},
    "colab_type": "code",
    "id": "8WWdapNP5OPg"
   },
   "outputs": [],
   "source": [
    "x = np.random.normal(size=1000)\n",
    "y = 3 * x + np.random.normal(size=1000)/5"
   ]
  },
  {
   "cell_type": "code",
   "execution_count": null,
   "metadata": {
    "colab": {},
    "colab_type": "code",
    "id": "2QLSTd6o5ifG"
   },
   "outputs": [],
   "source": [
    "df = pd.DataFrame({'x': x, 'y': y})"
   ]
  },
  {
   "cell_type": "code",
   "execution_count": null,
   "metadata": {
    "colab": {
     "base_uri": "https://localhost:8080/",
     "height": 437
    },
    "colab_type": "code",
    "id": "afBeaic95j9Z",
    "outputId": "c96e73b5-966c-4158-b37d-c90e9a3a4453"
   },
   "outputs": [],
   "source": [
    "sns.jointplot('x', 'y', data=df, kind='kde');"
   ]
  },
  {
   "cell_type": "code",
   "execution_count": null,
   "metadata": {
    "colab": {
     "base_uri": "https://localhost:8080/",
     "height": 437
    },
    "colab_type": "code",
    "id": "Ev4jCxCc5lO4",
    "outputId": "a263eb00-06d1-482a-e969-daeb7b0dac07"
   },
   "outputs": [],
   "source": [
    "sns.jointplot('carat', 'price', data=d, kind='kde');"
   ]
  },
  {
   "cell_type": "code",
   "execution_count": null,
   "metadata": {
    "colab": {
     "base_uri": "https://localhost:8080/",
     "height": 437
    },
    "colab_type": "code",
    "id": "QEv2rv3-54d6",
    "outputId": "a1901c17-977a-4190-afc1-b6294e177f67"
   },
   "outputs": [],
   "source": [
    "sns.jointplot('carat', 'price', data=d.sample(500));"
   ]
  },
  {
   "cell_type": "code",
   "execution_count": null,
   "metadata": {
    "colab": {
     "base_uri": "https://localhost:8080/",
     "height": 437
    },
    "colab_type": "code",
    "id": "E3wY2mbG6UDK",
    "outputId": "3cb08604-df6c-4fb7-8db2-739f5249322d"
   },
   "outputs": [],
   "source": [
    "sns.jointplot('x', 'price', data=d.sample(500));"
   ]
  },
  {
   "cell_type": "code",
   "execution_count": null,
   "metadata": {
    "colab": {
     "base_uri": "https://localhost:8080/",
     "height": 437
    },
    "colab_type": "code",
    "id": "Ik8racbs6hKE",
    "outputId": "0e5e6871-44e8-466c-c336-ff811949a2ba"
   },
   "outputs": [],
   "source": [
    "sns.jointplot('x', 'price', data=d.sample(500), kind='kde');"
   ]
  },
  {
   "cell_type": "markdown",
   "metadata": {
    "colab_type": "text",
    "id": "PBPxwd7B9W6D"
   },
   "source": [
    "### Swarm plot"
   ]
  },
  {
   "cell_type": "code",
   "execution_count": null,
   "metadata": {
    "colab": {
     "base_uri": "https://localhost:8080/",
     "height": 285
    },
    "colab_type": "code",
    "id": "7ZZxZoE66vps",
    "outputId": "7f4f7c4a-f11c-4c8c-d388-5d5a06472ac9"
   },
   "outputs": [],
   "source": [
    "sns.swarmplot(d.sample(1000).carat);"
   ]
  },
  {
   "cell_type": "code",
   "execution_count": null,
   "metadata": {
    "colab": {
     "base_uri": "https://localhost:8080/",
     "height": 285
    },
    "colab_type": "code",
    "id": "NvCfRFBf965X",
    "outputId": "11b4973a-b2d0-42bf-b5f5-248fb0cd457a"
   },
   "outputs": [],
   "source": [
    "sns.swarmplot(d.sample(100).price);"
   ]
  },
  {
   "cell_type": "code",
   "execution_count": null,
   "metadata": {
    "colab": {
     "base_uri": "https://localhost:8080/",
     "height": 344
    },
    "colab_type": "code",
    "id": "-cCUANUo-ApC",
    "outputId": "6a983f64-9f4d-4703-86d3-edc0d7f6d5ac"
   },
   "outputs": [],
   "source": [
    "d.info()"
   ]
  },
  {
   "cell_type": "code",
   "execution_count": null,
   "metadata": {
    "colab": {
     "base_uri": "https://localhost:8080/",
     "height": 285
    },
    "colab_type": "code",
    "id": "SvkuY2oI-uib",
    "outputId": "363a2707-9341-40fa-85dc-e920af8f3dc1"
   },
   "outputs": [],
   "source": [
    "sns.swarmplot(x='cut', y='price', data=d.sample(1000));"
   ]
  },
  {
   "cell_type": "code",
   "execution_count": null,
   "metadata": {
    "colab": {
     "base_uri": "https://localhost:8080/",
     "height": 285
    },
    "colab_type": "code",
    "id": "OBs5tRai-6gp",
    "outputId": "74768762-4961-4ca3-b34f-c93d6b2ed7b4"
   },
   "outputs": [],
   "source": [
    "sns.swarmplot(x='color', y='price', data=d.sample(1000));"
   ]
  },
  {
   "cell_type": "code",
   "execution_count": null,
   "metadata": {
    "colab": {
     "base_uri": "https://localhost:8080/",
     "height": 285
    },
    "colab_type": "code",
    "id": "ROlG8s76_Rsl",
    "outputId": "1cca55b8-5570-48fe-bd4d-04528e06fc8d"
   },
   "outputs": [],
   "source": [
    "sns.swarmplot(x='clarity', y='price', data=d.sample(1000));"
   ]
  },
  {
   "cell_type": "code",
   "execution_count": null,
   "metadata": {
    "colab": {
     "base_uri": "https://localhost:8080/",
     "height": 285
    },
    "colab_type": "code",
    "id": "Ztc8706o_aDY",
    "outputId": "1c671d13-2824-4050-ce73-d7e5548dfc16"
   },
   "outputs": [],
   "source": [
    "sns.swarmplot(x='clarity', y='price', data=d.sample(1000));"
   ]
  },
  {
   "cell_type": "code",
   "execution_count": null,
   "metadata": {
    "colab": {},
    "colab_type": "code",
    "id": "EeFUInhH_xDu"
   },
   "outputs": [],
   "source": [
    "p = sns.load_dataset('penguins')"
   ]
  },
  {
   "cell_type": "code",
   "execution_count": null,
   "metadata": {
    "colab": {
     "base_uri": "https://localhost:8080/",
     "height": 444
    },
    "colab_type": "code",
    "id": "eMffy9hmAGtC",
    "outputId": "dbaf9d07-f380-441c-a008-7e5b5beeebd0"
   },
   "outputs": [],
   "source": [
    "p"
   ]
  },
  {
   "cell_type": "code",
   "execution_count": null,
   "metadata": {
    "colab": {
     "base_uri": "https://localhost:8080/",
     "height": 285
    },
    "colab_type": "code",
    "id": "aQ9aGQHEAHFQ",
    "outputId": "3a213c55-2948-458e-f4e7-8a19f119c353"
   },
   "outputs": [],
   "source": [
    "sns.swarmplot(x='species', y='body_mass_g', data=p);"
   ]
  },
  {
   "cell_type": "code",
   "execution_count": null,
   "metadata": {
    "colab": {
     "base_uri": "https://localhost:8080/",
     "height": 285
    },
    "colab_type": "code",
    "id": "AD_XhJt2AdnS",
    "outputId": "2dcfbab6-7e70-4a60-8fde-30db266660b1"
   },
   "outputs": [],
   "source": [
    "sns.swarmplot(x='island', y='body_mass_g', data=p);"
   ]
  },
  {
   "cell_type": "code",
   "execution_count": null,
   "metadata": {
    "colab": {
     "base_uri": "https://localhost:8080/",
     "height": 285
    },
    "colab_type": "code",
    "id": "tbzsZRe3Araf",
    "outputId": "61f81312-d344-4756-c7a1-796a1be12cd0"
   },
   "outputs": [],
   "source": [
    "sns.swarmplot(x='body_mass_g', data=p);"
   ]
  },
  {
   "cell_type": "markdown",
   "metadata": {
    "colab_type": "text",
    "id": "XtVU_pkbB9KT"
   },
   "source": [
    "### Violin plot"
   ]
  },
  {
   "cell_type": "code",
   "execution_count": null,
   "metadata": {
    "colab": {
     "base_uri": "https://localhost:8080/",
     "height": 285
    },
    "colab_type": "code",
    "id": "9imBYdspA5W8",
    "outputId": "ff016788-941e-4bf9-9fd5-e477e7c9ac45"
   },
   "outputs": [],
   "source": [
    "sns.violinplot(x='body_mass_g', data=p);"
   ]
  },
  {
   "cell_type": "code",
   "execution_count": null,
   "metadata": {
    "colab": {
     "base_uri": "https://localhost:8080/",
     "height": 285
    },
    "colab_type": "code",
    "id": "9q_RrXA_CD2g",
    "outputId": "f137a19f-f4d7-4d6c-e794-3791217e7127"
   },
   "outputs": [],
   "source": [
    "sns.boxplot(x='body_mass_g', data=p);"
   ]
  },
  {
   "cell_type": "code",
   "execution_count": null,
   "metadata": {
    "colab": {
     "base_uri": "https://localhost:8080/",
     "height": 268
    },
    "colab_type": "code",
    "id": "Aj8uMXi6Cb4f",
    "outputId": "04c41f62-4bb5-4999-cb0c-90c4a2b26428"
   },
   "outputs": [],
   "source": [
    "sns.kdeplot(p.body_mass_g, shade=True);"
   ]
  },
  {
   "cell_type": "code",
   "execution_count": null,
   "metadata": {
    "colab": {
     "base_uri": "https://localhost:8080/",
     "height": 268
    },
    "colab_type": "code",
    "id": "Gwh8TbKuESx3",
    "outputId": "77f8613d-6751-411e-b717-af2f161645b8"
   },
   "outputs": [],
   "source": [
    "fig, axs = plt.subplots(nrows=4)\n",
    "sns.swarmplot(x='body_mass_g', data=p, ax=axs[0]);\n",
    "sns.violinplot(x='body_mass_g', data=p, ax=axs[1]);\n",
    "sns.boxplot(x='body_mass_g', data=p, ax=axs[2]);\n",
    "sns.kdeplot(p.body_mass_g, shade=True, ax=axs[3]);"
   ]
  },
  {
   "cell_type": "code",
   "execution_count": null,
   "metadata": {
    "colab": {
     "base_uri": "https://localhost:8080/",
     "height": 594
    },
    "colab_type": "code",
    "id": "Tt1YxljMEuO8",
    "outputId": "932fc4ee-fd47-4766-d02c-e564303143e3"
   },
   "outputs": [],
   "source": [
    "fig, axs = plt.subplots(nrows=4)\n",
    "fig.set_size_inches(5, 10);\n",
    "sns.swarmplot(x='body_mass_g', data=p, ax=axs[0]);\n",
    "sns.violinplot(x='body_mass_g', data=p, ax=axs[1]);\n",
    "sns.boxplot(x='body_mass_g', data=p, ax=axs[2]);\n",
    "sns.kdeplot(p.body_mass_g, shade=True, ax=axs[3]);"
   ]
  },
  {
   "cell_type": "code",
   "execution_count": null,
   "metadata": {
    "colab": {
     "base_uri": "https://localhost:8080/",
     "height": 594
    },
    "colab_type": "code",
    "id": "wvKfsvsbE8It",
    "outputId": "d24234c4-8003-4371-fb7f-46d06813d5d6"
   },
   "outputs": [],
   "source": [
    "fig, axs = plt.subplots(nrows=4)\n",
    "fig.set_size_inches(5, 10);\n",
    "p1 = sns.swarmplot(x='body_mass_g', data=p, ax=axs[0]);\n",
    "p1.set(xlim=(2000, 7500));\n",
    "p2 = sns.violinplot(x='body_mass_g', data=p, ax=axs[1]);\n",
    "p2.set(xlim=(2000, 7500));\n",
    "p3 = sns.boxplot(x='body_mass_g', data=p, ax=axs[2]);\n",
    "p3.set(xlim=(2000, 7500));\n",
    "p4 = sns.kdeplot(p.body_mass_g, shade=True, ax=axs[3]);\n",
    "p4.set(xlim=(2000, 7500));"
   ]
  },
  {
   "cell_type": "code",
   "execution_count": null,
   "metadata": {
    "colab": {
     "base_uri": "https://localhost:8080/",
     "height": 285
    },
    "colab_type": "code",
    "id": "nssneckrFcK-",
    "outputId": "001732b0-e098-4dca-b7b8-579bebba0c0b"
   },
   "outputs": [],
   "source": [
    "sns.violinplot(x='body_mass_g', data=p);"
   ]
  },
  {
   "cell_type": "code",
   "execution_count": null,
   "metadata": {
    "colab": {
     "base_uri": "https://localhost:8080/",
     "height": 256
    },
    "colab_type": "code",
    "id": "fB3SWfDr32tJ",
    "outputId": "79e3b6b8-8070-456f-b0bd-7401d926943f"
   },
   "outputs": [],
   "source": [
    "sns.violinplot(x='body_mass_g', data=p, orient='v');"
   ]
  },
  {
   "cell_type": "code",
   "execution_count": null,
   "metadata": {
    "colab": {
     "base_uri": "https://localhost:8080/",
     "height": 285
    },
    "colab_type": "code",
    "id": "hSqQk4rL4Jn8",
    "outputId": "e0633013-f057-4d1b-bc42-19c3053e1370"
   },
   "outputs": [],
   "source": [
    "sns.violinplot(x='species', y='body_mass_g', data=p);"
   ]
  },
  {
   "cell_type": "code",
   "execution_count": null,
   "metadata": {
    "colab": {
     "base_uri": "https://localhost:8080/",
     "height": 226
    },
    "colab_type": "code",
    "id": "g_hEGQbF4iN8",
    "outputId": "2c126923-4695-4da0-e47d-aa5ac2190bed"
   },
   "outputs": [],
   "source": [
    "p.head()"
   ]
  },
  {
   "cell_type": "code",
   "execution_count": null,
   "metadata": {
    "colab": {
     "base_uri": "https://localhost:8080/",
     "height": 285
    },
    "colab_type": "code",
    "id": "25F7NZON4S7h",
    "outputId": "4955c979-2645-4b4a-c9f9-0ca3cdb1bc06"
   },
   "outputs": [],
   "source": [
    "sns.violinplot(x='species', y='flipper_length_mm', data=p);"
   ]
  },
  {
   "cell_type": "code",
   "execution_count": null,
   "metadata": {
    "colab": {
     "base_uri": "https://localhost:8080/",
     "height": 285
    },
    "colab_type": "code",
    "id": "21pVuAFL4kLR",
    "outputId": "e088614d-af09-4f2e-f11d-0fce8b065e27"
   },
   "outputs": [],
   "source": [
    "sns.violinplot(x='island', y='flipper_length_mm', data=p);"
   ]
  },
  {
   "cell_type": "code",
   "execution_count": null,
   "metadata": {
    "colab": {
     "base_uri": "https://localhost:8080/",
     "height": 285
    },
    "colab_type": "code",
    "id": "4_nxGOrW4tNE",
    "outputId": "4807b2e4-8425-42b8-e05d-3a1ee4234d8c"
   },
   "outputs": [],
   "source": [
    "sns.violinplot(x='sex', y='flipper_length_mm', data=p);"
   ]
  },
  {
   "cell_type": "code",
   "execution_count": null,
   "metadata": {
    "colab": {
     "base_uri": "https://localhost:8080/",
     "height": 285
    },
    "colab_type": "code",
    "id": "l0pQil4r5BVN",
    "outputId": "6c45e525-d0bb-4154-a0ad-488634e78c3c"
   },
   "outputs": [],
   "source": [
    "sns.violinplot(x='island', y='flipper_length_mm', data=p);"
   ]
  },
  {
   "cell_type": "code",
   "execution_count": null,
   "metadata": {
    "colab": {
     "base_uri": "https://localhost:8080/",
     "height": 285
    },
    "colab_type": "code",
    "id": "70mKu29F5QwF",
    "outputId": "737a72aa-b3a1-4811-b641-7d7b3f7de12e"
   },
   "outputs": [],
   "source": [
    "sns.swarmplot(x='island', y='flipper_length_mm', data=p);"
   ]
  },
  {
   "cell_type": "code",
   "execution_count": null,
   "metadata": {
    "colab": {
     "base_uri": "https://localhost:8080/",
     "height": 285
    },
    "colab_type": "code",
    "id": "RVj7bMCE5SvO",
    "outputId": "40aa1839-5790-4ff5-9aff-8534e60310cf"
   },
   "outputs": [],
   "source": [
    "sns.swarmplot(x='island', y='flipper_length_mm', hue='sex', data=p);"
   ]
  },
  {
   "cell_type": "code",
   "execution_count": null,
   "metadata": {
    "colab": {
     "base_uri": "https://localhost:8080/",
     "height": 285
    },
    "colab_type": "code",
    "id": "OIt4x3CW5iGL",
    "outputId": "f829909d-e1b3-45b1-f4bc-cffc3ba486d4"
   },
   "outputs": [],
   "source": [
    "sns.swarmplot(x='island', y='flipper_length_mm', hue='species', data=p);"
   ]
  },
  {
   "cell_type": "code",
   "execution_count": null,
   "metadata": {
    "colab": {
     "base_uri": "https://localhost:8080/",
     "height": 285
    },
    "colab_type": "code",
    "id": "lUoe9xww5qvV",
    "outputId": "fea2889a-940b-4f2d-f040-05649ff44065"
   },
   "outputs": [],
   "source": [
    "sns.swarmplot(x='cut', y='price', data=d.sample(1000));"
   ]
  },
  {
   "cell_type": "code",
   "execution_count": null,
   "metadata": {
    "colab": {
     "base_uri": "https://localhost:8080/",
     "height": 285
    },
    "colab_type": "code",
    "id": "-KSThLbs58W3",
    "outputId": "ac62c636-cf95-4ea1-d11d-a4f7e76011a5"
   },
   "outputs": [],
   "source": [
    "sns.swarmplot(x='cut', y='price', hue='color', data=d.sample(1000));"
   ]
  },
  {
   "cell_type": "code",
   "execution_count": null,
   "metadata": {
    "colab": {
     "base_uri": "https://localhost:8080/",
     "height": 285
    },
    "colab_type": "code",
    "id": "Tjjsf_N4-hAm",
    "outputId": "bb80ee73-d79a-4f92-e317-aa0a8b8fd223"
   },
   "outputs": [],
   "source": [
    "sns.violinplot(x='island', y='flipper_length_mm', data=p[p.sex=='MALE']);"
   ]
  },
  {
   "cell_type": "code",
   "execution_count": null,
   "metadata": {
    "colab": {
     "base_uri": "https://localhost:8080/",
     "height": 285
    },
    "colab_type": "code",
    "id": "Ux_oxjq6AWv_",
    "outputId": "ab57a77b-2d3a-44c5-de2a-afb25e4f033d"
   },
   "outputs": [],
   "source": [
    "sns.violinplot(x='island', y='flipper_length_mm', data=p[p.sex=='FEMALE']);"
   ]
  },
  {
   "cell_type": "code",
   "execution_count": null,
   "metadata": {
    "colab": {
     "base_uri": "https://localhost:8080/",
     "height": 285
    },
    "colab_type": "code",
    "id": "hBanVRVyAaho",
    "outputId": "b964f6f9-40e3-42e5-a330-2b5aedd1a4d5"
   },
   "outputs": [],
   "source": [
    "sns.violinplot(x='island', y='flipper_length_mm', hue='sex', split=True, data=p);"
   ]
  },
  {
   "cell_type": "code",
   "execution_count": null,
   "metadata": {
    "colab": {
     "base_uri": "https://localhost:8080/",
     "height": 285
    },
    "colab_type": "code",
    "id": "FcGQBowMAjzP",
    "outputId": "cf93b566-a4db-4b18-ea99-8cbd27db4208"
   },
   "outputs": [],
   "source": [
    "sns.violinplot(x='island', y='flipper_length_mm', \n",
    "               hue='sex', split=True, inner='quartile', data=p);"
   ]
  },
  {
   "cell_type": "code",
   "execution_count": null,
   "metadata": {
    "colab": {},
    "colab_type": "code",
    "id": "EdRZvYQABTLK"
   },
   "outputs": [],
   "source": [
    "sns.violinplot(x='island', y='flipper_length_mm', \n",
    "               hue='species', split=True, inner='quartile', data=p);"
   ]
  },
  {
   "cell_type": "code",
   "execution_count": null,
   "metadata": {
    "colab": {
     "base_uri": "https://localhost:8080/",
     "height": 285
    },
    "colab_type": "code",
    "id": "Yg2E7IBBBfS3",
    "outputId": "015285fe-56d1-4e01-b678-576761504a4b"
   },
   "outputs": [],
   "source": [
    "sns.violinplot(x='island', y='flipper_length_mm', \n",
    "               hue='species', data=p);"
   ]
  },
  {
   "cell_type": "code",
   "execution_count": null,
   "metadata": {
    "colab": {},
    "colab_type": "code",
    "id": "5H4GoBggBlBj"
   },
   "outputs": [],
   "source": [
    "p['binary_species'] = p.species.apply(lambda x: 0 if x == 'Gentoo' else 1)"
   ]
  },
  {
   "cell_type": "code",
   "execution_count": null,
   "metadata": {
    "colab": {},
    "colab_type": "code",
    "id": "DfymiGdcCPid"
   },
   "outputs": [],
   "source": [
    "p"
   ]
  },
  {
   "cell_type": "code",
   "execution_count": null,
   "metadata": {
    "colab": {
     "base_uri": "https://localhost:8080/",
     "height": 285
    },
    "colab_type": "code",
    "id": "Zy-leKHECSo5",
    "outputId": "79ef8d6b-2195-468d-8f7d-81267475ce57"
   },
   "outputs": [],
   "source": [
    "sns.violinplot(x='island', y='flipper_length_mm', \n",
    "               hue='binary_species', split=True, inner='quartile', data=p);"
   ]
  },
  {
   "cell_type": "code",
   "execution_count": null,
   "metadata": {
    "colab": {},
    "colab_type": "code",
    "id": "ruOG6p07CXzx"
   },
   "outputs": [],
   "source": [
    "p['binary_species'] = p.species.apply(lambda x: 'Gentoo' if x == 'Gentoo' else 'Adelie | Chinstrap')"
   ]
  },
  {
   "cell_type": "code",
   "execution_count": null,
   "metadata": {
    "colab": {
     "base_uri": "https://localhost:8080/",
     "height": 285
    },
    "colab_type": "code",
    "id": "8Y8dJKEcCeWZ",
    "outputId": "edeb00de-f794-4d01-83d0-67ddc4fd6e32"
   },
   "outputs": [],
   "source": [
    "sns.violinplot(x='island', y='flipper_length_mm', \n",
    "               hue='binary_species', split=True, inner='quartile', data=p);"
   ]
  },
  {
   "cell_type": "markdown",
   "metadata": {
    "colab_type": "text",
    "id": "StGta6nFJFN1"
   },
   "source": [
    "### Faceted plotting"
   ]
  },
  {
   "cell_type": "code",
   "execution_count": null,
   "metadata": {
    "colab": {
     "base_uri": "https://localhost:8080/",
     "height": 268
    },
    "colab_type": "code",
    "id": "yquwf10hIRFd",
    "outputId": "5458b927-53de-4001-cc96-318d2734c00b"
   },
   "outputs": [],
   "source": [
    "sns.kdeplot(p.flipper_length_mm, shade=True);"
   ]
  },
  {
   "cell_type": "code",
   "execution_count": null,
   "metadata": {
    "colab": {
     "base_uri": "https://localhost:8080/",
     "height": 268
    },
    "colab_type": "code",
    "id": "EbJeMjthJKmU",
    "outputId": "74ac035d-d0af-4fee-968c-536373642963"
   },
   "outputs": [],
   "source": [
    "sns.kdeplot(p[p.species == 'Gentoo'].flipper_length_mm, shade=True);"
   ]
  },
  {
   "cell_type": "code",
   "execution_count": null,
   "metadata": {
    "colab": {
     "base_uri": "https://localhost:8080/",
     "height": 268
    },
    "colab_type": "code",
    "id": "xNnFgiQcJP3H",
    "outputId": "2c21a549-6d3c-4359-e5a5-32f9932b72b1"
   },
   "outputs": [],
   "source": [
    "sns.kdeplot(p[p.species == 'Gentoo'].flipper_length_mm, shade=True);\n",
    "sns.kdeplot(p[p.species == 'Adelie'].flipper_length_mm, shade=True);\n",
    "sns.kdeplot(p[p.species == 'Chinstrap'].flipper_length_mm, shade=True);"
   ]
  },
  {
   "cell_type": "code",
   "execution_count": null,
   "metadata": {
    "colab": {
     "base_uri": "https://localhost:8080/",
     "height": 268
    },
    "colab_type": "code",
    "id": "W8PYA5WJJS5i",
    "outputId": "3118c911-d12d-4d99-e39e-750b50b76803"
   },
   "outputs": [],
   "source": [
    "sns.kdeplot(p[p.species == 'Gentoo'].flipper_length_mm, shade=True);\n",
    "sns.kdeplot(p[p.species == 'Adelie'].flipper_length_mm, shade=True);\n",
    "sns.kdeplot(p[p.species == 'Chinstrap'].flipper_length_mm, shade=True);\n",
    "plt.legend(title='Species', labels=['Gentoo', 'Adelie', 'Chinstrap']);\n"
   ]
  },
  {
   "cell_type": "code",
   "execution_count": null,
   "metadata": {
    "colab": {
     "base_uri": "https://localhost:8080/",
     "height": 285
    },
    "colab_type": "code",
    "id": "WfASwS3xJdvX",
    "outputId": "59067ca3-e426-4b62-e911-7ad8199a5091"
   },
   "outputs": [],
   "source": [
    "sns.boxplot(p[p.species == 'Gentoo'].flipper_length_mm);\n",
    "sns.boxplot(p[p.species == 'Adelie'].flipper_length_mm);\n",
    "sns.boxplot(p[p.species == 'Chinstrap'].flipper_length_mm);\n",
    "plt.legend(title='Species', labels=['Gentoo', 'Adelie', 'Chinstrap']);\n"
   ]
  },
  {
   "cell_type": "code",
   "execution_count": null,
   "metadata": {
    "colab": {
     "base_uri": "https://localhost:8080/",
     "height": 268
    },
    "colab_type": "code",
    "id": "w5K8pFh3Jj9V",
    "outputId": "ba257d12-7ef4-4ac4-8ce3-5c90489c9dac"
   },
   "outputs": [],
   "source": [
    "fig, axs = plt.subplots(nrows=3);\n",
    "sns.kdeplot(p[p.species == 'Gentoo'].flipper_length_mm, shade=True, ax=axs[0]);\n",
    "sns.kdeplot(p[p.species == 'Adelie'].flipper_length_mm, shade=True, ax=axs[1]);\n",
    "sns.kdeplot(p[p.species == 'Chinstrap'].flipper_length_mm, shade=True, ax=axs[2]);\n",
    "# plt.legend(title='Species', labels=['Gentoo', 'Adelie', 'Chinstrap']);"
   ]
  },
  {
   "cell_type": "code",
   "execution_count": null,
   "metadata": {
    "colab": {
     "base_uri": "https://localhost:8080/",
     "height": 293
    },
    "colab_type": "code",
    "id": "LXLkmg_qJvk6",
    "outputId": "f18481d7-c880-4868-88a2-752c3e1d03d0"
   },
   "outputs": [],
   "source": [
    "fig, axs = plt.subplots(nrows=3);\n",
    "sns.kdeplot(p[p.species == 'Gentoo'].flipper_length_mm, shade=True, ax=axs[0]);\n",
    "sns.kdeplot(p[p.species == 'Adelie'].flipper_length_mm, shade=True, ax=axs[1]);\n",
    "sns.kdeplot(p[p.species == 'Chinstrap'].flipper_length_mm, shade=True, ax=axs[2]);\n",
    "plt.tight_layout()\n",
    "# plt.legend(title='Species', labels=['Gentoo', 'Adelie', 'Chinstrap']);"
   ]
  },
  {
   "cell_type": "code",
   "execution_count": null,
   "metadata": {
    "colab": {
     "base_uri": "https://localhost:8080/",
     "height": 293
    },
    "colab_type": "code",
    "id": "Kg8br_5nJ27q",
    "outputId": "0d9518e7-fd62-4c8e-9ef9-789e2de00d90"
   },
   "outputs": [],
   "source": [
    "column_name = 'species'\n",
    "nrows = len(p[column_name].unique())\n",
    "fig, axs = plt.subplots(nrows=nrows);\n",
    "i = 0\n",
    "for c_v in p[column_name].unique():\n",
    "    pl = sns.kdeplot(p[p[column_name] == c_v].flipper_length_mm, \n",
    "                shade=True, ax=axs[i]);\n",
    "    pl.set_title(c_v);\n",
    "    i += 1\n",
    "plt.tight_layout()"
   ]
  },
  {
   "cell_type": "code",
   "execution_count": null,
   "metadata": {
    "colab": {
     "base_uri": "https://localhost:8080/",
     "height": 653
    },
    "colab_type": "code",
    "id": "zhtIx83UKSKE",
    "outputId": "869751bf-ae81-4569-d5b9-20538093c483"
   },
   "outputs": [],
   "source": [
    "g = sns.FacetGrid(p, row='species');\n",
    "g.map(sns.kdeplot, 'flipper_length_mm', shade=True);"
   ]
  },
  {
   "cell_type": "code",
   "execution_count": null,
   "metadata": {
    "colab": {
     "base_uri": "https://localhost:8080/",
     "height": 221
    },
    "colab_type": "code",
    "id": "7O4ke8ziK-Vx",
    "outputId": "7f5a3b81-350d-4d5d-a2e7-12381731e2f4"
   },
   "outputs": [],
   "source": [
    "g = sns.FacetGrid(p, col='species');\n",
    "g.map(sns.kdeplot, 'flipper_length_mm', shade=True);"
   ]
  },
  {
   "cell_type": "code",
   "execution_count": null,
   "metadata": {
    "colab": {
     "base_uri": "https://localhost:8080/",
     "height": 221
    },
    "colab_type": "code",
    "id": "dYGbOe6rLJAA",
    "outputId": "feba5cf6-9ccd-41b5-a303-74944040944c"
   },
   "outputs": [],
   "source": [
    "g = sns.FacetGrid(p, col='island');\n",
    "g.map(sns.kdeplot, 'flipper_length_mm', shade=True);"
   ]
  },
  {
   "cell_type": "code",
   "execution_count": null,
   "metadata": {
    "colab": {
     "base_uri": "https://localhost:8080/",
     "height": 221
    },
    "colab_type": "code",
    "id": "4GdIB07hLNT7",
    "outputId": "76a2fc51-64d8-45d9-a53f-3d6b2eb43d8e"
   },
   "outputs": [],
   "source": [
    "g = sns.FacetGrid(p, col='island');\n",
    "g.map(sns.distplot, 'flipper_length_mm');"
   ]
  },
  {
   "cell_type": "code",
   "execution_count": null,
   "metadata": {
    "colab": {
     "base_uri": "https://localhost:8080/",
     "height": 437
    },
    "colab_type": "code",
    "id": "meP_niOSLQdx",
    "outputId": "b8888b77-fcde-4bbe-a5c4-43a05a9b52d1"
   },
   "outputs": [],
   "source": [
    "g = sns.FacetGrid(p, col='island', row='sex');\n",
    "g.map(sns.distplot, 'flipper_length_mm');"
   ]
  },
  {
   "cell_type": "code",
   "execution_count": null,
   "metadata": {
    "colab": {
     "base_uri": "https://localhost:8080/",
     "height": 437
    },
    "colab_type": "code",
    "id": "jxkK9PU3LUn-",
    "outputId": "30006569-29bf-4b02-82d9-93efa6fd9a65"
   },
   "outputs": [],
   "source": [
    "g = sns.FacetGrid(p, col='island', row='sex');\n",
    "g.map(sns.kdeplot, 'flipper_length_mm');"
   ]
  },
  {
   "cell_type": "code",
   "execution_count": null,
   "metadata": {
    "colab": {
     "base_uri": "https://localhost:8080/",
     "height": 496
    },
    "colab_type": "code",
    "id": "fMj5yhdELbD1",
    "outputId": "aa1d9611-99b7-4c9c-e387-966091d34ca8"
   },
   "outputs": [],
   "source": [
    "g = sns.FacetGrid(p, col='island', row='sex');\n",
    "g.map(sns.violinplot, 'flipper_length_mm');"
   ]
  },
  {
   "cell_type": "markdown",
   "metadata": {
    "colab_type": "text",
    "id": "a5EWqcLkM4Ex"
   },
   "source": [
    "### Pair plot"
   ]
  },
  {
   "cell_type": "code",
   "execution_count": null,
   "metadata": {
    "colab": {
     "base_uri": "https://localhost:8080/",
     "height": 437
    },
    "colab_type": "code",
    "id": "Y3UMtIQJLdBH",
    "outputId": "4b63919c-41d4-403f-f1b0-69e1642ede55"
   },
   "outputs": [],
   "source": [
    "sns.jointplot(p.body_mass_g, p.flipper_length_mm);"
   ]
  },
  {
   "cell_type": "code",
   "execution_count": null,
   "metadata": {
    "colab": {
     "base_uri": "https://localhost:8080/",
     "height": 437
    },
    "colab_type": "code",
    "id": "u3pqBD4hM-z6",
    "outputId": "d043475e-b46f-489c-aa69-bbbb0bcba41f"
   },
   "outputs": [],
   "source": [
    "sns.jointplot(p.body_mass_g, p.culmen_depth_mm);"
   ]
  },
  {
   "cell_type": "code",
   "execution_count": null,
   "metadata": {
    "colab": {
     "base_uri": "https://localhost:8080/",
     "height": 703
    },
    "colab_type": "code",
    "id": "OzX9sBtkNHOU",
    "outputId": "ac643b5b-f5e0-433c-fe48-867dce137b39"
   },
   "outputs": [],
   "source": [
    "sns.pairplot(p);"
   ]
  },
  {
   "cell_type": "code",
   "execution_count": null,
   "metadata": {
    "colab": {
     "base_uri": "https://localhost:8080/",
     "height": 635
    },
    "colab_type": "code",
    "id": "5Q8CsEd5Na2Y",
    "outputId": "37c577e8-da05-4d9b-dcd2-6ec20d6648ea"
   },
   "outputs": [],
   "source": [
    "sns.pairplot(p, hue='sex');"
   ]
  },
  {
   "cell_type": "code",
   "execution_count": null,
   "metadata": {
    "colab": {
     "base_uri": "https://localhost:8080/",
     "height": 629
    },
    "colab_type": "code",
    "id": "ABDzPaT3N203",
    "outputId": "58781531-8737-478e-b098-ed6934678421"
   },
   "outputs": [],
   "source": [
    "sns.pairplot(p, hue='species');"
   ]
  },
  {
   "cell_type": "code",
   "execution_count": null,
   "metadata": {
    "colab": {
     "base_uri": "https://localhost:8080/",
     "height": 702
    },
    "colab_type": "code",
    "id": "AFIIoYWYOBt8",
    "outputId": "bbd9777b-7b85-4cc2-c06c-1f45f9d385b9"
   },
   "outputs": [],
   "source": [
    "sns.pairplot(d.sample(1000));"
   ]
  },
  {
   "cell_type": "code",
   "execution_count": null,
   "metadata": {
    "colab": {
     "base_uri": "https://localhost:8080/",
     "height": 654
    },
    "colab_type": "code",
    "id": "7tcuFYJJOO4l",
    "outputId": "ec4d56c7-4f3e-436c-8959-756323b201a5"
   },
   "outputs": [],
   "source": [
    "sns.pairplot(d.sample(1000), hue='cut');"
   ]
  },
  {
   "cell_type": "code",
   "execution_count": null,
   "metadata": {
    "colab": {
     "base_uri": "https://localhost:8080/",
     "height": 654
    },
    "colab_type": "code",
    "id": "VtCpajueO4eH",
    "outputId": "0b9fab04-8274-4e55-a36a-4a96acd2b9e1"
   },
   "outputs": [],
   "source": [
    "sns.pairplot(d.sample(1000), hue='cut', corner=True);"
   ]
  },
  {
   "cell_type": "code",
   "execution_count": null,
   "metadata": {
    "colab": {},
    "colab_type": "code",
    "id": "PnAGzdbbPHgK"
   },
   "outputs": [],
   "source": []
  }
 ],
 "metadata": {
  "colab": {
   "collapsed_sections": [],
   "name": "FDS_W11.ipynb",
   "provenance": [],
   "toc_visible": true
  },
  "kernelspec": {
   "display_name": "Python 3",
   "language": "python",
   "name": "python3"
  },
  "language_info": {
   "codemirror_mode": {
    "name": "ipython",
    "version": 3
   },
   "file_extension": ".py",
   "mimetype": "text/x-python",
   "name": "python",
   "nbconvert_exporter": "python",
   "pygments_lexer": "ipython3",
   "version": "3.8.3"
  }
 },
 "nbformat": 4,
 "nbformat_minor": 1
}
