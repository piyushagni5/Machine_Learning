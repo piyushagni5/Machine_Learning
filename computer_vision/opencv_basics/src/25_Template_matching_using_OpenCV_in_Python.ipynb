{
 "cells": [
  {
   "cell_type": "markdown",
   "metadata": {},
   "source": [
    "<code>Template Matching</code> is a method for searching and finding the location of a template image in a larger image. OpenCV comes with a function cv.matchTemplate() for this purpose. It simply slides the template image over the input image (as in 2D convolution) and compares the template and patch of input image under the template image. Several comparison methods are implemented in OpenCV. (You can check docs for more details). It returns a grayscale image, where each pixel denotes how much does the neighbourhood of that pixel match with template.\n",
    "\n",
    "If input image is of size (WxH) and template image is of size (wxh), output image will have a size of (W-w+1, H-h+1). Once you got the result, you can use cv.minMaxLoc() function to find where is the maximum/minimum value. Take it as the top-left corner of rectangle and take (w,h) as width and height of the rectangle. That rectangle is your region of template."
   ]
  },
  {
   "cell_type": "code",
   "execution_count": 3,
   "metadata": {},
   "outputs": [
    {
     "name": "stdout",
     "output_type": "stream",
     "text": [
      "[[0.59987295 0.60598916 0.61407864 ... 0.7978744  0.799312   0.80096716]\n",
      " [0.6084357  0.6142141  0.62179726 ... 0.7951078  0.7958125  0.79683936]\n",
      " [0.6176637  0.6229685  0.6302487  ... 0.7923716  0.7922509  0.79245806]\n",
      " ...\n",
      " [0.85123634 0.8511445  0.85103637 ... 0.83852106 0.8381775  0.8385832 ]\n",
      " [0.8519455  0.8523054  0.8524011  ... 0.8343016  0.8343028  0.8341832 ]\n",
      " [0.85322446 0.8528339  0.8529277  ... 0.83101434 0.8316856  0.83208305]]\n",
      "(array([85], dtype=int64), array([220], dtype=int64))\n"
     ]
    }
   ],
   "source": [
    "import cv2\n",
    "import numpy as np\n",
    "img = cv2.imread(\"C:/Users/piyus/All programming files/Computer_Vision/data/messi5.jpg\")\n",
    "grey_img = cv2.cvtColor(img, cv2.COLOR_BGR2GRAY)\n",
    "template = cv2.imread(\"C:/Users/piyus/All programming files/Computer_Vision/data/messi_face.jpg\", 0)\n",
    "\n",
    "res = cv2.matchTemplate(grey_img, template, cv2.TM_CCORR_NORMED )\n",
    "print(res)\n",
    "threshold = 0.99;\n",
    "loc = np.where(res >= threshold)\n",
    "print(loc)\n",
    "\n",
    "cv2.imshow(\"img\", img)\n",
    "cv2.waitKey(0)\n",
    "cv2.destroyAllWindows()"
   ]
  },
  {
   "cell_type": "markdown",
   "metadata": {},
   "source": [
    "#### Note: At point [85],[220] (left top point of template image)--> we got our maximum template matching score, so we will draw rectangle at this point"
   ]
  },
  {
   "cell_type": "code",
   "execution_count": 11,
   "metadata": {},
   "outputs": [
    {
     "name": "stdout",
     "output_type": "stream",
     "text": [
      "[[0.59987295 0.60598916 0.61407864 ... 0.7978744  0.799312   0.80096716]\n",
      " [0.6084357  0.6142141  0.62179726 ... 0.7951078  0.7958125  0.79683936]\n",
      " [0.6176637  0.6229685  0.6302487  ... 0.7923716  0.7922509  0.79245806]\n",
      " ...\n",
      " [0.85123634 0.8511445  0.85103637 ... 0.83852106 0.8381775  0.8385832 ]\n",
      " [0.8519455  0.8523054  0.8524011  ... 0.8343016  0.8343028  0.8341832 ]\n",
      " [0.85322446 0.8528339  0.8529277  ... 0.83101434 0.8316856  0.83208305]]\n",
      "(array([83, 83, 83, 84, 84, 84, 84, 84, 84, 85, 85, 85, 85, 85, 85, 85, 86,\n",
      "       86, 86, 86, 86, 86, 87, 87, 87], dtype=int64), array([219, 220, 221, 218, 219, 220, 221, 222, 223, 217, 218, 219, 220,\n",
      "       221, 222, 223, 218, 219, 220, 221, 222, 223, 219, 220, 221],\n",
      "      dtype=int64))\n"
     ]
    }
   ],
   "source": [
    "import cv2\n",
    "import numpy as np\n",
    "img = cv2.imread(\"C:/Users/piyus/All programming files/Computer_Vision/data/messi5.jpg\")\n",
    "grey_img = cv2.cvtColor(img, cv2.COLOR_BGR2GRAY)\n",
    "template = cv2.imread(\"C:/Users/piyus/All programming files/Computer_Vision/data/messi_face.jpg\", 0)\n",
    "\n",
    "w, h = template.shape[::-1]          # returning image shape in reverse order, rows will give height & vice versa  \n",
    "\n",
    "res = cv2.matchTemplate(grey_img, template, cv2.TM_CCORR_NORMED )\n",
    "print(res)\n",
    "threshold = 0.9;\n",
    "loc = np.where(res >= threshold)\n",
    "print(loc)\n",
    "for pt in zip(*loc[::-1]):           # also picking up loc in reverse order.\n",
    "    cv2.rectangle(img, pt, (pt[0] + w, pt[1] + h), (0, 0, 255), 2)\n",
    "\n",
    "cv2.imshow(\"img\", img)\n",
    "cv2.waitKey(0)\n",
    "cv2.destroyAllWindows()"
   ]
  },
  {
   "cell_type": "markdown",
   "metadata": {},
   "source": [
    "### Note:- As our threshold = 0.9 so we are getting many points which satisfied this theshold. hence getting more thicker boundary of our rectangle."
   ]
  },
  {
   "cell_type": "code",
   "execution_count": 12,
   "metadata": {},
   "outputs": [
    {
     "name": "stdout",
     "output_type": "stream",
     "text": [
      "[[0.59987295 0.60598916 0.61407864 ... 0.7978744  0.799312   0.80096716]\n",
      " [0.6084357  0.6142141  0.62179726 ... 0.7951078  0.7958125  0.79683936]\n",
      " [0.6176637  0.6229685  0.6302487  ... 0.7923716  0.7922509  0.79245806]\n",
      " ...\n",
      " [0.85123634 0.8511445  0.85103637 ... 0.83852106 0.8381775  0.8385832 ]\n",
      " [0.8519455  0.8523054  0.8524011  ... 0.8343016  0.8343028  0.8341832 ]\n",
      " [0.85322446 0.8528339  0.8529277  ... 0.83101434 0.8316856  0.83208305]]\n",
      "(array([85], dtype=int64), array([220], dtype=int64))\n"
     ]
    }
   ],
   "source": [
    "import cv2\n",
    "import numpy as np\n",
    "img = cv2.imread(\"C:/Users/piyus/All programming files/Computer_Vision/data/messi5.jpg\")\n",
    "grey_img = cv2.cvtColor(img, cv2.COLOR_BGR2GRAY)\n",
    "template = cv2.imread(\"C:/Users/piyus/All programming files/Computer_Vision/data/messi_face.jpg\", 0)\n",
    "\n",
    "w, h = template.shape[::-1]          # returning image shape in reverse order, rows will give height & vice versa  \n",
    "\n",
    "res = cv2.matchTemplate(grey_img, template, cv2.TM_CCORR_NORMED )\n",
    "print(res)\n",
    "threshold = 0.99;\n",
    "loc = np.where(res >= threshold)\n",
    "print(loc)\n",
    "for pt in zip(*loc[::-1]):           # also picking up loc in reverse order.\n",
    "    cv2.rectangle(img, pt, (pt[0] + w, pt[1] + h), (0, 0, 255), 2)\n",
    "\n",
    "cv2.imshow(\"img\", img)\n",
    "cv2.waitKey(0)\n",
    "cv2.destroyAllWindows()"
   ]
  },
  {
   "cell_type": "markdown",
   "metadata": {},
   "source": [
    "### At threshold = 0.99--> we are getting thinner boundary."
   ]
  }
 ],
 "metadata": {
  "kernelspec": {
   "display_name": "Python 3",
   "language": "python",
   "name": "python3"
  },
  "language_info": {
   "codemirror_mode": {
    "name": "ipython",
    "version": 3
   },
   "file_extension": ".py",
   "mimetype": "text/x-python",
   "name": "python",
   "nbconvert_exporter": "python",
   "pygments_lexer": "ipython3",
   "version": "3.7.3"
  }
 },
 "nbformat": 4,
 "nbformat_minor": 2
}
