{
 "cells": [
  {
   "cell_type": "markdown",
   "metadata": {},
   "source": [
    "In the previous section, we used one global value as a threshold. But this might not be good in all cases, e.g. if an image has different lighting conditions in different areas. In that case, adaptive thresholding can help. Here, the algorithm determines the threshold for a pixel based on a small region around it. So we get different thresholds for different regions of the same image which gives better results for images with varying illumination.\n",
    "\n",
    "In addition to the parameters described above, the method cv.adaptiveThreshold takes three input parameters:\n",
    "\n",
    "The <code><b> adaptiveMethod </b> </code> decides how the threshold value is calculated:\n",
    "\n",
    "<span style=\"background-color: #FFFF00\">cv.ADAPTIVE_THRESH_MEAN_C</span>:  the threshold value T(x,y) is a mean of the blockSize×blockSize neighborhood of (x,y) minus C.\n",
    "\n",
    "<span style=\"background-color: #FFFF00\">cv.ADAPTIVE_THRESH_GAUSSIAN_C</span>:  the threshold value T(x,y) is a weighted sum (cross-correlation with a Gaussian window) of the blockSize×blockSize neighborhood of (x,y) minus C . The default sigma (standard deviation) is used for the specified blockSize.\n",
    "\n",
    "The blockSize determines the size of the neighbourhood area and C is a constant that is subtracted from the mean or weighted sum of the neighbourhood pixels."
   ]
  },
  {
   "cell_type": "code",
   "execution_count": 2,
   "metadata": {},
   "outputs": [],
   "source": [
    "import cv2 as cv\n",
    "import numpy as np\n",
    "\n",
    "img = cv.imread('C:/Users/piyus/All programming files/Computer_Vision/data/sudoku.png',0)\n",
    "_, th1 = cv.threshold(img, 127, 255, cv.THRESH_BINARY)\n",
    "\n",
    "th2 = cv.adaptiveThreshold(img, 255, cv.ADAPTIVE_THRESH_MEAN_C, cv.THRESH_BINARY, 11, 2);    \n",
    "th3 = cv.adaptiveThreshold(img, 255, cv.ADAPTIVE_THRESH_GAUSSIAN_C, cv.THRESH_BINARY, 11, 2);\n",
    "\n",
    "# 255--> max. value which can assign to pixels, 11--> neighbourhood size, 2--> constant\n",
    "\n",
    "cv.imshow(\"Image\", img)\n",
    "cv.imshow(\"THRESH_BINARY\", th1)\n",
    "cv.imshow(\"ADAPTIVE_THRESH_MEAN_C\", th2)\n",
    "cv.imshow(\"ADAPTIVE_THRESH_GAUSSIAN_C\", th3)\n",
    "\n",
    "cv.waitKey(0)\n",
    "cv.destroyAllWindows()"
   ]
  },
  {
   "cell_type": "code",
   "execution_count": null,
   "metadata": {},
   "outputs": [],
   "source": []
  }
 ],
 "metadata": {
  "kernelspec": {
   "display_name": "Python 3",
   "language": "python",
   "name": "python3"
  },
  "language_info": {
   "codemirror_mode": {
    "name": "ipython",
    "version": 3
   },
   "file_extension": ".py",
   "mimetype": "text/x-python",
   "name": "python",
   "nbconvert_exporter": "python",
   "pygments_lexer": "ipython3",
   "version": "3.7.3"
  }
 },
 "nbformat": 4,
 "nbformat_minor": 2
}
