{
 "cells": [
  {
   "cell_type": "markdown",
   "metadata": {},
   "source": [
    "#### Color Picker :-\n",
    "\n",
    "Note:- Intensity would be given in RGB format but here we work on BGR format...\n",
    "\n",
    "https://www.google.com/search?q=rgb+color+picker&oq=rgb+color+pic&aqs=chrome.0.0j69i57j0l4.9960j1j7&sourceid=chrome&ie=UTF-8"
   ]
  },
  {
   "cell_type": "code",
   "execution_count": 15,
   "metadata": {},
   "outputs": [],
   "source": [
    "import utils\n",
    "import numpy as np\n",
    "import cv2"
   ]
  },
  {
   "cell_type": "code",
   "execution_count": 16,
   "metadata": {},
   "outputs": [],
   "source": [
    "path = utils.PATH\n",
    "img = cv2.imread(path + 'lena.jpg', 1)\n",
    "\n",
    "img_line = cv2.line(img, (0,0), (255,255), (255,0,0), 5)  # (img, starting pt., ending pt, BGR format(blue col. is active), thickness of line)\n",
    "\n",
    "cv2.imshow('image', img_line)\n",
    "\n",
    "cv2.waitKey(0)\n",
    "cv2.destroyAllWindows()        "
   ]
  },
  {
   "cell_type": "code",
   "execution_count": 19,
   "metadata": {},
   "outputs": [
    {
     "name": "stdout",
     "output_type": "stream",
     "text": [
      "pts shape before reshape:  (4, 2)\n",
      "pts shape after reshape:  (4, 1, 2)\n"
     ]
    },
    {
     "data": {
      "text/plain": [
       "27"
      ]
     },
     "execution_count": 19,
     "metadata": {},
     "output_type": "execute_result"
    }
   ],
   "source": [
    "\n",
    "img = cv2.line(img, (0,0), (255,255), (147, 96, 44), 10) # 44, 96, 147\n",
    "img = cv2.arrowedLine(img, (0,255), (255,255), (255, 0, 0), 10)\n",
    "\n",
    "img = cv2.rectangle(img, (384, 0), (510, 128), (0, 0, 255), 10) \n",
    "# (img, top left coordin, bottom right coord), GBR, thickness,)    if thickness=-1, then rect. will fully fill\n",
    "\n",
    "img = cv2.circle(img, (447, 63), 63, (0, 255, 0), -1)\n",
    "# (img, centre coord., radius, BGR, width)\n",
    "\n",
    "font = cv2.FONT_HERSHEY_SIMPLEX\n",
    "img = cv2.putText(img, 'OpenCv', (10, 500), font, 4, (0, 255, 255), 10, cv2.LINE_AA)\n",
    "\n",
    "img = cv2.ellipse(img,(256,256),(100,50),0,0,180,255,-1)\n",
    "\n",
    "pts = np.array([[10,5],[20,30],[70,20],[50,10]], np.int32)\n",
    "print('pts shape before reshape: ', pts.shape)\n",
    "pts = pts.reshape((-1,1,2))\n",
    "print('pts shape after reshape: ', pts.shape)\n",
    "# img = cv2.polylines(img,[pts],True,(0,255,255))\n",
    "\n",
    "cv2.imshow('image', img)\n",
    "\n",
    "cv2.waitKey(0)"
   ]
  },
  {
   "cell_type": "markdown",
   "metadata": {},
   "source": [
    "### Using Numpy Zeros method"
   ]
  },
  {
   "cell_type": "code",
   "execution_count": 7,
   "metadata": {},
   "outputs": [
    {
     "data": {
      "text/plain": [
       "27"
      ]
     },
     "execution_count": 7,
     "metadata": {},
     "output_type": "execute_result"
    }
   ],
   "source": [
    "\n",
    "img_np = np.zeros([512, 512, 3], np.uint8)       # ([ht., width, 3], data type)\n",
    "\n",
    "img = cv2.line(img_np, (0,0), (255,255), (147, 96, 44), 10) # 44, 96, 147\n",
    "img = cv2.arrowedLine(img_np, (0,255), (255,255), (255, 0, 0), 10)\n",
    "\n",
    "img = cv2.rectangle(img_np, (384, 0), (510, 128), (0, 0, 255), 10) \n",
    "# (img, top left coordin, bottom right coord), GBR, thickness,)    if thickness=-1, then rect. will fully fill\n",
    "\n",
    "img = cv2.circle(img_np, (447, 63), 63, (0, 255, 0), -1)\n",
    "# (img, centre coord., radius, BGR, width)\n",
    "\n",
    "font = cv2.FONT_HERSHEY_SIMPLEX\n",
    "img = cv2.putText(img_np, 'OpenCv', (10, 500), font, 4, (0, 255, 255), 10, cv2.LINE_AA)\n",
    "\n",
    "img = cv2.ellipse(img_np,(256,256),(100,50),0,0,180,255,-1)\n",
    "\n",
    "pts = np.array([[10,5],[20,30],[70,20],[50,10]], np.int32)\n",
    "pts = pts.reshape((-1,1,2))\n",
    "img = cv2.polylines(img_np,[pts],True,(0,255,255))\n",
    "cv2.imshow('image', img_np)\n",
    "\n",
    "cv2.waitKey(0)"
   ]
  },
  {
   "cell_type": "code",
   "execution_count": null,
   "metadata": {},
   "outputs": [],
   "source": []
  }
 ],
 "metadata": {
  "kernelspec": {
   "display_name": "Python 3 (ipykernel)",
   "language": "python",
   "name": "python3"
  },
  "language_info": {
   "codemirror_mode": {
    "name": "ipython",
    "version": 3
   },
   "file_extension": ".py",
   "mimetype": "text/x-python",
   "name": "python",
   "nbconvert_exporter": "python",
   "pygments_lexer": "ipython3",
   "version": "3.8.10"
  }
 },
 "nbformat": 4,
 "nbformat_minor": 2
}
