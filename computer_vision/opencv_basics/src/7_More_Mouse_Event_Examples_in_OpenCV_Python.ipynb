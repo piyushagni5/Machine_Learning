{
 "cells": [
  {
   "cell_type": "markdown",
   "metadata": {},
   "source": [
    "### Here in this section we want to join two points when click in an image through a line"
   ]
  },
  {
   "cell_type": "code",
   "execution_count": 5,
   "metadata": {},
   "outputs": [],
   "source": [
    "import numpy as np\n",
    "import cv2\n",
    "\n",
    "#events = [i for i in dir(cv2) if 'EVENT' in  i]\n",
    "#print(events)\n",
    "\n",
    "def click_event(event, x, y, flags, param):\n",
    "    if event == cv2.EVENT_LBUTTONDOWN:\n",
    "        cv2.circle(img, (x,y), 3, (0,0,255), -1)\n",
    "        points.append((x,y))\n",
    "        \n",
    "        if(len(points) >= 2):                                              # Join only if num. of points is >= 2\n",
    "            \n",
    "            cv2.line(img, points[-1], points[-2], (255,255,0), 5)          # It will join the last two points present\n",
    "            \n",
    "        cv2.imshow('image', img)\n",
    "    \n",
    "img = np.zeros((512, 512, 3), np.uint8)\n",
    "\n",
    "cv2.imshow('image', img)\n",
    "points = []\n",
    "\n",
    "cv2.setMouseCallback('image', click_event)\n",
    "\n",
    "cv2.waitKey(0)\n",
    "cv2.destroyAllWindows()\n",
    "\n"
   ]
  },
  {
   "cell_type": "markdown",
   "metadata": {},
   "source": [
    "### In this part we will try to fill the 2nd image with the BGR channel values ( wherever we move the mouse) of the 1st image"
   ]
  },
  {
   "cell_type": "code",
   "execution_count": 8,
   "metadata": {},
   "outputs": [],
   "source": [
    "import numpy as np\n",
    "import cv2\n",
    "\n",
    "#events = [i for i in dir(cv2) if 'EVENT' in  i]\n",
    "#print(events)\n",
    "\n",
    "def click_event(event, x, y, flags, param):\n",
    "    if event == cv2.EVENT_LBUTTONDOWN:\n",
    "        blue = img[y, x, 0]      \n",
    "        green = img[y, x, 1]\n",
    "        red = img[y, x, 2]\n",
    "        cv2.circle(img, (x,y), 3, (0,0,255), -1)\n",
    "        mycolorImage = np.zeros((512, 512, 3), np.uint8)\n",
    "        \n",
    "        mycolorImage[:] = [blue, green, red]                  # filling all the points of mycolorImage from BGR values \n",
    "        cv2.imshow('color', mycolorImage)\n",
    "        \n",
    "\n",
    "img = cv2.imread('C:/Users/piyus/All programming files/Computer_Vision/data/lena.jpg')\n",
    "\n",
    "cv2.imshow('image', img)\n",
    "\n",
    "cv2.setMouseCallback('image', click_event)\n",
    "cv2.waitKey(0)\n",
    "cv2.destroyAllWindows()\n"
   ]
  },
  {
   "cell_type": "code",
   "execution_count": null,
   "metadata": {},
   "outputs": [],
   "source": []
  }
 ],
 "metadata": {
  "kernelspec": {
   "display_name": "Python 3",
   "language": "python",
   "name": "python3"
  },
  "language_info": {
   "codemirror_mode": {
    "name": "ipython",
    "version": 3
   },
   "file_extension": ".py",
   "mimetype": "text/x-python",
   "name": "python",
   "nbconvert_exporter": "python",
   "pygments_lexer": "ipython3",
   "version": "3.7.3"
  }
 },
 "nbformat": 4,
 "nbformat_minor": 2
}
